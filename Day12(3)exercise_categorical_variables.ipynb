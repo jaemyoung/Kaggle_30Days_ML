{
  "nbformat": 4,
  "nbformat_minor": 0,
  "metadata": {
    "kernelspec": {
      "language": "python",
      "display_name": "Python 3",
      "name": "python3"
    },
    "language_info": {
      "pygments_lexer": "ipython3",
      "nbconvert_exporter": "python",
      "version": "3.6.4",
      "file_extension": ".py",
      "codemirror_mode": {
        "name": "ipython",
        "version": 3
      },
      "name": "python",
      "mimetype": "text/x-python"
    },
    "colab": {
      "name": "Day12(3)exercise-categorical-variables.ipynb",
      "provenance": [],
      "include_colab_link": true
    }
  },
  "cells": [
    {
      "cell_type": "markdown",
      "metadata": {
        "id": "view-in-github",
        "colab_type": "text"
      },
      "source": [
        "<a href=\"https://colab.research.google.com/github/jaemyoung/Kaggle_30Days_ML/blob/main/Day12(3)exercise_categorical_variables.ipynb\" target=\"_parent\"><img src=\"https://colab.research.google.com/assets/colab-badge.svg\" alt=\"Open In Colab\"/></a>"
      ]
    },
    {
      "cell_type": "markdown",
      "metadata": {
        "id": "CbHtQWebBxMP"
      },
      "source": [
        "**This notebook is an exercise in the [Intermediate Machine Learning](https://www.kaggle.com/learn/intermediate-machine-learning) course.  You can reference the tutorial at [this link](https://www.kaggle.com/alexisbcook/categorical-variables).**\n",
        "\n",
        "---\n"
      ]
    },
    {
      "cell_type": "markdown",
      "metadata": {
        "id": "nwELqcV6BxMR"
      },
      "source": [
        "By encoding **categorical variables**, you'll obtain your best results thus far!\n",
        "\n",
        "# Setup\n",
        "\n",
        "The questions below will give you feedback on your work. Run the following cell to set up the feedback system."
      ]
    },
    {
      "cell_type": "code",
      "metadata": {
        "execution": {
          "iopub.status.busy": "2021-08-18T10:50:25.256245Z",
          "iopub.execute_input": "2021-08-18T10:50:25.256748Z",
          "iopub.status.idle": "2021-08-18T10:50:25.304248Z",
          "shell.execute_reply.started": "2021-08-18T10:50:25.256716Z",
          "shell.execute_reply": "2021-08-18T10:50:25.303272Z"
        },
        "trusted": true,
        "id": "S5bxdIOgBxMR"
      },
      "source": [
        "# Set up code checking\n",
        "import os\n",
        "if not os.path.exists(\"../input/train.csv\"):\n",
        "    os.symlink(\"../input/home-data-for-ml-course/train.csv\", \"../input/train.csv\")  \n",
        "    os.symlink(\"../input/home-data-for-ml-course/test.csv\", \"../input/test.csv\") \n",
        "from learntools.core import binder\n",
        "binder.bind(globals())\n",
        "from learntools.ml_intermediate.ex3 import *\n",
        "print(\"Setup Complete\")"
      ],
      "execution_count": null,
      "outputs": []
    },
    {
      "cell_type": "markdown",
      "metadata": {
        "id": "d8yh842sBxMR"
      },
      "source": [
        "In this exercise, you will work with data from the [Housing Prices Competition for Kaggle Learn Users](https://www.kaggle.com/c/home-data-for-ml-course). \n",
        "\n",
        "![Ames Housing dataset image](https://i.imgur.com/lTJVG4e.png)\n",
        "\n",
        "Run the next code cell without changes to load the training and validation sets in `X_train`, `X_valid`, `y_train`, and `y_valid`.  The test set is loaded in `X_test`."
      ]
    },
    {
      "cell_type": "code",
      "metadata": {
        "execution": {
          "iopub.status.busy": "2021-08-18T10:50:29.387109Z",
          "iopub.execute_input": "2021-08-18T10:50:29.387439Z",
          "iopub.status.idle": "2021-08-18T10:50:29.481973Z",
          "shell.execute_reply.started": "2021-08-18T10:50:29.387411Z",
          "shell.execute_reply": "2021-08-18T10:50:29.480995Z"
        },
        "trusted": true,
        "id": "JDS2Y99OBxMS"
      },
      "source": [
        "import pandas as pd\n",
        "from sklearn.model_selection import train_test_split\n",
        "\n",
        "# Read the data\n",
        "X = pd.read_csv('../input/train.csv', index_col='Id') \n",
        "X_test = pd.read_csv('../input/test.csv', index_col='Id')\n",
        "\n",
        "# Remove rows with missing target, separate target from predictors\n",
        "X.dropna(axis=0, subset=['SalePrice'], inplace=True)\n",
        "y = X.SalePrice\n",
        "X.drop(['SalePrice'], axis=1, inplace=True)\n",
        "\n",
        "# To keep things simple, we'll drop columns with missing values\n",
        "cols_with_missing = [col for col in X.columns if X[col].isnull().any()] \n",
        "X.drop(cols_with_missing, axis=1, inplace=True)\n",
        "X_test.drop(cols_with_missing, axis=1, inplace=True)\n",
        "\n",
        "# Break off validation set from training data\n",
        "X_train, X_valid, y_train, y_valid = train_test_split(X, y,\n",
        "                                                      train_size=0.8, test_size=0.2,\n",
        "                                                      random_state=0)"
      ],
      "execution_count": null,
      "outputs": []
    },
    {
      "cell_type": "markdown",
      "metadata": {
        "id": "TneH_NNdBxMS"
      },
      "source": [
        "Use the next code cell to print the first five rows of the data."
      ]
    },
    {
      "cell_type": "code",
      "metadata": {
        "execution": {
          "iopub.status.busy": "2021-08-18T10:50:31.872603Z",
          "iopub.execute_input": "2021-08-18T10:50:31.872972Z",
          "iopub.status.idle": "2021-08-18T10:50:31.911642Z",
          "shell.execute_reply.started": "2021-08-18T10:50:31.872941Z",
          "shell.execute_reply": "2021-08-18T10:50:31.910615Z"
        },
        "trusted": true,
        "id": "6-QbGdxaBxMS"
      },
      "source": [
        "X_train.head()"
      ],
      "execution_count": null,
      "outputs": []
    },
    {
      "cell_type": "markdown",
      "metadata": {
        "id": "T5h58nvcBxMS"
      },
      "source": [
        "Notice that the dataset contains both numerical and categorical variables.  You'll need to encode the categorical data before training a model.\n",
        "\n",
        "To compare different models, you'll use the same `score_dataset()` function from the tutorial.  This function reports the [mean absolute error](https://en.wikipedia.org/wiki/Mean_absolute_error) (MAE) from a random forest model."
      ]
    },
    {
      "cell_type": "code",
      "metadata": {
        "execution": {
          "iopub.status.busy": "2021-08-18T10:50:34.042579Z",
          "iopub.execute_input": "2021-08-18T10:50:34.043091Z",
          "iopub.status.idle": "2021-08-18T10:50:34.048166Z",
          "shell.execute_reply.started": "2021-08-18T10:50:34.043061Z",
          "shell.execute_reply": "2021-08-18T10:50:34.047472Z"
        },
        "trusted": true,
        "id": "xYKD8xfOBxMT"
      },
      "source": [
        "from sklearn.ensemble import RandomForestRegressor\n",
        "from sklearn.metrics import mean_absolute_error\n",
        "\n",
        "# function for comparing different approaches\n",
        "def score_dataset(X_train, X_valid, y_train, y_valid):\n",
        "    model = RandomForestRegressor(n_estimators=100, random_state=0)\n",
        "    model.fit(X_train, y_train)\n",
        "    preds = model.predict(X_valid)\n",
        "    return mean_absolute_error(y_valid, preds)"
      ],
      "execution_count": null,
      "outputs": []
    },
    {
      "cell_type": "markdown",
      "metadata": {
        "id": "Y8oEokqjBxMT"
      },
      "source": [
        "# Step 1: Drop columns with categorical data\n",
        "\n",
        "You'll get started with the most straightforward approach.  Use the code cell below to preprocess the data in `X_train` and `X_valid` to remove columns with categorical data.  Set the preprocessed DataFrames to `drop_X_train` and `drop_X_valid`, respectively.  "
      ]
    },
    {
      "cell_type": "code",
      "metadata": {
        "execution": {
          "iopub.status.busy": "2021-08-18T10:50:36.119344Z",
          "iopub.execute_input": "2021-08-18T10:50:36.120041Z",
          "iopub.status.idle": "2021-08-18T10:50:36.136317Z",
          "shell.execute_reply.started": "2021-08-18T10:50:36.119987Z",
          "shell.execute_reply": "2021-08-18T10:50:36.135500Z"
        },
        "trusted": true,
        "id": "HDeqxx8ABxMT"
      },
      "source": [
        "# Fill in the lines below: drop columns in training and validation data\n",
        "drop_X_train = X_train.select_dtypes(exclude=['object']) # 데이터타입이 object이 아닌것들만 select한 데이터\n",
        "drop_X_valid = X_valid.select_dtypes(exclude=['object'])\n",
        "\n",
        "# Check your answers\n",
        "step_1.check()"
      ],
      "execution_count": null,
      "outputs": []
    },
    {
      "cell_type": "code",
      "metadata": {
        "id": "T93sn5AHBxMT"
      },
      "source": [
        "# Lines below will give you a hint or solution code\n",
        "#step_1.hint()\n",
        "#step_1.solution()"
      ],
      "execution_count": null,
      "outputs": []
    },
    {
      "cell_type": "markdown",
      "metadata": {
        "id": "YUaS0EzYBxMU"
      },
      "source": [
        "Run the next code cell to get the MAE for this approach."
      ]
    },
    {
      "cell_type": "code",
      "metadata": {
        "execution": {
          "iopub.status.busy": "2021-08-18T10:51:13.619034Z",
          "iopub.execute_input": "2021-08-18T10:51:13.619638Z",
          "iopub.status.idle": "2021-08-18T10:51:14.871422Z",
          "shell.execute_reply.started": "2021-08-18T10:51:13.619596Z",
          "shell.execute_reply": "2021-08-18T10:51:14.870160Z"
        },
        "trusted": true,
        "id": "weAj08H2BxMU"
      },
      "source": [
        "print(\"MAE from Approach 1 (Drop categorical variables):\")\n",
        "print(score_dataset(drop_X_train, drop_X_valid, y_train, y_valid))"
      ],
      "execution_count": null,
      "outputs": []
    },
    {
      "cell_type": "markdown",
      "metadata": {
        "id": "utvVgty-BxMU"
      },
      "source": [
        "Before jumping into ordinal encoding, we'll investigate the dataset.  Specifically, we'll look at the `'Condition2'` column.  The code cell below prints the unique entries in both the training and validation sets."
      ]
    },
    {
      "cell_type": "code",
      "metadata": {
        "execution": {
          "iopub.status.busy": "2021-08-18T10:51:19.372887Z",
          "iopub.execute_input": "2021-08-18T10:51:19.373273Z",
          "iopub.status.idle": "2021-08-18T10:51:19.381624Z",
          "shell.execute_reply.started": "2021-08-18T10:51:19.373238Z",
          "shell.execute_reply": "2021-08-18T10:51:19.380454Z"
        },
        "trusted": true,
        "id": "WDousBj2BxMU"
      },
      "source": [
        "print(\"Unique values in 'Condition2' column in training data:\", X_train['Condition2'].unique())\n",
        "print(\"\\nUnique values in 'Condition2' column in validation data:\", X_valid['Condition2'].unique())"
      ],
      "execution_count": null,
      "outputs": []
    },
    {
      "cell_type": "code",
      "metadata": {
        "execution": {
          "iopub.status.busy": "2021-08-18T10:59:53.461969Z",
          "iopub.execute_input": "2021-08-18T10:59:53.462473Z",
          "iopub.status.idle": "2021-08-18T10:59:53.469742Z",
          "shell.execute_reply.started": "2021-08-18T10:59:53.462441Z",
          "shell.execute_reply": "2021-08-18T10:59:53.468735Z"
        },
        "trusted": true,
        "id": "mRPpAoXHBxMU"
      },
      "source": [
        "print(X_train['Condition2'])"
      ],
      "execution_count": null,
      "outputs": []
    },
    {
      "cell_type": "markdown",
      "metadata": {
        "id": "3WjsV0GrBxMU"
      },
      "source": [
        "# Step 2: Ordinal encoding\n",
        "\n",
        "### Part A\n",
        "\n",
        "If you now write code to: \n",
        "- fit an ordinal encoder to the training data, and then \n",
        "- use it to transform both the training and validation data, \n",
        "\n",
        "you'll get an error.  Can you see why this is the case?  (_You'll need  to use the above output to answer this question._)"
      ]
    },
    {
      "cell_type": "code",
      "metadata": {
        "execution": {
          "iopub.status.busy": "2021-08-18T10:55:31.525374Z",
          "iopub.execute_input": "2021-08-18T10:55:31.525792Z",
          "iopub.status.idle": "2021-08-18T10:55:31.534397Z",
          "shell.execute_reply.started": "2021-08-18T10:55:31.525757Z",
          "shell.execute_reply": "2021-08-18T10:55:31.533331Z"
        },
        "trusted": true,
        "id": "r0hUTUKhBxMV"
      },
      "source": [
        "# Check your answer (Run this code cell to receive credit!)\n",
        "# train data와 valid data에서 같은 column을 가지고 있는다고해서 그 column에 해당하는 명목형데이터의 종류가 같지 않을수 있기때문에 ordinal encoding 할때 오류가 나기도 한다\n",
        "step_2.a.check()"
      ],
      "execution_count": null,
      "outputs": []
    },
    {
      "cell_type": "code",
      "metadata": {
        "execution": {
          "iopub.status.busy": "2021-08-18T10:57:11.505680Z",
          "iopub.execute_input": "2021-08-18T10:57:11.506121Z",
          "iopub.status.idle": "2021-08-18T10:57:11.515800Z",
          "shell.execute_reply.started": "2021-08-18T10:57:11.506074Z",
          "shell.execute_reply": "2021-08-18T10:57:11.514727Z"
        },
        "trusted": true,
        "id": "LFfuRP6RBxMV"
      },
      "source": [
        "step_2.a.hint()"
      ],
      "execution_count": null,
      "outputs": []
    },
    {
      "cell_type": "markdown",
      "metadata": {
        "id": "uv-OPzXcBxMV"
      },
      "source": [
        "This is a common problem that you'll encounter with real-world data, and there are many approaches to fixing this issue.  For instance, you can write a custom ordinal encoder to deal with new categories.  The simplest approach, however, is to drop the problematic categorical columns.  \n",
        "\n",
        "Run the code cell below to save the problematic columns to a Python list `bad_label_cols`.  Likewise, columns that can be safely ordinal encoded are stored in `good_label_cols`."
      ]
    },
    {
      "cell_type": "code",
      "metadata": {
        "execution": {
          "iopub.status.busy": "2021-08-18T11:02:36.731312Z",
          "iopub.execute_input": "2021-08-18T11:02:36.731697Z",
          "iopub.status.idle": "2021-08-18T11:02:36.749435Z",
          "shell.execute_reply.started": "2021-08-18T11:02:36.731667Z",
          "shell.execute_reply": "2021-08-18T11:02:36.748320Z"
        },
        "trusted": true,
        "id": "l-zHqZQEBxMV"
      },
      "source": [
        "# Categorical columns in the training data\n",
        "object_cols = [col for col in X_train.columns if X_train[col].dtype == \"object\"] # 데이터타입이 object 인 column들만 모은 것\n",
        "\n",
        "# Columns that can be safely ordinal encoded\n",
        "good_label_cols = [col for col in object_cols if set(X_valid[col]).issubset(set(X_train[col]))] # object인 column 중에서 명목형 데이터의 종류까지 같은 것들을 모은 것\n",
        "        \n",
        "# Problematic columns that will be dropped from the dataset\n",
        "bad_label_cols = list(set(object_cols)-set(good_label_cols)) # 그밖에것들(명목형 데이터종류가 다른것들)\n",
        "        \n",
        "print('Categorical columns that will be ordinal encoded:', good_label_cols)\n",
        "print('\\nCategorical columns that will be dropped from the dataset:', bad_label_cols)"
      ],
      "execution_count": null,
      "outputs": []
    },
    {
      "cell_type": "markdown",
      "metadata": {
        "id": "RTyLyHQcBxMV"
      },
      "source": [
        "### Part B\n",
        "\n",
        "Use the next code cell to ordinal encode the data in `X_train` and `X_valid`.  Set the preprocessed DataFrames to `label_X_train` and `label_X_valid`, respectively.  \n",
        "- We have provided code below to drop the categorical columns in `bad_label_cols` from the dataset. \n",
        "- You should ordinal encode the categorical columns in `good_label_cols`.  "
      ]
    },
    {
      "cell_type": "code",
      "metadata": {
        "execution": {
          "iopub.status.busy": "2021-08-18T11:10:09.410371Z",
          "iopub.execute_input": "2021-08-18T11:10:09.410767Z",
          "iopub.status.idle": "2021-08-18T11:10:09.486073Z",
          "shell.execute_reply.started": "2021-08-18T11:10:09.410736Z",
          "shell.execute_reply": "2021-08-18T11:10:09.485069Z"
        },
        "trusted": true,
        "id": "EHX8d3joBxMW"
      },
      "source": [
        "from sklearn.preprocessing import OrdinalEncoder\n",
        "\n",
        "# Drop categorical columns that will not be encoded\n",
        "label_X_train = X_train.drop(bad_label_cols, axis=1) \n",
        "label_X_valid = X_valid.drop(bad_label_cols, axis=1)\n",
        "\n",
        "# Apply ordinal encoder \n",
        "ordinal_encoder = OrdinalEncoder()\n",
        "label_X_train[good_label_cols] = ordinal_encoder.fit_transform(label_X_train[good_label_cols]) #good label들만 encoder 해주기\n",
        "label_X_valid[good_label_cols] = ordinal_encoder.transform(label_X_valid[good_label_cols]) # 왜 여기에는 fit_transform을 안쓰는지 아시는 분은 댓글에 남겨주세요!\n",
        "    \n",
        "# Check your answer\n",
        "step_2.b.check()"
      ],
      "execution_count": null,
      "outputs": []
    },
    {
      "cell_type": "code",
      "metadata": {
        "id": "ALhIafyRBxMW"
      },
      "source": [
        "# Lines below will give you a hint or solution code\n",
        "#step_2.b.hint()\n",
        "#step_2.b.solution()"
      ],
      "execution_count": null,
      "outputs": []
    },
    {
      "cell_type": "markdown",
      "metadata": {
        "id": "neXN7NRsBxMW"
      },
      "source": [
        "Run the next code cell to get the MAE for this approach."
      ]
    },
    {
      "cell_type": "code",
      "metadata": {
        "execution": {
          "iopub.status.busy": "2021-08-18T11:10:17.002927Z",
          "iopub.execute_input": "2021-08-18T11:10:17.003406Z",
          "iopub.status.idle": "2021-08-18T11:10:18.613344Z",
          "shell.execute_reply.started": "2021-08-18T11:10:17.003376Z",
          "shell.execute_reply": "2021-08-18T11:10:18.612291Z"
        },
        "trusted": true,
        "id": "PLmP_6MOBxMX"
      },
      "source": [
        "print(\"MAE from Approach 2 (Ordinal Encoding):\") \n",
        "print(score_dataset(label_X_train, label_X_valid, y_train, y_valid))"
      ],
      "execution_count": null,
      "outputs": []
    },
    {
      "cell_type": "markdown",
      "metadata": {
        "id": "I9U9koigBxMX"
      },
      "source": [
        "So far, you've tried two different approaches to dealing with categorical variables.  And, you've seen that encoding categorical data yields better results than removing columns from the dataset.\n",
        "\n",
        "Soon, you'll try one-hot encoding.  Before then, there's one additional topic we need to cover.  Begin by running the next code cell without changes.  "
      ]
    },
    {
      "cell_type": "code",
      "metadata": {
        "execution": {
          "iopub.status.busy": "2021-08-18T11:11:10.194350Z",
          "iopub.execute_input": "2021-08-18T11:11:10.194735Z",
          "iopub.status.idle": "2021-08-18T11:11:10.218017Z",
          "shell.execute_reply.started": "2021-08-18T11:11:10.194704Z",
          "shell.execute_reply": "2021-08-18T11:11:10.216829Z"
        },
        "trusted": true,
        "id": "TtAzVZTaBxMX"
      },
      "source": [
        "# Get number of unique entries in each column with categorical data\n",
        "object_nunique = list(map(lambda col: X_train[col].nunique(), object_cols)) \n",
        "d = dict(zip(object_cols, object_nunique))\n",
        "\n",
        "# Print number of unique entries by column, in ascending order\n",
        "sorted(d.items(), key=lambda x: x[1]) # 각 column 들과 그 명목형 데이터 갯수를 나타냄"
      ],
      "execution_count": null,
      "outputs": []
    },
    {
      "cell_type": "markdown",
      "metadata": {
        "id": "9JOVM_P0BxMY"
      },
      "source": [
        "# Step 3: Investigating cardinality\n",
        "\n",
        "### Part A\n",
        "\n",
        "The output above shows, for each column with categorical data, the number of unique values in the column.  For instance, the `'Street'` column in the training data has two unique values: `'Grvl'` and `'Pave'`, corresponding to a gravel road and a paved road, respectively.\n",
        "\n",
        "We refer to the number of unique entries of a categorical variable as the **cardinality** of that categorical variable.  For instance, the `'Street'` variable has cardinality 2.\n",
        "\n",
        "Use the output above to answer the questions below."
      ]
    },
    {
      "cell_type": "code",
      "metadata": {
        "execution": {
          "iopub.status.busy": "2021-08-18T11:16:55.639988Z",
          "iopub.execute_input": "2021-08-18T11:16:55.640344Z",
          "iopub.status.idle": "2021-08-18T11:16:55.649078Z",
          "shell.execute_reply.started": "2021-08-18T11:16:55.640312Z",
          "shell.execute_reply": "2021-08-18T11:16:55.648205Z"
        },
        "trusted": true,
        "id": "_C0AZVCLBxMY"
      },
      "source": [
        "# Fill in the line below: How many categorical variables in the training data\n",
        "# have cardinality greater than 10?\n",
        "high_cardinality_numcols = 3 # categorical 이 10넘는것??\n",
        "\n",
        "# Fill in the line below: How many columns are needed to one-hot encode the \n",
        "# 'Neighborhood' variable in the training data?\n",
        "num_cols_neighborhood = 25 \n",
        "\n",
        "# Check your answers\n",
        "step_3.a.check()"
      ],
      "execution_count": null,
      "outputs": []
    },
    {
      "cell_type": "code",
      "metadata": {
        "execution": {
          "iopub.status.busy": "2021-08-18T11:15:46.684232Z",
          "iopub.execute_input": "2021-08-18T11:15:46.684863Z",
          "iopub.status.idle": "2021-08-18T11:15:46.695722Z",
          "shell.execute_reply.started": "2021-08-18T11:15:46.684827Z",
          "shell.execute_reply": "2021-08-18T11:15:46.694718Z"
        },
        "trusted": true,
        "id": "RKM-48xsBxMY"
      },
      "source": [
        "# Lines below will give you a hint or solution code\n",
        "step_3.a.hint()\n",
        "step_3.a.solution()"
      ],
      "execution_count": null,
      "outputs": []
    },
    {
      "cell_type": "markdown",
      "metadata": {
        "id": "V2ER5695BxMY"
      },
      "source": [
        "### Part B\n",
        "\n",
        "For large datasets with many rows, one-hot encoding can greatly expand the size of the dataset.  For this reason, we typically will only one-hot encode columns with relatively low cardinality.  Then, high cardinality columns can either be dropped from the dataset, or we can use ordinal encoding.\n",
        "\n",
        "As an example, consider a dataset with 10,000 rows, and containing one categorical column with 100 unique entries.  \n",
        "- If this column is replaced with the corresponding one-hot encoding, how many entries are added to the dataset?  \n",
        "- If we instead replace the column with the ordinal encoding, how many entries are added?  \n",
        "\n",
        "Use your answers to fill in the lines below."
      ]
    },
    {
      "cell_type": "code",
      "metadata": {
        "execution": {
          "iopub.status.busy": "2021-08-18T11:23:11.534314Z",
          "iopub.execute_input": "2021-08-18T11:23:11.534685Z",
          "iopub.status.idle": "2021-08-18T11:23:11.543324Z",
          "shell.execute_reply.started": "2021-08-18T11:23:11.534652Z",
          "shell.execute_reply": "2021-08-18T11:23:11.542421Z"
        },
        "trusted": true,
        "id": "dU-ZxhHiBxMZ"
      },
      "source": [
        "# Fill in the line below: How many entries are added to the dataset by \n",
        "# replacing the column with a one-hot encoding?\n",
        "OH_entries_added = 1e4*100 - 1e4\n",
        "\n",
        "# Fill in the line below: How many entries are added to the dataset by\n",
        "# replacing the column with an ordinal encoding?\n",
        "label_entries_added = 0\n",
        "\n",
        "# Check your answers\n",
        "step_3.b.check()"
      ],
      "execution_count": null,
      "outputs": []
    },
    {
      "cell_type": "code",
      "metadata": {
        "execution": {
          "iopub.status.busy": "2021-08-18T11:22:36.642242Z",
          "iopub.execute_input": "2021-08-18T11:22:36.642620Z",
          "iopub.status.idle": "2021-08-18T11:22:36.647438Z",
          "shell.execute_reply.started": "2021-08-18T11:22:36.642579Z",
          "shell.execute_reply": "2021-08-18T11:22:36.646585Z"
        },
        "trusted": true,
        "id": "TNgeiHWjBxMZ"
      },
      "source": [
        "print(10000*100 - 10000)"
      ],
      "execution_count": null,
      "outputs": []
    },
    {
      "cell_type": "code",
      "metadata": {
        "execution": {
          "iopub.status.busy": "2021-08-18T11:19:38.652890Z",
          "iopub.execute_input": "2021-08-18T11:19:38.653260Z",
          "iopub.status.idle": "2021-08-18T11:19:38.665717Z",
          "shell.execute_reply.started": "2021-08-18T11:19:38.653230Z",
          "shell.execute_reply": "2021-08-18T11:19:38.664627Z"
        },
        "trusted": true,
        "id": "X4XZ_XYlBxMZ"
      },
      "source": [
        "# Lines below will give you a hint or solution code\n",
        "step_3.b.hint()\n",
        "step_3.b.solution()"
      ],
      "execution_count": null,
      "outputs": []
    },
    {
      "cell_type": "markdown",
      "metadata": {
        "id": "uZ4iSdxaBxMZ"
      },
      "source": [
        "Next, you'll experiment with one-hot encoding.  But, instead of encoding all of the categorical variables in the dataset, you'll only create a one-hot encoding for columns with cardinality less than 10.\n",
        "\n",
        "Run the code cell below without changes to set `low_cardinality_cols` to a Python list containing the columns that will be one-hot encoded.  Likewise, `high_cardinality_cols` contains a list of categorical columns that will be dropped from the dataset."
      ]
    },
    {
      "cell_type": "code",
      "metadata": {
        "execution": {
          "iopub.status.busy": "2021-08-18T11:23:48.760872Z",
          "iopub.execute_input": "2021-08-18T11:23:48.761191Z",
          "iopub.status.idle": "2021-08-18T11:23:48.780065Z",
          "shell.execute_reply.started": "2021-08-18T11:23:48.761165Z",
          "shell.execute_reply": "2021-08-18T11:23:48.779147Z"
        },
        "trusted": true,
        "id": "n2ELVwK-BxMZ"
      },
      "source": [
        "# Columns that will be one-hot encoded\n",
        "low_cardinality_cols = [col for col in object_cols if X_train[col].nunique() < 10]\n",
        "\n",
        "# Columns that will be dropped from the dataset\n",
        "high_cardinality_cols = list(set(object_cols)-set(low_cardinality_cols))\n",
        "\n",
        "print('Categorical columns that will be one-hot encoded:', low_cardinality_cols)\n",
        "print('\\nCategorical columns that will be dropped from the dataset:', high_cardinality_cols)"
      ],
      "execution_count": null,
      "outputs": []
    },
    {
      "cell_type": "markdown",
      "metadata": {
        "id": "v6vmeSGjBxMa"
      },
      "source": [
        "# Step 4: One-hot encoding\n",
        "\n",
        "Use the next code cell to one-hot encode the data in `X_train` and `X_valid`.  Set the preprocessed DataFrames to `OH_X_train` and `OH_X_valid`, respectively.  \n",
        "- The full list of categorical columns in the dataset can be found in the Python list `object_cols`.\n",
        "- You should only one-hot encode the categorical columns in `low_cardinality_cols`.  All other categorical columns should be dropped from the dataset. "
      ]
    },
    {
      "cell_type": "code",
      "metadata": {
        "execution": {
          "iopub.status.busy": "2021-08-18T11:26:39.606047Z",
          "iopub.execute_input": "2021-08-18T11:26:39.606383Z",
          "iopub.status.idle": "2021-08-18T11:26:39.655350Z",
          "shell.execute_reply.started": "2021-08-18T11:26:39.606355Z",
          "shell.execute_reply": "2021-08-18T11:26:39.654630Z"
        },
        "trusted": true,
        "id": "nDNJSM-PBxMa"
      },
      "source": [
        "from sklearn.preprocessing import OneHotEncoder\n",
        "\n",
        "# Use as many lines of code as you need!\n",
        "OH_encoder = OneHotEncoder(handle_unknown='ignore', sparse=False)\n",
        "OH_cols_train = pd.DataFrame(OH_encoder.fit_transform(X_train[low_cardinality_cols]))\n",
        "OH_cols_valid = pd.DataFrame(OH_encoder.transform(X_valid[low_cardinality_cols]))\n",
        "\n",
        "# One-hot encoding removed index; put it back\n",
        "OH_cols_train.index = X_train.index\n",
        "OH_cols_valid.index = X_valid.index\n",
        "\n",
        "# Remove categorical columns (will replace with one-hot encoding)\n",
        "num_X_train = X_train.drop(object_cols, axis=1) # object column을 원 핫 인코딩 column과 바꾸기위해 drop해줌\n",
        "num_X_valid = X_valid.drop(object_cols, axis=1)\n",
        "\n",
        "# Add one-hot encoded columns to numerical features\n",
        "OH_X_train = pd.concat([num_X_train, OH_cols_train], axis=1) # drop한 column과 원핫 인코딩 column을 합하여 train, valid 데이터를 만들어 준다\n",
        "OH_X_valid = pd.concat([num_X_valid, OH_cols_valid], axis=1)\n",
        "# Check your answer\n",
        "step_4.check()"
      ],
      "execution_count": null,
      "outputs": []
    },
    {
      "cell_type": "code",
      "metadata": {
        "execution": {
          "iopub.status.busy": "2021-08-18T11:24:47.982575Z",
          "iopub.execute_input": "2021-08-18T11:24:47.983054Z",
          "iopub.status.idle": "2021-08-18T11:24:47.993076Z",
          "shell.execute_reply.started": "2021-08-18T11:24:47.983013Z",
          "shell.execute_reply": "2021-08-18T11:24:47.992477Z"
        },
        "trusted": true,
        "id": "43MYM0FMBxMa"
      },
      "source": [
        "# Lines below will give you a hint or solution code\n",
        "step_4.hint()\n",
        "step_4.solution()"
      ],
      "execution_count": null,
      "outputs": []
    },
    {
      "cell_type": "markdown",
      "metadata": {
        "id": "2_pm6XrRBxMa"
      },
      "source": [
        "Run the next code cell to get the MAE for this approach."
      ]
    },
    {
      "cell_type": "code",
      "metadata": {
        "execution": {
          "iopub.status.busy": "2021-08-18T11:27:20.457757Z",
          "iopub.execute_input": "2021-08-18T11:27:20.458096Z",
          "iopub.status.idle": "2021-08-18T11:27:22.446888Z",
          "shell.execute_reply.started": "2021-08-18T11:27:20.458067Z",
          "shell.execute_reply": "2021-08-18T11:27:22.446020Z"
        },
        "trusted": true,
        "id": "InJNU2XEBxMb"
      },
      "source": [
        "print(\"MAE from Approach 3 (One-Hot Encoding):\") \n",
        "print(score_dataset(OH_X_train, OH_X_valid, y_train, y_valid))"
      ],
      "execution_count": null,
      "outputs": []
    },
    {
      "cell_type": "markdown",
      "metadata": {
        "id": "lOiBWWsYBxMb"
      },
      "source": [
        "# Generate test predictions and submit your results\n",
        "\n",
        "After you complete Step 4, if you'd like to use what you've learned to submit your results to the leaderboard, you'll need to preprocess the test data before generating predictions.\n",
        "\n",
        "**This step is completely optional, and you do not need to submit results to the leaderboard to successfully complete the exercise.**\n",
        "\n",
        "Check out the previous exercise if you need help with remembering how to [join the competition](https://www.kaggle.com/c/home-data-for-ml-course) or save your results to CSV.  Once you have generated a file with your results, follow the instructions below:\n",
        "1. Begin by clicking on the **Save Version** button in the top right corner of the window.  This will generate a pop-up window.  \n",
        "2. Ensure that the **Save and Run All** option is selected, and then click on the **Save** button.\n",
        "3. This generates a window in the bottom left corner of the notebook.  After it has finished running, click on the number to the right of the **Save Version** button.  This pulls up a list of versions on the right of the screen.  Click on the ellipsis **(...)** to the right of the most recent version, and select **Open in Viewer**.  This brings you into view mode of the same page. You will need to scroll down to get back to these instructions.\n",
        "4. Click on the **Output** tab on the right of the screen.  Then, click on the file you would like to submit, and click on the blue **Submit** button to submit your results to the leaderboard.\n",
        "\n",
        "You have now successfully submitted to the competition!\n",
        "\n",
        "If you want to keep working to improve your performance, select the **Edit** button in the top right of the screen. Then you can change your code and repeat the process. There's a lot of room to improve, and you will climb up the leaderboard as you work.\n"
      ]
    },
    {
      "cell_type": "code",
      "metadata": {
        "id": "zd-ddgZPBxMb"
      },
      "source": [
        "# (Optional) Your code here"
      ],
      "execution_count": null,
      "outputs": []
    },
    {
      "cell_type": "markdown",
      "metadata": {
        "id": "38n9h0IbBxMb"
      },
      "source": [
        "# Keep going\n",
        "\n",
        "With missing value handling and categorical encoding, your modeling process is getting complex. This complexity gets worse when you want to save your model to use in the future. The key to managing this complexity is something called **pipelines**. \n",
        "\n",
        "**[Learn to use pipelines](https://www.kaggle.com/alexisbcook/pipelines)** to preprocess datasets with categorical variables, missing values and any other messiness your data throws at you."
      ]
    },
    {
      "cell_type": "markdown",
      "metadata": {
        "id": "bNR2nkeEBxMb"
      },
      "source": [
        "---\n",
        "\n",
        "\n",
        "\n",
        "\n",
        "*Have questions or comments? Visit the [Learn Discussion forum](https://www.kaggle.com/learn-forum/161289) to chat with other Learners.*"
      ]
    }
  ]
}