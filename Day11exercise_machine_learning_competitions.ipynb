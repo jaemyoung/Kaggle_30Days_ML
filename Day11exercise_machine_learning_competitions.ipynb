{
  "nbformat": 4,
  "nbformat_minor": 5,
  "metadata": {
    "kernelspec": {
      "display_name": "Python 3",
      "language": "python",
      "name": "python3"
    },
    "language_info": {
      "codemirror_mode": {
        "name": "ipython",
        "version": 3
      },
      "file_extension": ".py",
      "mimetype": "text/x-python",
      "name": "python",
      "nbconvert_exporter": "python",
      "pygments_lexer": "ipython3",
      "version": "3.7.10"
    },
    "papermill": {
      "default_parameters": {},
      "duration": 12.787478,
      "end_time": "2021-08-17T11:52:59.135894",
      "environment_variables": {},
      "exception": null,
      "input_path": "__notebook__.ipynb",
      "output_path": "__notebook__.ipynb",
      "parameters": {},
      "start_time": "2021-08-17T11:52:46.348416",
      "version": "2.3.3"
    },
    "colab": {
      "name": "Day11exercise-machine-learning-competitions.ipynb",
      "provenance": [],
      "include_colab_link": true
    }
  },
  "cells": [
    {
      "cell_type": "markdown",
      "metadata": {
        "id": "view-in-github",
        "colab_type": "text"
      },
      "source": [
        "<a href=\"https://colab.research.google.com/github/jaemyoung/Kaggle_30Days_ML/blob/main/Day11exercise_machine_learning_competitions.ipynb\" target=\"_parent\"><img src=\"https://colab.research.google.com/assets/colab-badge.svg\" alt=\"Open In Colab\"/></a>"
      ]
    },
    {
      "cell_type": "markdown",
      "metadata": {
        "papermill": {
          "duration": 0.014452,
          "end_time": "2021-08-17T11:52:55.108103",
          "exception": false,
          "start_time": "2021-08-17T11:52:55.093651",
          "status": "completed"
        },
        "tags": [],
        "id": "0fb2acd5"
      },
      "source": [
        "**This notebook is an exercise in the [Introduction to Machine Learning](https://www.kaggle.com/learn/intro-to-machine-learning) course.  You can reference the tutorial at [this link](https://www.kaggle.com/alexisbcook/machine-learning-competitions).**\n",
        "\n",
        "---\n"
      ],
      "id": "0fb2acd5"
    },
    {
      "cell_type": "markdown",
      "metadata": {
        "papermill": {
          "duration": 0.01265,
          "end_time": "2021-08-17T11:52:55.135516",
          "exception": false,
          "start_time": "2021-08-17T11:52:55.122866",
          "status": "completed"
        },
        "tags": [],
        "id": "88a89113"
      },
      "source": [
        "# Introduction\n",
        "\n",
        "In this exercise, you will create and submit predictions for a Kaggle competition. You can then improve your model (e.g. by adding features) to apply what you've learned and move up the leaderboard.\n",
        "\n",
        "Begin by running the code cell below to set up code checking and the filepaths for the dataset."
      ],
      "id": "88a89113"
    },
    {
      "cell_type": "code",
      "metadata": {
        "execution": {
          "iopub.execute_input": "2021-08-17T11:52:55.165504Z",
          "iopub.status.busy": "2021-08-17T11:52:55.164396Z",
          "iopub.status.idle": "2021-08-17T11:52:55.234482Z",
          "shell.execute_reply": "2021-08-17T11:52:55.235036Z",
          "shell.execute_reply.started": "2021-08-17T11:22:04.970275Z"
        },
        "papermill": {
          "duration": 0.086941,
          "end_time": "2021-08-17T11:52:55.235323",
          "exception": false,
          "start_time": "2021-08-17T11:52:55.148382",
          "status": "completed"
        },
        "tags": [],
        "id": "9b0b73da"
      },
      "source": [
        "# Set up code checking\n",
        "from learntools.core import binder\n",
        "binder.bind(globals())\n",
        "from learntools.machine_learning.ex7 import *\n",
        "\n",
        "# Set up filepaths\n",
        "import os\n",
        "if not os.path.exists(\"../input/train.csv\"):\n",
        "    os.symlink(\"../input/home-data-for-ml-course/train.csv\", \"../input/train.csv\")  \n",
        "    os.symlink(\"../input/home-data-for-ml-course/test.csv\", \"../input/test.csv\") "
      ],
      "id": "9b0b73da",
      "execution_count": null,
      "outputs": []
    },
    {
      "cell_type": "markdown",
      "metadata": {
        "papermill": {
          "duration": 0.012708,
          "end_time": "2021-08-17T11:52:55.261219",
          "exception": false,
          "start_time": "2021-08-17T11:52:55.248511",
          "status": "completed"
        },
        "tags": [],
        "id": "229cf288"
      },
      "source": [
        "Here's some of the code you've written so far. Start by running it again."
      ],
      "id": "229cf288"
    },
    {
      "cell_type": "code",
      "metadata": {
        "execution": {
          "iopub.execute_input": "2021-08-17T11:52:55.290480Z",
          "iopub.status.busy": "2021-08-17T11:52:55.289800Z",
          "iopub.status.idle": "2021-08-17T11:52:57.241856Z",
          "shell.execute_reply": "2021-08-17T11:52:57.241366Z",
          "shell.execute_reply.started": "2021-08-17T11:22:16.659922Z"
        },
        "papermill": {
          "duration": 1.967771,
          "end_time": "2021-08-17T11:52:57.242010",
          "exception": false,
          "start_time": "2021-08-17T11:52:55.274239",
          "status": "completed"
        },
        "tags": [],
        "id": "5b37a9ed",
        "outputId": "2ad894ee-9483-43de-a97d-46e6784bae0e"
      },
      "source": [
        "# Import helpful libraries\n",
        "import pandas as pd\n",
        "from sklearn.ensemble import RandomForestRegressor\n",
        "from sklearn.metrics import mean_absolute_error\n",
        "from sklearn.model_selection import train_test_split\n",
        "\n",
        "# Load the data, and separate the target\n",
        "iowa_file_path = '../input/train.csv'\n",
        "home_data = pd.read_csv(iowa_file_path)\n",
        "y = home_data.SalePrice\n",
        "\n",
        "# Create X (After completing the exercise, you can return to modify this line!)\n",
        "features = ['LotArea', 'YearBuilt', '1stFlrSF', '2ndFlrSF', 'FullBath', 'BedroomAbvGr', 'TotRmsAbvGrd']\n",
        "\n",
        "# Select columns corresponding to features, and preview the data\n",
        "X = home_data[features]\n",
        "X.head()\n",
        "\n",
        "# Split into validation and training data\n",
        "train_X, val_X, train_y, val_y = train_test_split(X, y, random_state=1)\n",
        "\n",
        "# Define a random forest model\n",
        "rf_model = RandomForestRegressor(random_state=1)\n",
        "rf_model.fit(train_X, train_y)\n",
        "rf_val_predictions = rf_model.predict(val_X)\n",
        "rf_val_mae = mean_absolute_error(rf_val_predictions, val_y)\n",
        "\n",
        "print(\"Validation MAE for Random Forest Model: {:,.0f}\".format(rf_val_mae))"
      ],
      "id": "5b37a9ed",
      "execution_count": null,
      "outputs": [
        {
          "output_type": "stream",
          "text": [
            "Validation MAE for Random Forest Model: 21,857\n"
          ],
          "name": "stdout"
        }
      ]
    },
    {
      "cell_type": "markdown",
      "metadata": {
        "papermill": {
          "duration": 0.013383,
          "end_time": "2021-08-17T11:52:57.269091",
          "exception": false,
          "start_time": "2021-08-17T11:52:57.255708",
          "status": "completed"
        },
        "tags": [],
        "id": "3f0a36d6"
      },
      "source": [
        "# Train a model for the competition\n",
        "\n",
        "The code cell above trains a Random Forest model on **`train_X`** and **`train_y`**.  \n",
        "\n",
        "Use the code cell below to build a Random Forest model and train it on all of **`X`** and **`y`**."
      ],
      "id": "3f0a36d6"
    },
    {
      "cell_type": "code",
      "metadata": {
        "execution": {
          "iopub.execute_input": "2021-08-17T11:52:57.303641Z",
          "iopub.status.busy": "2021-08-17T11:52:57.302988Z",
          "iopub.status.idle": "2021-08-17T11:52:57.902064Z",
          "shell.execute_reply": "2021-08-17T11:52:57.902513Z",
          "shell.execute_reply.started": "2021-08-17T11:24:26.113339Z"
        },
        "papermill": {
          "duration": 0.619814,
          "end_time": "2021-08-17T11:52:57.902685",
          "exception": false,
          "start_time": "2021-08-17T11:52:57.282871",
          "status": "completed"
        },
        "tags": [],
        "id": "2dbfaa86",
        "outputId": "a7323174-5f3a-4541-dd3e-bc4a607d895f"
      },
      "source": [
        "# To improve accuracy, create a new Random Forest model which you will train on all training data\n",
        "rf_model_on_full_data = RandomForestRegressor(random_state =1)\n",
        "\n",
        "\n",
        "# fit rf_model_on_full_data on all data from the training data\n",
        "rf_model_on_full_data.fit(X,y)\n"
      ],
      "id": "2dbfaa86",
      "execution_count": null,
      "outputs": [
        {
          "output_type": "execute_result",
          "data": {
            "text/plain": [
              "RandomForestRegressor(random_state=1)"
            ]
          },
          "metadata": {
            "tags": []
          },
          "execution_count": 3
        }
      ]
    },
    {
      "cell_type": "markdown",
      "metadata": {
        "papermill": {
          "duration": 0.013427,
          "end_time": "2021-08-17T11:52:57.931115",
          "exception": false,
          "start_time": "2021-08-17T11:52:57.917688",
          "status": "completed"
        },
        "tags": [],
        "id": "cabd8b5e"
      },
      "source": [
        "Now, read the file of \"test\" data, and apply your model to make predictions."
      ],
      "id": "cabd8b5e"
    },
    {
      "cell_type": "code",
      "metadata": {
        "execution": {
          "iopub.execute_input": "2021-08-17T11:52:57.965187Z",
          "iopub.status.busy": "2021-08-17T11:52:57.964501Z",
          "iopub.status.idle": "2021-08-17T11:52:58.048763Z",
          "shell.execute_reply": "2021-08-17T11:52:58.049589Z",
          "shell.execute_reply.started": "2021-08-17T11:51:22.564716Z"
        },
        "papermill": {
          "duration": 0.105088,
          "end_time": "2021-08-17T11:52:58.049771",
          "exception": false,
          "start_time": "2021-08-17T11:52:57.944683",
          "status": "completed"
        },
        "tags": [],
        "id": "4e8b21d3",
        "outputId": "b88f10fd-dc9a-427e-9b49-c82f08f0e6e0"
      },
      "source": [
        "import numpy as np\n",
        "# path to file you will use for predictions\n",
        "test_data_path = '../input/test.csv'\n",
        "\n",
        "# read test data file using pandas\n",
        "test_data = pd.read_csv(test_data_path)\n",
        "\n",
        "# create test_X which comes from test_data but includes only the columns you used for prediction.\n",
        "# The list of columns is stored in a variable called features\n",
        "features = ['LotArea', 'YearBuilt', '1stFlrSF', '2ndFlrSF', 'FullBath', 'BedroomAbvGr', 'TotRmsAbvGrd']\n",
        "test_X = test_data[features]\n",
        "\n",
        "# make predictions which we will submit. \n",
        "\n",
        "test_preds = rf_model_on_full_data.predict(test_X) # 전체 데이터를 훈련시킨 rf모델을 가지고 test_X를 넣어 test_preds값을 구하기\n",
        "\n",
        "\n",
        "output = pd.DataFrame({'Id': test_data.Id,'SalePrice': test_preds}) #output에 데이터프레임 형태로 저장하여 제출하면 자동으로 test_y값이랑 비교해주어 Competition에서 랭킹을 매김\n",
        "output.to_csv('submission.csv', index=False)\n",
        "np.mean(test_preds)\n"
      ],
      "id": "4e8b21d3",
      "execution_count": null,
      "outputs": [
        {
          "output_type": "execute_result",
          "data": {
            "text/plain": [
              "178172.3077901694"
            ]
          },
          "metadata": {
            "tags": []
          },
          "execution_count": 4
        }
      ]
    },
    {
      "cell_type": "code",
      "metadata": {
        "papermill": {
          "duration": 0.013989,
          "end_time": "2021-08-17T11:52:58.078195",
          "exception": false,
          "start_time": "2021-08-17T11:52:58.064206",
          "status": "completed"
        },
        "tags": [],
        "id": "a333d1c5"
      },
      "source": [
        ""
      ],
      "id": "a333d1c5",
      "execution_count": null,
      "outputs": []
    },
    {
      "cell_type": "code",
      "metadata": {
        "papermill": {
          "duration": 0.013907,
          "end_time": "2021-08-17T11:52:58.106304",
          "exception": false,
          "start_time": "2021-08-17T11:52:58.092397",
          "status": "completed"
        },
        "tags": [],
        "id": "a00b598a"
      },
      "source": [
        ""
      ],
      "id": "a00b598a",
      "execution_count": null,
      "outputs": []
    },
    {
      "cell_type": "raw",
      "metadata": {
        "execution": {
          "iopub.execute_input": "2021-08-17T11:32:52.895316Z",
          "iopub.status.busy": "2021-08-17T11:32:52.894839Z",
          "iopub.status.idle": "2021-08-17T11:32:52.901494Z",
          "shell.execute_reply": "2021-08-17T11:32:52.900008Z",
          "shell.execute_reply.started": "2021-08-17T11:32:52.895276Z"
        },
        "papermill": {
          "duration": 0.013972,
          "end_time": "2021-08-17T11:52:58.134479",
          "exception": false,
          "start_time": "2021-08-17T11:52:58.120507",
          "status": "completed"
        },
        "tags": [],
        "id": "f6b4be3c"
      },
      "source": [
        "test_preds = test_data.SaleCondition\n",
        "print(test_preds)"
      ],
      "id": "f6b4be3c"
    },
    {
      "cell_type": "code",
      "metadata": {
        "execution": {
          "iopub.execute_input": "2021-08-17T11:52:58.167780Z",
          "iopub.status.busy": "2021-08-17T11:52:58.166656Z",
          "iopub.status.idle": "2021-08-17T11:52:58.178167Z",
          "shell.execute_reply": "2021-08-17T11:52:58.178869Z",
          "shell.execute_reply.started": "2021-08-17T11:34:07.141795Z"
        },
        "papermill": {
          "duration": 0.029602,
          "end_time": "2021-08-17T11:52:58.179107",
          "exception": false,
          "start_time": "2021-08-17T11:52:58.149505",
          "status": "completed"
        },
        "tags": [],
        "id": "849f5e33",
        "outputId": "d9463410-bba2-4e86-b02b-b5dbf7be2589"
      },
      "source": [
        "test_preds = test_data['SaleCondition']\n",
        "print(test_preds)\n",
        "test_data.columns"
      ],
      "id": "849f5e33",
      "execution_count": null,
      "outputs": [
        {
          "output_type": "stream",
          "text": [
            "0        Normal\n",
            "1        Normal\n",
            "2        Normal\n",
            "3        Normal\n",
            "4        Normal\n",
            "         ...   \n",
            "1454     Normal\n",
            "1455    Abnorml\n",
            "1456    Abnorml\n",
            "1457     Normal\n",
            "1458     Normal\n",
            "Name: SaleCondition, Length: 1459, dtype: object\n"
          ],
          "name": "stdout"
        },
        {
          "output_type": "execute_result",
          "data": {
            "text/plain": [
              "Index(['Id', 'MSSubClass', 'MSZoning', 'LotFrontage', 'LotArea', 'Street',\n",
              "       'Alley', 'LotShape', 'LandContour', 'Utilities', 'LotConfig',\n",
              "       'LandSlope', 'Neighborhood', 'Condition1', 'Condition2', 'BldgType',\n",
              "       'HouseStyle', 'OverallQual', 'OverallCond', 'YearBuilt', 'YearRemodAdd',\n",
              "       'RoofStyle', 'RoofMatl', 'Exterior1st', 'Exterior2nd', 'MasVnrType',\n",
              "       'MasVnrArea', 'ExterQual', 'ExterCond', 'Foundation', 'BsmtQual',\n",
              "       'BsmtCond', 'BsmtExposure', 'BsmtFinType1', 'BsmtFinSF1',\n",
              "       'BsmtFinType2', 'BsmtFinSF2', 'BsmtUnfSF', 'TotalBsmtSF', 'Heating',\n",
              "       'HeatingQC', 'CentralAir', 'Electrical', '1stFlrSF', '2ndFlrSF',\n",
              "       'LowQualFinSF', 'GrLivArea', 'BsmtFullBath', 'BsmtHalfBath', 'FullBath',\n",
              "       'HalfBath', 'BedroomAbvGr', 'KitchenAbvGr', 'KitchenQual',\n",
              "       'TotRmsAbvGrd', 'Functional', 'Fireplaces', 'FireplaceQu', 'GarageType',\n",
              "       'GarageYrBlt', 'GarageFinish', 'GarageCars', 'GarageArea', 'GarageQual',\n",
              "       'GarageCond', 'PavedDrive', 'WoodDeckSF', 'OpenPorchSF',\n",
              "       'EnclosedPorch', '3SsnPorch', 'ScreenPorch', 'PoolArea', 'PoolQC',\n",
              "       'Fence', 'MiscFeature', 'MiscVal', 'MoSold', 'YrSold', 'SaleType',\n",
              "       'SaleCondition'],\n",
              "      dtype='object')"
            ]
          },
          "metadata": {
            "tags": []
          },
          "execution_count": 5
        }
      ]
    },
    {
      "cell_type": "markdown",
      "metadata": {
        "papermill": {
          "duration": 0.014702,
          "end_time": "2021-08-17T11:52:58.209587",
          "exception": false,
          "start_time": "2021-08-17T11:52:58.194885",
          "status": "completed"
        },
        "tags": [],
        "id": "6da6d59c"
      },
      "source": [
        "Before submitting, run a check to make sure your `test_preds` have the right format."
      ],
      "id": "6da6d59c"
    },
    {
      "cell_type": "code",
      "metadata": {
        "execution": {
          "iopub.execute_input": "2021-08-17T11:52:58.248554Z",
          "iopub.status.busy": "2021-08-17T11:52:58.247512Z",
          "iopub.status.idle": "2021-08-17T11:52:58.257617Z",
          "shell.execute_reply": "2021-08-17T11:52:58.258166Z",
          "shell.execute_reply.started": "2021-08-17T11:38:44.215581Z"
        },
        "papermill": {
          "duration": 0.032385,
          "end_time": "2021-08-17T11:52:58.258335",
          "exception": false,
          "start_time": "2021-08-17T11:52:58.225950",
          "status": "completed"
        },
        "tags": [],
        "id": "981f8776",
        "outputId": "8b9c939b-5503-4293-94ee-539b475ef85a"
      },
      "source": [
        "# Check your answer (To get credit for completing the exercise, you must get a \"Correct\" result!)\n",
        "step_1.check()\n",
        "step_1.solution()"
      ],
      "id": "981f8776",
      "execution_count": null,
      "outputs": [
        {
          "output_type": "display_data",
          "data": {
            "application/javascript": [
              "parent.postMessage({\"jupyterEvent\": \"custom.exercise_interaction\", \"data\": {\"outcomeType\": 2, \"failureMessage\": \"test_preds should be a numpy array but instead it is <class 'pandas.core.series.Series'>\", \"interactionType\": 1, \"questionType\": 2, \"questionId\": \"1_CheckSubmittablePreds\", \"learnToolsVersion\": \"0.3.4\", \"valueTowardsCompletion\": 0.0, \"exceptionClass\": \"\", \"trace\": \"\"}}, \"*\")"
            ],
            "text/plain": [
              "<IPython.core.display.Javascript object>"
            ]
          },
          "metadata": {
            "tags": []
          }
        },
        {
          "output_type": "display_data",
          "data": {
            "text/markdown": "<span style=\"color:#cc3333\">Incorrect:</span> test_preds should be a numpy array but instead it is <class 'pandas.core.series.Series'>",
            "text/plain": [
              "Incorrect: test_preds should be a numpy array but instead it is <class 'pandas.core.series.Series'>"
            ]
          },
          "metadata": {
            "tags": []
          }
        },
        {
          "output_type": "display_data",
          "data": {
            "application/javascript": [
              "parent.postMessage({\"jupyterEvent\": \"custom.exercise_interaction\", \"data\": {\"interactionType\": 3, \"questionType\": 2, \"questionId\": \"1_CheckSubmittablePreds\", \"learnToolsVersion\": \"0.3.4\", \"valueTowardsCompletion\": 0.0, \"failureMessage\": \"\", \"exceptionClass\": \"\", \"trace\": \"\", \"outcomeType\": 4}}, \"*\")"
            ],
            "text/plain": [
              "<IPython.core.display.Javascript object>"
            ]
          },
          "metadata": {
            "tags": []
          }
        },
        {
          "output_type": "display_data",
          "data": {
            "text/markdown": "<span style=\"color:#33cc99\">Solution:</span> \n```python\n\n# In previous code cell\nrf_model_on_full_data = RandomForestRegressor()\nrf_model_on_full_data.fit(X, y)\n\n# Then in last code cell\ntest_data_path = '../input/home-data-for-ml-course/test.csv'\ntest_data = pd.read_csv(test_data_path)\ntest_X = test_data[features]\ntest_preds = rf_model_on_full_data.predict(test_X)\n\n\noutput = pd.DataFrame({'Id': test_data.Id,\n                       'SalePrice': test_preds})\noutput.to_csv('submission.csv', index=False)\n\n```",
            "text/plain": [
              "Solution: \n",
              "```python\n",
              "\n",
              "# In previous code cell\n",
              "rf_model_on_full_data = RandomForestRegressor()\n",
              "rf_model_on_full_data.fit(X, y)\n",
              "\n",
              "# Then in last code cell\n",
              "test_data_path = '../input/home-data-for-ml-course/test.csv'\n",
              "test_data = pd.read_csv(test_data_path)\n",
              "test_X = test_data[features]\n",
              "test_preds = rf_model_on_full_data.predict(test_X)\n",
              "\n",
              "\n",
              "output = pd.DataFrame({'Id': test_data.Id,\n",
              "                       'SalePrice': test_preds})\n",
              "output.to_csv('submission.csv', index=False)\n",
              "\n",
              "```"
            ]
          },
          "metadata": {
            "tags": []
          }
        }
      ]
    },
    {
      "cell_type": "markdown",
      "metadata": {
        "papermill": {
          "duration": 0.017162,
          "end_time": "2021-08-17T11:52:58.292576",
          "exception": false,
          "start_time": "2021-08-17T11:52:58.275414",
          "status": "completed"
        },
        "tags": [],
        "id": "83cc712f"
      },
      "source": [
        "# Generate a submission\n",
        "\n",
        "Run the code cell below to generate a CSV file with your predictions that you can use to submit to the competition."
      ],
      "id": "83cc712f"
    },
    {
      "cell_type": "code",
      "metadata": {
        "execution": {
          "iopub.execute_input": "2021-08-17T11:52:58.336389Z",
          "iopub.status.busy": "2021-08-17T11:52:58.333123Z",
          "iopub.status.idle": "2021-08-17T11:52:58.340049Z",
          "shell.execute_reply": "2021-08-17T11:52:58.339376Z",
          "shell.execute_reply.started": "2021-08-17T11:39:17.638881Z"
        },
        "papermill": {
          "duration": 0.030623,
          "end_time": "2021-08-17T11:52:58.340205",
          "exception": false,
          "start_time": "2021-08-17T11:52:58.309582",
          "status": "completed"
        },
        "tags": [],
        "id": "bdc2b43b"
      },
      "source": [
        "# Run the code to save predictions in the format used for competition scoring\n",
        "\n",
        "output = pd.DataFrame({'Id': test_data.Id,\n",
        "                       'SalePrice': test_preds})\n",
        "output.to_csv('submission.csv', index=False)"
      ],
      "id": "bdc2b43b",
      "execution_count": null,
      "outputs": []
    },
    {
      "cell_type": "markdown",
      "metadata": {
        "papermill": {
          "duration": 0.016681,
          "end_time": "2021-08-17T11:52:58.374788",
          "exception": false,
          "start_time": "2021-08-17T11:52:58.358107",
          "status": "completed"
        },
        "tags": [],
        "id": "dd88a071"
      },
      "source": [
        "# Submit to the competition\n",
        "\n",
        "To test your results, you'll need to join the competition (if you haven't already).  So open a new window by clicking on **[this link](https://www.kaggle.com/c/home-data-for-ml-course)**.  Then click on the **Join Competition** button.\n",
        "\n",
        "![join competition image](https://i.imgur.com/axBzctl.png)\n",
        "\n",
        "Next, follow the instructions below:\n",
        "1. Begin by clicking on the **Save Version** button in the top right corner of the window.  This will generate a pop-up window.  \n",
        "2. Ensure that the **Save and Run All** option is selected, and then click on the **Save** button.\n",
        "3. This generates a window in the bottom left corner of the notebook.  After it has finished running, click on the number to the right of the **Save Version** button.  This pulls up a list of versions on the right of the screen.  Click on the ellipsis **(...)** to the right of the most recent version, and select **Open in Viewer**.  This brings you into view mode of the same page. You will need to scroll down to get back to these instructions.\n",
        "4. Click on the **Output** tab on the right of the screen.  Then, click on the file you would like to submit, and click on the blue **Submit** button to submit your results to the leaderboard.\n",
        "\n",
        "You have now successfully submitted to the competition!\n",
        "\n",
        "If you want to keep working to improve your performance, select the **Edit** button in the top right of the screen. Then you can change your code and repeat the process. There's a lot of room to improve, and you will climb up the leaderboard as you work.\n",
        "\n",
        "\n",
        "# Continue Your Progress\n",
        "There are many ways to improve your model, and **experimenting is a great way to learn at this point.**\n",
        "\n",
        "The best way to improve your model is to add features.  To add more features to the data, revisit the first code cell, and change this line of code to include more column names:\n",
        "```python\n",
        "features = ['LotArea', 'YearBuilt', '1stFlrSF', '2ndFlrSF', 'FullBath', 'BedroomAbvGr', 'TotRmsAbvGrd']\n",
        "```\n",
        "\n",
        "Some features will cause errors because of issues like missing values or non-numeric data types.  Here is a complete list of potential columns that you might like to use, and that won't throw errors:\n",
        "- 'MSSubClass'\n",
        "- 'LotArea'\n",
        "- 'OverallQual' \n",
        "- 'OverallCond' \n",
        "- 'YearBuilt'\n",
        "- 'YearRemodAdd' \n",
        "- '1stFlrSF'\n",
        "- '2ndFlrSF' \n",
        "- 'LowQualFinSF' \n",
        "- 'GrLivArea'\n",
        "- 'FullBath'\n",
        "- 'HalfBath'\n",
        "- 'BedroomAbvGr' \n",
        "- 'KitchenAbvGr' \n",
        "- 'TotRmsAbvGrd' \n",
        "- 'Fireplaces' \n",
        "- 'WoodDeckSF' \n",
        "- 'OpenPorchSF'\n",
        "- 'EnclosedPorch' \n",
        "- '3SsnPorch' \n",
        "- 'ScreenPorch' \n",
        "- 'PoolArea' \n",
        "- 'MiscVal' \n",
        "- 'MoSold' \n",
        "- 'YrSold'\n",
        "\n",
        "Look at the list of columns and think about what might affect home prices.  To learn more about each of these features, take a look at the data description on the **[competition page](https://www.kaggle.com/c/home-data-for-ml-course/data)**.\n",
        "\n",
        "After updating the code cell above that defines the features, re-run all of the code cells to evaluate the model and generate a new submission file.  \n",
        "\n",
        "\n",
        "# What's next?\n",
        "\n",
        "As mentioned above, some of the features will throw an error if you try to use them to train your model.  The **[Intermediate Machine Learning](https://www.kaggle.com/learn/intermediate-machine-learning)** course will teach you how to handle these types of features. You will also learn to use **xgboost**, a technique giving even better accuracy than Random Forest.\n",
        "\n",
        "The **[Pandas](https://kaggle.com/Learn/Pandas)** course will give you the data manipulation skills to quickly go from conceptual idea to implementation in your data science projects. \n",
        "\n",
        "You are also ready for the **[Deep Learning](https://kaggle.com/Learn/intro-to-Deep-Learning)** course, where you will build models with better-than-human level performance at computer vision tasks."
      ],
      "id": "dd88a071"
    },
    {
      "cell_type": "markdown",
      "metadata": {
        "papermill": {
          "duration": 0.01668,
          "end_time": "2021-08-17T11:52:58.409125",
          "exception": false,
          "start_time": "2021-08-17T11:52:58.392445",
          "status": "completed"
        },
        "tags": [],
        "id": "2029d816"
      },
      "source": [
        "---\n",
        "\n",
        "\n",
        "\n",
        "\n",
        "*Have questions or comments? Visit the [Learn Discussion forum](https://www.kaggle.com/learn-forum/161285) to chat with other Learners.*"
      ],
      "id": "2029d816"
    }
  ]
}