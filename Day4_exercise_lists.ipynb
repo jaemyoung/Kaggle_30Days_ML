{
  "nbformat": 4,
  "nbformat_minor": 5,
  "metadata": {
    "kernelspec": {
      "display_name": "Python 3",
      "language": "python",
      "name": "python3"
    },
    "language_info": {
      "codemirror_mode": {
        "name": "ipython",
        "version": 3
      },
      "file_extension": ".py",
      "mimetype": "text/x-python",
      "name": "python",
      "nbconvert_exporter": "python",
      "pygments_lexer": "ipython3",
      "version": "3.7.10"
    },
    "papermill": {
      "default_parameters": {},
      "duration": 9.662157,
      "end_time": "2021-08-09T11:29:29.966700",
      "environment_variables": {},
      "exception": null,
      "input_path": "__notebook__.ipynb",
      "output_path": "__notebook__.ipynb",
      "parameters": {},
      "start_time": "2021-08-09T11:29:20.304543",
      "version": "2.3.3"
    },
    "colab": {
      "name": "Day4_exercise-lists.ipynb",
      "provenance": [],
      "include_colab_link": true
    }
  },
  "cells": [
    {
      "cell_type": "markdown",
      "metadata": {
        "id": "view-in-github",
        "colab_type": "text"
      },
      "source": [
        "<a href=\"https://colab.research.google.com/github/jaemyoung/Kaggle_30Days_ML/blob/main/Day4_exercise_lists.ipynb\" target=\"_parent\"><img src=\"https://colab.research.google.com/assets/colab-badge.svg\" alt=\"Open In Colab\"/></a>"
      ]
    },
    {
      "cell_type": "markdown",
      "metadata": {
        "papermill": {
          "duration": 0.01496,
          "end_time": "2021-08-09T11:29:28.131572",
          "exception": false,
          "start_time": "2021-08-09T11:29:28.116612",
          "status": "completed"
        },
        "tags": [],
        "id": "bf012c5e"
      },
      "source": [
        "**This notebook is an exercise in the [Python](https://www.kaggle.com/learn/python) course.  You can reference the tutorial at [this link](https://www.kaggle.com/colinmorris/lists).**\n",
        "\n",
        "---\n"
      ],
      "id": "bf012c5e"
    },
    {
      "cell_type": "markdown",
      "metadata": {
        "papermill": {
          "duration": 0.013726,
          "end_time": "2021-08-09T11:29:28.159684",
          "exception": false,
          "start_time": "2021-08-09T11:29:28.145958",
          "status": "completed"
        },
        "tags": [],
        "id": "df2660dc"
      },
      "source": [
        "Things get more interesting with lists. You'll apply your new knowledge to solve the questions below. Remember to run the following cell first."
      ],
      "id": "df2660dc"
    },
    {
      "cell_type": "code",
      "metadata": {
        "execution": {
          "iopub.execute_input": "2021-08-09T11:29:28.201118Z",
          "iopub.status.busy": "2021-08-09T11:29:28.200446Z",
          "iopub.status.idle": "2021-08-09T11:29:28.333164Z",
          "shell.execute_reply": "2021-08-09T11:29:28.332555Z",
          "shell.execute_reply.started": "2021-08-09T11:07:50.899740Z"
        },
        "papermill": {
          "duration": 0.159363,
          "end_time": "2021-08-09T11:29:28.333341",
          "exception": false,
          "start_time": "2021-08-09T11:29:28.173978",
          "status": "completed"
        },
        "tags": [],
        "id": "cb48ed24",
        "outputId": "a206be0a-fca4-45e0-b625-4911c6fdf777"
      },
      "source": [
        "from learntools.core import binder; binder.bind(globals())\n",
        "from learntools.python.ex4 import *\n",
        "print('Setup complete.')"
      ],
      "id": "cb48ed24",
      "execution_count": null,
      "outputs": [
        {
          "output_type": "stream",
          "text": [
            "Setup complete.\n"
          ],
          "name": "stdout"
        }
      ]
    },
    {
      "cell_type": "markdown",
      "metadata": {
        "papermill": {
          "duration": 0.020392,
          "end_time": "2021-08-09T11:29:28.369406",
          "exception": false,
          "start_time": "2021-08-09T11:29:28.349014",
          "status": "completed"
        },
        "tags": [],
        "id": "77d71627"
      },
      "source": [
        "# 1.\n",
        "\n",
        "Complete the function below according to its docstring."
      ],
      "id": "77d71627"
    },
    {
      "cell_type": "code",
      "metadata": {
        "execution": {
          "iopub.execute_input": "2021-08-09T11:29:28.407099Z",
          "iopub.status.busy": "2021-08-09T11:29:28.406475Z",
          "iopub.status.idle": "2021-08-09T11:29:28.413105Z",
          "shell.execute_reply": "2021-08-09T11:29:28.413578Z",
          "shell.execute_reply.started": "2021-08-09T09:05:01.750222Z"
        },
        "papermill": {
          "duration": 0.029804,
          "end_time": "2021-08-09T11:29:28.413781",
          "exception": false,
          "start_time": "2021-08-09T11:29:28.383977",
          "status": "completed"
        },
        "tags": [],
        "id": "8e6477f2",
        "outputId": "6824c8ec-4ae7-41f0-c71e-3d2fbf757c40"
      },
      "source": [
        "def select_second(L):\n",
        "    \"\"\"Return the second element of the given list. If the list has no second\n",
        "    element, return None.\n",
        "    \"\"\"\n",
        "    if len(L) <= 1: \n",
        "        return None\n",
        "    else:\n",
        "        return L[1]\n",
        "    pass\n",
        "\n",
        "# Check your answer\n",
        "q1.check()"
      ],
      "id": "8e6477f2",
      "execution_count": null,
      "outputs": [
        {
          "output_type": "display_data",
          "data": {
            "application/javascript": [
              "parent.postMessage({\"jupyterEvent\": \"custom.exercise_interaction\", \"data\": {\"outcomeType\": 1, \"valueTowardsCompletion\": 0.2, \"interactionType\": 1, \"questionType\": 2, \"questionId\": \"1_SelectSecondItem\", \"learnToolsVersion\": \"0.3.4\", \"failureMessage\": \"\", \"exceptionClass\": \"\", \"trace\": \"\"}}, \"*\")"
            ],
            "text/plain": [
              "<IPython.core.display.Javascript object>"
            ]
          },
          "metadata": {
            "tags": []
          }
        },
        {
          "output_type": "display_data",
          "data": {
            "text/markdown": "<span style=\"color:#33cc33\">Correct</span>",
            "text/plain": [
              "Correct"
            ]
          },
          "metadata": {
            "tags": []
          }
        }
      ]
    },
    {
      "cell_type": "code",
      "metadata": {
        "execution": {
          "iopub.execute_input": "2021-08-09T11:29:28.452731Z",
          "iopub.status.busy": "2021-08-09T11:29:28.451659Z",
          "iopub.status.idle": "2021-08-09T11:29:28.461375Z",
          "shell.execute_reply": "2021-08-09T11:29:28.460791Z",
          "shell.execute_reply.started": "2021-08-09T09:04:04.402049Z"
        },
        "papermill": {
          "duration": 0.031552,
          "end_time": "2021-08-09T11:29:28.461530",
          "exception": false,
          "start_time": "2021-08-09T11:29:28.429978",
          "status": "completed"
        },
        "tags": [],
        "id": "13c02af0",
        "outputId": "2961be13-d647-46fd-f88c-b27bc3288333"
      },
      "source": [
        "q1.hint()\n",
        "q1.solution()"
      ],
      "id": "13c02af0",
      "execution_count": null,
      "outputs": [
        {
          "output_type": "display_data",
          "data": {
            "application/javascript": [
              "parent.postMessage({\"jupyterEvent\": \"custom.exercise_interaction\", \"data\": {\"interactionType\": 2, \"questionType\": 2, \"questionId\": \"1_SelectSecondItem\", \"learnToolsVersion\": \"0.3.4\", \"valueTowardsCompletion\": 0.0, \"failureMessage\": \"\", \"exceptionClass\": \"\", \"trace\": \"\", \"outcomeType\": 4}}, \"*\")"
            ],
            "text/plain": [
              "<IPython.core.display.Javascript object>"
            ]
          },
          "metadata": {
            "tags": []
          }
        },
        {
          "output_type": "display_data",
          "data": {
            "text/markdown": "<span style=\"color:#3366cc\">Hint:</span> Python starts counting at 0. So the second item isn't indexed with a 2",
            "text/plain": [
              "Hint: Python starts counting at 0. So the second item isn't indexed with a 2"
            ]
          },
          "metadata": {
            "tags": []
          }
        },
        {
          "output_type": "display_data",
          "data": {
            "application/javascript": [
              "parent.postMessage({\"jupyterEvent\": \"custom.exercise_interaction\", \"data\": {\"interactionType\": 3, \"questionType\": 2, \"questionId\": \"1_SelectSecondItem\", \"learnToolsVersion\": \"0.3.4\", \"valueTowardsCompletion\": 0.0, \"failureMessage\": \"\", \"exceptionClass\": \"\", \"trace\": \"\", \"outcomeType\": 4}}, \"*\")"
            ],
            "text/plain": [
              "<IPython.core.display.Javascript object>"
            ]
          },
          "metadata": {
            "tags": []
          }
        },
        {
          "output_type": "display_data",
          "data": {
            "text/markdown": "<span style=\"color:#33cc99\">Solution:</span> \n```python\ndef select_second(L):\n    if len(L) < 2:\n        return None\n    return L[1]\n```",
            "text/plain": [
              "Solution: \n",
              "```python\n",
              "def select_second(L):\n",
              "    if len(L) < 2:\n",
              "        return None\n",
              "    return L[1]\n",
              "```"
            ]
          },
          "metadata": {
            "tags": []
          }
        }
      ]
    },
    {
      "cell_type": "markdown",
      "metadata": {
        "papermill": {
          "duration": 0.017326,
          "end_time": "2021-08-09T11:29:28.497090",
          "exception": false,
          "start_time": "2021-08-09T11:29:28.479764",
          "status": "completed"
        },
        "tags": [],
        "id": "1021cd9e"
      },
      "source": [
        "# 2.\n",
        "\n",
        "You are analyzing sports teams.  Members of each team are stored in a list. The Coach is the first name in the list, the captain is the second name in the list, and other players are listed after that. \n",
        "These lists are stored in another list, which starts with the best team and proceeds through the list to the worst team last.  Complete the function below to select the **captain** of the worst team."
      ],
      "id": "1021cd9e"
    },
    {
      "cell_type": "code",
      "metadata": {
        "execution": {
          "iopub.execute_input": "2021-08-09T11:29:28.538895Z",
          "iopub.status.busy": "2021-08-09T11:29:28.538200Z",
          "iopub.status.idle": "2021-08-09T11:29:28.543523Z",
          "shell.execute_reply": "2021-08-09T11:29:28.543001Z",
          "shell.execute_reply.started": "2021-08-09T09:15:24.351346Z"
        },
        "papermill": {
          "duration": 0.028514,
          "end_time": "2021-08-09T11:29:28.543677",
          "exception": false,
          "start_time": "2021-08-09T11:29:28.515163",
          "status": "completed"
        },
        "tags": [],
        "id": "25e5f7aa",
        "outputId": "77b70cde-adfd-4f16-fe18-6b2525724cb2"
      },
      "source": [
        "def losing_team_captain(teams):\n",
        "    \"\"\"Given a list of teams, where each team is a list of names, return the 2nd player (captain)\n",
        "    from the last listed team\n",
        "    \"\"\"\n",
        "    return teams[-1][1]# list 안에 list가 있다\n",
        "    pass\n",
        "\n",
        "# Check your answer\n",
        "q2.check()"
      ],
      "id": "25e5f7aa",
      "execution_count": null,
      "outputs": [
        {
          "output_type": "display_data",
          "data": {
            "application/javascript": [
              "parent.postMessage({\"jupyterEvent\": \"custom.exercise_interaction\", \"data\": {\"outcomeType\": 1, \"valueTowardsCompletion\": 0.2, \"interactionType\": 1, \"questionType\": 2, \"questionId\": \"2_LosingTeamCaptain\", \"learnToolsVersion\": \"0.3.4\", \"failureMessage\": \"\", \"exceptionClass\": \"\", \"trace\": \"\"}}, \"*\")"
            ],
            "text/plain": [
              "<IPython.core.display.Javascript object>"
            ]
          },
          "metadata": {
            "tags": []
          }
        },
        {
          "output_type": "display_data",
          "data": {
            "text/markdown": "<span style=\"color:#33cc33\">Correct</span>",
            "text/plain": [
              "Correct"
            ]
          },
          "metadata": {
            "tags": []
          }
        }
      ]
    },
    {
      "cell_type": "code",
      "metadata": {
        "execution": {
          "iopub.execute_input": "2021-08-09T11:29:28.586480Z",
          "iopub.status.busy": "2021-08-09T11:29:28.585806Z",
          "iopub.status.idle": "2021-08-09T11:29:28.594400Z",
          "shell.execute_reply": "2021-08-09T11:29:28.593823Z",
          "shell.execute_reply.started": "2021-08-09T09:15:30.522316Z"
        },
        "papermill": {
          "duration": 0.03192,
          "end_time": "2021-08-09T11:29:28.594560",
          "exception": false,
          "start_time": "2021-08-09T11:29:28.562640",
          "status": "completed"
        },
        "tags": [],
        "id": "a7ad2a96",
        "outputId": "672478c6-50d0-466e-8bd0-f045a4a47a29"
      },
      "source": [
        "q2.hint()\n",
        "q2.solution()"
      ],
      "id": "a7ad2a96",
      "execution_count": null,
      "outputs": [
        {
          "output_type": "display_data",
          "data": {
            "application/javascript": [
              "parent.postMessage({\"jupyterEvent\": \"custom.exercise_interaction\", \"data\": {\"interactionType\": 2, \"questionType\": 2, \"questionId\": \"2_LosingTeamCaptain\", \"learnToolsVersion\": \"0.3.4\", \"valueTowardsCompletion\": 0.0, \"failureMessage\": \"\", \"exceptionClass\": \"\", \"trace\": \"\", \"outcomeType\": 4}}, \"*\")"
            ],
            "text/plain": [
              "<IPython.core.display.Javascript object>"
            ]
          },
          "metadata": {
            "tags": []
          }
        },
        {
          "output_type": "display_data",
          "data": {
            "text/markdown": "<span style=\"color:#3366cc\">Hint:</span> The last item in a list `L` can be selected with `L[-1]`. The first item in the first sublist would be selected as `L[0][0]`",
            "text/plain": [
              "Hint: The last item in a list `L` can be selected with `L[-1]`. The first item in the first sublist would be selected as `L[0][0]`"
            ]
          },
          "metadata": {
            "tags": []
          }
        },
        {
          "output_type": "display_data",
          "data": {
            "application/javascript": [
              "parent.postMessage({\"jupyterEvent\": \"custom.exercise_interaction\", \"data\": {\"interactionType\": 3, \"questionType\": 2, \"questionId\": \"2_LosingTeamCaptain\", \"learnToolsVersion\": \"0.3.4\", \"valueTowardsCompletion\": 0.0, \"failureMessage\": \"\", \"exceptionClass\": \"\", \"trace\": \"\", \"outcomeType\": 4}}, \"*\")"
            ],
            "text/plain": [
              "<IPython.core.display.Javascript object>"
            ]
          },
          "metadata": {
            "tags": []
          }
        },
        {
          "output_type": "display_data",
          "data": {
            "text/markdown": "<span style=\"color:#33cc99\">Solution:</span> \n```python\ndef losing_team_captain(teams):\n    return teams[-1][1]\n```",
            "text/plain": [
              "Solution: \n",
              "```python\n",
              "def losing_team_captain(teams):\n",
              "    return teams[-1][1]\n",
              "```"
            ]
          },
          "metadata": {
            "tags": []
          }
        }
      ]
    },
    {
      "cell_type": "markdown",
      "metadata": {
        "papermill": {
          "duration": 0.020187,
          "end_time": "2021-08-09T11:29:28.636078",
          "exception": false,
          "start_time": "2021-08-09T11:29:28.615891",
          "status": "completed"
        },
        "tags": [],
        "id": "d3ac40a8"
      },
      "source": [
        "# 3.\n",
        "\n",
        "The next iteration of Mario Kart will feature an extra-infuriating new item, the *Purple Shell*. When used, it warps the last place racer into first place and the first place racer into last place. Complete the function below to implement the Purple Shell's effect."
      ],
      "id": "d3ac40a8"
    },
    {
      "cell_type": "code",
      "metadata": {
        "execution": {
          "iopub.execute_input": "2021-08-09T11:29:28.684961Z",
          "iopub.status.busy": "2021-08-09T11:29:28.683958Z",
          "iopub.status.idle": "2021-08-09T11:29:28.690864Z",
          "shell.execute_reply": "2021-08-09T11:29:28.690219Z",
          "shell.execute_reply.started": "2021-08-09T09:29:38.239056Z"
        },
        "papermill": {
          "duration": 0.034474,
          "end_time": "2021-08-09T11:29:28.691011",
          "exception": false,
          "start_time": "2021-08-09T11:29:28.656537",
          "status": "completed"
        },
        "tags": [],
        "id": "4176e854",
        "outputId": "cb9618d9-de3e-41c3-b5ab-7f52e6330391"
      },
      "source": [
        "def purple_shell(racers):\n",
        "    \"\"\"Given a list of racers, set the first place racer (at the front of the list) to last\n",
        "    place and vice versa.\n",
        "    \n",
        "    >>> r = [\"Mario\", \"Bowser\", \"Luigi\"]\n",
        "    >>> purple_shell(r)\n",
        "    >>> r\n",
        "    [\"Luigi\", \"Bowser\", \"Mario\"]\n",
        "    \"\"\"\n",
        "    a = racers[0]\n",
        "    racers[0] = racers[-1]\n",
        "    racers[-1] = a\n",
        "    return \n",
        "    pass\n",
        "\n",
        "# Check your answer\n",
        "q3.check()"
      ],
      "id": "4176e854",
      "execution_count": null,
      "outputs": [
        {
          "output_type": "display_data",
          "data": {
            "application/javascript": [
              "parent.postMessage({\"jupyterEvent\": \"custom.exercise_interaction\", \"data\": {\"outcomeType\": 1, \"valueTowardsCompletion\": 0.2, \"interactionType\": 1, \"questionType\": 2, \"questionId\": \"3_PurpleShell\", \"learnToolsVersion\": \"0.3.4\", \"failureMessage\": \"\", \"exceptionClass\": \"\", \"trace\": \"\"}}, \"*\")"
            ],
            "text/plain": [
              "<IPython.core.display.Javascript object>"
            ]
          },
          "metadata": {
            "tags": []
          }
        },
        {
          "output_type": "display_data",
          "data": {
            "text/markdown": "<span style=\"color:#33cc33\">Correct</span>",
            "text/plain": [
              "Correct"
            ]
          },
          "metadata": {
            "tags": []
          }
        }
      ]
    },
    {
      "cell_type": "code",
      "metadata": {
        "execution": {
          "iopub.execute_input": "2021-08-09T11:29:28.741520Z",
          "iopub.status.busy": "2021-08-09T11:29:28.740819Z",
          "iopub.status.idle": "2021-08-09T11:29:28.751459Z",
          "shell.execute_reply": "2021-08-09T11:29:28.750839Z",
          "shell.execute_reply.started": "2021-08-09T09:26:22.961696Z"
        },
        "papermill": {
          "duration": 0.038738,
          "end_time": "2021-08-09T11:29:28.751600",
          "exception": false,
          "start_time": "2021-08-09T11:29:28.712862",
          "status": "completed"
        },
        "tags": [],
        "id": "6bfcc3a3",
        "outputId": "00e22634-d439-4c3c-b996-b2ae0b904894"
      },
      "source": [
        "q3.hint()\n",
        "q3.solution()"
      ],
      "id": "6bfcc3a3",
      "execution_count": null,
      "outputs": [
        {
          "output_type": "display_data",
          "data": {
            "application/javascript": [
              "parent.postMessage({\"jupyterEvent\": \"custom.exercise_interaction\", \"data\": {\"interactionType\": 2, \"questionType\": 2, \"questionId\": \"3_PurpleShell\", \"learnToolsVersion\": \"0.3.4\", \"valueTowardsCompletion\": 0.0, \"failureMessage\": \"\", \"exceptionClass\": \"\", \"trace\": \"\", \"outcomeType\": 4}}, \"*\")"
            ],
            "text/plain": [
              "<IPython.core.display.Javascript object>"
            ]
          },
          "metadata": {
            "tags": []
          }
        },
        {
          "output_type": "display_data",
          "data": {
            "text/markdown": "<span style=\"color:#3366cc\">Hint:</span> Your function should change the list it receives, but not return anything\n\nTo swap the list elements, think back to the code you used in the very first exercise to swap two variables.",
            "text/plain": [
              "Hint: Your function should change the list it receives, but not return anything\n",
              "\n",
              "To swap the list elements, think back to the code you used in the very first exercise to swap two variables."
            ]
          },
          "metadata": {
            "tags": []
          }
        },
        {
          "output_type": "display_data",
          "data": {
            "application/javascript": [
              "parent.postMessage({\"jupyterEvent\": \"custom.exercise_interaction\", \"data\": {\"interactionType\": 3, \"questionType\": 2, \"questionId\": \"3_PurpleShell\", \"learnToolsVersion\": \"0.3.4\", \"valueTowardsCompletion\": 0.0, \"failureMessage\": \"\", \"exceptionClass\": \"\", \"trace\": \"\", \"outcomeType\": 4}}, \"*\")"
            ],
            "text/plain": [
              "<IPython.core.display.Javascript object>"
            ]
          },
          "metadata": {
            "tags": []
          }
        },
        {
          "output_type": "display_data",
          "data": {
            "text/markdown": "<span style=\"color:#33cc99\">Solution:</span> \n```python\ndef purple_shell(racers):\n    # One slick way to do the swap is x[0], x[-1] = x[-1], x[0].\n    temp = racers[0]\n    racers[0] = racers[-1]\n    racers[-1] = temp\n```",
            "text/plain": [
              "Solution: \n",
              "```python\n",
              "def purple_shell(racers):\n",
              "    # One slick way to do the swap is x[0], x[-1] = x[-1], x[0].\n",
              "    temp = racers[0]\n",
              "    racers[0] = racers[-1]\n",
              "    racers[-1] = temp\n",
              "```"
            ]
          },
          "metadata": {
            "tags": []
          }
        }
      ]
    },
    {
      "cell_type": "markdown",
      "metadata": {
        "papermill": {
          "duration": 0.028795,
          "end_time": "2021-08-09T11:29:28.804762",
          "exception": false,
          "start_time": "2021-08-09T11:29:28.775967",
          "status": "completed"
        },
        "tags": [],
        "id": "615b105b"
      },
      "source": [
        "# 4.\n",
        "\n",
        "What are the lengths of the following lists? Fill in the variable `lengths` with your predictions. (Try to make a prediction for each list *without* just calling `len()` on it.)"
      ],
      "id": "615b105b"
    },
    {
      "cell_type": "code",
      "metadata": {
        "execution": {
          "iopub.execute_input": "2021-08-09T11:29:28.862921Z",
          "iopub.status.busy": "2021-08-09T11:29:28.861788Z",
          "iopub.status.idle": "2021-08-09T11:29:28.866652Z",
          "shell.execute_reply": "2021-08-09T11:29:28.867142Z",
          "shell.execute_reply.started": "2021-08-09T09:33:21.395758Z"
        },
        "papermill": {
          "duration": 0.035786,
          "end_time": "2021-08-09T11:29:28.867331",
          "exception": false,
          "start_time": "2021-08-09T11:29:28.831545",
          "status": "completed"
        },
        "tags": [],
        "id": "7012d142",
        "outputId": "18eb278d-ff1d-4dde-e876-42206a1f0c1c"
      },
      "source": [
        "a = [1, 2, 3] # 3\n",
        "b = [1, [2, 3]]# 2\n",
        "c = [] # 0\n",
        "d = [1, 2, 3][1:] # 2\n",
        "\n",
        "# Put your predictions in the list below. Lengths should contain 4 numbers, the\n",
        "# first being the length of a, the second being the length of b and so on.\n",
        "lengths = []\n",
        "\n",
        "# Check your answer\n",
        "q4.check()"
      ],
      "id": "7012d142",
      "execution_count": null,
      "outputs": [
        {
          "output_type": "display_data",
          "data": {
            "application/javascript": [
              "parent.postMessage({\"jupyterEvent\": \"custom.exercise_interaction\", \"data\": {\"outcomeType\": 4, \"interactionType\": 1, \"questionType\": 1, \"questionId\": \"4_UnderstandLen\", \"learnToolsVersion\": \"0.3.4\", \"valueTowardsCompletion\": 0.0, \"failureMessage\": \"\", \"exceptionClass\": \"\", \"trace\": \"\"}}, \"*\")"
            ],
            "text/plain": [
              "<IPython.core.display.Javascript object>"
            ]
          },
          "metadata": {
            "tags": []
          }
        },
        {
          "output_type": "display_data",
          "data": {
            "text/markdown": "<span style=\"color:#ccaa33\">Check:</span> When you've updated the starter code, `check()` will tell you whether your code is correct. You need to update the code that creates variable `lengths`",
            "text/plain": [
              "Check: When you've updated the starter code, `check()` will tell you whether your code is correct. You need to update the code that creates variable `lengths`"
            ]
          },
          "metadata": {
            "tags": []
          }
        }
      ]
    },
    {
      "cell_type": "code",
      "metadata": {
        "execution": {
          "iopub.execute_input": "2021-08-09T11:29:28.922106Z",
          "iopub.status.busy": "2021-08-09T11:29:28.921506Z",
          "iopub.status.idle": "2021-08-09T11:29:28.927873Z",
          "shell.execute_reply": "2021-08-09T11:29:28.928442Z",
          "shell.execute_reply.started": "2021-08-09T09:33:44.019852Z"
        },
        "papermill": {
          "duration": 0.036612,
          "end_time": "2021-08-09T11:29:28.928601",
          "exception": false,
          "start_time": "2021-08-09T11:29:28.891989",
          "status": "completed"
        },
        "tags": [],
        "id": "85610fe9",
        "outputId": "c2c73546-3ee1-460d-f1d4-6d9dab6c5d35"
      },
      "source": [
        "# line below provides some explanation\n",
        "q4.solution()"
      ],
      "id": "85610fe9",
      "execution_count": null,
      "outputs": [
        {
          "output_type": "display_data",
          "data": {
            "application/javascript": [
              "parent.postMessage({\"jupyterEvent\": \"custom.exercise_interaction\", \"data\": {\"interactionType\": 3, \"questionType\": 1, \"questionId\": \"4_UnderstandLen\", \"learnToolsVersion\": \"0.3.4\", \"valueTowardsCompletion\": 0.0, \"failureMessage\": \"\", \"exceptionClass\": \"\", \"trace\": \"\", \"outcomeType\": 4}}, \"*\")"
            ],
            "text/plain": [
              "<IPython.core.display.Javascript object>"
            ]
          },
          "metadata": {
            "tags": []
          }
        },
        {
          "output_type": "display_data",
          "data": {
            "text/markdown": "<span style=\"color:#33cc99\">Solution:</span> \n- a: There are three items in this list. Nothing tricky yet.\n- b: The list `[2, 3]` counts as a single item. It has one item before it. So we have 2 items in the list\n- c: The empty list has 0 items\n- d: The expression is the same as the list `[2, 3]`, which has length 2.",
            "text/plain": [
              "Solution: \n",
              "- a: There are three items in this list. Nothing tricky yet.\n",
              "- b: The list `[2, 3]` counts as a single item. It has one item before it. So we have 2 items in the list\n",
              "- c: The empty list has 0 items\n",
              "- d: The expression is the same as the list `[2, 3]`, which has length 2."
            ]
          },
          "metadata": {
            "tags": []
          }
        }
      ]
    },
    {
      "cell_type": "markdown",
      "metadata": {
        "papermill": {
          "duration": 0.025153,
          "end_time": "2021-08-09T11:29:28.980233",
          "exception": false,
          "start_time": "2021-08-09T11:29:28.955080",
          "status": "completed"
        },
        "tags": [],
        "id": "689e6bc3"
      },
      "source": [
        "# 5. <span title=\"A bit spicy\" style=\"color: darkgreen \">🌶️</span>\n",
        "\n",
        "We're using lists to record people who attended our party and what order they arrived in. For example, the following list represents a party with 7 guests, in which Adela showed up first and Ford was the last to arrive:\n",
        "\n",
        "    party_attendees = ['Adela', 'Fleda', 'Owen', 'May', 'Mona', 'Gilbert', 'Ford']\n",
        "\n",
        "A guest is considered 'fashionably late' if they arrived after at least half of the party's guests. However, they must not be the very last guest (that's taking it too far). In the above example, Mona and Gilbert are the only guests who were fashionably late.\n",
        "\n",
        "Complete the function below which takes a list of party attendees as well as a person, and tells us whether that person is fashionably late."
      ],
      "id": "689e6bc3"
    },
    {
      "cell_type": "code",
      "metadata": {
        "execution": {
          "iopub.execute_input": "2021-08-09T11:29:29.038467Z",
          "iopub.status.busy": "2021-08-09T11:29:29.037517Z",
          "iopub.status.idle": "2021-08-09T11:29:29.044152Z",
          "shell.execute_reply": "2021-08-09T11:29:29.043550Z",
          "shell.execute_reply.started": "2021-08-09T11:28:40.180424Z"
        },
        "papermill": {
          "duration": 0.038571,
          "end_time": "2021-08-09T11:29:29.044280",
          "exception": false,
          "start_time": "2021-08-09T11:29:29.005709",
          "status": "completed"
        },
        "tags": [],
        "id": "2210d813",
        "outputId": "9f4d64a6-f96d-442b-ce8d-ba7f95fb6fc5"
      },
      "source": [
        "def fashionably_late(arrivals, name):\n",
        "    \"\"\"Given an ordered list of arrivals to the party and a name, return whether the guest with that\n",
        "    name was fashionably late.\n",
        "    \"\"\"\n",
        "    \n",
        "    if arrivals.index(name) >= len(arrivals)/2 and arrivals.index(name) != (len(arrivals) -1):\n",
        "   \n",
        "        return True\n",
        "\n",
        "    else:\n",
        "        return False\n",
        "    pass\n",
        "\n",
        "# Check your answer\n",
        "q5.check()"
      ],
      "id": "2210d813",
      "execution_count": null,
      "outputs": [
        {
          "output_type": "display_data",
          "data": {
            "application/javascript": [
              "parent.postMessage({\"jupyterEvent\": \"custom.exercise_interaction\", \"data\": {\"outcomeType\": 1, \"valueTowardsCompletion\": 0.2, \"interactionType\": 1, \"questionType\": 2, \"questionId\": \"5_FashionablyLate\", \"learnToolsVersion\": \"0.3.4\", \"failureMessage\": \"\", \"exceptionClass\": \"\", \"trace\": \"\"}}, \"*\")"
            ],
            "text/plain": [
              "<IPython.core.display.Javascript object>"
            ]
          },
          "metadata": {
            "tags": []
          }
        },
        {
          "output_type": "display_data",
          "data": {
            "text/markdown": "<span style=\"color:#33cc33\">Correct</span>",
            "text/plain": [
              "Correct"
            ]
          },
          "metadata": {
            "tags": []
          }
        }
      ]
    },
    {
      "cell_type": "code",
      "metadata": {
        "execution": {
          "iopub.execute_input": "2021-08-09T11:29:29.103638Z",
          "iopub.status.busy": "2021-08-09T11:29:29.102746Z",
          "iopub.status.idle": "2021-08-09T11:29:29.111950Z",
          "shell.execute_reply": "2021-08-09T11:29:29.112432Z",
          "shell.execute_reply.started": "2021-08-09T11:15:29.600909Z"
        },
        "papermill": {
          "duration": 0.041997,
          "end_time": "2021-08-09T11:29:29.112597",
          "exception": false,
          "start_time": "2021-08-09T11:29:29.070600",
          "status": "completed"
        },
        "tags": [],
        "id": "0d7de5e8",
        "outputId": "dcc85854-3f45-4c6f-917b-90869be29123"
      },
      "source": [
        "q5.hint()\n",
        "q5.solution()"
      ],
      "id": "0d7de5e8",
      "execution_count": null,
      "outputs": [
        {
          "output_type": "display_data",
          "data": {
            "application/javascript": [
              "parent.postMessage({\"jupyterEvent\": \"custom.exercise_interaction\", \"data\": {\"interactionType\": 2, \"questionType\": 2, \"questionId\": \"5_FashionablyLate\", \"learnToolsVersion\": \"0.3.4\", \"valueTowardsCompletion\": 0.0, \"failureMessage\": \"\", \"exceptionClass\": \"\", \"trace\": \"\", \"outcomeType\": 4}}, \"*\")"
            ],
            "text/plain": [
              "<IPython.core.display.Javascript object>"
            ]
          },
          "metadata": {
            "tags": []
          }
        },
        {
          "output_type": "display_data",
          "data": {
            "text/markdown": "<span style=\"color:#3366cc\">Hint:</span> Use the index method to find when the person arrived. Check whether that is a fashionably late spot given the list length (`len`). Think about 0-indexing",
            "text/plain": [
              "Hint: Use the index method to find when the person arrived. Check whether that is a fashionably late spot given the list length (`len`). Think about 0-indexing"
            ]
          },
          "metadata": {
            "tags": []
          }
        },
        {
          "output_type": "display_data",
          "data": {
            "application/javascript": [
              "parent.postMessage({\"jupyterEvent\": \"custom.exercise_interaction\", \"data\": {\"interactionType\": 3, \"questionType\": 2, \"questionId\": \"5_FashionablyLate\", \"learnToolsVersion\": \"0.3.4\", \"valueTowardsCompletion\": 0.0, \"failureMessage\": \"\", \"exceptionClass\": \"\", \"trace\": \"\", \"outcomeType\": 4}}, \"*\")"
            ],
            "text/plain": [
              "<IPython.core.display.Javascript object>"
            ]
          },
          "metadata": {
            "tags": []
          }
        },
        {
          "output_type": "display_data",
          "data": {
            "text/markdown": "<span style=\"color:#33cc99\">Solution:</span> \n```python\ndef fashionably_late(arrivals, name):\n    order = arrivals.index(name)\n    return order >= len(arrivals) / 2 and order != len(arrivals) - 1\n```",
            "text/plain": [
              "Solution: \n",
              "```python\n",
              "def fashionably_late(arrivals, name):\n",
              "    order = arrivals.index(name)\n",
              "    return order >= len(arrivals) / 2 and order != len(arrivals) - 1\n",
              "```"
            ]
          },
          "metadata": {
            "tags": []
          }
        }
      ]
    },
    {
      "cell_type": "markdown",
      "metadata": {
        "papermill": {
          "duration": 0.028579,
          "end_time": "2021-08-09T11:29:29.169438",
          "exception": false,
          "start_time": "2021-08-09T11:29:29.140859",
          "status": "completed"
        },
        "tags": [],
        "id": "2ee795e0"
      },
      "source": [
        "# Keep Going\n",
        "\n",
        "That's it for lists and tuples! Now you have the baseline knowledge to **[learn about loops](https://www.kaggle.com/colinmorris/loops-and-list-comprehensions)**, which is where lists and tuples get really interesting. "
      ],
      "id": "2ee795e0"
    },
    {
      "cell_type": "markdown",
      "metadata": {
        "papermill": {
          "duration": 0.027955,
          "end_time": "2021-08-09T11:29:29.225885",
          "exception": false,
          "start_time": "2021-08-09T11:29:29.197930",
          "status": "completed"
        },
        "tags": [],
        "id": "14c76e16"
      },
      "source": [
        "---\n",
        "\n",
        "\n",
        "\n",
        "\n",
        "*Have questions or comments? Visit the [Learn Discussion forum](https://www.kaggle.com/learn-forum/161283) to chat with other Learners.*"
      ],
      "id": "14c76e16"
    }
  ]
}