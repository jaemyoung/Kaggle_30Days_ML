{
  "nbformat": 4,
  "nbformat_minor": 5,
  "metadata": {
    "kernelspec": {
      "display_name": "Python 3",
      "language": "python",
      "name": "python3"
    },
    "language_info": {
      "codemirror_mode": {
        "name": "ipython",
        "version": 3
      },
      "file_extension": ".py",
      "mimetype": "text/x-python",
      "name": "python",
      "nbconvert_exporter": "python",
      "pygments_lexer": "ipython3",
      "version": "3.7.10"
    },
    "papermill": {
      "default_parameters": {},
      "duration": 17.690922,
      "end_time": "2021-08-06T05:50:07.331506",
      "environment_variables": {},
      "exception": null,
      "input_path": "__notebook__.ipynb",
      "output_path": "__notebook__.ipynb",
      "parameters": {},
      "start_time": "2021-08-06T05:49:49.640584",
      "version": "2.3.3"
    },
    "colab": {
      "name": "Day3_exercise-booleans-and-conditionals.ipynb",
      "provenance": [],
      "include_colab_link": true
    }
  },
  "cells": [
    {
      "cell_type": "markdown",
      "metadata": {
        "id": "view-in-github",
        "colab_type": "text"
      },
      "source": [
        "<a href=\"https://colab.research.google.com/github/jaemyoung/Kaggle_30Days_ML/blob/main/Day3_exercise_booleans_and_conditionals.ipynb\" target=\"_parent\"><img src=\"https://colab.research.google.com/assets/colab-badge.svg\" alt=\"Open In Colab\"/></a>"
      ]
    },
    {
      "cell_type": "markdown",
      "metadata": {
        "papermill": {
          "duration": 0.032012,
          "end_time": "2021-08-06T05:49:58.185141",
          "exception": false,
          "start_time": "2021-08-06T05:49:58.153129",
          "status": "completed"
        },
        "tags": [],
        "id": "81b8f615"
      },
      "source": [
        "**This notebook is an exercise in the [Python](https://www.kaggle.com/learn/python) course.  You can reference the tutorial at [this link](https://www.kaggle.com/colinmorris/booleans-and-conditionals).**\n",
        "\n",
        "---\n"
      ],
      "id": "81b8f615"
    },
    {
      "cell_type": "markdown",
      "metadata": {
        "papermill": {
          "duration": 0.030106,
          "end_time": "2021-08-06T05:49:58.248225",
          "exception": false,
          "start_time": "2021-08-06T05:49:58.218119",
          "status": "completed"
        },
        "tags": [],
        "id": "a9ecc801"
      },
      "source": [
        "In this exercise, you'll put to work what you have learned about booleans and conditionals.\n",
        "\n",
        "To get started, **run the setup code below** before writing your own code (and if you leave this notebook and come back later, don't forget to run the setup code again)."
      ],
      "id": "a9ecc801"
    },
    {
      "cell_type": "code",
      "metadata": {
        "execution": {
          "iopub.execute_input": "2021-08-06T05:49:58.327739Z",
          "iopub.status.busy": "2021-08-06T05:49:58.327060Z",
          "iopub.status.idle": "2021-08-06T05:49:58.481614Z",
          "shell.execute_reply": "2021-08-06T05:49:58.480752Z",
          "shell.execute_reply.started": "2021-08-06T05:06:26.291834Z"
        },
        "papermill": {
          "duration": 0.203477,
          "end_time": "2021-08-06T05:49:58.482005",
          "exception": false,
          "start_time": "2021-08-06T05:49:58.278528",
          "status": "completed"
        },
        "tags": [],
        "id": "257c1cd3",
        "outputId": "e43762d4-3b19-4c44-bc41-5a6553471623"
      },
      "source": [
        "from learntools.core import binder; binder.bind(globals())\n",
        "from learntools.python.ex3 import *\n",
        "print('Setup complete.')"
      ],
      "id": "257c1cd3",
      "execution_count": null,
      "outputs": [
        {
          "output_type": "stream",
          "text": [
            "Setup complete.\n"
          ],
          "name": "stdout"
        }
      ]
    },
    {
      "cell_type": "markdown",
      "metadata": {
        "papermill": {
          "duration": 0.03178,
          "end_time": "2021-08-06T05:49:58.546761",
          "exception": false,
          "start_time": "2021-08-06T05:49:58.514981",
          "status": "completed"
        },
        "tags": [],
        "id": "5cbf07b5"
      },
      "source": [
        "# 1.\n",
        "\n",
        "Many programming languages have [`sign`](https://en.wikipedia.org/wiki/Sign_function) available as a built-in function. Python doesn't, but we can define our own!\n",
        "\n",
        "In the cell below, define a function called `sign` which takes a numerical argument and returns -1 if it's negative, 1 if it's positive, and 0 if it's 0."
      ],
      "id": "5cbf07b5"
    },
    {
      "cell_type": "code",
      "metadata": {
        "execution": {
          "iopub.execute_input": "2021-08-06T05:49:58.619116Z",
          "iopub.status.busy": "2021-08-06T05:49:58.618351Z",
          "iopub.status.idle": "2021-08-06T05:49:58.625216Z",
          "shell.execute_reply": "2021-08-06T05:49:58.624609Z",
          "shell.execute_reply.started": "2021-08-06T05:10:08.790977Z"
        },
        "papermill": {
          "duration": 0.047228,
          "end_time": "2021-08-06T05:49:58.625374",
          "exception": false,
          "start_time": "2021-08-06T05:49:58.578146",
          "status": "completed"
        },
        "tags": [],
        "id": "8286d309",
        "outputId": "9dc3a277-1a00-4ac0-8936-7fd14421f09d"
      },
      "source": [
        "# Your code goes here. Define a function called 'sign'\n",
        "def sign(number):\n",
        "    if number > 0:\n",
        "        return 1\n",
        "    elif number == 0:\n",
        "        return 0\n",
        "    elif number < 0:\n",
        "        return -1\n",
        "    else:\n",
        "        return print(\" I don't know what is this \")\n",
        "    return \n",
        "# Check your answer\n",
        "q1.check()"
      ],
      "id": "8286d309",
      "execution_count": null,
      "outputs": [
        {
          "output_type": "display_data",
          "data": {
            "application/javascript": [
              "parent.postMessage({\"jupyterEvent\": \"custom.exercise_interaction\", \"data\": {\"outcomeType\": 1, \"valueTowardsCompletion\": 0.2, \"interactionType\": 1, \"questionType\": 2, \"questionId\": \"1_SignFunctionProblem\", \"learnToolsVersion\": \"0.3.4\", \"failureMessage\": \"\", \"exceptionClass\": \"\", \"trace\": \"\"}}, \"*\")"
            ],
            "text/plain": [
              "<IPython.core.display.Javascript object>"
            ]
          },
          "metadata": {
            "tags": []
          }
        },
        {
          "output_type": "display_data",
          "data": {
            "text/markdown": "<span style=\"color:#33cc33\">Correct</span>",
            "text/plain": [
              "Correct"
            ]
          },
          "metadata": {
            "tags": []
          }
        }
      ]
    },
    {
      "cell_type": "code",
      "metadata": {
        "execution": {
          "iopub.execute_input": "2021-08-06T05:49:58.695016Z",
          "iopub.status.busy": "2021-08-06T05:49:58.694235Z",
          "iopub.status.idle": "2021-08-06T05:49:58.700322Z",
          "shell.execute_reply": "2021-08-06T05:49:58.700833Z",
          "shell.execute_reply.started": "2021-08-06T05:10:13.206764Z"
        },
        "papermill": {
          "duration": 0.042041,
          "end_time": "2021-08-06T05:49:58.701005",
          "exception": false,
          "start_time": "2021-08-06T05:49:58.658964",
          "status": "completed"
        },
        "tags": [],
        "id": "dad57d37",
        "outputId": "29470a61-f1b1-409f-fcd1-4938e7d3da20"
      },
      "source": [
        "q1.solution()"
      ],
      "id": "dad57d37",
      "execution_count": null,
      "outputs": [
        {
          "output_type": "display_data",
          "data": {
            "application/javascript": [
              "parent.postMessage({\"jupyterEvent\": \"custom.exercise_interaction\", \"data\": {\"interactionType\": 3, \"questionType\": 2, \"questionId\": \"1_SignFunctionProblem\", \"learnToolsVersion\": \"0.3.4\", \"valueTowardsCompletion\": 0.0, \"failureMessage\": \"\", \"exceptionClass\": \"\", \"trace\": \"\", \"outcomeType\": 4}}, \"*\")"
            ],
            "text/plain": [
              "<IPython.core.display.Javascript object>"
            ]
          },
          "metadata": {
            "tags": []
          }
        },
        {
          "output_type": "display_data",
          "data": {
            "text/markdown": "<span style=\"color:#33cc99\">Solution:</span> \n```python\ndef sign(x):\n    if x > 0:\n        return 1\n    elif x < 0:\n        return -1\n    else:\n        return 0\n```",
            "text/plain": [
              "Solution: \n",
              "```python\n",
              "def sign(x):\n",
              "    if x > 0:\n",
              "        return 1\n",
              "    elif x < 0:\n",
              "        return -1\n",
              "    else:\n",
              "        return 0\n",
              "```"
            ]
          },
          "metadata": {
            "tags": []
          }
        }
      ]
    },
    {
      "cell_type": "markdown",
      "metadata": {
        "papermill": {
          "duration": 0.034739,
          "end_time": "2021-08-06T05:49:58.768810",
          "exception": false,
          "start_time": "2021-08-06T05:49:58.734071",
          "status": "completed"
        },
        "tags": [],
        "id": "949b4832"
      },
      "source": [
        "# 2.\n",
        "\n",
        "We've decided to add \"logging\" to our `to_smash` function from the previous exercise."
      ],
      "id": "949b4832"
    },
    {
      "cell_type": "code",
      "metadata": {
        "execution": {
          "iopub.execute_input": "2021-08-06T05:49:58.838610Z",
          "iopub.status.busy": "2021-08-06T05:49:58.837997Z",
          "iopub.status.idle": "2021-08-06T05:49:58.845211Z",
          "shell.execute_reply": "2021-08-06T05:49:58.845682Z"
        },
        "papermill": {
          "duration": 0.043665,
          "end_time": "2021-08-06T05:49:58.845876",
          "exception": false,
          "start_time": "2021-08-06T05:49:58.802211",
          "status": "completed"
        },
        "tags": [],
        "id": "226dede4",
        "outputId": "3187751f-9630-4649-b6d3-557b12d92a0b"
      },
      "source": [
        "def to_smash(total_candies):\n",
        "    \"\"\"Return the number of leftover candies that must be smashed after distributing\n",
        "    the given number of candies evenly between 3 friends.\n",
        "    \n",
        "    >>> to_smash(91)\n",
        "    1\n",
        "    \"\"\"\n",
        "    print(\"Splitting\", total_candies, \"candies\")\n",
        "    return total_candies % 3\n",
        "\n",
        "to_smash(91)"
      ],
      "id": "226dede4",
      "execution_count": null,
      "outputs": [
        {
          "output_type": "stream",
          "text": [
            "Splitting 91 candies\n"
          ],
          "name": "stdout"
        },
        {
          "output_type": "execute_result",
          "data": {
            "text/plain": [
              "1"
            ]
          },
          "metadata": {
            "tags": []
          },
          "execution_count": 4
        }
      ]
    },
    {
      "cell_type": "markdown",
      "metadata": {
        "papermill": {
          "duration": 0.033496,
          "end_time": "2021-08-06T05:49:58.912891",
          "exception": false,
          "start_time": "2021-08-06T05:49:58.879395",
          "status": "completed"
        },
        "tags": [],
        "id": "1d063c74"
      },
      "source": [
        "What happens if we call it with `total_candies = 1`?"
      ],
      "id": "1d063c74"
    },
    {
      "cell_type": "code",
      "metadata": {
        "execution": {
          "iopub.execute_input": "2021-08-06T05:49:58.984673Z",
          "iopub.status.busy": "2021-08-06T05:49:58.984058Z",
          "iopub.status.idle": "2021-08-06T05:49:58.990403Z",
          "shell.execute_reply": "2021-08-06T05:49:58.990863Z"
        },
        "papermill": {
          "duration": 0.044176,
          "end_time": "2021-08-06T05:49:58.991035",
          "exception": false,
          "start_time": "2021-08-06T05:49:58.946859",
          "status": "completed"
        },
        "tags": [],
        "id": "03a8680b",
        "outputId": "b0cd5931-ce96-41f9-85a4-262e5f100734"
      },
      "source": [
        "to_smash(1)"
      ],
      "id": "03a8680b",
      "execution_count": null,
      "outputs": [
        {
          "output_type": "stream",
          "text": [
            "Splitting 1 candies\n"
          ],
          "name": "stdout"
        },
        {
          "output_type": "execute_result",
          "data": {
            "text/plain": [
              "1"
            ]
          },
          "metadata": {
            "tags": []
          },
          "execution_count": 5
        }
      ]
    },
    {
      "cell_type": "markdown",
      "metadata": {
        "papermill": {
          "duration": 0.034282,
          "end_time": "2021-08-06T05:49:59.060173",
          "exception": false,
          "start_time": "2021-08-06T05:49:59.025891",
          "status": "completed"
        },
        "tags": [],
        "id": "65c3439c"
      },
      "source": [
        "That isn't great grammar!\n",
        "\n",
        "Modify the definition in the cell below to correct the grammar of our print statement. (If there's only one candy, we should use the singular \"candy\" instead of the plural \"candies\")"
      ],
      "id": "65c3439c"
    },
    {
      "cell_type": "code",
      "metadata": {
        "execution": {
          "iopub.execute_input": "2021-08-06T05:49:59.136253Z",
          "iopub.status.busy": "2021-08-06T05:49:59.135553Z",
          "iopub.status.idle": "2021-08-06T05:49:59.140269Z",
          "shell.execute_reply": "2021-08-06T05:49:59.139781Z",
          "shell.execute_reply.started": "2021-08-06T05:13:29.842316Z"
        },
        "papermill": {
          "duration": 0.045526,
          "end_time": "2021-08-06T05:49:59.140416",
          "exception": false,
          "start_time": "2021-08-06T05:49:59.094890",
          "status": "completed"
        },
        "tags": [],
        "id": "296fff6b",
        "outputId": "b8e36307-d45a-47d1-e9cb-158edf6983c6"
      },
      "source": [
        "def to_smash(total_candies):\n",
        "    \"\"\"Return the number of leftover candies that must be smashed after distributing\n",
        "    the given number of candies evenly between 3 friends.\n",
        "    \n",
        "    >>> to_smash(91)\n",
        "    1\n",
        "    \"\"\"\n",
        "    smash_candies = total_candies % 3 \n",
        "    print(\"Splitting\", smash_candies, \"candies\")\n",
        "    return smash_candies\n",
        "\n",
        "to_smash(91)\n",
        "to_smash(1)"
      ],
      "id": "296fff6b",
      "execution_count": null,
      "outputs": [
        {
          "output_type": "stream",
          "text": [
            "Splitting 1 candies\n",
            "Splitting 1 candies\n"
          ],
          "name": "stdout"
        },
        {
          "output_type": "execute_result",
          "data": {
            "text/plain": [
              "1"
            ]
          },
          "metadata": {
            "tags": []
          },
          "execution_count": 6
        }
      ]
    },
    {
      "cell_type": "markdown",
      "metadata": {
        "papermill": {
          "duration": 0.03539,
          "end_time": "2021-08-06T05:49:59.211635",
          "exception": false,
          "start_time": "2021-08-06T05:49:59.176245",
          "status": "completed"
        },
        "tags": [],
        "id": "5f5c6de5"
      },
      "source": [
        "To get credit for completing this problem, and to see the official answer, run the code cell below."
      ],
      "id": "5f5c6de5"
    },
    {
      "cell_type": "code",
      "metadata": {
        "execution": {
          "iopub.execute_input": "2021-08-06T05:49:59.288241Z",
          "iopub.status.busy": "2021-08-06T05:49:59.287501Z",
          "iopub.status.idle": "2021-08-06T05:49:59.293031Z",
          "shell.execute_reply": "2021-08-06T05:49:59.292351Z",
          "shell.execute_reply.started": "2021-08-06T05:13:36.818569Z"
        },
        "papermill": {
          "duration": 0.045855,
          "end_time": "2021-08-06T05:49:59.293180",
          "exception": false,
          "start_time": "2021-08-06T05:49:59.247325",
          "status": "completed"
        },
        "tags": [],
        "id": "62928500",
        "outputId": "f26ae657-69c9-4b34-e52a-781ede8d6898"
      },
      "source": [
        "# Check your answer (Run this code cell to receive credit!)\n",
        "q2.solution()"
      ],
      "id": "62928500",
      "execution_count": null,
      "outputs": [
        {
          "output_type": "display_data",
          "data": {
            "application/javascript": [
              "parent.postMessage({\"jupyterEvent\": \"custom.exercise_interaction\", \"data\": {\"interactionType\": 3, \"questionType\": 4, \"questionId\": \"2_PluralizationProblem\", \"learnToolsVersion\": \"0.3.4\", \"valueTowardsCompletion\": 0.0, \"failureMessage\": \"\", \"exceptionClass\": \"\", \"trace\": \"\", \"outcomeType\": 4}}, \"*\")"
            ],
            "text/plain": [
              "<IPython.core.display.Javascript object>"
            ]
          },
          "metadata": {
            "tags": []
          }
        },
        {
          "output_type": "display_data",
          "data": {
            "text/markdown": "<span style=\"color:#33cc99\">Solution:</span> A straightforward (and totally fine) solution is to replace the original `print` call with:\n\n```python\nif total_candies == 1:\n    print(\"Splitting 1 candy\")\nelse:\n    print(\"Splitting\", total_candies, \"candies\")\n```\n\nHere's a slightly more succinct solution using a conditional expression:\n\n```python\nprint(\"Splitting\", total_candies, \"candy\" if total_candies == 1 else \"candies\")\n```",
            "text/plain": [
              "Solution: A straightforward (and totally fine) solution is to replace the original `print` call with:\n",
              "\n",
              "```python\n",
              "if total_candies == 1:\n",
              "    print(\"Splitting 1 candy\")\n",
              "else:\n",
              "    print(\"Splitting\", total_candies, \"candies\")\n",
              "```\n",
              "\n",
              "Here's a slightly more succinct solution using a conditional expression:\n",
              "\n",
              "```python\n",
              "print(\"Splitting\", total_candies, \"candy\" if total_candies == 1 else \"candies\")\n",
              "```"
            ]
          },
          "metadata": {
            "tags": []
          }
        }
      ]
    },
    {
      "cell_type": "markdown",
      "metadata": {
        "papermill": {
          "duration": 0.036464,
          "end_time": "2021-08-06T05:49:59.366006",
          "exception": false,
          "start_time": "2021-08-06T05:49:59.329542",
          "status": "completed"
        },
        "tags": [],
        "id": "5ef14ae9"
      },
      "source": [
        "I don't understand the case what is \"candy is 1\" is only upper solution"
      ],
      "id": "5ef14ae9"
    },
    {
      "cell_type": "code",
      "metadata": {
        "papermill": {
          "duration": 0.036084,
          "end_time": "2021-08-06T05:49:59.438498",
          "exception": false,
          "start_time": "2021-08-06T05:49:59.402414",
          "status": "completed"
        },
        "tags": [],
        "id": "9423209c"
      },
      "source": [
        ""
      ],
      "id": "9423209c",
      "execution_count": null,
      "outputs": []
    },
    {
      "cell_type": "code",
      "metadata": {
        "execution": {
          "iopub.execute_input": "2021-08-06T05:49:59.515840Z",
          "iopub.status.busy": "2021-08-06T05:49:59.515181Z",
          "iopub.status.idle": "2021-08-06T05:49:59.519326Z",
          "shell.execute_reply": "2021-08-06T05:49:59.518665Z",
          "shell.execute_reply.started": "2021-08-06T05:28:46.962225Z"
        },
        "papermill": {
          "duration": 0.04481,
          "end_time": "2021-08-06T05:49:59.519468",
          "exception": false,
          "start_time": "2021-08-06T05:49:59.474658",
          "status": "completed"
        },
        "tags": [],
        "id": "0d654cda",
        "outputId": "053b7a26-f6e1-452b-e039-502e0d7596e2"
      },
      "source": [
        "print (False and False)"
      ],
      "id": "0d654cda",
      "execution_count": null,
      "outputs": [
        {
          "output_type": "stream",
          "text": [
            "False\n"
          ],
          "name": "stdout"
        }
      ]
    },
    {
      "cell_type": "markdown",
      "metadata": {
        "papermill": {
          "duration": 0.036141,
          "end_time": "2021-08-06T05:49:59.592244",
          "exception": false,
          "start_time": "2021-08-06T05:49:59.556103",
          "status": "completed"
        },
        "tags": [],
        "id": "3eb6da60"
      },
      "source": [
        ""
      ],
      "id": "3eb6da60"
    },
    {
      "cell_type": "markdown",
      "metadata": {
        "papermill": {
          "duration": 0.036421,
          "end_time": "2021-08-06T05:49:59.665166",
          "exception": false,
          "start_time": "2021-08-06T05:49:59.628745",
          "status": "completed"
        },
        "tags": [],
        "id": "2948b7c9"
      },
      "source": [
        "# 3. <span title=\"A bit spicy\" style=\"color: darkgreen \">🌶️</span>\n",
        "\n",
        "In the tutorial, we talked about deciding whether we're prepared for the weather. I said that I'm safe from today's weather if...\n",
        "- I have an umbrella...\n",
        "- or if the rain isn't too heavy and I have a hood...\n",
        "- otherwise, I'm still fine unless it's raining *and* it's a workday\n",
        "\n",
        "The function below uses our first attempt at turning this logic into a Python expression. I claimed that there was a bug in that code. Can you find it?\n",
        "\n",
        "To prove that `prepared_for_weather` is buggy, come up with a set of inputs where either:\n",
        "- the function returns `False` (but should have returned `True`), or\n",
        "- the function returned `True` (but should have returned `False`).\n",
        "\n",
        "To get credit for completing this question, your code should return a <font color='#33cc33'>Correct</font> result."
      ],
      "id": "2948b7c9"
    },
    {
      "cell_type": "code",
      "metadata": {
        "execution": {
          "iopub.execute_input": "2021-08-06T05:49:59.746748Z",
          "iopub.status.busy": "2021-08-06T05:49:59.745685Z",
          "iopub.status.idle": "2021-08-06T05:49:59.754334Z",
          "shell.execute_reply": "2021-08-06T05:49:59.753656Z",
          "shell.execute_reply.started": "2021-08-06T05:22:24.467818Z"
        },
        "papermill": {
          "duration": 0.052997,
          "end_time": "2021-08-06T05:49:59.754499",
          "exception": false,
          "start_time": "2021-08-06T05:49:59.701502",
          "status": "completed"
        },
        "tags": [],
        "id": "0522e5c1",
        "outputId": "e9856e11-cc01-484c-d90b-5cbc057514f6"
      },
      "source": [
        "def prepared_for_weather(have_umbrella, rain_level, have_hood, is_workday):\n",
        "    # Don't change this code. Our goal is just to find the bug, not fix it!\n",
        "    return have_umbrella or rain_level < 5 and have_hood or not rain_level > 0 and is_workday\n",
        "\n",
        "# Change the values of these inputs so they represent a case where prepared_for_weather\n",
        "# returns the wrong answer.\n",
        "have_umbrella = False\n",
        "rain_level = 0.0\n",
        "have_hood = False\n",
        "is_workday = False\n",
        "\n",
        "# Check what the function returns given the current values of the variables above\n",
        "actual = prepared_for_weather(have_umbrella, rain_level, have_hood, is_workday)\n",
        "print(actual)\n",
        "\n",
        "# Check your answer\n",
        "q3.check()"
      ],
      "id": "0522e5c1",
      "execution_count": null,
      "outputs": [
        {
          "output_type": "stream",
          "text": [
            "False\n"
          ],
          "name": "stdout"
        },
        {
          "output_type": "display_data",
          "data": {
            "application/javascript": [
              "parent.postMessage({\"jupyterEvent\": \"custom.exercise_interaction\", \"data\": {\"outcomeType\": 1, \"valueTowardsCompletion\": 0.2, \"interactionType\": 1, \"questionType\": 1, \"questionId\": \"3_WeatherDebug\", \"learnToolsVersion\": \"0.3.4\", \"failureMessage\": \"\", \"exceptionClass\": \"\", \"trace\": \"\"}}, \"*\")"
            ],
            "text/plain": [
              "<IPython.core.display.Javascript object>"
            ]
          },
          "metadata": {
            "tags": []
          }
        },
        {
          "output_type": "display_data",
          "data": {
            "text/markdown": "<span style=\"color:#33cc33\">Correct:</span> \n\nOne example of a failing test case is:\n\n```python\nhave_umbrella = False\nrain_level = 0.0\nhave_hood = False\nis_workday = False\n```\n\nClearly we're prepared for the weather in this case. It's not raining. Not only that, it's not a workday, so we don't even need to leave the house! But our function will return False on these inputs.\n\nThe key problem is that Python implictly parenthesizes the last part as:\n\n```python\n(not (rain_level > 0)) and is_workday\n```\n\nWhereas what we were trying to express would look more like:\n\n```python\nnot (rain_level > 0 and is_workday)\n```\n",
            "text/plain": [
              "Correct: \n",
              "\n",
              "One example of a failing test case is:\n",
              "\n",
              "```python\n",
              "have_umbrella = False\n",
              "rain_level = 0.0\n",
              "have_hood = False\n",
              "is_workday = False\n",
              "```\n",
              "\n",
              "Clearly we're prepared for the weather in this case. It's not raining. Not only that, it's not a workday, so we don't even need to leave the house! But our function will return False on these inputs.\n",
              "\n",
              "The key problem is that Python implictly parenthesizes the last part as:\n",
              "\n",
              "```python\n",
              "(not (rain_level > 0)) and is_workday\n",
              "```\n",
              "\n",
              "Whereas what we were trying to express would look more like:\n",
              "\n",
              "```python\n",
              "not (rain_level > 0 and is_workday)\n",
              "```"
            ]
          },
          "metadata": {
            "tags": []
          }
        }
      ]
    },
    {
      "cell_type": "code",
      "metadata": {
        "execution": {
          "iopub.execute_input": "2021-08-06T05:49:59.839119Z",
          "iopub.status.busy": "2021-08-06T05:49:59.838061Z",
          "iopub.status.idle": "2021-08-06T05:49:59.843461Z",
          "shell.execute_reply": "2021-08-06T05:49:59.843972Z",
          "shell.execute_reply.started": "2021-08-06T05:23:56.137445Z"
        },
        "papermill": {
          "duration": 0.049635,
          "end_time": "2021-08-06T05:49:59.844150",
          "exception": false,
          "start_time": "2021-08-06T05:49:59.794515",
          "status": "completed"
        },
        "tags": [],
        "id": "f6861ce9",
        "outputId": "c7d4d4c5-d837-4099-8fd2-4ecea27a30ea"
      },
      "source": [
        "#q3.hint()\n",
        "q3.solution()"
      ],
      "id": "f6861ce9",
      "execution_count": null,
      "outputs": [
        {
          "output_type": "display_data",
          "data": {
            "application/javascript": [
              "parent.postMessage({\"jupyterEvent\": \"custom.exercise_interaction\", \"data\": {\"interactionType\": 3, \"questionType\": 1, \"questionId\": \"3_WeatherDebug\", \"learnToolsVersion\": \"0.3.4\", \"valueTowardsCompletion\": 0.0, \"failureMessage\": \"\", \"exceptionClass\": \"\", \"trace\": \"\", \"outcomeType\": 4}}, \"*\")"
            ],
            "text/plain": [
              "<IPython.core.display.Javascript object>"
            ]
          },
          "metadata": {
            "tags": []
          }
        },
        {
          "output_type": "display_data",
          "data": {
            "text/markdown": "<span style=\"color:#33cc99\">Solution:</span> One example of a failing test case is:\n\n```python\nhave_umbrella = False\nrain_level = 0.0\nhave_hood = False\nis_workday = False\n```\n\nClearly we're prepared for the weather in this case. It's not raining. Not only that, it's not a workday, so we don't even need to leave the house! But our function will return False on these inputs.\n\nThe key problem is that Python implictly parenthesizes the last part as:\n\n```python\n(not (rain_level > 0)) and is_workday\n```\n\nWhereas what we were trying to express would look more like:\n\n```python\nnot (rain_level > 0 and is_workday)\n```\n",
            "text/plain": [
              "Solution: One example of a failing test case is:\n",
              "\n",
              "```python\n",
              "have_umbrella = False\n",
              "rain_level = 0.0\n",
              "have_hood = False\n",
              "is_workday = False\n",
              "```\n",
              "\n",
              "Clearly we're prepared for the weather in this case. It's not raining. Not only that, it's not a workday, so we don't even need to leave the house! But our function will return False on these inputs.\n",
              "\n",
              "The key problem is that Python implictly parenthesizes the last part as:\n",
              "\n",
              "```python\n",
              "(not (rain_level > 0)) and is_workday\n",
              "```\n",
              "\n",
              "Whereas what we were trying to express would look more like:\n",
              "\n",
              "```python\n",
              "not (rain_level > 0 and is_workday)\n",
              "```"
            ]
          },
          "metadata": {
            "tags": []
          }
        }
      ]
    },
    {
      "cell_type": "markdown",
      "metadata": {
        "papermill": {
          "duration": 0.03957,
          "end_time": "2021-08-06T05:49:59.923203",
          "exception": false,
          "start_time": "2021-08-06T05:49:59.883633",
          "status": "completed"
        },
        "tags": [],
        "id": "4ebbe54a"
      },
      "source": [
        "# 4.\n",
        "\n",
        "The function `is_negative` below is implemented correctly - it returns True if the given number is negative and False otherwise.\n",
        "\n",
        "However, it's more verbose than it needs to be. We can actually reduce the number of lines of code in this function by *75%* while keeping the same behaviour. \n",
        "\n",
        "See if you can come up with an equivalent body that uses just **one line** of code, and put it in the function `concise_is_negative`. (HINT: you don't even need Python's ternary syntax)"
      ],
      "id": "4ebbe54a"
    },
    {
      "cell_type": "code",
      "metadata": {
        "execution": {
          "iopub.execute_input": "2021-08-06T05:50:00.007573Z",
          "iopub.status.busy": "2021-08-06T05:50:00.006916Z",
          "iopub.status.idle": "2021-08-06T05:50:00.014973Z",
          "shell.execute_reply": "2021-08-06T05:50:00.014351Z",
          "shell.execute_reply.started": "2021-08-06T05:33:38.972083Z"
        },
        "papermill": {
          "duration": 0.052026,
          "end_time": "2021-08-06T05:50:00.015136",
          "exception": false,
          "start_time": "2021-08-06T05:49:59.963110",
          "status": "completed"
        },
        "tags": [],
        "id": "a747c8f8",
        "outputId": "8513e54c-724b-41d5-c71b-8dc2cd8a90fc"
      },
      "source": [
        "def is_negative(number):\n",
        "    if number < 0:\n",
        "        return True\n",
        "    else:\n",
        "        return False\n",
        "\n",
        "def concise_is_negative(number):\n",
        "    return number < 0\n",
        "    pass # Your code goes here (try to keep it to one line!)\n",
        "\n",
        "# Check your answer\n",
        "q4.check()"
      ],
      "id": "a747c8f8",
      "execution_count": null,
      "outputs": [
        {
          "output_type": "display_data",
          "data": {
            "application/javascript": [
              "parent.postMessage({\"jupyterEvent\": \"custom.exercise_interaction\", \"data\": {\"outcomeType\": 1, \"valueTowardsCompletion\": 0.2, \"interactionType\": 1, \"questionType\": 2, \"questionId\": \"4_ConciseIsNegative\", \"learnToolsVersion\": \"0.3.4\", \"failureMessage\": \"\", \"exceptionClass\": \"\", \"trace\": \"\"}}, \"*\")"
            ],
            "text/plain": [
              "<IPython.core.display.Javascript object>"
            ]
          },
          "metadata": {
            "tags": []
          }
        },
        {
          "output_type": "display_data",
          "data": {
            "text/markdown": "<span style=\"color:#33cc33\">Correct</span>",
            "text/plain": [
              "Correct"
            ]
          },
          "metadata": {
            "tags": []
          }
        }
      ]
    },
    {
      "cell_type": "code",
      "metadata": {
        "execution": {
          "iopub.execute_input": "2021-08-06T05:50:00.101912Z",
          "iopub.status.busy": "2021-08-06T05:50:00.101140Z",
          "iopub.status.idle": "2021-08-06T05:50:00.110001Z",
          "shell.execute_reply": "2021-08-06T05:50:00.110452Z",
          "shell.execute_reply.started": "2021-08-06T05:33:45.882362Z"
        },
        "papermill": {
          "duration": 0.054586,
          "end_time": "2021-08-06T05:50:00.110633",
          "exception": false,
          "start_time": "2021-08-06T05:50:00.056047",
          "status": "completed"
        },
        "tags": [],
        "id": "5eb1a83a",
        "outputId": "2c87fd33-605d-4f28-f5e8-4014b521a3fe"
      },
      "source": [
        "q4.hint()\n",
        "q4.solution()"
      ],
      "id": "5eb1a83a",
      "execution_count": null,
      "outputs": [
        {
          "output_type": "display_data",
          "data": {
            "application/javascript": [
              "parent.postMessage({\"jupyterEvent\": \"custom.exercise_interaction\", \"data\": {\"interactionType\": 2, \"questionType\": 2, \"questionId\": \"4_ConciseIsNegative\", \"learnToolsVersion\": \"0.3.4\", \"valueTowardsCompletion\": 0.0, \"failureMessage\": \"\", \"exceptionClass\": \"\", \"trace\": \"\", \"outcomeType\": 4}}, \"*\")"
            ],
            "text/plain": [
              "<IPython.core.display.Javascript object>"
            ]
          },
          "metadata": {
            "tags": []
          }
        },
        {
          "output_type": "display_data",
          "data": {
            "text/markdown": "<span style=\"color:#3366cc\">Hint:</span> If the value of the expression `number < 0` is `True`, then we return `True`. If it's `False`, then we return `False`...",
            "text/plain": [
              "Hint: If the value of the expression `number < 0` is `True`, then we return `True`. If it's `False`, then we return `False`..."
            ]
          },
          "metadata": {
            "tags": []
          }
        },
        {
          "output_type": "display_data",
          "data": {
            "application/javascript": [
              "parent.postMessage({\"jupyterEvent\": \"custom.exercise_interaction\", \"data\": {\"interactionType\": 3, \"questionType\": 2, \"questionId\": \"4_ConciseIsNegative\", \"learnToolsVersion\": \"0.3.4\", \"valueTowardsCompletion\": 0.0, \"failureMessage\": \"\", \"exceptionClass\": \"\", \"trace\": \"\", \"outcomeType\": 4}}, \"*\")"
            ],
            "text/plain": [
              "<IPython.core.display.Javascript object>"
            ]
          },
          "metadata": {
            "tags": []
          }
        },
        {
          "output_type": "display_data",
          "data": {
            "text/markdown": "<span style=\"color:#33cc99\">Solution:</span> \n```python\nreturn number < 0\n```",
            "text/plain": [
              "Solution: \n",
              "```python\n",
              "return number < 0\n",
              "```"
            ]
          },
          "metadata": {
            "tags": []
          }
        }
      ]
    },
    {
      "cell_type": "markdown",
      "metadata": {
        "papermill": {
          "duration": 0.041505,
          "end_time": "2021-08-06T05:50:00.195000",
          "exception": false,
          "start_time": "2021-08-06T05:50:00.153495",
          "status": "completed"
        },
        "tags": [],
        "id": "7d2572cd"
      },
      "source": [
        "# 5a.\n",
        "\n",
        "The boolean variables `ketchup`, `mustard` and `onion` represent whether a customer wants a particular topping on their hot dog. We want to implement a number of boolean functions that correspond to some yes-or-no questions about the customer's order. For example:"
      ],
      "id": "7d2572cd"
    },
    {
      "cell_type": "code",
      "metadata": {
        "execution": {
          "iopub.execute_input": "2021-08-06T05:50:00.281897Z",
          "iopub.status.busy": "2021-08-06T05:50:00.281146Z",
          "iopub.status.idle": "2021-08-06T05:50:00.286185Z",
          "shell.execute_reply": "2021-08-06T05:50:00.285529Z",
          "shell.execute_reply.started": "2021-08-06T05:34:59.415764Z"
        },
        "papermill": {
          "duration": 0.049547,
          "end_time": "2021-08-06T05:50:00.286325",
          "exception": false,
          "start_time": "2021-08-06T05:50:00.236778",
          "status": "completed"
        },
        "tags": [],
        "id": "984bf24a"
      },
      "source": [
        "def onionless(ketchup, mustard, onion):\n",
        "    \"\"\"Return whether the customer doesn't want onions.\n",
        "    \"\"\"\n",
        "    return not onion"
      ],
      "id": "984bf24a",
      "execution_count": null,
      "outputs": []
    },
    {
      "cell_type": "code",
      "metadata": {
        "execution": {
          "iopub.execute_input": "2021-08-06T05:50:00.377387Z",
          "iopub.status.busy": "2021-08-06T05:50:00.376494Z",
          "iopub.status.idle": "2021-08-06T05:50:00.382080Z",
          "shell.execute_reply": "2021-08-06T05:50:00.382527Z",
          "shell.execute_reply.started": "2021-08-06T05:36:24.104827Z"
        },
        "papermill": {
          "duration": 0.054123,
          "end_time": "2021-08-06T05:50:00.382722",
          "exception": false,
          "start_time": "2021-08-06T05:50:00.328599",
          "status": "completed"
        },
        "tags": [],
        "id": "c021e9d5",
        "outputId": "b54002aa-ade2-4abe-93cd-a3677f88b4ad"
      },
      "source": [
        "def wants_all_toppings(ketchup, mustard, onion):\n",
        "    \"\"\"Return whether the customer wants \"the works\" (all 3 toppings)\n",
        "    \"\"\"\n",
        "    return ketchup and mustard and onion\n",
        "    pass\n",
        "\n",
        "# Check your answer\n",
        "q5.a.check()"
      ],
      "id": "c021e9d5",
      "execution_count": null,
      "outputs": [
        {
          "output_type": "display_data",
          "data": {
            "application/javascript": [
              "parent.postMessage({\"jupyterEvent\": \"custom.exercise_interaction\", \"data\": {\"outcomeType\": 1, \"valueTowardsCompletion\": 0.2, \"interactionType\": 1, \"questionType\": 2, \"questionId\": \"5.1_AllToppings\", \"learnToolsVersion\": \"0.3.4\", \"failureMessage\": \"\", \"exceptionClass\": \"\", \"trace\": \"\"}}, \"*\")"
            ],
            "text/plain": [
              "<IPython.core.display.Javascript object>"
            ]
          },
          "metadata": {
            "tags": []
          }
        },
        {
          "output_type": "display_data",
          "data": {
            "text/markdown": "<span style=\"color:#33cc33\">Correct</span>",
            "text/plain": [
              "Correct"
            ]
          },
          "metadata": {
            "tags": []
          }
        }
      ]
    },
    {
      "cell_type": "code",
      "metadata": {
        "papermill": {
          "duration": 0.042514,
          "end_time": "2021-08-06T05:50:00.468047",
          "exception": false,
          "start_time": "2021-08-06T05:50:00.425533",
          "status": "completed"
        },
        "tags": [],
        "id": "f901a671"
      },
      "source": [
        ""
      ],
      "id": "f901a671",
      "execution_count": null,
      "outputs": []
    },
    {
      "cell_type": "code",
      "metadata": {
        "execution": {
          "iopub.execute_input": "2021-08-06T05:50:00.559667Z",
          "iopub.status.busy": "2021-08-06T05:50:00.558932Z",
          "iopub.status.idle": "2021-08-06T05:50:00.563821Z",
          "shell.execute_reply": "2021-08-06T05:50:00.563163Z",
          "shell.execute_reply.started": "2021-08-06T05:36:08.687663Z"
        },
        "papermill": {
          "duration": 0.052409,
          "end_time": "2021-08-06T05:50:00.563963",
          "exception": false,
          "start_time": "2021-08-06T05:50:00.511554",
          "status": "completed"
        },
        "tags": [],
        "id": "238af114",
        "outputId": "d97b5963-5c53-4764-f8d6-2ba6f2aef51d"
      },
      "source": [
        "q5.a.hint()\n",
        "#q5.a.solution()"
      ],
      "id": "238af114",
      "execution_count": null,
      "outputs": [
        {
          "output_type": "display_data",
          "data": {
            "application/javascript": [
              "parent.postMessage({\"jupyterEvent\": \"custom.exercise_interaction\", \"data\": {\"interactionType\": 2, \"questionType\": 2, \"questionId\": \"5.1_AllToppings\", \"learnToolsVersion\": \"0.3.4\", \"valueTowardsCompletion\": 0.0, \"failureMessage\": \"\", \"exceptionClass\": \"\", \"trace\": \"\", \"outcomeType\": 4}}, \"*\")"
            ],
            "text/plain": [
              "<IPython.core.display.Javascript object>"
            ]
          },
          "metadata": {
            "tags": []
          }
        },
        {
          "output_type": "display_data",
          "data": {
            "text/markdown": "<span style=\"color:#3366cc\">Hint:</span> You'll need to use the `and` operator.",
            "text/plain": [
              "Hint: You'll need to use the `and` operator."
            ]
          },
          "metadata": {
            "tags": []
          }
        }
      ]
    },
    {
      "cell_type": "markdown",
      "metadata": {
        "papermill": {
          "duration": 0.044616,
          "end_time": "2021-08-06T05:50:00.652869",
          "exception": false,
          "start_time": "2021-08-06T05:50:00.608253",
          "status": "completed"
        },
        "tags": [],
        "id": "f40e286d"
      },
      "source": [
        "# 5b.\n",
        "\n",
        "For the next function, fill in the body to match the English description in the docstring. "
      ],
      "id": "f40e286d"
    },
    {
      "cell_type": "code",
      "metadata": {
        "execution": {
          "iopub.execute_input": "2021-08-06T05:50:00.748819Z",
          "iopub.status.busy": "2021-08-06T05:50:00.748033Z",
          "iopub.status.idle": "2021-08-06T05:50:00.752155Z",
          "shell.execute_reply": "2021-08-06T05:50:00.752722Z",
          "shell.execute_reply.started": "2021-08-06T05:49:22.462052Z"
        },
        "papermill": {
          "duration": 0.055689,
          "end_time": "2021-08-06T05:50:00.752904",
          "exception": false,
          "start_time": "2021-08-06T05:50:00.697215",
          "status": "completed"
        },
        "tags": [],
        "id": "718b386c",
        "outputId": "ed294f80-91b9-4f01-87ab-14346df43708"
      },
      "source": [
        "def wants_plain_hotdog(ketchup, mustard, onion):\n",
        "    \"\"\"Return whether the customer wants a plain hot dog with no toppings.\n",
        "    \"\"\"\n",
        "    return ketchup + mustard + onion == 0\n",
        "    pass\n",
        "\n",
        "# Check your answer\n",
        "q5.b.check()"
      ],
      "id": "718b386c",
      "execution_count": null,
      "outputs": [
        {
          "output_type": "display_data",
          "data": {
            "application/javascript": [
              "parent.postMessage({\"jupyterEvent\": \"custom.exercise_interaction\", \"data\": {\"outcomeType\": 1, \"valueTowardsCompletion\": 0.2, \"interactionType\": 1, \"questionType\": 2, \"questionId\": \"5.2_PlainDog\", \"learnToolsVersion\": \"0.3.4\", \"failureMessage\": \"\", \"exceptionClass\": \"\", \"trace\": \"\"}}, \"*\")"
            ],
            "text/plain": [
              "<IPython.core.display.Javascript object>"
            ]
          },
          "metadata": {
            "tags": []
          }
        },
        {
          "output_type": "display_data",
          "data": {
            "text/markdown": "<span style=\"color:#33cc33\">Correct:</span> \n\nOne solution looks like:\n```python\nreturn not ketchup and not mustard and not onion\n```\n\nWe can also [\"factor out\" the nots](https://en.wikipedia.org/wiki/De_Morgan%27s_laws) to get:\n\n```python\nreturn not (ketchup or mustard or onion)\n```",
            "text/plain": [
              "Correct: \n",
              "\n",
              "One solution looks like:\n",
              "```python\n",
              "return not ketchup and not mustard and not onion\n",
              "```\n",
              "\n",
              "We can also [\"factor out\" the nots](https://en.wikipedia.org/wiki/De_Morgan%27s_laws) to get:\n",
              "\n",
              "```python\n",
              "return not (ketchup or mustard or onion)\n",
              "```"
            ]
          },
          "metadata": {
            "tags": []
          }
        }
      ]
    },
    {
      "cell_type": "code",
      "metadata": {
        "execution": {
          "iopub.execute_input": "2021-08-06T05:50:00.848997Z",
          "iopub.status.busy": "2021-08-06T05:50:00.848234Z",
          "iopub.status.idle": "2021-08-06T05:50:00.851492Z",
          "shell.execute_reply": "2021-08-06T05:50:00.850856Z"
        },
        "papermill": {
          "duration": 0.052492,
          "end_time": "2021-08-06T05:50:00.851634",
          "exception": false,
          "start_time": "2021-08-06T05:50:00.799142",
          "status": "completed"
        },
        "tags": [],
        "id": "2c05c152"
      },
      "source": [
        "#q5.b.hint()\n",
        "#q5.b.solution()"
      ],
      "id": "2c05c152",
      "execution_count": null,
      "outputs": []
    },
    {
      "cell_type": "markdown",
      "metadata": {
        "papermill": {
          "duration": 0.045546,
          "end_time": "2021-08-06T05:50:00.942600",
          "exception": false,
          "start_time": "2021-08-06T05:50:00.897054",
          "status": "completed"
        },
        "tags": [],
        "id": "0e497611"
      },
      "source": [
        "# 5c.\n",
        "\n",
        "You know what to do: for the next function, fill in the body to match the English description in the docstring."
      ],
      "id": "0e497611"
    },
    {
      "cell_type": "code",
      "metadata": {
        "execution": {
          "iopub.execute_input": "2021-08-06T05:50:01.035589Z",
          "iopub.status.busy": "2021-08-06T05:50:01.034892Z",
          "iopub.status.idle": "2021-08-06T05:50:01.041954Z",
          "shell.execute_reply": "2021-08-06T05:50:01.042458Z",
          "shell.execute_reply.started": "2021-08-06T05:48:11.690359Z"
        },
        "papermill": {
          "duration": 0.055142,
          "end_time": "2021-08-06T05:50:01.042629",
          "exception": false,
          "start_time": "2021-08-06T05:50:00.987487",
          "status": "completed"
        },
        "tags": [],
        "id": "369d807f",
        "outputId": "5dc770e7-6bb7-44d7-c8a9-c9d482079b4f"
      },
      "source": [
        "def exactly_one_sauce(ketchup, mustard, onion):\n",
        "    \"\"\"Return whether the customer wants either ketchup or mustard, but not both.\n",
        "    (You may be familiar with this operation under the name \"exclusive or\")\n",
        "    \"\"\"\n",
        "    return mustard + ketchup ==1 \n",
        "    pass\n",
        "\n",
        "# Check your answer\n",
        "q5.c.check()"
      ],
      "id": "369d807f",
      "execution_count": null,
      "outputs": [
        {
          "output_type": "display_data",
          "data": {
            "application/javascript": [
              "parent.postMessage({\"jupyterEvent\": \"custom.exercise_interaction\", \"data\": {\"outcomeType\": 1, \"valueTowardsCompletion\": 0.2, \"interactionType\": 1, \"questionType\": 2, \"questionId\": \"5.3_OneSauce\", \"learnToolsVersion\": \"0.3.4\", \"failureMessage\": \"\", \"exceptionClass\": \"\", \"trace\": \"\"}}, \"*\")"
            ],
            "text/plain": [
              "<IPython.core.display.Javascript object>"
            ]
          },
          "metadata": {
            "tags": []
          }
        },
        {
          "output_type": "display_data",
          "data": {
            "text/markdown": "<span style=\"color:#33cc33\">Correct</span>",
            "text/plain": [
              "Correct"
            ]
          },
          "metadata": {
            "tags": []
          }
        }
      ]
    },
    {
      "cell_type": "code",
      "metadata": {
        "execution": {
          "iopub.execute_input": "2021-08-06T05:50:01.139053Z",
          "iopub.status.busy": "2021-08-06T05:50:01.138238Z",
          "iopub.status.idle": "2021-08-06T05:50:01.147715Z",
          "shell.execute_reply": "2021-08-06T05:50:01.148211Z",
          "shell.execute_reply.started": "2021-08-06T05:43:58.482311Z"
        },
        "papermill": {
          "duration": 0.058572,
          "end_time": "2021-08-06T05:50:01.148386",
          "exception": false,
          "start_time": "2021-08-06T05:50:01.089814",
          "status": "completed"
        },
        "tags": [],
        "id": "54174dd1",
        "outputId": "a2d7d7bc-9820-4473-ce16-2e978df2cf8e"
      },
      "source": [
        "q5.c.hint()\n",
        "q5.c.solution()"
      ],
      "id": "54174dd1",
      "execution_count": null,
      "outputs": [
        {
          "output_type": "display_data",
          "data": {
            "application/javascript": [
              "parent.postMessage({\"jupyterEvent\": \"custom.exercise_interaction\", \"data\": {\"interactionType\": 2, \"questionType\": 2, \"questionId\": \"5.3_OneSauce\", \"learnToolsVersion\": \"0.3.4\", \"valueTowardsCompletion\": 0.0, \"failureMessage\": \"\", \"exceptionClass\": \"\", \"trace\": \"\", \"outcomeType\": 4}}, \"*\")"
            ],
            "text/plain": [
              "<IPython.core.display.Javascript object>"
            ]
          },
          "metadata": {
            "tags": []
          }
        },
        {
          "output_type": "display_data",
          "data": {
            "text/markdown": "<span style=\"color:#3366cc\">Hint:</span> There are exactly two ways to set ketchup and mustard to make this true. What are they?",
            "text/plain": [
              "Hint: There are exactly two ways to set ketchup and mustard to make this true. What are they?"
            ]
          },
          "metadata": {
            "tags": []
          }
        },
        {
          "output_type": "display_data",
          "data": {
            "application/javascript": [
              "parent.postMessage({\"jupyterEvent\": \"custom.exercise_interaction\", \"data\": {\"interactionType\": 3, \"questionType\": 2, \"questionId\": \"5.3_OneSauce\", \"learnToolsVersion\": \"0.3.4\", \"valueTowardsCompletion\": 0.0, \"failureMessage\": \"\", \"exceptionClass\": \"\", \"trace\": \"\", \"outcomeType\": 4}}, \"*\")"
            ],
            "text/plain": [
              "<IPython.core.display.Javascript object>"
            ]
          },
          "metadata": {
            "tags": []
          }
        },
        {
          "output_type": "display_data",
          "data": {
            "text/markdown": "<span style=\"color:#33cc99\">Solution:</span> \n```python\nreturn (ketchup and not mustard) or (mustard and not ketchup)\n```",
            "text/plain": [
              "Solution: \n",
              "```python\n",
              "return (ketchup and not mustard) or (mustard and not ketchup)\n",
              "```"
            ]
          },
          "metadata": {
            "tags": []
          }
        }
      ]
    },
    {
      "cell_type": "markdown",
      "metadata": {
        "papermill": {
          "duration": 0.047755,
          "end_time": "2021-08-06T05:50:01.244058",
          "exception": false,
          "start_time": "2021-08-06T05:50:01.196303",
          "status": "completed"
        },
        "tags": [],
        "id": "11926fcb"
      },
      "source": [
        "# 6. <span title=\"A bit spicy\" style=\"color: darkgreen \">🌶️</span>\n",
        "\n",
        "We’ve seen that calling `bool()` on an integer returns `False` if it’s equal to 0 and `True` otherwise. What happens if we call `int()` on a bool? Try it out in the notebook cell below.\n",
        "\n",
        "Can you take advantage of this to write a succinct function that corresponds to the English sentence \"does the customer want exactly one topping?\"?"
      ],
      "id": "11926fcb"
    },
    {
      "cell_type": "code",
      "metadata": {
        "execution": {
          "iopub.execute_input": "2021-08-06T05:50:01.343139Z",
          "iopub.status.busy": "2021-08-06T05:50:01.342479Z",
          "iopub.status.idle": "2021-08-06T05:50:01.349733Z",
          "shell.execute_reply": "2021-08-06T05:50:01.350329Z",
          "shell.execute_reply.started": "2021-08-06T05:47:36.074429Z"
        },
        "papermill": {
          "duration": 0.058487,
          "end_time": "2021-08-06T05:50:01.350495",
          "exception": false,
          "start_time": "2021-08-06T05:50:01.292008",
          "status": "completed"
        },
        "tags": [],
        "id": "ccfa7941",
        "outputId": "0ebc7db3-62b8-4264-899d-cc0c2db81dc6"
      },
      "source": [
        "def exactly_one_topping(ketchup, mustard, onion):\n",
        "    \"\"\"Return whether the customer wants exactly one of the three available toppings\n",
        "    on their hot dog.\n",
        "    \"\"\"\n",
        "    return ketchup + mustard + onion == 1\n",
        "    pass\n",
        "\n",
        "# Check your answer\n",
        "q6.check()"
      ],
      "id": "ccfa7941",
      "execution_count": null,
      "outputs": [
        {
          "output_type": "display_data",
          "data": {
            "application/javascript": [
              "parent.postMessage({\"jupyterEvent\": \"custom.exercise_interaction\", \"data\": {\"outcomeType\": 1, \"valueTowardsCompletion\": 0.2, \"interactionType\": 1, \"questionType\": 2, \"questionId\": \"6_OneTopping\", \"learnToolsVersion\": \"0.3.4\", \"failureMessage\": \"\", \"exceptionClass\": \"\", \"trace\": \"\"}}, \"*\")"
            ],
            "text/plain": [
              "<IPython.core.display.Javascript object>"
            ]
          },
          "metadata": {
            "tags": []
          }
        },
        {
          "output_type": "display_data",
          "data": {
            "text/markdown": "<span style=\"color:#33cc33\">Correct:</span> \n\nThis condition would be pretty complicated to express using just `and`, `or` and `not`, but using boolean-to-integer conversion gives us this short solution:\n```python\nreturn (int(ketchup) + int(mustard) + int(onion)) == 1\n```\n\nFun fact: we don't technically need to call `int` on the arguments. Just by doing addition with booleans, Python implicitly does the integer conversion. So we could also write...\n\n```python\nreturn (ketchup + mustard + onion) == 1\n```",
            "text/plain": [
              "Correct: \n",
              "\n",
              "This condition would be pretty complicated to express using just `and`, `or` and `not`, but using boolean-to-integer conversion gives us this short solution:\n",
              "```python\n",
              "return (int(ketchup) + int(mustard) + int(onion)) == 1\n",
              "```\n",
              "\n",
              "Fun fact: we don't technically need to call `int` on the arguments. Just by doing addition with booleans, Python implicitly does the integer conversion. So we could also write...\n",
              "\n",
              "```python\n",
              "return (ketchup + mustard + onion) == 1\n",
              "```"
            ]
          },
          "metadata": {
            "tags": []
          }
        }
      ]
    },
    {
      "cell_type": "code",
      "metadata": {
        "execution": {
          "iopub.execute_input": "2021-08-06T05:50:01.452187Z",
          "iopub.status.busy": "2021-08-06T05:50:01.451445Z",
          "iopub.status.idle": "2021-08-06T05:50:01.462085Z",
          "shell.execute_reply": "2021-08-06T05:50:01.461418Z",
          "shell.execute_reply.started": "2021-08-06T05:46:33.032684Z"
        },
        "papermill": {
          "duration": 0.062592,
          "end_time": "2021-08-06T05:50:01.462233",
          "exception": false,
          "start_time": "2021-08-06T05:50:01.399641",
          "status": "completed"
        },
        "tags": [],
        "id": "36264f9c",
        "outputId": "c16db6ca-f0e6-40cb-e8a5-0ad98ea959d4"
      },
      "source": [
        "q6.hint()\n",
        "q6.solution()"
      ],
      "id": "36264f9c",
      "execution_count": null,
      "outputs": [
        {
          "output_type": "display_data",
          "data": {
            "application/javascript": [
              "parent.postMessage({\"jupyterEvent\": \"custom.exercise_interaction\", \"data\": {\"interactionType\": 2, \"questionType\": 2, \"questionId\": \"6_OneTopping\", \"learnToolsVersion\": \"0.3.4\", \"valueTowardsCompletion\": 0.0, \"failureMessage\": \"\", \"exceptionClass\": \"\", \"trace\": \"\", \"outcomeType\": 4}}, \"*\")"
            ],
            "text/plain": [
              "<IPython.core.display.Javascript object>"
            ]
          },
          "metadata": {
            "tags": []
          }
        },
        {
          "output_type": "display_data",
          "data": {
            "text/markdown": "<span style=\"color:#3366cc\">Hint:</span> You may have already found that `int(True)` is 1, and `int(False)` is 0. Think about what kinds of basic arithmetic operations you might want to perform on `ketchup`, `mustard`, and `onion` after converting them to integers.",
            "text/plain": [
              "Hint: You may have already found that `int(True)` is 1, and `int(False)` is 0. Think about what kinds of basic arithmetic operations you might want to perform on `ketchup`, `mustard`, and `onion` after converting them to integers."
            ]
          },
          "metadata": {
            "tags": []
          }
        },
        {
          "output_type": "display_data",
          "data": {
            "application/javascript": [
              "parent.postMessage({\"jupyterEvent\": \"custom.exercise_interaction\", \"data\": {\"interactionType\": 3, \"questionType\": 2, \"questionId\": \"6_OneTopping\", \"learnToolsVersion\": \"0.3.4\", \"valueTowardsCompletion\": 0.0, \"failureMessage\": \"\", \"exceptionClass\": \"\", \"trace\": \"\", \"outcomeType\": 4}}, \"*\")"
            ],
            "text/plain": [
              "<IPython.core.display.Javascript object>"
            ]
          },
          "metadata": {
            "tags": []
          }
        },
        {
          "output_type": "display_data",
          "data": {
            "text/markdown": "<span style=\"color:#33cc99\">Solution:</span> This condition would be pretty complicated to express using just `and`, `or` and `not`, but using boolean-to-integer conversion gives us this short solution:\n```python\nreturn (int(ketchup) + int(mustard) + int(onion)) == 1\n```\n\nFun fact: we don't technically need to call `int` on the arguments. Just by doing addition with booleans, Python implicitly does the integer conversion. So we could also write...\n\n```python\nreturn (ketchup + mustard + onion) == 1\n```",
            "text/plain": [
              "Solution: This condition would be pretty complicated to express using just `and`, `or` and `not`, but using boolean-to-integer conversion gives us this short solution:\n",
              "```python\n",
              "return (int(ketchup) + int(mustard) + int(onion)) == 1\n",
              "```\n",
              "\n",
              "Fun fact: we don't technically need to call `int` on the arguments. Just by doing addition with booleans, Python implicitly does the integer conversion. So we could also write...\n",
              "\n",
              "```python\n",
              "return (ketchup + mustard + onion) == 1\n",
              "```"
            ]
          },
          "metadata": {
            "tags": []
          }
        }
      ]
    },
    {
      "cell_type": "markdown",
      "metadata": {
        "papermill": {
          "duration": 0.052061,
          "end_time": "2021-08-06T05:50:01.566194",
          "exception": false,
          "start_time": "2021-08-06T05:50:01.514133",
          "status": "completed"
        },
        "tags": [],
        "id": "eb082374"
      },
      "source": [
        "# 7. <span title=\"A bit spicy\" style=\"color: darkgreen \">🌶️</span> (Optional)\n",
        "\n",
        "In this problem we'll be working with a simplified version of [blackjack](https://en.wikipedia.org/wiki/Blackjack) (aka twenty-one). In this version there is one player (who you'll control) and a dealer. Play proceeds as follows:\n",
        "\n",
        "- The player is dealt two face-up cards. The dealer is dealt one face-up card.\n",
        "- The player may ask to be dealt another card ('hit') as many times as they wish. If the sum of their cards exceeds 21, they lose the round immediately.\n",
        "- The dealer then deals additional cards to himself until either:\n",
        "    - the sum of the dealer's cards exceeds 21, in which case the player wins the round\n",
        "    - the sum of the dealer's cards is greater than or equal to 17. If the player's total is greater than the dealer's, the player wins. Otherwise, the dealer wins (even in case of a tie).\n",
        "    \n",
        "When calculating the sum of cards, Jack, Queen, and King count for 10. Aces can count as 1 or 11 (when referring to a player's \"total\" above, we mean the largest total that can be made without exceeding 21. So e.g. A+8 = 19, A+8+8 = 17)\n",
        "\n",
        "For this problem, you'll write a function representing the player's decision-making strategy in this game. We've provided a very unintelligent implementation below:"
      ],
      "id": "eb082374"
    },
    {
      "cell_type": "code",
      "metadata": {
        "execution": {
          "iopub.execute_input": "2021-08-06T05:50:01.672053Z",
          "iopub.status.busy": "2021-08-06T05:50:01.671351Z",
          "iopub.status.idle": "2021-08-06T05:50:01.675560Z",
          "shell.execute_reply": "2021-08-06T05:50:01.676088Z"
        },
        "papermill": {
          "duration": 0.058945,
          "end_time": "2021-08-06T05:50:01.676266",
          "exception": false,
          "start_time": "2021-08-06T05:50:01.617321",
          "status": "completed"
        },
        "tags": [],
        "id": "94540acd"
      },
      "source": [
        "def should_hit(dealer_total, player_total, player_low_aces, player_high_aces):\n",
        "    \"\"\"Return True if the player should hit (request another card) given the current game\n",
        "    state, or False if the player should stay.\n",
        "    When calculating a hand's total value, we count aces as \"high\" (with value 11) if doing so\n",
        "    doesn't bring the total above 21, otherwise we count them as low (with value 1). \n",
        "    For example, if the player's hand is {A, A, A, 7}, we will count it as 11 + 1 + 1 + 7,\n",
        "    and therefore set player_total=20, player_low_aces=2, player_high_aces=1.\n",
        "    \"\"\"\n",
        "    return False"
      ],
      "id": "94540acd",
      "execution_count": null,
      "outputs": []
    },
    {
      "cell_type": "markdown",
      "metadata": {
        "papermill": {
          "duration": 0.051171,
          "end_time": "2021-08-06T05:50:01.778909",
          "exception": false,
          "start_time": "2021-08-06T05:50:01.727738",
          "status": "completed"
        },
        "tags": [],
        "id": "78298ea9"
      },
      "source": [
        "This very conservative agent *always* sticks with the hand of two cards that they're dealt.\n",
        "\n",
        "We'll be simulating games between your player agent and our own dealer agent by calling your function.\n",
        "\n",
        "Try running the function below to see an example of a simulated game:"
      ],
      "id": "78298ea9"
    },
    {
      "cell_type": "code",
      "metadata": {
        "execution": {
          "iopub.execute_input": "2021-08-06T05:50:01.887823Z",
          "iopub.status.busy": "2021-08-06T05:50:01.887129Z",
          "iopub.status.idle": "2021-08-06T05:50:01.892751Z",
          "shell.execute_reply": "2021-08-06T05:50:01.893272Z"
        },
        "papermill": {
          "duration": 0.062432,
          "end_time": "2021-08-06T05:50:01.893481",
          "exception": false,
          "start_time": "2021-08-06T05:50:01.831049",
          "status": "completed"
        },
        "tags": [],
        "id": "c13e7a8d",
        "outputId": "ff1c4a44-8599-4e8d-b137-2293f1a12ff9"
      },
      "source": [
        "q7.simulate_one_game()"
      ],
      "id": "c13e7a8d",
      "execution_count": null,
      "outputs": [
        {
          "output_type": "stream",
          "text": [
            "Player starts with Q and 8 (total = 18)\n",
            "Dealer starts with 2\n",
            "\n",
            "__Player's turn__\n",
            "Player stays\n",
            "\n",
            "__Dealer's turn__\n",
            "Dealer hits and receives K. (total = 12)\n",
            "Dealer hits and receives 2. (total = 14)\n",
            "Dealer hits and receives 10. (total = 24)\n",
            "Dealer busts! Player wins.\n"
          ],
          "name": "stdout"
        }
      ]
    },
    {
      "cell_type": "markdown",
      "metadata": {
        "papermill": {
          "duration": 0.052106,
          "end_time": "2021-08-06T05:50:01.997430",
          "exception": false,
          "start_time": "2021-08-06T05:50:01.945324",
          "status": "completed"
        },
        "tags": [],
        "id": "cce6e4b3"
      },
      "source": [
        "The real test of your agent's mettle is their average win rate over many games. Try calling the function below to simulate 50000 games of blackjack (it may take a couple seconds):"
      ],
      "id": "cce6e4b3"
    },
    {
      "cell_type": "code",
      "metadata": {
        "execution": {
          "iopub.execute_input": "2021-08-06T05:50:02.106312Z",
          "iopub.status.busy": "2021-08-06T05:50:02.105604Z",
          "iopub.status.idle": "2021-08-06T05:50:04.109232Z",
          "shell.execute_reply": "2021-08-06T05:50:04.108653Z"
        },
        "papermill": {
          "duration": 2.059827,
          "end_time": "2021-08-06T05:50:04.109374",
          "exception": false,
          "start_time": "2021-08-06T05:50:02.049547",
          "status": "completed"
        },
        "tags": [],
        "id": "e19df71b",
        "outputId": "65dbb074-997f-450c-af87-f2c8860b45fd"
      },
      "source": [
        "q7.simulate(n_games=50000)"
      ],
      "id": "e19df71b",
      "execution_count": null,
      "outputs": [
        {
          "output_type": "stream",
          "text": [
            "Player won 19349 out of 50000 games (win rate = 38.7%)\n"
          ],
          "name": "stdout"
        }
      ]
    },
    {
      "cell_type": "markdown",
      "metadata": {
        "papermill": {
          "duration": 0.05229,
          "end_time": "2021-08-06T05:50:04.214251",
          "exception": false,
          "start_time": "2021-08-06T05:50:04.161961",
          "status": "completed"
        },
        "tags": [],
        "id": "ef8bb57e"
      },
      "source": [
        "Our dumb agent that completely ignores the game state still manages to win shockingly often!\n",
        "\n",
        "Try adding some more smarts to the `should_hit` function and see how it affects the results."
      ],
      "id": "ef8bb57e"
    },
    {
      "cell_type": "code",
      "metadata": {
        "execution": {
          "iopub.execute_input": "2021-08-06T05:50:04.348720Z",
          "iopub.status.busy": "2021-08-06T05:50:04.343597Z",
          "iopub.status.idle": "2021-08-06T05:50:06.356194Z",
          "shell.execute_reply": "2021-08-06T05:50:06.357071Z"
        },
        "papermill": {
          "duration": 2.090376,
          "end_time": "2021-08-06T05:50:06.357343",
          "exception": false,
          "start_time": "2021-08-06T05:50:04.266967",
          "status": "completed"
        },
        "tags": [],
        "id": "a8c4acfb",
        "outputId": "8148ae21-90d1-46c7-d0ba-e15d8e4e9348"
      },
      "source": [
        "def should_hit(dealer_total, player_total, player_low_aces, player_high_aces):\n",
        "    \"\"\"Return True if the player should hit (request another card) given the current game\n",
        "    state, or False if the player should stay.\n",
        "    When calculating a hand's total value, we count aces as \"high\" (with value 11) if doing so\n",
        "    doesn't bring the total above 21, otherwise we count them as low (with value 1). \n",
        "    For example, if the player's hand is {A, A, A, 7}, we will count it as 11 + 1 + 1 + 7,\n",
        "    and therefore set player_total=20, player_low_aces=2, player_high_aces=1.\n",
        "    \"\"\"\n",
        "    return False\n",
        "\n",
        "q7.simulate(n_games=50000)"
      ],
      "id": "a8c4acfb",
      "execution_count": null,
      "outputs": [
        {
          "output_type": "stream",
          "text": [
            "Player won 19004 out of 50000 games (win rate = 38.0%)\n"
          ],
          "name": "stdout"
        }
      ]
    },
    {
      "cell_type": "markdown",
      "metadata": {
        "papermill": {
          "duration": 0.052036,
          "end_time": "2021-08-06T05:50:06.464465",
          "exception": false,
          "start_time": "2021-08-06T05:50:06.412429",
          "status": "completed"
        },
        "tags": [],
        "id": "94146e95"
      },
      "source": [
        "# Keep Going\n",
        "\n",
        "Learn about **[lists and tuples](https://www.kaggle.com/colinmorris/lists)** to handle multiple items of data in a systematic way."
      ],
      "id": "94146e95"
    },
    {
      "cell_type": "markdown",
      "metadata": {
        "papermill": {
          "duration": 0.052156,
          "end_time": "2021-08-06T05:50:06.569413",
          "exception": false,
          "start_time": "2021-08-06T05:50:06.517257",
          "status": "completed"
        },
        "tags": [],
        "id": "5efbdfb6"
      },
      "source": [
        "---\n",
        "\n",
        "\n",
        "\n",
        "\n",
        "*Have questions or comments? Visit the [Learn Discussion forum](https://www.kaggle.com/learn-forum/161283) to chat with other Learners.*"
      ],
      "id": "5efbdfb6"
    }
  ]
}