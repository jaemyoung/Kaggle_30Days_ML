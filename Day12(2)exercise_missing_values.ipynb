{
  "nbformat": 4,
  "nbformat_minor": 5,
  "metadata": {
    "kernelspec": {
      "display_name": "Python 3",
      "language": "python",
      "name": "python3"
    },
    "language_info": {
      "codemirror_mode": {
        "name": "ipython",
        "version": 3
      },
      "file_extension": ".py",
      "mimetype": "text/x-python",
      "name": "python",
      "nbconvert_exporter": "python",
      "pygments_lexer": "ipython3",
      "version": "3.7.10"
    },
    "papermill": {
      "default_parameters": {},
      "duration": 20.95083,
      "end_time": "2021-08-18T06:06:53.291647",
      "environment_variables": {},
      "exception": null,
      "input_path": "__notebook__.ipynb",
      "output_path": "__notebook__.ipynb",
      "parameters": {},
      "start_time": "2021-08-18T06:06:32.340817",
      "version": "2.3.3"
    },
    "colab": {
      "name": "Day12(2)exercise-missing-values.ipynb",
      "provenance": [],
      "include_colab_link": true
    }
  },
  "cells": [
    {
      "cell_type": "markdown",
      "metadata": {
        "id": "view-in-github",
        "colab_type": "text"
      },
      "source": [
        "<a href=\"https://colab.research.google.com/github/jaemyoung/Kaggle_30Days_ML/blob/main/Day12(2)exercise_missing_values.ipynb\" target=\"_parent\"><img src=\"https://colab.research.google.com/assets/colab-badge.svg\" alt=\"Open In Colab\"/></a>"
      ]
    },
    {
      "cell_type": "markdown",
      "metadata": {
        "papermill": {
          "duration": 0.026526,
          "end_time": "2021-08-18T06:06:40.636886",
          "exception": false,
          "start_time": "2021-08-18T06:06:40.610360",
          "status": "completed"
        },
        "tags": [],
        "id": "756ea86d"
      },
      "source": [
        "**This notebook is an exercise in the [Intermediate Machine Learning](https://www.kaggle.com/learn/intermediate-machine-learning) course.  You can reference the tutorial at [this link](https://www.kaggle.com/alexisbcook/missing-values).**\n",
        "\n",
        "---\n"
      ],
      "id": "756ea86d"
    },
    {
      "cell_type": "markdown",
      "metadata": {
        "papermill": {
          "duration": 0.02551,
          "end_time": "2021-08-18T06:06:40.691176",
          "exception": false,
          "start_time": "2021-08-18T06:06:40.665666",
          "status": "completed"
        },
        "tags": [],
        "id": "b96a89f4"
      },
      "source": [
        "Now it's your turn to test your new knowledge of **missing values** handling. You'll probably find it makes a big difference.\n",
        "\n",
        "# Setup\n",
        "\n",
        "The questions will give you feedback on your work. Run the following cell to set up the feedback system."
      ],
      "id": "b96a89f4"
    },
    {
      "cell_type": "code",
      "metadata": {
        "execution": {
          "iopub.execute_input": "2021-08-18T06:06:40.744151Z",
          "iopub.status.busy": "2021-08-18T06:06:40.743008Z",
          "iopub.status.idle": "2021-08-18T06:06:40.907643Z",
          "shell.execute_reply": "2021-08-18T06:06:40.906891Z",
          "shell.execute_reply.started": "2021-08-18T05:15:27.516087Z"
        },
        "papermill": {
          "duration": 0.193242,
          "end_time": "2021-08-18T06:06:40.907894",
          "exception": false,
          "start_time": "2021-08-18T06:06:40.714652",
          "status": "completed"
        },
        "tags": [],
        "id": "6625a060",
        "outputId": "b3d7a3a2-060e-486e-b32f-58fa520b27f5"
      },
      "source": [
        "# Set up code checking\n",
        "import os\n",
        "if not os.path.exists(\"../input/train.csv\"):\n",
        "    os.symlink(\"../input/home-data-for-ml-course/train.csv\", \"../input/train.csv\")  \n",
        "    os.symlink(\"../input/home-data-for-ml-course/test.csv\", \"../input/test.csv\") \n",
        "from learntools.core import binder\n",
        "binder.bind(globals())\n",
        "from learntools.ml_intermediate.ex2 import *\n",
        "print(\"Setup Complete\")"
      ],
      "id": "6625a060",
      "execution_count": null,
      "outputs": [
        {
          "output_type": "stream",
          "text": [
            "Setup Complete\n"
          ],
          "name": "stdout"
        }
      ]
    },
    {
      "cell_type": "markdown",
      "metadata": {
        "papermill": {
          "duration": 0.023896,
          "end_time": "2021-08-18T06:06:40.955398",
          "exception": false,
          "start_time": "2021-08-18T06:06:40.931502",
          "status": "completed"
        },
        "tags": [],
        "id": "f2c011a4"
      },
      "source": [
        "In this exercise, you will work with data from the [Housing Prices Competition for Kaggle Learn Users](https://www.kaggle.com/c/home-data-for-ml-course). \n",
        "\n",
        "![Ames Housing dataset image](https://i.imgur.com/lTJVG4e.png)\n",
        "\n",
        "Run the next code cell without changes to load the training and validation sets in `X_train`, `X_valid`, `y_train`, and `y_valid`.  The test set is loaded in `X_test`."
      ],
      "id": "f2c011a4"
    },
    {
      "cell_type": "code",
      "metadata": {
        "execution": {
          "iopub.execute_input": "2021-08-18T06:06:41.014498Z",
          "iopub.status.busy": "2021-08-18T06:06:41.013714Z",
          "iopub.status.idle": "2021-08-18T06:06:42.278583Z",
          "shell.execute_reply": "2021-08-18T06:06:42.278085Z",
          "shell.execute_reply.started": "2021-08-18T05:16:03.736322Z"
        },
        "papermill": {
          "duration": 1.294998,
          "end_time": "2021-08-18T06:06:42.278727",
          "exception": false,
          "start_time": "2021-08-18T06:06:40.983729",
          "status": "completed"
        },
        "tags": [],
        "id": "f8682b83"
      },
      "source": [
        "import pandas as pd\n",
        "from sklearn.model_selection import train_test_split\n",
        "\n",
        "# Read the data\n",
        "X_full = pd.read_csv('../input/train.csv', index_col='Id')\n",
        "X_test_full = pd.read_csv('../input/test.csv', index_col='Id')\n",
        "\n",
        "# Remove rows with missing target, separate target from predictors\n",
        "X_full.dropna(axis=0, subset=['SalePrice'], inplace=True)\n",
        "y = X_full.SalePrice\n",
        "X_full.drop(['SalePrice'], axis=1, inplace=True)\n",
        "\n",
        "# To keep things simple, we'll use only numerical predictors\n",
        "X = X_full.select_dtypes(exclude=['object'])\n",
        "X_test = X_test_full.select_dtypes(exclude=['object'])\n",
        "\n",
        "# Break off validation set from training data\n",
        "X_train, X_valid, y_train, y_valid = train_test_split(X, y, train_size=0.8, test_size=0.2,\n",
        "                                                      random_state=0)"
      ],
      "id": "f8682b83",
      "execution_count": null,
      "outputs": []
    },
    {
      "cell_type": "markdown",
      "metadata": {
        "papermill": {
          "duration": 0.023937,
          "end_time": "2021-08-18T06:06:42.326670",
          "exception": false,
          "start_time": "2021-08-18T06:06:42.302733",
          "status": "completed"
        },
        "tags": [],
        "id": "d7d30fa8"
      },
      "source": [
        "Use the next code cell to print the first five rows of the data."
      ],
      "id": "d7d30fa8"
    },
    {
      "cell_type": "code",
      "metadata": {
        "execution": {
          "iopub.execute_input": "2021-08-18T06:06:42.386755Z",
          "iopub.status.busy": "2021-08-18T06:06:42.385927Z",
          "iopub.status.idle": "2021-08-18T06:06:42.410509Z",
          "shell.execute_reply": "2021-08-18T06:06:42.410928Z",
          "shell.execute_reply.started": "2021-08-18T05:18:23.870085Z"
        },
        "papermill": {
          "duration": 0.058417,
          "end_time": "2021-08-18T06:06:42.411133",
          "exception": false,
          "start_time": "2021-08-18T06:06:42.352716",
          "status": "completed"
        },
        "tags": [],
        "id": "0ae97b7f",
        "outputId": "e119b4d8-56dd-4203-c417-aa7f7d6ad03c"
      },
      "source": [
        "X_train.head()"
      ],
      "id": "0ae97b7f",
      "execution_count": null,
      "outputs": [
        {
          "output_type": "execute_result",
          "data": {
            "text/html": [
              "<div>\n",
              "<style scoped>\n",
              "    .dataframe tbody tr th:only-of-type {\n",
              "        vertical-align: middle;\n",
              "    }\n",
              "\n",
              "    .dataframe tbody tr th {\n",
              "        vertical-align: top;\n",
              "    }\n",
              "\n",
              "    .dataframe thead th {\n",
              "        text-align: right;\n",
              "    }\n",
              "</style>\n",
              "<table border=\"1\" class=\"dataframe\">\n",
              "  <thead>\n",
              "    <tr style=\"text-align: right;\">\n",
              "      <th></th>\n",
              "      <th>MSSubClass</th>\n",
              "      <th>LotFrontage</th>\n",
              "      <th>LotArea</th>\n",
              "      <th>OverallQual</th>\n",
              "      <th>OverallCond</th>\n",
              "      <th>YearBuilt</th>\n",
              "      <th>YearRemodAdd</th>\n",
              "      <th>MasVnrArea</th>\n",
              "      <th>BsmtFinSF1</th>\n",
              "      <th>BsmtFinSF2</th>\n",
              "      <th>...</th>\n",
              "      <th>GarageArea</th>\n",
              "      <th>WoodDeckSF</th>\n",
              "      <th>OpenPorchSF</th>\n",
              "      <th>EnclosedPorch</th>\n",
              "      <th>3SsnPorch</th>\n",
              "      <th>ScreenPorch</th>\n",
              "      <th>PoolArea</th>\n",
              "      <th>MiscVal</th>\n",
              "      <th>MoSold</th>\n",
              "      <th>YrSold</th>\n",
              "    </tr>\n",
              "    <tr>\n",
              "      <th>Id</th>\n",
              "      <th></th>\n",
              "      <th></th>\n",
              "      <th></th>\n",
              "      <th></th>\n",
              "      <th></th>\n",
              "      <th></th>\n",
              "      <th></th>\n",
              "      <th></th>\n",
              "      <th></th>\n",
              "      <th></th>\n",
              "      <th></th>\n",
              "      <th></th>\n",
              "      <th></th>\n",
              "      <th></th>\n",
              "      <th></th>\n",
              "      <th></th>\n",
              "      <th></th>\n",
              "      <th></th>\n",
              "      <th></th>\n",
              "      <th></th>\n",
              "      <th></th>\n",
              "    </tr>\n",
              "  </thead>\n",
              "  <tbody>\n",
              "    <tr>\n",
              "      <th>619</th>\n",
              "      <td>20</td>\n",
              "      <td>90.0</td>\n",
              "      <td>11694</td>\n",
              "      <td>9</td>\n",
              "      <td>5</td>\n",
              "      <td>2007</td>\n",
              "      <td>2007</td>\n",
              "      <td>452.0</td>\n",
              "      <td>48</td>\n",
              "      <td>0</td>\n",
              "      <td>...</td>\n",
              "      <td>774</td>\n",
              "      <td>0</td>\n",
              "      <td>108</td>\n",
              "      <td>0</td>\n",
              "      <td>0</td>\n",
              "      <td>260</td>\n",
              "      <td>0</td>\n",
              "      <td>0</td>\n",
              "      <td>7</td>\n",
              "      <td>2007</td>\n",
              "    </tr>\n",
              "    <tr>\n",
              "      <th>871</th>\n",
              "      <td>20</td>\n",
              "      <td>60.0</td>\n",
              "      <td>6600</td>\n",
              "      <td>5</td>\n",
              "      <td>5</td>\n",
              "      <td>1962</td>\n",
              "      <td>1962</td>\n",
              "      <td>0.0</td>\n",
              "      <td>0</td>\n",
              "      <td>0</td>\n",
              "      <td>...</td>\n",
              "      <td>308</td>\n",
              "      <td>0</td>\n",
              "      <td>0</td>\n",
              "      <td>0</td>\n",
              "      <td>0</td>\n",
              "      <td>0</td>\n",
              "      <td>0</td>\n",
              "      <td>0</td>\n",
              "      <td>8</td>\n",
              "      <td>2009</td>\n",
              "    </tr>\n",
              "    <tr>\n",
              "      <th>93</th>\n",
              "      <td>30</td>\n",
              "      <td>80.0</td>\n",
              "      <td>13360</td>\n",
              "      <td>5</td>\n",
              "      <td>7</td>\n",
              "      <td>1921</td>\n",
              "      <td>2006</td>\n",
              "      <td>0.0</td>\n",
              "      <td>713</td>\n",
              "      <td>0</td>\n",
              "      <td>...</td>\n",
              "      <td>432</td>\n",
              "      <td>0</td>\n",
              "      <td>0</td>\n",
              "      <td>44</td>\n",
              "      <td>0</td>\n",
              "      <td>0</td>\n",
              "      <td>0</td>\n",
              "      <td>0</td>\n",
              "      <td>8</td>\n",
              "      <td>2009</td>\n",
              "    </tr>\n",
              "    <tr>\n",
              "      <th>818</th>\n",
              "      <td>20</td>\n",
              "      <td>NaN</td>\n",
              "      <td>13265</td>\n",
              "      <td>8</td>\n",
              "      <td>5</td>\n",
              "      <td>2002</td>\n",
              "      <td>2002</td>\n",
              "      <td>148.0</td>\n",
              "      <td>1218</td>\n",
              "      <td>0</td>\n",
              "      <td>...</td>\n",
              "      <td>857</td>\n",
              "      <td>150</td>\n",
              "      <td>59</td>\n",
              "      <td>0</td>\n",
              "      <td>0</td>\n",
              "      <td>0</td>\n",
              "      <td>0</td>\n",
              "      <td>0</td>\n",
              "      <td>7</td>\n",
              "      <td>2008</td>\n",
              "    </tr>\n",
              "    <tr>\n",
              "      <th>303</th>\n",
              "      <td>20</td>\n",
              "      <td>118.0</td>\n",
              "      <td>13704</td>\n",
              "      <td>7</td>\n",
              "      <td>5</td>\n",
              "      <td>2001</td>\n",
              "      <td>2002</td>\n",
              "      <td>150.0</td>\n",
              "      <td>0</td>\n",
              "      <td>0</td>\n",
              "      <td>...</td>\n",
              "      <td>843</td>\n",
              "      <td>468</td>\n",
              "      <td>81</td>\n",
              "      <td>0</td>\n",
              "      <td>0</td>\n",
              "      <td>0</td>\n",
              "      <td>0</td>\n",
              "      <td>0</td>\n",
              "      <td>1</td>\n",
              "      <td>2006</td>\n",
              "    </tr>\n",
              "  </tbody>\n",
              "</table>\n",
              "<p>5 rows × 36 columns</p>\n",
              "</div>"
            ],
            "text/plain": [
              "     MSSubClass  LotFrontage  LotArea  OverallQual  OverallCond  YearBuilt  \\\n",
              "Id                                                                           \n",
              "619          20         90.0    11694            9            5       2007   \n",
              "871          20         60.0     6600            5            5       1962   \n",
              "93           30         80.0    13360            5            7       1921   \n",
              "818          20          NaN    13265            8            5       2002   \n",
              "303          20        118.0    13704            7            5       2001   \n",
              "\n",
              "     YearRemodAdd  MasVnrArea  BsmtFinSF1  BsmtFinSF2  ...  GarageArea  \\\n",
              "Id                                                     ...               \n",
              "619          2007       452.0          48           0  ...         774   \n",
              "871          1962         0.0           0           0  ...         308   \n",
              "93           2006         0.0         713           0  ...         432   \n",
              "818          2002       148.0        1218           0  ...         857   \n",
              "303          2002       150.0           0           0  ...         843   \n",
              "\n",
              "     WoodDeckSF  OpenPorchSF  EnclosedPorch  3SsnPorch  ScreenPorch  PoolArea  \\\n",
              "Id                                                                              \n",
              "619           0          108              0          0          260         0   \n",
              "871           0            0              0          0            0         0   \n",
              "93            0            0             44          0            0         0   \n",
              "818         150           59              0          0            0         0   \n",
              "303         468           81              0          0            0         0   \n",
              "\n",
              "     MiscVal  MoSold  YrSold  \n",
              "Id                            \n",
              "619        0       7    2007  \n",
              "871        0       8    2009  \n",
              "93         0       8    2009  \n",
              "818        0       7    2008  \n",
              "303        0       1    2006  \n",
              "\n",
              "[5 rows x 36 columns]"
            ]
          },
          "metadata": {
            "tags": []
          },
          "execution_count": 3
        }
      ]
    },
    {
      "cell_type": "markdown",
      "metadata": {
        "papermill": {
          "duration": 0.024018,
          "end_time": "2021-08-18T06:06:42.458289",
          "exception": false,
          "start_time": "2021-08-18T06:06:42.434271",
          "status": "completed"
        },
        "tags": [],
        "id": "a6648a95"
      },
      "source": [
        "You can already see a few missing values in the first several rows.  In the next step, you'll obtain a more comprehensive understanding of the missing values in the dataset.\n",
        "\n",
        "# Step 1: Preliminary investigation\n",
        "\n",
        "Run the code cell below without changes."
      ],
      "id": "a6648a95"
    },
    {
      "cell_type": "code",
      "metadata": {
        "execution": {
          "iopub.execute_input": "2021-08-18T06:06:42.510154Z",
          "iopub.status.busy": "2021-08-18T06:06:42.509434Z",
          "iopub.status.idle": "2021-08-18T06:06:42.517145Z",
          "shell.execute_reply": "2021-08-18T06:06:42.517581Z",
          "shell.execute_reply.started": "2021-08-18T05:20:22.327596Z"
        },
        "papermill": {
          "duration": 0.034615,
          "end_time": "2021-08-18T06:06:42.517758",
          "exception": false,
          "start_time": "2021-08-18T06:06:42.483143",
          "status": "completed"
        },
        "tags": [],
        "id": "b6244621",
        "outputId": "ecc8f0f2-3e3d-47e5-ce73-28a64994c503"
      },
      "source": [
        "# Shape of training data (num_rows, num_columns)\n",
        "print(X_train.shape)\n",
        "\n",
        "# Number of missing values in each column of training data\n",
        "missing_val_count_by_column = (X_train.isnull().sum())\n",
        "print(missing_val_count_by_column[missing_val_count_by_column > 0]) # 데이터의 열 중에 missing이 있는 것을 count해준거"
      ],
      "id": "b6244621",
      "execution_count": null,
      "outputs": [
        {
          "output_type": "stream",
          "text": [
            "(1168, 36)\n",
            "LotFrontage    212\n",
            "MasVnrArea       6\n",
            "GarageYrBlt     58\n",
            "dtype: int64\n"
          ],
          "name": "stdout"
        }
      ]
    },
    {
      "cell_type": "code",
      "metadata": {
        "execution": {
          "iopub.execute_input": "2021-08-18T06:06:42.570473Z",
          "iopub.status.busy": "2021-08-18T06:06:42.569781Z",
          "iopub.status.idle": "2021-08-18T06:06:42.576897Z",
          "shell.execute_reply": "2021-08-18T06:06:42.577403Z",
          "shell.execute_reply.started": "2021-08-18T05:21:56.432285Z"
        },
        "papermill": {
          "duration": 0.034959,
          "end_time": "2021-08-18T06:06:42.577593",
          "exception": false,
          "start_time": "2021-08-18T06:06:42.542634",
          "status": "completed"
        },
        "tags": [],
        "id": "54cdc2f5",
        "outputId": "b2ef5bca-9b7e-4dfe-f60a-0d42dc7d8576"
      },
      "source": [
        "missing_val_count_by_column = (X_train.isnull().sum())\n",
        "print(missing_val_count_by_column)"
      ],
      "id": "54cdc2f5",
      "execution_count": null,
      "outputs": [
        {
          "output_type": "stream",
          "text": [
            "MSSubClass         0\n",
            "LotFrontage      212\n",
            "LotArea            0\n",
            "OverallQual        0\n",
            "OverallCond        0\n",
            "YearBuilt          0\n",
            "YearRemodAdd       0\n",
            "MasVnrArea         6\n",
            "BsmtFinSF1         0\n",
            "BsmtFinSF2         0\n",
            "BsmtUnfSF          0\n",
            "TotalBsmtSF        0\n",
            "1stFlrSF           0\n",
            "2ndFlrSF           0\n",
            "LowQualFinSF       0\n",
            "GrLivArea          0\n",
            "BsmtFullBath       0\n",
            "BsmtHalfBath       0\n",
            "FullBath           0\n",
            "HalfBath           0\n",
            "BedroomAbvGr       0\n",
            "KitchenAbvGr       0\n",
            "TotRmsAbvGrd       0\n",
            "Fireplaces         0\n",
            "GarageYrBlt       58\n",
            "GarageCars         0\n",
            "GarageArea         0\n",
            "WoodDeckSF         0\n",
            "OpenPorchSF        0\n",
            "EnclosedPorch      0\n",
            "3SsnPorch          0\n",
            "ScreenPorch        0\n",
            "PoolArea           0\n",
            "MiscVal            0\n",
            "MoSold             0\n",
            "YrSold             0\n",
            "dtype: int64\n"
          ],
          "name": "stdout"
        }
      ]
    },
    {
      "cell_type": "markdown",
      "metadata": {
        "papermill": {
          "duration": 0.023,
          "end_time": "2021-08-18T06:06:42.624016",
          "exception": false,
          "start_time": "2021-08-18T06:06:42.601016",
          "status": "completed"
        },
        "tags": [],
        "id": "cec39be5"
      },
      "source": [
        "### Part A\n",
        "\n",
        "Use the above output to answer the questions below."
      ],
      "id": "cec39be5"
    },
    {
      "cell_type": "code",
      "metadata": {
        "execution": {
          "iopub.execute_input": "2021-08-18T06:06:42.674229Z",
          "iopub.status.busy": "2021-08-18T06:06:42.673613Z",
          "iopub.status.idle": "2021-08-18T06:06:42.682184Z",
          "shell.execute_reply": "2021-08-18T06:06:42.681671Z",
          "shell.execute_reply.started": "2021-08-18T05:24:47.133375Z"
        },
        "papermill": {
          "duration": 0.034896,
          "end_time": "2021-08-18T06:06:42.682325",
          "exception": false,
          "start_time": "2021-08-18T06:06:42.647429",
          "status": "completed"
        },
        "tags": [],
        "id": "056f2c69",
        "outputId": "2db8cf4f-1e3a-49bf-d67b-458904e01a2e"
      },
      "source": [
        "# Fill in the line below: How many rows are in the training data?\n",
        "num_rows = 1168 # 총 row의 갯수\n",
        "\n",
        "# Fill in the line below: How many columns in the training data\n",
        "# have missing values?\n",
        "num_cols_with_missing = 3 # missing이 있는 열의 갯수\n",
        "\n",
        "# Fill in the line below: How many missing entries are contained in \n",
        "# all of the training data?\n",
        "tot_missing = 276 #총 missing의 entry 갯수\n",
        "\n",
        "# Check your answers\n",
        "step_1.a.check()"
      ],
      "id": "056f2c69",
      "execution_count": null,
      "outputs": [
        {
          "output_type": "display_data",
          "data": {
            "application/javascript": [
              "parent.postMessage({\"jupyterEvent\": \"custom.exercise_interaction\", \"data\": {\"outcomeType\": 1, \"valueTowardsCompletion\": 1.0, \"interactionType\": 1, \"questionType\": 1, \"questionId\": \"1.1_InvestigateEquality\", \"learnToolsVersion\": \"0.3.4\", \"failureMessage\": \"\", \"exceptionClass\": \"\", \"trace\": \"\"}}, \"*\")"
            ],
            "text/plain": [
              "<IPython.core.display.Javascript object>"
            ]
          },
          "metadata": {
            "tags": []
          }
        },
        {
          "output_type": "display_data",
          "data": {
            "text/markdown": "<span style=\"color:#33cc33\">Correct</span>",
            "text/plain": [
              "Correct"
            ]
          },
          "metadata": {
            "tags": []
          }
        }
      ]
    },
    {
      "cell_type": "code",
      "metadata": {
        "execution": {
          "iopub.execute_input": "2021-08-18T06:06:42.735216Z",
          "iopub.status.busy": "2021-08-18T06:06:42.734279Z",
          "iopub.status.idle": "2021-08-18T06:06:42.736777Z",
          "shell.execute_reply": "2021-08-18T06:06:42.737259Z"
        },
        "papermill": {
          "duration": 0.031072,
          "end_time": "2021-08-18T06:06:42.737433",
          "exception": false,
          "start_time": "2021-08-18T06:06:42.706361",
          "status": "completed"
        },
        "tags": [],
        "id": "e7d613b5"
      },
      "source": [
        "# Lines below will give you a hint or solution code\n",
        "#step_1.a.hint()\n",
        "#step_1.a.solution()"
      ],
      "id": "e7d613b5",
      "execution_count": null,
      "outputs": []
    },
    {
      "cell_type": "markdown",
      "metadata": {
        "papermill": {
          "duration": 0.023884,
          "end_time": "2021-08-18T06:06:42.786750",
          "exception": false,
          "start_time": "2021-08-18T06:06:42.762866",
          "status": "completed"
        },
        "tags": [],
        "id": "06c4f851"
      },
      "source": [
        "### Part B\n",
        "Considering your answers above, what do you think is likely the best approach to dealing with the missing values?"
      ],
      "id": "06c4f851"
    },
    {
      "cell_type": "code",
      "metadata": {
        "execution": {
          "iopub.execute_input": "2021-08-18T06:06:42.841395Z",
          "iopub.status.busy": "2021-08-18T06:06:42.840704Z",
          "iopub.status.idle": "2021-08-18T06:06:42.844642Z",
          "shell.execute_reply": "2021-08-18T06:06:42.845140Z",
          "shell.execute_reply.started": "2021-08-18T05:25:51.186580Z"
        },
        "papermill": {
          "duration": 0.033869,
          "end_time": "2021-08-18T06:06:42.845318",
          "exception": false,
          "start_time": "2021-08-18T06:06:42.811449",
          "status": "completed"
        },
        "tags": [],
        "id": "f54c115f",
        "outputId": "00934bd1-d64d-4993-bc6c-c095d907968f"
      },
      "source": [
        "# Check your answer (Run this code cell to receive credit!)\n",
        "#missing이 있는 해당 열을 보면 전체갯수 중 missing이 얼마되지 않으므로 열을 삭제하면 더많은 정보손실이 일어나 imputation 하는것이 나을 수 있다.\n",
        "step_1.b.check()"
      ],
      "id": "f54c115f",
      "execution_count": null,
      "outputs": [
        {
          "output_type": "display_data",
          "data": {
            "application/javascript": [
              "parent.postMessage({\"jupyterEvent\": \"custom.exercise_interaction\", \"data\": {\"outcomeType\": 1, \"valueTowardsCompletion\": 1.0, \"interactionType\": 1, \"questionType\": 4, \"questionId\": \"1.2_InvestigateThought\", \"learnToolsVersion\": \"0.3.4\", \"failureMessage\": \"\", \"exceptionClass\": \"\", \"trace\": \"\"}}, \"*\")"
            ],
            "text/plain": [
              "<IPython.core.display.Javascript object>"
            ]
          },
          "metadata": {
            "tags": []
          }
        },
        {
          "output_type": "display_data",
          "data": {
            "text/markdown": "<span style=\"color:#33cc33\">Correct:</span> \n\nSince there are relatively few missing entries in the data (the column with the greatest percentage of missing values is missing less than 20% of its entries), we can expect that dropping columns is unlikely to yield good results.  This is because we'd be throwing away a lot of valuable data, and so imputation will likely perform better.",
            "text/plain": [
              "Correct: \n",
              "\n",
              "Since there are relatively few missing entries in the data (the column with the greatest percentage of missing values is missing less than 20% of its entries), we can expect that dropping columns is unlikely to yield good results.  This is because we'd be throwing away a lot of valuable data, and so imputation will likely perform better."
            ]
          },
          "metadata": {
            "tags": []
          }
        }
      ]
    },
    {
      "cell_type": "code",
      "metadata": {
        "execution": {
          "iopub.execute_input": "2021-08-18T06:06:42.900078Z",
          "iopub.status.busy": "2021-08-18T06:06:42.899467Z",
          "iopub.status.idle": "2021-08-18T06:06:42.907524Z",
          "shell.execute_reply": "2021-08-18T06:06:42.906871Z",
          "shell.execute_reply.started": "2021-08-18T05:27:56.139614Z"
        },
        "papermill": {
          "duration": 0.035547,
          "end_time": "2021-08-18T06:06:42.907672",
          "exception": false,
          "start_time": "2021-08-18T06:06:42.872125",
          "status": "completed"
        },
        "tags": [],
        "id": "305bfc54",
        "outputId": "0fab9440-eaba-43e8-bc97-a0f91fddab69"
      },
      "source": [
        "step_1.b.hint()"
      ],
      "id": "305bfc54",
      "execution_count": null,
      "outputs": [
        {
          "output_type": "display_data",
          "data": {
            "application/javascript": [
              "parent.postMessage({\"jupyterEvent\": \"custom.exercise_interaction\", \"data\": {\"interactionType\": 2, \"questionType\": 4, \"questionId\": \"1.2_InvestigateThought\", \"learnToolsVersion\": \"0.3.4\", \"valueTowardsCompletion\": 0.0, \"failureMessage\": \"\", \"exceptionClass\": \"\", \"trace\": \"\", \"outcomeType\": 4}}, \"*\")"
            ],
            "text/plain": [
              "<IPython.core.display.Javascript object>"
            ]
          },
          "metadata": {
            "tags": []
          }
        },
        {
          "output_type": "display_data",
          "data": {
            "text/markdown": "<span style=\"color:#3366cc\">Hint:</span> Does the dataset have a lot of missing values, or just a few?  Would we lose much information if we completely ignored the columns with missing entries?",
            "text/plain": [
              "Hint: Does the dataset have a lot of missing values, or just a few?  Would we lose much information if we completely ignored the columns with missing entries?"
            ]
          },
          "metadata": {
            "tags": []
          }
        }
      ]
    },
    {
      "cell_type": "markdown",
      "metadata": {
        "papermill": {
          "duration": 0.025518,
          "end_time": "2021-08-18T06:06:42.959899",
          "exception": false,
          "start_time": "2021-08-18T06:06:42.934381",
          "status": "completed"
        },
        "tags": [],
        "id": "2da62463"
      },
      "source": [
        "To compare different approaches to dealing with missing values, you'll use the same `score_dataset()` function from the tutorial.  This function reports the [mean absolute error](https://en.wikipedia.org/wiki/Mean_absolute_error) (MAE) from a random forest model."
      ],
      "id": "2da62463"
    },
    {
      "cell_type": "code",
      "metadata": {
        "execution": {
          "iopub.execute_input": "2021-08-18T06:06:43.019629Z",
          "iopub.status.busy": "2021-08-18T06:06:43.019038Z",
          "iopub.status.idle": "2021-08-18T06:06:43.235290Z",
          "shell.execute_reply": "2021-08-18T06:06:43.234670Z",
          "shell.execute_reply.started": "2021-08-18T05:30:56.246169Z"
        },
        "papermill": {
          "duration": 0.248211,
          "end_time": "2021-08-18T06:06:43.235444",
          "exception": false,
          "start_time": "2021-08-18T06:06:42.987233",
          "status": "completed"
        },
        "tags": [],
        "id": "2176a1f6"
      },
      "source": [
        "from sklearn.ensemble import RandomForestRegressor\n",
        "from sklearn.metrics import mean_absolute_error\n",
        "\n",
        "# Function for comparing different approaches\n",
        "def score_dataset(X_train, X_valid, y_train, y_valid):\n",
        "    model = RandomForestRegressor(n_estimators=100, random_state=0)\n",
        "    model.fit(X_train, y_train)\n",
        "    preds = model.predict(X_valid)\n",
        "    return mean_absolute_error(y_valid, preds)"
      ],
      "id": "2176a1f6",
      "execution_count": null,
      "outputs": []
    },
    {
      "cell_type": "markdown",
      "metadata": {
        "papermill": {
          "duration": 0.027193,
          "end_time": "2021-08-18T06:06:43.289589",
          "exception": false,
          "start_time": "2021-08-18T06:06:43.262396",
          "status": "completed"
        },
        "tags": [],
        "id": "24a13ea7"
      },
      "source": [
        "# Step 2: Drop columns with missing values\n",
        "\n",
        "In this step, you'll preprocess the data in `X_train` and `X_valid` to remove columns with missing values.  Set the preprocessed DataFrames to `reduced_X_train` and `reduced_X_valid`, respectively.  "
      ],
      "id": "24a13ea7"
    },
    {
      "cell_type": "code",
      "metadata": {
        "execution": {
          "iopub.execute_input": "2021-08-18T06:06:43.369284Z",
          "iopub.status.busy": "2021-08-18T06:06:43.368467Z",
          "iopub.status.idle": "2021-08-18T06:06:43.374093Z",
          "shell.execute_reply": "2021-08-18T06:06:43.374574Z",
          "shell.execute_reply.started": "2021-08-18T05:38:36.713526Z"
        },
        "papermill": {
          "duration": 0.059446,
          "end_time": "2021-08-18T06:06:43.374742",
          "exception": false,
          "start_time": "2021-08-18T06:06:43.315296",
          "status": "completed"
        },
        "tags": [],
        "id": "dd2cdbf9",
        "outputId": "44e3a501-4099-4a50-81d8-ed35f4df61e9"
      },
      "source": [
        "# Fill in the line below: get names of columns with missing values\n",
        "cols_with_missing = [col for col in X_train.columns if X_train[col].isnull().any() ] # X_train의 column에서 missing 값이 있는 col만 추려냄\n",
        "\n",
        "# Fill in the lines below: drop columns in training and validation data\n",
        "reduced_X_train = X_train.drop(cols_with_missing, axis=1) #missing 값이 있는 col만 drop시킴, axis는 열을 축으로 코드를 실행하는 것\n",
        "reduced_X_valid = X_valid.drop(cols_with_missing, axis=1)\n",
        "\n",
        "# Check your answers\n",
        "step_2.check()"
      ],
      "id": "dd2cdbf9",
      "execution_count": null,
      "outputs": [
        {
          "output_type": "display_data",
          "data": {
            "application/javascript": [
              "parent.postMessage({\"jupyterEvent\": \"custom.exercise_interaction\", \"data\": {\"outcomeType\": 1, \"valueTowardsCompletion\": 1.0, \"interactionType\": 1, \"questionType\": 2, \"questionId\": \"2_DropMissing\", \"learnToolsVersion\": \"0.3.4\", \"failureMessage\": \"\", \"exceptionClass\": \"\", \"trace\": \"\"}}, \"*\")"
            ],
            "text/plain": [
              "<IPython.core.display.Javascript object>"
            ]
          },
          "metadata": {
            "tags": []
          }
        },
        {
          "output_type": "display_data",
          "data": {
            "text/markdown": "<span style=\"color:#33cc33\">Correct</span>",
            "text/plain": [
              "Correct"
            ]
          },
          "metadata": {
            "tags": []
          }
        }
      ]
    },
    {
      "cell_type": "code",
      "metadata": {
        "execution": {
          "iopub.execute_input": "2021-08-18T06:06:43.440888Z",
          "iopub.status.busy": "2021-08-18T06:06:43.440095Z",
          "iopub.status.idle": "2021-08-18T06:06:43.445069Z",
          "shell.execute_reply": "2021-08-18T06:06:43.444435Z",
          "shell.execute_reply.started": "2021-08-18T05:37:11.640400Z"
        },
        "papermill": {
          "duration": 0.043405,
          "end_time": "2021-08-18T06:06:43.445221",
          "exception": false,
          "start_time": "2021-08-18T06:06:43.401816",
          "status": "completed"
        },
        "tags": [],
        "id": "50879e5d",
        "outputId": "b72775b1-232a-4831-b3e0-42a5dcd9461a"
      },
      "source": [
        "cols_with_missing = [col for col in X_train.columns\n",
        "                     if X_train[col].isnull().any() ] # Your code here\n",
        "print(X_train['LotFrontage'].isnull().any())"
      ],
      "id": "50879e5d",
      "execution_count": null,
      "outputs": [
        {
          "output_type": "stream",
          "text": [
            "True\n"
          ],
          "name": "stdout"
        }
      ]
    },
    {
      "cell_type": "code",
      "metadata": {
        "execution": {
          "iopub.execute_input": "2021-08-18T06:06:43.506301Z",
          "iopub.status.busy": "2021-08-18T06:06:43.505050Z",
          "iopub.status.idle": "2021-08-18T06:06:43.508040Z",
          "shell.execute_reply": "2021-08-18T06:06:43.507429Z"
        },
        "papermill": {
          "duration": 0.034875,
          "end_time": "2021-08-18T06:06:43.508181",
          "exception": false,
          "start_time": "2021-08-18T06:06:43.473306",
          "status": "completed"
        },
        "tags": [],
        "id": "63229eca"
      },
      "source": [
        "# Lines below will give you a hint or solution code\n",
        "#step_2.hint()\n",
        "#step_2.solution()"
      ],
      "id": "63229eca",
      "execution_count": null,
      "outputs": []
    },
    {
      "cell_type": "markdown",
      "metadata": {
        "papermill": {
          "duration": 0.02828,
          "end_time": "2021-08-18T06:06:43.563539",
          "exception": false,
          "start_time": "2021-08-18T06:06:43.535259",
          "status": "completed"
        },
        "tags": [],
        "id": "dd2d7011"
      },
      "source": [
        "Run the next code cell without changes to obtain the MAE for this approach."
      ],
      "id": "dd2d7011"
    },
    {
      "cell_type": "code",
      "metadata": {
        "execution": {
          "iopub.execute_input": "2021-08-18T06:06:43.627929Z",
          "iopub.status.busy": "2021-08-18T06:06:43.626850Z",
          "iopub.status.idle": "2021-08-18T06:06:44.851628Z",
          "shell.execute_reply": "2021-08-18T06:06:44.850972Z",
          "shell.execute_reply.started": "2021-08-18T05:38:41.006067Z"
        },
        "papermill": {
          "duration": 1.259282,
          "end_time": "2021-08-18T06:06:44.851766",
          "exception": false,
          "start_time": "2021-08-18T06:06:43.592484",
          "status": "completed"
        },
        "tags": [],
        "id": "302eeb3a",
        "outputId": "dd6d6153-c3de-4590-fe4e-45419465da9a"
      },
      "source": [
        "print(\"MAE (Drop columns with missing values):\")\n",
        "print(score_dataset(reduced_X_train, reduced_X_valid, y_train, y_valid))"
      ],
      "id": "302eeb3a",
      "execution_count": null,
      "outputs": [
        {
          "output_type": "stream",
          "text": [
            "MAE (Drop columns with missing values):\n",
            "17837.82570776256\n"
          ],
          "name": "stdout"
        }
      ]
    },
    {
      "cell_type": "markdown",
      "metadata": {
        "papermill": {
          "duration": 0.027336,
          "end_time": "2021-08-18T06:06:44.907523",
          "exception": false,
          "start_time": "2021-08-18T06:06:44.880187",
          "status": "completed"
        },
        "tags": [],
        "id": "2cb6f4e0"
      },
      "source": [
        "# Step 3: Imputation\n",
        "\n",
        "### Part A\n",
        "\n",
        "Use the next code cell to impute missing values with the mean value along each column.  Set the preprocessed DataFrames to `imputed_X_train` and `imputed_X_valid`.  Make sure that the column names match those in `X_train` and `X_valid`."
      ],
      "id": "2cb6f4e0"
    },
    {
      "cell_type": "code",
      "metadata": {
        "execution": {
          "iopub.execute_input": "2021-08-18T06:06:44.968160Z",
          "iopub.status.busy": "2021-08-18T06:06:44.967327Z",
          "iopub.status.idle": "2021-08-18T06:06:45.001527Z",
          "shell.execute_reply": "2021-08-18T06:06:45.001989Z",
          "shell.execute_reply.started": "2021-08-18T05:41:33.405153Z"
        },
        "papermill": {
          "duration": 0.066578,
          "end_time": "2021-08-18T06:06:45.002167",
          "exception": false,
          "start_time": "2021-08-18T06:06:44.935589",
          "status": "completed"
        },
        "tags": [],
        "id": "216d4f62",
        "outputId": "fd455265-9c10-4175-fef8-29138aa0e093"
      },
      "source": [
        "from sklearn.impute import SimpleImputer\n",
        "\n",
        "# Fill in the lines below: imputation\n",
        "my_imputer = SimpleImputer()# SimpleImputer를 가져와 train과 valid 데이터에 접목시킴\n",
        "imputed_X_train = pd.DataFrame(my_imputer.fit_transform(X_train))\n",
        "imputed_X_valid = pd.DataFrame(my_imputer.transform(X_valid))\n",
        "\n",
        "# Fill in the lines below: imputation removed column names; put them back\n",
        "imputed_X_train.columns = X_train.columns # columns의 값을 바꾸줌\n",
        "imputed_X_valid.columns = X_valid.columns\n",
        "\n",
        "# Check your answers\n",
        "step_3.a.check()"
      ],
      "id": "216d4f62",
      "execution_count": null,
      "outputs": [
        {
          "output_type": "display_data",
          "data": {
            "application/javascript": [
              "parent.postMessage({\"jupyterEvent\": \"custom.exercise_interaction\", \"data\": {\"outcomeType\": 1, \"valueTowardsCompletion\": 1.0, \"interactionType\": 1, \"questionType\": 2, \"questionId\": \"3.1_ImputeCode\", \"learnToolsVersion\": \"0.3.4\", \"failureMessage\": \"\", \"exceptionClass\": \"\", \"trace\": \"\"}}, \"*\")"
            ],
            "text/plain": [
              "<IPython.core.display.Javascript object>"
            ]
          },
          "metadata": {
            "tags": []
          }
        },
        {
          "output_type": "display_data",
          "data": {
            "text/markdown": "<span style=\"color:#33cc33\">Correct</span>",
            "text/plain": [
              "Correct"
            ]
          },
          "metadata": {
            "tags": []
          }
        }
      ]
    },
    {
      "cell_type": "code",
      "metadata": {
        "execution": {
          "iopub.execute_input": "2021-08-18T06:06:45.065317Z",
          "iopub.status.busy": "2021-08-18T06:06:45.064672Z",
          "iopub.status.idle": "2021-08-18T06:06:45.068239Z",
          "shell.execute_reply": "2021-08-18T06:06:45.068646Z"
        },
        "papermill": {
          "duration": 0.037318,
          "end_time": "2021-08-18T06:06:45.068816",
          "exception": false,
          "start_time": "2021-08-18T06:06:45.031498",
          "status": "completed"
        },
        "tags": [],
        "id": "27bf21fe"
      },
      "source": [
        "# Lines below will give you a hint or solution code\n",
        "#step_3.a.hint()\n",
        "#step_3.a.solution()"
      ],
      "id": "27bf21fe",
      "execution_count": null,
      "outputs": []
    },
    {
      "cell_type": "markdown",
      "metadata": {
        "papermill": {
          "duration": 0.031464,
          "end_time": "2021-08-18T06:06:45.131084",
          "exception": false,
          "start_time": "2021-08-18T06:06:45.099620",
          "status": "completed"
        },
        "tags": [],
        "id": "51e677fd"
      },
      "source": [
        "Run the next code cell without changes to obtain the MAE for this approach."
      ],
      "id": "51e677fd"
    },
    {
      "cell_type": "code",
      "metadata": {
        "execution": {
          "iopub.execute_input": "2021-08-18T06:06:45.194751Z",
          "iopub.status.busy": "2021-08-18T06:06:45.194057Z",
          "iopub.status.idle": "2021-08-18T06:06:46.556456Z",
          "shell.execute_reply": "2021-08-18T06:06:46.557056Z",
          "shell.execute_reply.started": "2021-08-18T05:42:45.737448Z"
        },
        "papermill": {
          "duration": 1.397897,
          "end_time": "2021-08-18T06:06:46.557249",
          "exception": false,
          "start_time": "2021-08-18T06:06:45.159352",
          "status": "completed"
        },
        "tags": [],
        "id": "d3fc7197",
        "outputId": "973b43a7-9cce-4042-a60a-fc09e4e64a01"
      },
      "source": [
        "print(\"MAE (Imputation):\")\n",
        "print(score_dataset(imputed_X_train, imputed_X_valid, y_train, y_valid))"
      ],
      "id": "d3fc7197",
      "execution_count": null,
      "outputs": [
        {
          "output_type": "stream",
          "text": [
            "MAE (Imputation):\n",
            "18062.894611872147\n"
          ],
          "name": "stdout"
        }
      ]
    },
    {
      "cell_type": "markdown",
      "metadata": {
        "papermill": {
          "duration": 0.029289,
          "end_time": "2021-08-18T06:06:46.616291",
          "exception": false,
          "start_time": "2021-08-18T06:06:46.587002",
          "status": "completed"
        },
        "tags": [],
        "id": "2c16da7d"
      },
      "source": [
        "### Part B\n",
        "\n",
        "Compare the MAE from each approach.  Does anything surprise you about the results?  Why do you think one approach performed better than the other?"
      ],
      "id": "2c16da7d"
    },
    {
      "cell_type": "code",
      "metadata": {
        "execution": {
          "iopub.execute_input": "2021-08-18T06:06:46.680547Z",
          "iopub.status.busy": "2021-08-18T06:06:46.679592Z",
          "iopub.status.idle": "2021-08-18T06:06:46.686742Z",
          "shell.execute_reply": "2021-08-18T06:06:46.686161Z",
          "shell.execute_reply.started": "2021-08-18T05:46:58.642120Z"
        },
        "papermill": {
          "duration": 0.041393,
          "end_time": "2021-08-18T06:06:46.686883",
          "exception": false,
          "start_time": "2021-08-18T06:06:46.645490",
          "status": "completed"
        },
        "tags": [],
        "id": "e693dff5",
        "outputId": "19254de3-a04a-4702-afd7-d8049cf3382f"
      },
      "source": [
        "# Check your answer (Run this code cell to receive credit!)\n",
        "# missing이 있는 열을 삭제하는 방법이 missing을 imputer하는 방법보다 성능이 좋다\n",
        "# 그이유는 아마도 imputer가 평균값으로 쓰여 데이터에 오류를 야기할 가능성이 많기 때문, 평균값대신 최빈값 및 중앙값을 사용하면 다를 수도 있다\n",
        "step_3.b.check()"
      ],
      "id": "e693dff5",
      "execution_count": null,
      "outputs": [
        {
          "output_type": "display_data",
          "data": {
            "application/javascript": [
              "parent.postMessage({\"jupyterEvent\": \"custom.exercise_interaction\", \"data\": {\"outcomeType\": 1, \"valueTowardsCompletion\": 1.0, \"interactionType\": 1, \"questionType\": 4, \"questionId\": \"3.2_ImputeThought\", \"learnToolsVersion\": \"0.3.4\", \"failureMessage\": \"\", \"exceptionClass\": \"\", \"trace\": \"\"}}, \"*\")"
            ],
            "text/plain": [
              "<IPython.core.display.Javascript object>"
            ]
          },
          "metadata": {
            "tags": []
          }
        },
        {
          "output_type": "display_data",
          "data": {
            "text/markdown": "<span style=\"color:#33cc33\">Correct:</span> \n\nGiven that thre are so few missing values in the dataset, we'd expect imputation to perform better than dropping columns entirely.  However, we see that dropping columns performs slightly better!  While this can probably partially be attributed to noise in the dataset, another potential explanation is that the imputation method is not a great match to this dataset.  That is, maybe instead of filling in the mean value, it makes more sense to set every missing value to a value of 0, to fill in the most frequently encountered value, or to use some other method.  For instance, consider the `GarageYrBlt` column (which indicates the year that the garage was built).  It's likely that in some cases, a missing value could indicate a house that does not have a garage.  Does it make more sense to fill in the median value along each column in this case?  Or could we get better results by filling in the minimum value along each column?  It's not quite clear what's best in this case, but perhaps we can rule out some options immediately - for instance, setting missing values in this column to 0 is likely to yield horrible results!",
            "text/plain": [
              "Correct: \n",
              "\n",
              "Given that thre are so few missing values in the dataset, we'd expect imputation to perform better than dropping columns entirely.  However, we see that dropping columns performs slightly better!  While this can probably partially be attributed to noise in the dataset, another potential explanation is that the imputation method is not a great match to this dataset.  That is, maybe instead of filling in the mean value, it makes more sense to set every missing value to a value of 0, to fill in the most frequently encountered value, or to use some other method.  For instance, consider the `GarageYrBlt` column (which indicates the year that the garage was built).  It's likely that in some cases, a missing value could indicate a house that does not have a garage.  Does it make more sense to fill in the median value along each column in this case?  Or could we get better results by filling in the minimum value along each column?  It's not quite clear what's best in this case, but perhaps we can rule out some options immediately - for instance, setting missing values in this column to 0 is likely to yield horrible results!"
            ]
          },
          "metadata": {
            "tags": []
          }
        }
      ]
    },
    {
      "cell_type": "code",
      "metadata": {
        "execution": {
          "iopub.execute_input": "2021-08-18T06:06:46.753736Z",
          "iopub.status.busy": "2021-08-18T06:06:46.752973Z",
          "iopub.status.idle": "2021-08-18T06:06:46.758572Z",
          "shell.execute_reply": "2021-08-18T06:06:46.759432Z",
          "shell.execute_reply.started": "2021-08-18T05:43:12.271692Z"
        },
        "papermill": {
          "duration": 0.041637,
          "end_time": "2021-08-18T06:06:46.759705",
          "exception": false,
          "start_time": "2021-08-18T06:06:46.718068",
          "status": "completed"
        },
        "tags": [],
        "id": "998ede59",
        "outputId": "dbc3d593-589e-48fa-b088-525d8b3b7f19"
      },
      "source": [
        "step_3.b.hint()"
      ],
      "id": "998ede59",
      "execution_count": null,
      "outputs": [
        {
          "output_type": "display_data",
          "data": {
            "application/javascript": [
              "parent.postMessage({\"jupyterEvent\": \"custom.exercise_interaction\", \"data\": {\"interactionType\": 2, \"questionType\": 4, \"questionId\": \"3.2_ImputeThought\", \"learnToolsVersion\": \"0.3.4\", \"valueTowardsCompletion\": 0.0, \"failureMessage\": \"\", \"exceptionClass\": \"\", \"trace\": \"\", \"outcomeType\": 4}}, \"*\")"
            ],
            "text/plain": [
              "<IPython.core.display.Javascript object>"
            ]
          },
          "metadata": {
            "tags": []
          }
        },
        {
          "output_type": "display_data",
          "data": {
            "text/markdown": "<span style=\"color:#3366cc\">Hint:</span> Did removing missing values yield a larger or smaller MAE than imputation? Does this agree with the coding example from the tutorial?",
            "text/plain": [
              "Hint: Did removing missing values yield a larger or smaller MAE than imputation? Does this agree with the coding example from the tutorial?"
            ]
          },
          "metadata": {
            "tags": []
          }
        }
      ]
    },
    {
      "cell_type": "markdown",
      "metadata": {
        "papermill": {
          "duration": 0.030031,
          "end_time": "2021-08-18T06:06:46.821467",
          "exception": false,
          "start_time": "2021-08-18T06:06:46.791436",
          "status": "completed"
        },
        "tags": [],
        "id": "d445f629"
      },
      "source": [
        "# Step 4: Generate test predictions\n",
        "\n",
        "In this final step, you'll use any approach of your choosing to deal with missing values.  Once you've preprocessed the training and validation features, you'll train and evaluate a random forest model.  Then, you'll preprocess the test data before generating predictions that can be submitted to the competition!\n",
        "\n",
        "### Part A\n",
        "\n",
        "Use the next code cell to preprocess the training and validation data.  Set the preprocessed DataFrames to `final_X_train` and `final_X_valid`.  **You can use any approach of your choosing here!**  in order for this step to be marked as correct, you need only ensure:\n",
        "- the preprocessed DataFrames have the same number of columns,\n",
        "- the preprocessed DataFrames have no missing values, \n",
        "- `final_X_train` and `y_train` have the same number of rows, and\n",
        "- `final_X_valid` and `y_valid` have the same number of rows."
      ],
      "id": "d445f629"
    },
    {
      "cell_type": "code",
      "metadata": {
        "execution": {
          "iopub.execute_input": "2021-08-18T06:06:46.891299Z",
          "iopub.status.busy": "2021-08-18T06:06:46.890219Z",
          "iopub.status.idle": "2021-08-18T06:06:46.918557Z",
          "shell.execute_reply": "2021-08-18T06:06:46.918981Z",
          "shell.execute_reply.started": "2021-08-18T05:55:24.047083Z"
        },
        "papermill": {
          "duration": 0.067033,
          "end_time": "2021-08-18T06:06:46.919157",
          "exception": false,
          "start_time": "2021-08-18T06:06:46.852124",
          "status": "completed"
        },
        "tags": [],
        "id": "75da7191",
        "outputId": "82dcc777-2eef-4e04-a222-e376819ddc16"
      },
      "source": [
        "# Preprocessed training and validation features\n",
        "my_imputer = SimpleImputer(strategy = \"median\")# SimpleImputer를 가져와 중앙값으로 결측치를 채워넣는 코드(최빈값, 평균보다 성능이 좋음)\n",
        "final_X_train = pd.DataFrame(my_imputer.fit_transform(X_train))\n",
        "final_X_valid = pd.DataFrame(my_imputer.transform(X_valid))\n",
        "final_X_train.columns = X_train.columns\n",
        "final_X_valid.columns = X_valid.columns\n",
        "\n",
        "# Check your answers\n",
        "step_4.a.check()"
      ],
      "id": "75da7191",
      "execution_count": null,
      "outputs": [
        {
          "output_type": "display_data",
          "data": {
            "application/javascript": [
              "parent.postMessage({\"jupyterEvent\": \"custom.exercise_interaction\", \"data\": {\"outcomeType\": 1, \"valueTowardsCompletion\": 1.0, \"interactionType\": 1, \"questionType\": 2, \"questionId\": \"4.1_PredsCodeA\", \"learnToolsVersion\": \"0.3.4\", \"failureMessage\": \"\", \"exceptionClass\": \"\", \"trace\": \"\"}}, \"*\")"
            ],
            "text/plain": [
              "<IPython.core.display.Javascript object>"
            ]
          },
          "metadata": {
            "tags": []
          }
        },
        {
          "output_type": "display_data",
          "data": {
            "text/markdown": "<span style=\"color:#33cc33\">Correct</span>",
            "text/plain": [
              "Correct"
            ]
          },
          "metadata": {
            "tags": []
          }
        }
      ]
    },
    {
      "cell_type": "code",
      "metadata": {
        "execution": {
          "iopub.execute_input": "2021-08-18T06:06:46.987680Z",
          "iopub.status.busy": "2021-08-18T06:06:46.986784Z",
          "iopub.status.idle": "2021-08-18T06:06:46.998174Z",
          "shell.execute_reply": "2021-08-18T06:06:46.997615Z",
          "shell.execute_reply.started": "2021-08-18T05:54:14.949999Z"
        },
        "papermill": {
          "duration": 0.047926,
          "end_time": "2021-08-18T06:06:46.998320",
          "exception": false,
          "start_time": "2021-08-18T06:06:46.950394",
          "status": "completed"
        },
        "tags": [],
        "id": "5c61dd35",
        "outputId": "05abd5d9-c292-4c1c-979f-bd31da601edc"
      },
      "source": [
        "# Lines below will give you a hint or solution code\n",
        "step_4.a.hint()\n",
        "step_4.a.solution()"
      ],
      "id": "5c61dd35",
      "execution_count": null,
      "outputs": [
        {
          "output_type": "display_data",
          "data": {
            "application/javascript": [
              "parent.postMessage({\"jupyterEvent\": \"custom.exercise_interaction\", \"data\": {\"interactionType\": 2, \"questionType\": 2, \"questionId\": \"4.1_PredsCodeA\", \"learnToolsVersion\": \"0.3.4\", \"valueTowardsCompletion\": 0.0, \"failureMessage\": \"\", \"exceptionClass\": \"\", \"trace\": \"\", \"outcomeType\": 4}}, \"*\")"
            ],
            "text/plain": [
              "<IPython.core.display.Javascript object>"
            ]
          },
          "metadata": {
            "tags": []
          }
        },
        {
          "output_type": "display_data",
          "data": {
            "text/markdown": "<span style=\"color:#3366cc\">Hint:</span> Use any approach of your choosing to deal with missing values in the data.  For inspiration, check out the code from the tutorial!",
            "text/plain": [
              "Hint: Use any approach of your choosing to deal with missing values in the data.  For inspiration, check out the code from the tutorial!"
            ]
          },
          "metadata": {
            "tags": []
          }
        },
        {
          "output_type": "display_data",
          "data": {
            "application/javascript": [
              "parent.postMessage({\"jupyterEvent\": \"custom.exercise_interaction\", \"data\": {\"interactionType\": 3, \"questionType\": 2, \"questionId\": \"4.1_PredsCodeA\", \"learnToolsVersion\": \"0.3.4\", \"valueTowardsCompletion\": 0.0, \"failureMessage\": \"\", \"exceptionClass\": \"\", \"trace\": \"\", \"outcomeType\": 4}}, \"*\")"
            ],
            "text/plain": [
              "<IPython.core.display.Javascript object>"
            ]
          },
          "metadata": {
            "tags": []
          }
        },
        {
          "output_type": "display_data",
          "data": {
            "text/markdown": "<span style=\"color:#33cc99\">Solution:</span> \n```python\n# Imputation\nfinal_imputer = SimpleImputer(strategy='median')\nfinal_X_train = pd.DataFrame(final_imputer.fit_transform(X_train))\nfinal_X_valid = pd.DataFrame(final_imputer.transform(X_valid))\n\n# Imputation removed column names; put them back\nfinal_X_train.columns = X_train.columns\nfinal_X_valid.columns = X_valid.columns\n\n```",
            "text/plain": [
              "Solution: \n",
              "```python\n",
              "# Imputation\n",
              "final_imputer = SimpleImputer(strategy='median')\n",
              "final_X_train = pd.DataFrame(final_imputer.fit_transform(X_train))\n",
              "final_X_valid = pd.DataFrame(final_imputer.transform(X_valid))\n",
              "\n",
              "# Imputation removed column names; put them back\n",
              "final_X_train.columns = X_train.columns\n",
              "final_X_valid.columns = X_valid.columns\n",
              "\n",
              "```"
            ]
          },
          "metadata": {
            "tags": []
          }
        }
      ]
    },
    {
      "cell_type": "markdown",
      "metadata": {
        "papermill": {
          "duration": 0.032993,
          "end_time": "2021-08-18T06:06:47.065230",
          "exception": false,
          "start_time": "2021-08-18T06:06:47.032237",
          "status": "completed"
        },
        "tags": [],
        "id": "962d9a5f"
      },
      "source": [
        "Run the next code cell to train and evaluate a random forest model.  (*Note that we don't use the `score_dataset()` function above, because we will soon use the trained model to generate test predictions!*)"
      ],
      "id": "962d9a5f"
    },
    {
      "cell_type": "code",
      "metadata": {
        "execution": {
          "iopub.execute_input": "2021-08-18T06:06:47.137193Z",
          "iopub.status.busy": "2021-08-18T06:06:47.136563Z",
          "iopub.status.idle": "2021-08-18T06:06:51.176070Z",
          "shell.execute_reply": "2021-08-18T06:06:51.176722Z",
          "shell.execute_reply.started": "2021-08-18T05:56:32.389265Z"
        },
        "papermill": {
          "duration": 4.079334,
          "end_time": "2021-08-18T06:06:51.177008",
          "exception": false,
          "start_time": "2021-08-18T06:06:47.097674",
          "status": "completed"
        },
        "tags": [],
        "id": "f847f716",
        "outputId": "b4ec4f31-1682-4183-9a71-7af6fff1cb82"
      },
      "source": [
        "# Define and fit model\n",
        "model = RandomForestRegressor(n_estimators=300, random_state=0) # 랜덤포레스트 모델을 설정, estimators의 수를 설정가능\n",
        "model.fit(final_X_train, y_train)\n",
        "\n",
        "# Get validation predictions and MAE\n",
        "preds_valid = model.predict(final_X_valid)\n",
        "print(\"MAE (Your approach):\")\n",
        "print(mean_absolute_error(y_valid, preds_valid))"
      ],
      "id": "f847f716",
      "execution_count": null,
      "outputs": [
        {
          "output_type": "stream",
          "text": [
            "MAE (Your approach):\n",
            "17591.0802283105\n"
          ],
          "name": "stdout"
        }
      ]
    },
    {
      "cell_type": "markdown",
      "metadata": {
        "papermill": {
          "duration": 0.033195,
          "end_time": "2021-08-18T06:06:51.244551",
          "exception": false,
          "start_time": "2021-08-18T06:06:51.211356",
          "status": "completed"
        },
        "tags": [],
        "id": "0b460d44"
      },
      "source": [
        "### Part B\n",
        "\n",
        "Use the next code cell to preprocess your test data.  Make sure that you use a method that agrees with how you preprocessed the training and validation data, and set the preprocessed test features to `final_X_test`.\n",
        "\n",
        "Then, use the preprocessed test features and the trained model to generate test predictions in `preds_test`.\n",
        "\n",
        "In order for this step to be marked correct, you need only ensure:\n",
        "- the preprocessed test DataFrame has no missing values, and\n",
        "- `final_X_test` has the same number of rows as `X_test`."
      ],
      "id": "0b460d44"
    },
    {
      "cell_type": "code",
      "metadata": {
        "execution": {
          "iopub.execute_input": "2021-08-18T06:06:51.321112Z",
          "iopub.status.busy": "2021-08-18T06:06:51.320463Z",
          "iopub.status.idle": "2021-08-18T06:06:51.426208Z",
          "shell.execute_reply": "2021-08-18T06:06:51.425644Z",
          "shell.execute_reply.started": "2021-08-18T06:05:19.027439Z"
        },
        "papermill": {
          "duration": 0.14852,
          "end_time": "2021-08-18T06:06:51.426385",
          "exception": false,
          "start_time": "2021-08-18T06:06:51.277865",
          "status": "completed"
        },
        "tags": [],
        "id": "80a09bd6",
        "outputId": "c9f4562c-b35b-4d86-a82a-f2cd37ba5dfe"
      },
      "source": [
        "# Fill in the line below: preprocess test data\n",
        "final_X_test =pd.DataFrame(my_imputer.transform(X_test))\n",
        "\n",
        "# Fill in the line below: get test predictions\n",
        "preds_test = model.predict(final_X_test)\n",
        "\n",
        "# Check your answers\n",
        "step_4.b.check()"
      ],
      "id": "80a09bd6",
      "execution_count": null,
      "outputs": [
        {
          "output_type": "display_data",
          "data": {
            "application/javascript": [
              "parent.postMessage({\"jupyterEvent\": \"custom.exercise_interaction\", \"data\": {\"outcomeType\": 1, \"valueTowardsCompletion\": 1.0, \"interactionType\": 1, \"questionType\": 2, \"questionId\": \"4.2_PredsCodeB\", \"learnToolsVersion\": \"0.3.4\", \"failureMessage\": \"\", \"exceptionClass\": \"\", \"trace\": \"\"}}, \"*\")"
            ],
            "text/plain": [
              "<IPython.core.display.Javascript object>"
            ]
          },
          "metadata": {
            "tags": []
          }
        },
        {
          "output_type": "display_data",
          "data": {
            "text/markdown": "<span style=\"color:#33cc33\">Correct</span>",
            "text/plain": [
              "Correct"
            ]
          },
          "metadata": {
            "tags": []
          }
        }
      ]
    },
    {
      "cell_type": "code",
      "metadata": {
        "execution": {
          "iopub.execute_input": "2021-08-18T06:06:51.501232Z",
          "iopub.status.busy": "2021-08-18T06:06:51.500031Z",
          "iopub.status.idle": "2021-08-18T06:06:51.511731Z",
          "shell.execute_reply": "2021-08-18T06:06:51.511250Z",
          "shell.execute_reply.started": "2021-08-18T05:59:35.636785Z"
        },
        "papermill": {
          "duration": 0.050978,
          "end_time": "2021-08-18T06:06:51.511885",
          "exception": false,
          "start_time": "2021-08-18T06:06:51.460907",
          "status": "completed"
        },
        "tags": [],
        "id": "08ac990b",
        "outputId": "70c62bb3-3af5-4c46-bd23-36a356a685c3"
      },
      "source": [
        "# Lines below will give you a hint or solution code\n",
        "step_4.b.hint()\n",
        "step_4.b.solution()"
      ],
      "id": "08ac990b",
      "execution_count": null,
      "outputs": [
        {
          "output_type": "display_data",
          "data": {
            "application/javascript": [
              "parent.postMessage({\"jupyterEvent\": \"custom.exercise_interaction\", \"data\": {\"interactionType\": 2, \"questionType\": 2, \"questionId\": \"4.2_PredsCodeB\", \"learnToolsVersion\": \"0.3.4\", \"valueTowardsCompletion\": 0.0, \"failureMessage\": \"\", \"exceptionClass\": \"\", \"trace\": \"\", \"outcomeType\": 4}}, \"*\")"
            ],
            "text/plain": [
              "<IPython.core.display.Javascript object>"
            ]
          },
          "metadata": {
            "tags": []
          }
        },
        {
          "output_type": "display_data",
          "data": {
            "text/markdown": "<span style=\"color:#3366cc\">Hint:</span> After preprocessing the test data, you can get the model's predictions by using `model.predict()`.",
            "text/plain": [
              "Hint: After preprocessing the test data, you can get the model's predictions by using `model.predict()`."
            ]
          },
          "metadata": {
            "tags": []
          }
        },
        {
          "output_type": "display_data",
          "data": {
            "application/javascript": [
              "parent.postMessage({\"jupyterEvent\": \"custom.exercise_interaction\", \"data\": {\"interactionType\": 3, \"questionType\": 2, \"questionId\": \"4.2_PredsCodeB\", \"learnToolsVersion\": \"0.3.4\", \"valueTowardsCompletion\": 0.0, \"failureMessage\": \"\", \"exceptionClass\": \"\", \"trace\": \"\", \"outcomeType\": 4}}, \"*\")"
            ],
            "text/plain": [
              "<IPython.core.display.Javascript object>"
            ]
          },
          "metadata": {
            "tags": []
          }
        },
        {
          "output_type": "display_data",
          "data": {
            "text/markdown": "<span style=\"color:#33cc99\">Solution:</span> \n```python\n# Preprocess test data\nfinal_X_test = pd.DataFrame(final_imputer.transform(X_test))\n\n# Get test predictions\npreds_test = model.predict(final_X_test)\n\n```",
            "text/plain": [
              "Solution: \n",
              "```python\n",
              "# Preprocess test data\n",
              "final_X_test = pd.DataFrame(final_imputer.transform(X_test))\n",
              "\n",
              "# Get test predictions\n",
              "preds_test = model.predict(final_X_test)\n",
              "\n",
              "```"
            ]
          },
          "metadata": {
            "tags": []
          }
        }
      ]
    },
    {
      "cell_type": "markdown",
      "metadata": {
        "papermill": {
          "duration": 0.035089,
          "end_time": "2021-08-18T06:06:51.582162",
          "exception": false,
          "start_time": "2021-08-18T06:06:51.547073",
          "status": "completed"
        },
        "tags": [],
        "id": "65e93478"
      },
      "source": [
        "Run the next code cell without changes to save your results to a CSV file that can be submitted directly to the competition."
      ],
      "id": "65e93478"
    },
    {
      "cell_type": "code",
      "metadata": {
        "execution": {
          "iopub.execute_input": "2021-08-18T06:06:51.666456Z",
          "iopub.status.busy": "2021-08-18T06:06:51.665447Z",
          "iopub.status.idle": "2021-08-18T06:06:51.676084Z",
          "shell.execute_reply": "2021-08-18T06:06:51.675405Z",
          "shell.execute_reply.started": "2021-08-18T06:06:14.902037Z"
        },
        "papermill": {
          "duration": 0.055669,
          "end_time": "2021-08-18T06:06:51.676237",
          "exception": false,
          "start_time": "2021-08-18T06:06:51.620568",
          "status": "completed"
        },
        "tags": [],
        "id": "dd5498ec"
      },
      "source": [
        "# Save test predictions to file\n",
        "output = pd.DataFrame({'Id': X_test.index,\n",
        "                       'SalePrice': preds_test})\n",
        "output.to_csv('submission.csv', index=False)"
      ],
      "id": "dd5498ec",
      "execution_count": null,
      "outputs": []
    },
    {
      "cell_type": "markdown",
      "metadata": {
        "papermill": {
          "duration": 0.041212,
          "end_time": "2021-08-18T06:06:51.757042",
          "exception": false,
          "start_time": "2021-08-18T06:06:51.715830",
          "status": "completed"
        },
        "tags": [],
        "id": "68b765c5"
      },
      "source": [
        "# Submit your results\n",
        "\n",
        "Once you have successfully completed Step 4, you're ready to submit your results to the leaderboard!  (_You also learned how to do this in the previous exercise.  If you need a reminder of how to do this, please use the instructions below._)  \n",
        "\n",
        "First, you'll need to join the competition if you haven't already.  So open a new window by clicking on [this link](https://www.kaggle.com/c/home-data-for-ml-course).  Then click on the **Join Competition** button.\n",
        "\n",
        "![join competition image](https://i.imgur.com/wLmFtH3.png)\n",
        "\n",
        "Next, follow the instructions below:\n",
        "1. Begin by clicking on the blue **Save Version** button in the top right corner of the window.  This will generate a pop-up window.  \n",
        "2. Ensure that the **Save and Run All** option is selected, and then click on the blue **Save** button.\n",
        "3. This generates a window in the bottom left corner of the notebook.  After it has finished running, click on the number to the right of the **Save Version** button.  This pulls up a list of versions on the right of the screen.  Click on the ellipsis **(...)** to the right of the most recent version, and select **Open in Viewer**.  This brings you into view mode of the same page. You will need to scroll down to get back to these instructions.\n",
        "4. Click on the **Output** tab on the right of the screen.  Then, click on the file you would like to submit, and click on the blue **Submit** button to submit your results to the leaderboard.\n",
        "\n",
        "You have now successfully submitted to the competition!\n",
        "\n",
        "If you want to keep working to improve your performance, select the blue **Edit** button in the top right of the screen. Then you can change your code and repeat the process. There's a lot of room to improve, and you will climb up the leaderboard as you work.\n",
        "\n",
        "\n",
        "# Keep going\n",
        "\n",
        "Move on to learn what **[categorical variables](https://www.kaggle.com/alexisbcook/categorical-variables)** are, along with how to incorporate them into your machine learning models.  Categorical variables are very common in real-world data, but you'll get an error if you try to plug them into your models without processing them first!"
      ],
      "id": "68b765c5"
    },
    {
      "cell_type": "markdown",
      "metadata": {
        "papermill": {
          "duration": 0.045245,
          "end_time": "2021-08-18T06:06:51.839080",
          "exception": false,
          "start_time": "2021-08-18T06:06:51.793835",
          "status": "completed"
        },
        "tags": [],
        "id": "4e9258f5"
      },
      "source": [
        "---\n",
        "\n",
        "\n",
        "\n",
        "\n",
        "*Have questions or comments? Visit the [Learn Discussion forum](https://www.kaggle.com/learn-forum/161289) to chat with other Learners.*"
      ],
      "id": "4e9258f5"
    }
  ]
}