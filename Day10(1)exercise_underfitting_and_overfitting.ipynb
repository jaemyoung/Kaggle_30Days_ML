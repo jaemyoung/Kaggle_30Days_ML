{
  "nbformat": 4,
  "nbformat_minor": 5,
  "metadata": {
    "kernelspec": {
      "display_name": "Python 3",
      "language": "python",
      "name": "python3"
    },
    "language_info": {
      "codemirror_mode": {
        "name": "ipython",
        "version": 3
      },
      "file_extension": ".py",
      "mimetype": "text/x-python",
      "name": "python",
      "nbconvert_exporter": "python",
      "pygments_lexer": "ipython3",
      "version": "3.7.10"
    },
    "papermill": {
      "default_parameters": {},
      "duration": 10.468166,
      "end_time": "2021-08-17T09:20:10.720628",
      "environment_variables": {},
      "exception": null,
      "input_path": "__notebook__.ipynb",
      "output_path": "__notebook__.ipynb",
      "parameters": {},
      "start_time": "2021-08-17T09:20:00.252462",
      "version": "2.3.3"
    },
    "colab": {
      "name": "Day10(1)exercise-underfitting-and-overfitting.ipynb",
      "provenance": [],
      "include_colab_link": true
    }
  },
  "cells": [
    {
      "cell_type": "markdown",
      "metadata": {
        "id": "view-in-github",
        "colab_type": "text"
      },
      "source": [
        "<a href=\"https://colab.research.google.com/github/jaemyoung/Kaggle_30Days_ML/blob/main/Day10(1)exercise_underfitting_and_overfitting.ipynb\" target=\"_parent\"><img src=\"https://colab.research.google.com/assets/colab-badge.svg\" alt=\"Open In Colab\"/></a>"
      ]
    },
    {
      "cell_type": "markdown",
      "metadata": {
        "papermill": {
          "duration": 0.011037,
          "end_time": "2021-08-17T09:20:08.149372",
          "exception": false,
          "start_time": "2021-08-17T09:20:08.138335",
          "status": "completed"
        },
        "tags": [],
        "id": "20305927"
      },
      "source": [
        "**This notebook is an exercise in the [Introduction to Machine Learning](https://www.kaggle.com/learn/intro-to-machine-learning) course.  You can reference the tutorial at [this link](https://www.kaggle.com/dansbecker/underfitting-and-overfitting).**\n",
        "\n",
        "---\n"
      ],
      "id": "20305927"
    },
    {
      "cell_type": "markdown",
      "metadata": {
        "papermill": {
          "duration": 0.009841,
          "end_time": "2021-08-17T09:20:08.171333",
          "exception": false,
          "start_time": "2021-08-17T09:20:08.161492",
          "status": "completed"
        },
        "tags": [],
        "id": "150336fd"
      },
      "source": [
        "## Recap\n",
        "You've built your first model, and now it's time to optimize the size of the tree to make better predictions. Run this cell to set up your coding environment where the previous step left off."
      ],
      "id": "150336fd"
    },
    {
      "cell_type": "code",
      "metadata": {
        "execution": {
          "iopub.execute_input": "2021-08-17T09:20:08.195540Z",
          "iopub.status.busy": "2021-08-17T09:20:08.194388Z",
          "iopub.status.idle": "2021-08-17T09:20:09.532231Z",
          "shell.execute_reply": "2021-08-17T09:20:09.532694Z",
          "shell.execute_reply.started": "2021-08-17T09:05:33.086354Z"
        },
        "papermill": {
          "duration": 1.351774,
          "end_time": "2021-08-17T09:20:09.533019",
          "exception": false,
          "start_time": "2021-08-17T09:20:08.181245",
          "status": "completed"
        },
        "tags": [],
        "id": "41a60938",
        "outputId": "e5c7a778-a2b0-424c-ec1f-b8401d8ef781"
      },
      "source": [
        "# Code you have previously used to load data\n",
        "import pandas as pd\n",
        "from sklearn.metrics import mean_absolute_error\n",
        "from sklearn.model_selection import train_test_split\n",
        "from sklearn.tree import DecisionTreeRegressor\n",
        "\n",
        "\n",
        "# Path of the file to read\n",
        "iowa_file_path = '../input/home-data-for-ml-course/train.csv'\n",
        "\n",
        "home_data = pd.read_csv(iowa_file_path)\n",
        "# Create target object and call it y\n",
        "y = home_data.SalePrice\n",
        "# Create X\n",
        "features = ['LotArea', 'YearBuilt', '1stFlrSF', '2ndFlrSF', 'FullBath', 'BedroomAbvGr', 'TotRmsAbvGrd']\n",
        "X = home_data[features]\n",
        "\n",
        "# Split into validation and training data\n",
        "train_X, val_X, train_y, val_y = train_test_split(X, y, random_state=1)\n",
        "\n",
        "# Specify Model\n",
        "iowa_model = DecisionTreeRegressor(random_state=1)\n",
        "# Fit Model\n",
        "iowa_model.fit(train_X, train_y)\n",
        "\n",
        "# Make validation predictions and calculate mean absolute error\n",
        "val_predictions = iowa_model.predict(val_X)\n",
        "val_mae = mean_absolute_error(val_predictions, val_y)\n",
        "print(\"Validation MAE: {:,.0f}\".format(val_mae))\n",
        "\n",
        "# Set up code checking\n",
        "from learntools.core import binder\n",
        "binder.bind(globals())\n",
        "from learntools.machine_learning.ex5 import *\n",
        "print(\"\\nSetup complete\")"
      ],
      "id": "41a60938",
      "execution_count": null,
      "outputs": [
        {
          "output_type": "stream",
          "text": [
            "Validation MAE: 29,653\n",
            "\n",
            "Setup complete\n"
          ],
          "name": "stdout"
        }
      ]
    },
    {
      "cell_type": "markdown",
      "metadata": {
        "papermill": {
          "duration": 0.01057,
          "end_time": "2021-08-17T09:20:09.555963",
          "exception": false,
          "start_time": "2021-08-17T09:20:09.545393",
          "status": "completed"
        },
        "tags": [],
        "id": "9b6ef97a"
      },
      "source": [
        "# Exercises\n",
        "You could write the function `get_mae` yourself. For now, we'll supply it. This is the same function you read about in the previous lesson. Just run the cell below."
      ],
      "id": "9b6ef97a"
    },
    {
      "cell_type": "code",
      "metadata": {
        "execution": {
          "iopub.execute_input": "2021-08-17T09:20:09.580877Z",
          "iopub.status.busy": "2021-08-17T09:20:09.580229Z",
          "iopub.status.idle": "2021-08-17T09:20:09.585422Z",
          "shell.execute_reply": "2021-08-17T09:20:09.584824Z",
          "shell.execute_reply.started": "2021-08-17T09:06:51.149924Z"
        },
        "papermill": {
          "duration": 0.018651,
          "end_time": "2021-08-17T09:20:09.585552",
          "exception": false,
          "start_time": "2021-08-17T09:20:09.566901",
          "status": "completed"
        },
        "tags": [],
        "id": "53ddf778"
      },
      "source": [
        "def get_mae(max_leaf_nodes, train_X, val_X, train_y, val_y):\n",
        "    model = DecisionTreeRegressor(max_leaf_nodes=max_leaf_nodes, random_state=0)\n",
        "    model.fit(train_X, train_y)\n",
        "    preds_val = model.predict(val_X)\n",
        "    mae = mean_absolute_error(val_y, preds_val)\n",
        "    return(mae)"
      ],
      "id": "53ddf778",
      "execution_count": null,
      "outputs": []
    },
    {
      "cell_type": "markdown",
      "metadata": {
        "papermill": {
          "duration": 0.01015,
          "end_time": "2021-08-17T09:20:09.606647",
          "exception": false,
          "start_time": "2021-08-17T09:20:09.596497",
          "status": "completed"
        },
        "tags": [],
        "id": "0bfef235"
      },
      "source": [
        "## Step 1: Compare Different Tree Sizes\n",
        "Write a loop that tries the following values for *max_leaf_nodes* from a set of possible values.\n",
        "\n",
        "Call the *get_mae* function on each value of max_leaf_nodes. Store the output in some way that allows you to select the value of `max_leaf_nodes` that gives the most accurate model on your data."
      ],
      "id": "0bfef235"
    },
    {
      "cell_type": "code",
      "metadata": {
        "execution": {
          "iopub.execute_input": "2021-08-17T09:20:09.637028Z",
          "iopub.status.busy": "2021-08-17T09:20:09.636301Z",
          "iopub.status.idle": "2021-08-17T09:20:09.686465Z",
          "shell.execute_reply": "2021-08-17T09:20:09.685872Z",
          "shell.execute_reply.started": "2021-08-17T09:17:32.332169Z"
        },
        "papermill": {
          "duration": 0.069193,
          "end_time": "2021-08-17T09:20:09.686598",
          "exception": false,
          "start_time": "2021-08-17T09:20:09.617405",
          "status": "completed"
        },
        "tags": [],
        "id": "e8afc7ac",
        "outputId": "1a9dc807-f0f4-4474-a533-666dba347249"
      },
      "source": [
        "candidate_max_leaf_nodes = [5, 25, 50, 100, 250, 500]\n",
        "# Write loop to find the ideal tree size from candidate_max_leaf_nodes\n",
        "scores = { leaf_node :get_mae(leaf_node,train_X,val_X,train_y,val_y) for leaf_node in candidate_max_leaf_nodes} # 리스트로 바로 저장가능한 for문으로  score로 리스트 작성\n",
        "\n",
        "# Store the best value of max_leaf_nodes (it will be either 5, 25, 50, 100, 250 or 500)\n",
        "best_tree_size = min(scores, key=scores.get)\n",
        "\n",
        "# Check your answer\n",
        "step_1.check()"
      ],
      "id": "e8afc7ac",
      "execution_count": null,
      "outputs": [
        {
          "output_type": "display_data",
          "data": {
            "application/javascript": [
              "parent.postMessage({\"jupyterEvent\": \"custom.exercise_interaction\", \"data\": {\"outcomeType\": 1, \"valueTowardsCompletion\": 0.5, \"interactionType\": 1, \"questionType\": 1, \"questionId\": \"1_BestTreeSize\", \"learnToolsVersion\": \"0.3.4\", \"failureMessage\": \"\", \"exceptionClass\": \"\", \"trace\": \"\"}}, \"*\")"
            ],
            "text/plain": [
              "<IPython.core.display.Javascript object>"
            ]
          },
          "metadata": {
            "tags": []
          }
        },
        {
          "output_type": "display_data",
          "data": {
            "text/markdown": "<span style=\"color:#33cc33\">Correct</span>",
            "text/plain": [
              "Correct"
            ]
          },
          "metadata": {
            "tags": []
          }
        }
      ]
    },
    {
      "cell_type": "code",
      "metadata": {
        "execution": {
          "iopub.execute_input": "2021-08-17T09:20:09.718350Z",
          "iopub.status.busy": "2021-08-17T09:20:09.717459Z",
          "iopub.status.idle": "2021-08-17T09:20:09.762259Z",
          "shell.execute_reply": "2021-08-17T09:20:09.762704Z",
          "shell.execute_reply.started": "2021-08-17T09:12:22.212622Z"
        },
        "papermill": {
          "duration": 0.064327,
          "end_time": "2021-08-17T09:20:09.762898",
          "exception": false,
          "start_time": "2021-08-17T09:20:09.698571",
          "status": "completed"
        },
        "tags": [],
        "id": "9e45ec9b",
        "outputId": "03d95d06-00f9-4e4c-b2c1-aae3f2c9a108"
      },
      "source": [
        "candidate_max_leaf_nodes = [5, 25, 50, 100, 250, 500]\n",
        "# Write loop to find the ideal tree size from candidate_max_leaf_nodes\n",
        "d = [get_mae(i,train_X,val_X,train_y,val_y) for i in candidate_max_leaf_nodes]\n",
        "print(d)"
      ],
      "id": "9e45ec9b",
      "execution_count": null,
      "outputs": [
        {
          "output_type": "stream",
          "text": [
            "[35044.51299744237, 29016.41319191076, 27405.930473214907, 27282.50803885739, 27893.822225701646, 29454.18598068598]\n"
          ],
          "name": "stdout"
        }
      ]
    },
    {
      "cell_type": "code",
      "metadata": {
        "execution": {
          "iopub.execute_input": "2021-08-17T09:20:09.792342Z",
          "iopub.status.busy": "2021-08-17T09:20:09.791247Z",
          "iopub.status.idle": "2021-08-17T09:20:09.803184Z",
          "shell.execute_reply": "2021-08-17T09:20:09.803699Z",
          "shell.execute_reply.started": "2021-08-17T09:14:50.454926Z"
        },
        "papermill": {
          "duration": 0.02893,
          "end_time": "2021-08-17T09:20:09.803923",
          "exception": false,
          "start_time": "2021-08-17T09:20:09.774993",
          "status": "completed"
        },
        "tags": [],
        "id": "e4c84564",
        "outputId": "f6d89861-47c1-4e40-8e2a-2139e5e86c87"
      },
      "source": [
        "# The lines below will show you a hint or the solution.\n",
        "step_1.hint() \n",
        "step_1.solution()"
      ],
      "id": "e4c84564",
      "execution_count": null,
      "outputs": [
        {
          "output_type": "display_data",
          "data": {
            "application/javascript": [
              "parent.postMessage({\"jupyterEvent\": \"custom.exercise_interaction\", \"data\": {\"interactionType\": 2, \"questionType\": 1, \"questionId\": \"1_BestTreeSize\", \"learnToolsVersion\": \"0.3.4\", \"valueTowardsCompletion\": 0.0, \"failureMessage\": \"\", \"exceptionClass\": \"\", \"trace\": \"\", \"outcomeType\": 4}}, \"*\")"
            ],
            "text/plain": [
              "<IPython.core.display.Javascript object>"
            ]
          },
          "metadata": {
            "tags": []
          }
        },
        {
          "output_type": "display_data",
          "data": {
            "text/markdown": "<span style=\"color:#3366cc\">Hint:</span> You will call get_mae in the loop. You'll need to map the names of your data structure to the names in get_mae",
            "text/plain": [
              "Hint: You will call get_mae in the loop. You'll need to map the names of your data structure to the names in get_mae"
            ]
          },
          "metadata": {
            "tags": []
          }
        },
        {
          "output_type": "display_data",
          "data": {
            "application/javascript": [
              "parent.postMessage({\"jupyterEvent\": \"custom.exercise_interaction\", \"data\": {\"interactionType\": 3, \"questionType\": 1, \"questionId\": \"1_BestTreeSize\", \"learnToolsVersion\": \"0.3.4\", \"valueTowardsCompletion\": 0.0, \"failureMessage\": \"\", \"exceptionClass\": \"\", \"trace\": \"\", \"outcomeType\": 4}}, \"*\")"
            ],
            "text/plain": [
              "<IPython.core.display.Javascript object>"
            ]
          },
          "metadata": {
            "tags": []
          }
        },
        {
          "output_type": "display_data",
          "data": {
            "text/markdown": "<span style=\"color:#33cc99\">Solution:</span> \n```python\n# Here is a short solution with a dict comprehension.\n# The lesson gives an example of how to do this with an explicit loop.\nscores = {leaf_size: get_mae(leaf_size, train_X, val_X, train_y, val_y) for leaf_size in candidate_max_leaf_nodes}\nbest_tree_size = min(scores, key=scores.get)\n\n```",
            "text/plain": [
              "Solution: \n",
              "```python\n",
              "# Here is a short solution with a dict comprehension.\n",
              "# The lesson gives an example of how to do this with an explicit loop.\n",
              "scores = {leaf_size: get_mae(leaf_size, train_X, val_X, train_y, val_y) for leaf_size in candidate_max_leaf_nodes}\n",
              "best_tree_size = min(scores, key=scores.get)\n",
              "\n",
              "```"
            ]
          },
          "metadata": {
            "tags": []
          }
        }
      ]
    },
    {
      "cell_type": "markdown",
      "metadata": {
        "papermill": {
          "duration": 0.013936,
          "end_time": "2021-08-17T09:20:09.832407",
          "exception": false,
          "start_time": "2021-08-17T09:20:09.818471",
          "status": "completed"
        },
        "tags": [],
        "id": "7c505ae7"
      },
      "source": [
        "## Step 2: Fit Model Using All Data\n",
        "You know the best tree size. If you were going to deploy this model in practice, you would make it even more accurate by using all of the data and keeping that tree size.  That is, you don't need to hold out the validation data now that you've made all your modeling decisions."
      ],
      "id": "7c505ae7"
    },
    {
      "cell_type": "code",
      "metadata": {
        "execution": {
          "iopub.execute_input": "2021-08-17T09:20:09.864347Z",
          "iopub.status.busy": "2021-08-17T09:20:09.863497Z",
          "iopub.status.idle": "2021-08-17T09:20:09.880593Z",
          "shell.execute_reply": "2021-08-17T09:20:09.880034Z",
          "shell.execute_reply.started": "2021-08-17T09:18:58.448607Z"
        },
        "papermill": {
          "duration": 0.033995,
          "end_time": "2021-08-17T09:20:09.880724",
          "exception": false,
          "start_time": "2021-08-17T09:20:09.846729",
          "status": "completed"
        },
        "tags": [],
        "id": "db3c3a14",
        "outputId": "f08d071f-c068-44c1-ca7b-0a118a5400d5"
      },
      "source": [
        "# Fill in argument to make optimal size and uncomment\n",
        "final_model = DecisionTreeRegressor(max_leaf_nodes = best_tree_size, random_state= 1) # 최적의 node값을 넣어주어 decisiontree로 설정\n",
        "\n",
        "# fit the final model and uncomment the next two lines\n",
        "final_model.fit(X,y)\n",
        "\n",
        "# Check your answer\n",
        "step_2.check()"
      ],
      "id": "db3c3a14",
      "execution_count": null,
      "outputs": [
        {
          "output_type": "display_data",
          "data": {
            "application/javascript": [
              "parent.postMessage({\"jupyterEvent\": \"custom.exercise_interaction\", \"data\": {\"outcomeType\": 1, \"valueTowardsCompletion\": 0.5, \"interactionType\": 1, \"questionType\": 2, \"questionId\": \"2_FitModelWithAllData\", \"learnToolsVersion\": \"0.3.4\", \"failureMessage\": \"\", \"exceptionClass\": \"\", \"trace\": \"\"}}, \"*\")"
            ],
            "text/plain": [
              "<IPython.core.display.Javascript object>"
            ]
          },
          "metadata": {
            "tags": []
          }
        },
        {
          "output_type": "display_data",
          "data": {
            "text/markdown": "<span style=\"color:#33cc33\">Correct</span>",
            "text/plain": [
              "Correct"
            ]
          },
          "metadata": {
            "tags": []
          }
        }
      ]
    },
    {
      "cell_type": "code",
      "metadata": {
        "execution": {
          "iopub.execute_input": "2021-08-17T09:20:09.914494Z",
          "iopub.status.busy": "2021-08-17T09:20:09.913722Z",
          "iopub.status.idle": "2021-08-17T09:20:09.924544Z",
          "shell.execute_reply": "2021-08-17T09:20:09.923949Z",
          "shell.execute_reply.started": "2021-08-17T09:14:32.550450Z"
        },
        "papermill": {
          "duration": 0.028693,
          "end_time": "2021-08-17T09:20:09.924671",
          "exception": false,
          "start_time": "2021-08-17T09:20:09.895978",
          "status": "completed"
        },
        "tags": [],
        "id": "e87e3d76",
        "outputId": "24405a5e-5b0d-4d46-c169-e00eacc19867"
      },
      "source": [
        "step_2.hint()\n",
        "step_2.solution()"
      ],
      "id": "e87e3d76",
      "execution_count": null,
      "outputs": [
        {
          "output_type": "display_data",
          "data": {
            "application/javascript": [
              "parent.postMessage({\"jupyterEvent\": \"custom.exercise_interaction\", \"data\": {\"interactionType\": 2, \"questionType\": 2, \"questionId\": \"2_FitModelWithAllData\", \"learnToolsVersion\": \"0.3.4\", \"valueTowardsCompletion\": 0.0, \"failureMessage\": \"\", \"exceptionClass\": \"\", \"trace\": \"\", \"outcomeType\": 4}}, \"*\")"
            ],
            "text/plain": [
              "<IPython.core.display.Javascript object>"
            ]
          },
          "metadata": {
            "tags": []
          }
        },
        {
          "output_type": "display_data",
          "data": {
            "text/markdown": "<span style=\"color:#3366cc\">Hint:</span> Fit with the ideal value of max_leaf_nodes. In the fit step, use all of the data in the dataset",
            "text/plain": [
              "Hint: Fit with the ideal value of max_leaf_nodes. In the fit step, use all of the data in the dataset"
            ]
          },
          "metadata": {
            "tags": []
          }
        },
        {
          "output_type": "display_data",
          "data": {
            "application/javascript": [
              "parent.postMessage({\"jupyterEvent\": \"custom.exercise_interaction\", \"data\": {\"interactionType\": 3, \"questionType\": 2, \"questionId\": \"2_FitModelWithAllData\", \"learnToolsVersion\": \"0.3.4\", \"valueTowardsCompletion\": 0.0, \"failureMessage\": \"\", \"exceptionClass\": \"\", \"trace\": \"\", \"outcomeType\": 4}}, \"*\")"
            ],
            "text/plain": [
              "<IPython.core.display.Javascript object>"
            ]
          },
          "metadata": {
            "tags": []
          }
        },
        {
          "output_type": "display_data",
          "data": {
            "text/markdown": "<span style=\"color:#33cc99\">Solution:</span> \n```python\n# Fit the model with best_tree_size. Fill in argument to make optimal size\nfinal_model = DecisionTreeRegressor(max_leaf_nodes=best_tree_size, random_state=1)\n\n# fit the final model\nfinal_model.fit(X, y)\n```",
            "text/plain": [
              "Solution: \n",
              "```python\n",
              "# Fit the model with best_tree_size. Fill in argument to make optimal size\n",
              "final_model = DecisionTreeRegressor(max_leaf_nodes=best_tree_size, random_state=1)\n",
              "\n",
              "# fit the final model\n",
              "final_model.fit(X, y)\n",
              "```"
            ]
          },
          "metadata": {
            "tags": []
          }
        }
      ]
    },
    {
      "cell_type": "markdown",
      "metadata": {
        "papermill": {
          "duration": 0.016865,
          "end_time": "2021-08-17T09:20:09.959201",
          "exception": false,
          "start_time": "2021-08-17T09:20:09.942336",
          "status": "completed"
        },
        "tags": [],
        "id": "33e38182"
      },
      "source": [
        "You've tuned this model and improved your results. But we are still using Decision Tree models, which are not very sophisticated by modern machine learning standards. In the next step you will learn to use Random Forests to improve your models even more.\n",
        "\n",
        "# Keep Going\n",
        "\n",
        "You are ready for **[Random Forests](https://www.kaggle.com/dansbecker/random-forests).**\n"
      ],
      "id": "33e38182"
    },
    {
      "cell_type": "markdown",
      "metadata": {
        "papermill": {
          "duration": 0.01698,
          "end_time": "2021-08-17T09:20:09.993506",
          "exception": false,
          "start_time": "2021-08-17T09:20:09.976526",
          "status": "completed"
        },
        "tags": [],
        "id": "b2674c77"
      },
      "source": [
        "---\n",
        "\n",
        "\n",
        "\n",
        "\n",
        "*Have questions or comments? Visit the [Learn Discussion forum](https://www.kaggle.com/learn-forum/161285) to chat with other Learners.*"
      ],
      "id": "b2674c77"
    }
  ]
}