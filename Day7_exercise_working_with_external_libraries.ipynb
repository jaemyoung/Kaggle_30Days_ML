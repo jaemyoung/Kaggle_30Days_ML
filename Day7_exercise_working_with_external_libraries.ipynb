{
  "nbformat": 4,
  "nbformat_minor": 0,
  "metadata": {
    "kernelspec": {
      "language": "python",
      "display_name": "Python 3",
      "name": "python3"
    },
    "language_info": {
      "pygments_lexer": "ipython3",
      "nbconvert_exporter": "python",
      "version": "3.6.4",
      "file_extension": ".py",
      "codemirror_mode": {
        "name": "ipython",
        "version": 3
      },
      "name": "python",
      "mimetype": "text/x-python"
    },
    "colab": {
      "name": "Day7_exercise-working-with-external-libraries.ipynb",
      "provenance": [],
      "include_colab_link": true
    }
  },
  "cells": [
    {
      "cell_type": "markdown",
      "metadata": {
        "id": "view-in-github",
        "colab_type": "text"
      },
      "source": [
        "<a href=\"https://colab.research.google.com/github/jaemyoung/Kaggle_30Days_ML/blob/main/Day7_exercise_working_with_external_libraries.ipynb\" target=\"_parent\"><img src=\"https://colab.research.google.com/assets/colab-badge.svg\" alt=\"Open In Colab\"/></a>"
      ]
    },
    {
      "cell_type": "markdown",
      "metadata": {
        "id": "qbmNhPWofDxF"
      },
      "source": [
        "**This notebook is an exercise in the [Python](https://www.kaggle.com/learn/python) course.  You can reference the tutorial at [this link](https://www.kaggle.com/colinmorris/working-with-external-libraries).**\n",
        "\n",
        "---\n"
      ]
    },
    {
      "cell_type": "markdown",
      "metadata": {
        "id": "SNQJSyljfDxN"
      },
      "source": [
        "# Try It Yourself\n",
        "\n",
        "There are only three problems in this last set of exercises, but they're all pretty tricky, so be on guard! \n",
        "\n",
        "Run the setup code below before working on the questions."
      ]
    },
    {
      "cell_type": "code",
      "metadata": {
        "execution": {
          "iopub.status.busy": "2021-08-13T07:13:24.399546Z",
          "iopub.execute_input": "2021-08-13T07:13:24.400154Z",
          "iopub.status.idle": "2021-08-13T07:13:24.419593Z",
          "shell.execute_reply.started": "2021-08-13T07:13:24.400104Z",
          "shell.execute_reply": "2021-08-13T07:13:24.418422Z"
        },
        "trusted": true,
        "id": "UJ4BwLHxfDxO"
      },
      "source": [
        "from learntools.core import binder; binder.bind(globals())\n",
        "from learntools.python.ex7 import *\n",
        "print('Setup complete.')"
      ],
      "execution_count": null,
      "outputs": []
    },
    {
      "cell_type": "markdown",
      "metadata": {
        "id": "TpARMkRrfDxQ"
      },
      "source": [
        "# 1.\n",
        "\n",
        "After completing the exercises on lists and tuples, Jimmy noticed that, according to his `estimate_average_slot_payout` function, the slot machines at the Learn Python Casino are actually rigged *against* the house, and are profitable to play in the long run.\n",
        "\n",
        "Starting with $200 in his pocket, Jimmy has played the slots 500 times, recording his new balance in a list after each spin. He used Python's `matplotlib` library to make a graph of his balance over time:"
      ]
    },
    {
      "cell_type": "code",
      "metadata": {
        "execution": {
          "iopub.status.busy": "2021-08-13T05:56:11.059120Z",
          "iopub.execute_input": "2021-08-13T05:56:11.059488Z",
          "iopub.status.idle": "2021-08-13T05:56:11.285177Z",
          "shell.execute_reply.started": "2021-08-13T05:56:11.059455Z",
          "shell.execute_reply": "2021-08-13T05:56:11.283998Z"
        },
        "trusted": true,
        "id": "FBTQbxg5fDxR"
      },
      "source": [
        "# Import the jimmy_slots submodule\n",
        "from learntools.python import jimmy_slots\n",
        "# Call the get_graph() function to get Jimmy's graph\n",
        "graph = jimmy_slots.get_graph()\n",
        "graph"
      ],
      "execution_count": null,
      "outputs": []
    },
    {
      "cell_type": "markdown",
      "metadata": {
        "id": "tlb4HSnMfDxS"
      },
      "source": [
        "As you can see, he's hit a bit of bad luck recently. He wants to tweet this along with some choice emojis, but, as it looks right now, his followers will probably find it confusing. He's asked if you can help him make the following changes:\n",
        "\n",
        "1. Add the title \"Results of 500 slot machine pulls\"\n",
        "2. Make the y-axis start at 0. \n",
        "3. Add the label \"Balance\" to the y-axis\n",
        "\n",
        "After calling `type(graph)` you see that Jimmy's graph is of type `matplotlib.axes._subplots.AxesSubplot`. Hm, that's a new one. By calling `dir(graph)`, you find three methods that seem like they'll be useful: `.set_title()`, `.set_ylim()`, and `.set_ylabel()`. \n",
        "\n",
        "Use these methods to complete the function `prettify_graph` according to Jimmy's requests. We've already checked off the first request for you (setting a title).\n",
        "\n",
        "(Remember: if you don't know what these methods do, use the `help()` function!)"
      ]
    },
    {
      "cell_type": "code",
      "metadata": {
        "execution": {
          "iopub.status.busy": "2021-08-13T05:59:37.481873Z",
          "iopub.execute_input": "2021-08-13T05:59:37.482232Z",
          "iopub.status.idle": "2021-08-13T05:59:37.490275Z",
          "shell.execute_reply.started": "2021-08-13T05:59:37.482202Z",
          "shell.execute_reply": "2021-08-13T05:59:37.488987Z"
        },
        "trusted": true,
        "id": "f-mBWOeGfDxT"
      },
      "source": [
        "ticks = graph.get_yticks()\n",
        "ticks"
      ],
      "execution_count": null,
      "outputs": []
    },
    {
      "cell_type": "code",
      "metadata": {
        "execution": {
          "iopub.status.busy": "2021-08-13T05:56:19.876030Z",
          "iopub.execute_input": "2021-08-13T05:56:19.876383Z",
          "iopub.status.idle": "2021-08-13T05:56:20.073824Z",
          "shell.execute_reply.started": "2021-08-13T05:56:19.876343Z",
          "shell.execute_reply": "2021-08-13T05:56:20.072873Z"
        },
        "trusted": true,
        "id": "0RYN4fX2fDxU"
      },
      "source": [
        "def prettify_graph(graph):\n",
        "    \"\"\"Modify the given graph according to Jimmy's requests: add a title, make the y-axis\n",
        "    start at 0, label the y-axis. (And, if you're feeling ambitious, format the tick marks\n",
        "    as dollar amounts using the \"$\" symbol.)\n",
        "    \"\"\"\n",
        "    graph.set_title(\"Results of 500 slot machine pulls\")\n",
        "   \n",
        "    # y축을 0부터 시작\n",
        "    graph.set_ylim(bottom=0)\n",
        "    # y축 변수명을 balance로 명명\n",
        "    graph.set_ylabel(\"Balance\")\n",
        "    # Bonus: format the numbers on the y-axis as dollar amounts\n",
        "    # An array of the values displayed on the y-axis (150, 175, 200, etc.)\n",
        "    ticks = graph.get_yticks()\n",
        "    # Format those values into strings beginning with dollar sign\n",
        "    new_labels = ['${}'.format(int(amt)) for amt in ticks]\n",
        "    # Set the new labels\n",
        "    graph.set_yticklabels(new_labels)\n",
        "    # Complete steps 2 and 3 here\n",
        "\n",
        "graph = jimmy_slots.get_graph()\n",
        "prettify_graph(graph)\n",
        "graph"
      ],
      "execution_count": null,
      "outputs": []
    },
    {
      "cell_type": "markdown",
      "metadata": {
        "id": "j2euKJD2fDxW"
      },
      "source": [
        "**Bonus:** Can you format the numbers on the y-axis so they look like dollar amounts? e.g. $200 instead of just 200.\n",
        "\n",
        "(We're not going to tell you what method(s) to use here. You'll need to go digging yourself with `dir(graph)` and/or `help(graph)`.)"
      ]
    },
    {
      "cell_type": "code",
      "metadata": {
        "execution": {
          "iopub.status.busy": "2021-08-12T12:03:37.151176Z",
          "iopub.execute_input": "2021-08-12T12:03:37.151551Z",
          "iopub.status.idle": "2021-08-12T12:03:37.160896Z",
          "shell.execute_reply.started": "2021-08-12T12:03:37.151518Z",
          "shell.execute_reply": "2021-08-12T12:03:37.159965Z"
        },
        "trusted": true,
        "id": "FaaAOLRHfDxX"
      },
      "source": [
        "# Check your answer (Run this code cell to receive credit!)\n",
        "q1.solution()"
      ],
      "execution_count": null,
      "outputs": []
    },
    {
      "cell_type": "markdown",
      "metadata": {
        "id": "FJ5DMwR3fDxY"
      },
      "source": [
        "# 2. <span title=\"Spicy\" style=\"color: coral\">🌶️🌶️</span>\n",
        "\n",
        "This is a very challenging problem.  Don't forget that you can receive a hint!\n",
        "\n",
        "Luigi is trying to perform an analysis to determine the best items for winning races on the Mario Kart circuit. He has some data in the form of lists of dictionaries that look like...\n",
        "\n",
        "    [\n",
        "        {'name': 'Peach', 'items': ['green shell', 'banana', 'green shell',], 'finish': 3},\n",
        "        {'name': 'Bowser', 'items': ['green shell',], 'finish': 1},\n",
        "        # Sometimes the racer's name wasn't recorded\n",
        "        {'name': None, 'items': ['mushroom',], 'finish': 2},\n",
        "        {'name': 'Toad', 'items': ['green shell', 'mushroom'], 'finish': 1},\n",
        "    ]\n",
        "\n",
        "`'items'` is a list of all the power-up items the racer picked up in that race, and `'finish'` was their placement in the race (1 for first place, 3 for third, etc.).\n",
        "\n",
        "He wrote the function below to take a list like this and return a dictionary mapping each item to how many times it was picked up by first-place finishers."
      ]
    },
    {
      "cell_type": "code",
      "metadata": {
        "execution": {
          "iopub.status.busy": "2021-08-13T07:10:15.966074Z",
          "iopub.execute_input": "2021-08-13T07:10:15.966443Z",
          "iopub.status.idle": "2021-08-13T07:10:15.973482Z",
          "shell.execute_reply.started": "2021-08-13T07:10:15.966415Z",
          "shell.execute_reply": "2021-08-13T07:10:15.972536Z"
        },
        "trusted": true,
        "id": "EZps0GdTfDxZ"
      },
      "source": [
        "def best_items(racers):\n",
        "    \"\"\"Given a list of racer dictionaries, return a dictionary mapping items to the number\n",
        "    of times those items were picked up by racers who finished in first place.\n",
        "    \"\"\"\n",
        "    winner_item_counts = {}\n",
        "    for i in range(len(racers)):\n",
        "        # i번째 racer 사전에서 key값\n",
        "        racer = racers[i]\n",
        "        # finish가 1 인 racer의 딕셔너리값을 구하고 그 딕셔너리에서 item의 수를 세라\n",
        "        if racer['finish'] == 1:\n",
        "            for i in racer['items']:\n",
        "                # winner_item_counts에 없으면 추가해서 카운트하기\n",
        "                if i not in winner_item_counts:\n",
        "                    winner_item_counts[i] = 0\n",
        "                winner_item_counts[i] += 1\n",
        "\n",
        "        # Data quality issues :/ Print a warning about racers with no name set. We'll take care of it later.\n",
        "        if racer['name'] is None:\n",
        "            print(\"WARNING: Encountered racer with unknown name on iteration {}/{} (racer = {})\".format(\n",
        "                i+1, len(racers), racer['name'])\n",
        "                 )\n",
        "    return winner_item_counts\n"
      ],
      "execution_count": null,
      "outputs": []
    },
    {
      "cell_type": "markdown",
      "metadata": {
        "id": "Be9kSvQYfDxa"
      },
      "source": [
        "He tried it on a small example list above and it seemed to work correctly:"
      ]
    },
    {
      "cell_type": "code",
      "metadata": {
        "execution": {
          "iopub.status.busy": "2021-08-13T07:06:08.120605Z",
          "iopub.execute_input": "2021-08-13T07:06:08.120979Z",
          "iopub.status.idle": "2021-08-13T07:06:08.133087Z",
          "shell.execute_reply.started": "2021-08-13T07:06:08.120946Z",
          "shell.execute_reply": "2021-08-13T07:06:08.132019Z"
        },
        "trusted": true,
        "id": "xQrahHjNfDxa"
      },
      "source": [
        "sample = [\n",
        "    {'name': 'Peach', 'items': ['green shell', 'banana', 'green shell',], 'finish': 3},\n",
        "    {'name': 'Bowser', 'items': ['green shell',], 'finish': 1},\n",
        "    {'name': None, 'items': ['mushroom',], 'finish': 2},\n",
        "    {'name': 'Toad', 'items': ['green shell', 'mushroom'], 'finish': 1},\n",
        "]\n",
        "best_items(sample)"
      ],
      "execution_count": null,
      "outputs": []
    },
    {
      "cell_type": "markdown",
      "metadata": {
        "id": "H5JPuWOpfDxb"
      },
      "source": [
        "However, when he tried running it on his full dataset, the program crashed with a `TypeError`.\n",
        "\n",
        "Can you guess why? Try running the code cell below to see the error message Luigi is getting. Once you've identified the bug, fix it in the cell below (so that it runs without any errors).\n",
        "\n",
        "Hint: Luigi's bug is similar to one we encountered in the [tutorial](https://www.kaggle.com/colinmorris/working-with-external-libraries) when we talked about star imports."
      ]
    },
    {
      "cell_type": "code",
      "metadata": {
        "tags": [
          "raises-exception"
        ],
        "execution": {
          "iopub.status.busy": "2021-08-13T07:29:00.125756Z",
          "iopub.execute_input": "2021-08-13T07:29:00.126136Z",
          "iopub.status.idle": "2021-08-13T07:29:00.137472Z",
          "shell.execute_reply.started": "2021-08-13T07:29:00.126100Z",
          "shell.execute_reply": "2021-08-13T07:29:00.136207Z"
        },
        "trusted": true,
        "id": "4caC-0CvfDxc"
      },
      "source": [
        "# Import luigi's full dataset of race data\n",
        "from learntools.python.luigi_analysis import full_dataset\n",
        "\n",
        "# Fix me!\n",
        "def best_items(racers):\n",
        "    winner_item_counts = {} #\n",
        "    \n",
        "    for i in range(len(racers)):\n",
        "        # The i'th racer dictionary( i는 int값)\n",
        "        racer = racers[i]# racer의 type은 딕셔너리\n",
        "        if racer['finish'] == 1:\n",
        "            for item in racer['items']:# i는 리스트(item)에서 나온 string 값/ i => item 바꿔주어 상위 반복문의 i값과 별개의 변수로지정\n",
        "                if item not in winner_item_counts:\n",
        "                    winner_item_counts[item] = 0 #winner_item_counts의 딕셔너리에 key값 추가 후 0으로 설정\n",
        "                winner_item_counts[item] += 1 # key값에 +1씩 추가\n",
        "\n",
        "        # Data quality issues :/ Print a warning about racers with no name set. We'll take care of it later.\n",
        "        if racer['name'] is None:\n",
        "            print(\"WARNING: Encountered racer with unknown name on iteration {}/{} (racer = {})\".format(\n",
        "                i+1, len(racers), racer['name'])\n",
        "                 )\n",
        "    return winner_item_counts\n",
        "\n",
        "# Try analyzing the imported full dataset\n",
        "best_items(full_dataset)"
      ],
      "execution_count": null,
      "outputs": []
    },
    {
      "cell_type": "code",
      "metadata": {
        "execution": {
          "iopub.status.busy": "2021-08-13T07:24:57.538553Z",
          "iopub.execute_input": "2021-08-13T07:24:57.538916Z",
          "iopub.status.idle": "2021-08-13T07:24:57.544813Z",
          "shell.execute_reply.started": "2021-08-13T07:24:57.538879Z",
          "shell.execute_reply": "2021-08-13T07:24:57.543430Z"
        },
        "trusted": true,
        "id": "0yDSb6e5fDxc"
      },
      "source": [
        "winner_item_counts = {} \n",
        "winner_item_counts['star'] = 1\n",
        "winner_item_counts['star'] += 3\n",
        "print(winner_item_counts)"
      ],
      "execution_count": null,
      "outputs": []
    },
    {
      "cell_type": "code",
      "metadata": {
        "execution": {
          "iopub.status.busy": "2021-08-13T07:13:29.663366Z",
          "iopub.execute_input": "2021-08-13T07:13:29.663802Z",
          "iopub.status.idle": "2021-08-13T07:13:29.672361Z",
          "shell.execute_reply.started": "2021-08-13T07:13:29.663770Z",
          "shell.execute_reply": "2021-08-13T07:13:29.671253Z"
        },
        "trusted": true,
        "id": "yWy-wp3efDxd"
      },
      "source": [
        "q2.hint()"
      ],
      "execution_count": null,
      "outputs": []
    },
    {
      "cell_type": "code",
      "metadata": {
        "execution": {
          "iopub.status.busy": "2021-08-13T07:29:07.590985Z",
          "iopub.execute_input": "2021-08-13T07:29:07.591407Z",
          "iopub.status.idle": "2021-08-13T07:29:07.599789Z",
          "shell.execute_reply.started": "2021-08-13T07:29:07.591376Z",
          "shell.execute_reply": "2021-08-13T07:29:07.598739Z"
        },
        "trusted": true,
        "id": "LxpBJPsdfDxd"
      },
      "source": [
        "# Check your answer (Run this code cell to receive credit!)\n",
        "q2.solution()"
      ],
      "execution_count": null,
      "outputs": []
    },
    {
      "cell_type": "markdown",
      "metadata": {
        "id": "KSLnD5HXfDxd"
      },
      "source": [
        "# 3. <span title=\"A bit spicy\" style=\"color: darkgreen \">🌶️</span>\n",
        "\n",
        "Suppose we wanted to create a new type to represent hands in blackjack. One thing we might want to do with this type is overload the comparison operators like `>` and `<=` so that we could use them to check whether one hand beats another. e.g. it'd be cool if we could do this:\n",
        "\n",
        "```python\n",
        ">>> hand1 = BlackjackHand(['K', 'A'])\n",
        ">>> hand2 = BlackjackHand(['7', '10', 'A'])\n",
        ">>> hand1 > hand2\n",
        "True\n",
        "```\n",
        "\n",
        "Well, we're not going to do all that in this question (defining custom classes is a bit beyond the scope of these lessons), but the code we're asking you to write in the function below is very similar to what we'd have to write if we were defining our own `BlackjackHand` class. (We'd put it in the `__gt__` magic method to define our custom behaviour for `>`.)\n",
        "\n",
        "Fill in the body of the `blackjack_hand_greater_than` function according to the docstring."
      ]
    },
    {
      "cell_type": "code",
      "metadata": {
        "execution": {
          "iopub.status.busy": "2021-08-13T07:47:46.933847Z",
          "iopub.execute_input": "2021-08-13T07:47:46.934221Z",
          "iopub.status.idle": "2021-08-13T07:47:46.947925Z",
          "shell.execute_reply.started": "2021-08-13T07:47:46.934190Z",
          "shell.execute_reply": "2021-08-13T07:47:46.947013Z"
        },
        "trusted": true,
        "id": "z_ucl_TzfDxe"
      },
      "source": [
        "def blackjack_hand_greater_than(hand_1, hand_2):\n",
        "    \"\"\"\n",
        "    Return True if hand_1 beats hand_2, and False otherwise.\n",
        "    \n",
        "    In order for hand_1 to beat hand_2 the following must be true:\n",
        "    - The total of hand_1 must not exceed 21\n",
        "    - The total of hand_1 must exceed the total of hand_2 OR hand_2's total must exceed 21\n",
        "    \n",
        "    Hands are represented as a list of cards. Each card is represented by a string.\n",
        "    \n",
        "    When adding up a hand's total, cards with numbers count for that many points. Face\n",
        "    cards ('J', 'Q', and 'K') are worth 10 points. 'A' can count for 1 or 11.\n",
        "    \n",
        "    When determining a hand's total, you should try to count aces in the way that \n",
        "    maximizes the hand's total without going over 21. e.g. the total of ['A', 'A', '9'] is 21,\n",
        "    the total of ['A', 'A', '9', '3'] is 14.\n",
        "    \n",
        "    Examples:\n",
        "    >>> blackjack_hand_greater_than(['K'], ['3', '4'])\n",
        "    True\n",
        "    >>> blackjack_hand_greater_than(['K'], ['10'])\n",
        "    False\n",
        "    >>> blackjack_hand_greater_than(['K', 'K', '2'], ['3'])\n",
        "    False\n",
        "    \"\"\"\n",
        "def hand_total(hand):\n",
        "    \"\"\"각 hand의 총합을 구하는 함수를 정의\n",
        "    \"\"\"\n",
        "    total = 0 #총합\n",
        "    \n",
        "    aces = 0 # A의 갯수, 바로계산하는 것이 아닌 A의 갯수를 세서 21에 근접하게 만듬\n",
        "    for card in hand:\n",
        "        if card in ['J', 'Q', 'K']:\n",
        "            total += 10\n",
        "        elif card == 'A':\n",
        "            aces += 1\n",
        "        else:\n",
        "            total += int(card) #나머지 숫자들 더함\n",
        "    # aces를 더할때의 알고리즘\n",
        "    total += aces\n",
        "    # 21이 넘지 않도록 ace를 11로 만들어 줄때 \n",
        "    while total + 10 <= 21 and aces > 0:\n",
        "        \n",
        "        total += 10 #이미 ace 숫자를 더해서 11이 아닌 10을 더해줌\n",
        "        aces -= 1 #이미 ace 숫자를 더해서 1를 빼줌\n",
        "    return total\n",
        "\n",
        "def blackjack_hand_greater_than(hand_1, hand_2):\n",
        "    total_1 = hand_total(hand_1)\n",
        "    total_2 = hand_total(hand_2)\n",
        "    return total_1 <= 21 and (total_1 > total_2 or total_2 > 21)\n",
        "# Check your answer\n",
        "q3.check()"
      ],
      "execution_count": null,
      "outputs": []
    },
    {
      "cell_type": "code",
      "metadata": {
        "id": "NC5KrAOTfDxf"
      },
      "source": [
        "helper()"
      ],
      "execution_count": null,
      "outputs": []
    },
    {
      "cell_type": "code",
      "metadata": {
        "execution": {
          "iopub.status.busy": "2021-08-13T07:40:36.809747Z",
          "iopub.execute_input": "2021-08-13T07:40:36.810120Z",
          "iopub.status.idle": "2021-08-13T07:40:36.820922Z",
          "shell.execute_reply.started": "2021-08-13T07:40:36.810090Z",
          "shell.execute_reply": "2021-08-13T07:40:36.819966Z"
        },
        "trusted": true,
        "id": "h0FlSNusfDxf"
      },
      "source": [
        "q3.hint()\n",
        "q3.solution()"
      ],
      "execution_count": null,
      "outputs": []
    },
    {
      "cell_type": "markdown",
      "metadata": {
        "id": "SrBdH75FfDxg"
      },
      "source": [
        "# The End\n",
        "\n",
        "You've finished the Python course. Congrats!\n",
        "\n",
        "You probably didn't put in all these hours of learning Python just to play silly games of chance, right? If you're interested in applying your newfound Python skills to some data science tasks, we strongly recommend **[this tutorial](https://www.kaggle.com/alexisbcook/titanic-tutorial)**, which will teach you how to make your very first submission to a Kaggle competition.\n",
        "\n",
        "You can also check out some of our other **[Kaggle Courses](https://www.kaggle.com/learn/overview)**. Some good next steps are:\n",
        "\n",
        "1. [Intro to Machine Learning](https://www.kaggle.com/learn/intro-to-machine-learning)\n",
        "2. [Pandas for data manipulation](https://www.kaggle.com/learn/pandas)\n",
        "3. [Data Visualization](https://www.kaggle.com/learn/data-visualization)\n",
        "\n",
        "Happy Pythoning!"
      ]
    },
    {
      "cell_type": "markdown",
      "metadata": {
        "id": "Zjg2oKfRfDxg"
      },
      "source": [
        "---\n",
        "\n",
        "\n",
        "\n",
        "\n",
        "*Have questions or comments? Visit the [Learn Discussion forum](https://www.kaggle.com/learn-forum/161283) to chat with other Learners.*"
      ]
    }
  ]
}