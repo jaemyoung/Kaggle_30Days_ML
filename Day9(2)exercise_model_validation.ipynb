{
  "nbformat": 4,
  "nbformat_minor": 5,
  "metadata": {
    "kernelspec": {
      "display_name": "Python 3",
      "language": "python",
      "name": "python3"
    },
    "language_info": {
      "codemirror_mode": {
        "name": "ipython",
        "version": 3
      },
      "file_extension": ".py",
      "mimetype": "text/x-python",
      "name": "python",
      "nbconvert_exporter": "python",
      "pygments_lexer": "ipython3",
      "version": "3.7.10"
    },
    "papermill": {
      "default_parameters": {},
      "duration": 13.937036,
      "end_time": "2021-08-17T08:36:19.141076",
      "environment_variables": {},
      "exception": null,
      "input_path": "__notebook__.ipynb",
      "output_path": "__notebook__.ipynb",
      "parameters": {},
      "start_time": "2021-08-17T08:36:05.204040",
      "version": "2.3.3"
    },
    "colab": {
      "name": "Day9(2)exercise-model-validation.ipynb",
      "provenance": [],
      "include_colab_link": true
    }
  },
  "cells": [
    {
      "cell_type": "markdown",
      "metadata": {
        "id": "view-in-github",
        "colab_type": "text"
      },
      "source": [
        "<a href=\"https://colab.research.google.com/github/jaemyoung/Kaggle_30Days_ML/blob/main/Day9(2)exercise_model_validation.ipynb\" target=\"_parent\"><img src=\"https://colab.research.google.com/assets/colab-badge.svg\" alt=\"Open In Colab\"/></a>"
      ]
    },
    {
      "cell_type": "markdown",
      "metadata": {
        "papermill": {
          "duration": 0.015055,
          "end_time": "2021-08-17T08:36:14.870664",
          "exception": false,
          "start_time": "2021-08-17T08:36:14.855609",
          "status": "completed"
        },
        "tags": [],
        "id": "9eac32e0"
      },
      "source": [
        "**This notebook is an exercise in the [Introduction to Machine Learning](https://www.kaggle.com/learn/intro-to-machine-learning) course.  You can reference the tutorial at [this link](https://www.kaggle.com/dansbecker/model-validation).**\n",
        "\n",
        "---\n"
      ],
      "id": "9eac32e0"
    },
    {
      "cell_type": "markdown",
      "metadata": {
        "papermill": {
          "duration": 0.013382,
          "end_time": "2021-08-17T08:36:14.898304",
          "exception": false,
          "start_time": "2021-08-17T08:36:14.884922",
          "status": "completed"
        },
        "tags": [],
        "id": "c9da7e61"
      },
      "source": [
        "## Recap\n",
        "You've built a model. In this exercise you will test how good your model is.\n",
        "\n",
        "Run the cell below to set up your coding environment where the previous exercise left off."
      ],
      "id": "c9da7e61"
    },
    {
      "cell_type": "code",
      "metadata": {
        "execution": {
          "iopub.execute_input": "2021-08-17T08:36:14.942608Z",
          "iopub.status.busy": "2021-08-17T08:36:14.937090Z",
          "iopub.status.idle": "2021-08-17T08:36:16.531907Z",
          "shell.execute_reply": "2021-08-17T08:36:16.530963Z",
          "shell.execute_reply.started": "2021-08-17T08:06:22.461485Z"
        },
        "papermill": {
          "duration": 1.620041,
          "end_time": "2021-08-17T08:36:16.532128",
          "exception": false,
          "start_time": "2021-08-17T08:36:14.912087",
          "status": "completed"
        },
        "tags": [],
        "id": "1656fdda",
        "outputId": "888c5cbd-284e-432c-bf42-397d66329b8c"
      },
      "source": [
        "# Code you have previously used to load data\n",
        "import pandas as pd\n",
        "from sklearn.tree import DecisionTreeRegressor\n",
        "\n",
        "# Path of the file to read\n",
        "iowa_file_path = '../input/home-data-for-ml-course/train.csv'\n",
        "\n",
        "home_data = pd.read_csv(iowa_file_path)\n",
        "y = home_data.SalePrice\n",
        "feature_columns = ['LotArea', 'YearBuilt', '1stFlrSF', '2ndFlrSF', 'FullBath', 'BedroomAbvGr', 'TotRmsAbvGrd']\n",
        "X = home_data[feature_columns]\n",
        "\n",
        "# Specify Model\n",
        "iowa_model = DecisionTreeRegressor()\n",
        "# Fit Model\n",
        "iowa_model.fit(X, y)\n",
        "\n",
        "print(\"First in-sample predictions:\", iowa_model.predict(X.head()))\n",
        "print(\"Actual target values for those homes:\", y.head().tolist())\n",
        "\n",
        "# Set up code checking\n",
        "from learntools.core import binder\n",
        "binder.bind(globals())\n",
        "from learntools.machine_learning.ex4 import *\n",
        "print(\"Setup Complete\")"
      ],
      "id": "1656fdda",
      "execution_count": null,
      "outputs": [
        {
          "output_type": "stream",
          "text": [
            "First in-sample predictions: [208500. 181500. 223500. 140000. 250000.]\n",
            "Actual target values for those homes: [208500, 181500, 223500, 140000, 250000]\n",
            "Setup Complete\n"
          ],
          "name": "stdout"
        }
      ]
    },
    {
      "cell_type": "markdown",
      "metadata": {
        "papermill": {
          "duration": 0.0141,
          "end_time": "2021-08-17T08:36:16.561199",
          "exception": false,
          "start_time": "2021-08-17T08:36:16.547099",
          "status": "completed"
        },
        "tags": [],
        "id": "777e8f26"
      },
      "source": [
        "# Exercises\n",
        "\n",
        "## Step 1: Split Your Data\n",
        "Use the `train_test_split` function to split up your data.\n",
        "\n",
        "Give it the argument `random_state=1` so the `check` functions know what to expect when verifying your code.\n",
        "\n",
        "Recall, your features are loaded in the DataFrame **X** and your target is loaded in **y**.\n"
      ],
      "id": "777e8f26"
    },
    {
      "cell_type": "code",
      "metadata": {
        "execution": {
          "iopub.execute_input": "2021-08-17T08:36:16.600553Z",
          "iopub.status.busy": "2021-08-17T08:36:16.598317Z",
          "iopub.status.idle": "2021-08-17T08:36:16.632015Z",
          "shell.execute_reply": "2021-08-17T08:36:16.632480Z",
          "shell.execute_reply.started": "2021-08-17T08:25:28.687101Z"
        },
        "papermill": {
          "duration": 0.056049,
          "end_time": "2021-08-17T08:36:16.632722",
          "exception": false,
          "start_time": "2021-08-17T08:36:16.576673",
          "status": "completed"
        },
        "tags": [],
        "id": "37c7f684",
        "outputId": "bb3429ab-52ec-474b-a776-12f2a12aabeb"
      },
      "source": [
        "# Import the train_test_split function and uncomment\n",
        "from sklearn.model_selection import train_test_split\n",
        "\n",
        "# fill in and uncomment\n",
        "train_X, val_X, train_y, val_y = train_test_split(X,y,random_state= 1)\n",
        "\n",
        "# Check your answer\n",
        "step_1.check()"
      ],
      "id": "37c7f684",
      "execution_count": null,
      "outputs": [
        {
          "output_type": "display_data",
          "data": {
            "application/javascript": [
              "parent.postMessage({\"jupyterEvent\": \"custom.exercise_interaction\", \"data\": {\"outcomeType\": 1, \"valueTowardsCompletion\": 0.25, \"interactionType\": 1, \"questionType\": 2, \"questionId\": \"1_SplitData\", \"learnToolsVersion\": \"0.3.4\", \"failureMessage\": \"\", \"exceptionClass\": \"\", \"trace\": \"\"}}, \"*\")"
            ],
            "text/plain": [
              "<IPython.core.display.Javascript object>"
            ]
          },
          "metadata": {
            "tags": []
          }
        },
        {
          "output_type": "display_data",
          "data": {
            "text/markdown": "<span style=\"color:#33cc33\">Correct</span>",
            "text/plain": [
              "Correct"
            ]
          },
          "metadata": {
            "tags": []
          }
        }
      ]
    },
    {
      "cell_type": "code",
      "metadata": {
        "execution": {
          "iopub.execute_input": "2021-08-17T08:36:16.669713Z",
          "iopub.status.busy": "2021-08-17T08:36:16.668922Z",
          "iopub.status.idle": "2021-08-17T08:36:16.679784Z",
          "shell.execute_reply": "2021-08-17T08:36:16.679214Z",
          "shell.execute_reply.started": "2021-08-17T08:25:31.886802Z"
        },
        "papermill": {
          "duration": 0.031881,
          "end_time": "2021-08-17T08:36:16.679947",
          "exception": false,
          "start_time": "2021-08-17T08:36:16.648066",
          "status": "completed"
        },
        "tags": [],
        "id": "24ad2760",
        "outputId": "a48065c9-a950-4adb-a039-fdc45a07aff1"
      },
      "source": [
        "# The lines below will show you a hint or the solution.\n",
        "step_1.hint() \n",
        "step_1.solution()\n"
      ],
      "id": "24ad2760",
      "execution_count": null,
      "outputs": [
        {
          "output_type": "display_data",
          "data": {
            "application/javascript": [
              "parent.postMessage({\"jupyterEvent\": \"custom.exercise_interaction\", \"data\": {\"interactionType\": 2, \"questionType\": 2, \"questionId\": \"1_SplitData\", \"learnToolsVersion\": \"0.3.4\", \"valueTowardsCompletion\": 0.0, \"failureMessage\": \"\", \"exceptionClass\": \"\", \"trace\": \"\", \"outcomeType\": 4}}, \"*\")"
            ],
            "text/plain": [
              "<IPython.core.display.Javascript object>"
            ]
          },
          "metadata": {
            "tags": []
          }
        },
        {
          "output_type": "display_data",
          "data": {
            "text/markdown": "<span style=\"color:#3366cc\">Hint:</span> The function you need to import is part of sklearn. When calling the function, the arguments are X and y. Ensure you set the random_state to 1.",
            "text/plain": [
              "Hint: The function you need to import is part of sklearn. When calling the function, the arguments are X and y. Ensure you set the random_state to 1."
            ]
          },
          "metadata": {
            "tags": []
          }
        },
        {
          "output_type": "display_data",
          "data": {
            "application/javascript": [
              "parent.postMessage({\"jupyterEvent\": \"custom.exercise_interaction\", \"data\": {\"interactionType\": 3, \"questionType\": 2, \"questionId\": \"1_SplitData\", \"learnToolsVersion\": \"0.3.4\", \"valueTowardsCompletion\": 0.0, \"failureMessage\": \"\", \"exceptionClass\": \"\", \"trace\": \"\", \"outcomeType\": 4}}, \"*\")"
            ],
            "text/plain": [
              "<IPython.core.display.Javascript object>"
            ]
          },
          "metadata": {
            "tags": []
          }
        },
        {
          "output_type": "display_data",
          "data": {
            "text/markdown": "<span style=\"color:#33cc99\">Solution:</span> \n```python\nfrom sklearn.model_selection import train_test_split\ntrain_X, val_X, train_y, val_y = train_test_split(X, y, random_state=1)\n```",
            "text/plain": [
              "Solution: \n",
              "```python\n",
              "from sklearn.model_selection import train_test_split\n",
              "train_X, val_X, train_y, val_y = train_test_split(X, y, random_state=1)\n",
              "```"
            ]
          },
          "metadata": {
            "tags": []
          }
        }
      ]
    },
    {
      "cell_type": "markdown",
      "metadata": {
        "papermill": {
          "duration": 0.016852,
          "end_time": "2021-08-17T08:36:16.714307",
          "exception": false,
          "start_time": "2021-08-17T08:36:16.697455",
          "status": "completed"
        },
        "tags": [],
        "id": "5fbece02"
      },
      "source": [
        "## Step 2: Specify and Fit the Model\n",
        "\n",
        "Create a `DecisionTreeRegressor` model and fit it to the relevant data.\n",
        "Set `random_state` to 1 again when creating the model."
      ],
      "id": "5fbece02"
    },
    {
      "cell_type": "code",
      "metadata": {
        "execution": {
          "iopub.execute_input": "2021-08-17T08:36:16.757371Z",
          "iopub.status.busy": "2021-08-17T08:36:16.756679Z",
          "iopub.status.idle": "2021-08-17T08:36:16.782170Z",
          "shell.execute_reply": "2021-08-17T08:36:16.782666Z",
          "shell.execute_reply.started": "2021-08-17T08:27:35.344314Z"
        },
        "papermill": {
          "duration": 0.051398,
          "end_time": "2021-08-17T08:36:16.782875",
          "exception": false,
          "start_time": "2021-08-17T08:36:16.731477",
          "status": "completed"
        },
        "tags": [],
        "id": "504bc9af",
        "outputId": "284bba86-3b81-4feb-a366-1530d3372f4c"
      },
      "source": [
        "# You imported DecisionTreeRegressor in your last exercise\n",
        "# and that code has been copied to the setup code above. So, no need to\n",
        "# import it again\n",
        "\n",
        "# Specify the model\n",
        "iowa_model = DecisionTreeRegressor(random_state=1) # train_test_split 할때 random_state가 1이라서 동일하게 1로 설정\n",
        "\n",
        "# Fit iowa_model with the training data.\n",
        "iowa_model.fit(train_X, train_y)\n",
        "\n",
        "# Check your answer\n",
        "step_2.check()"
      ],
      "id": "504bc9af",
      "execution_count": null,
      "outputs": [
        {
          "output_type": "stream",
          "text": [
            "[186500. 184000. 130000.  92000. 164500. 220000. 335000. 144152. 215000.\n",
            " 262000.]\n",
            "[186500. 184000. 130000.  92000. 164500. 220000. 335000. 144152. 215000.\n",
            " 262000.]\n"
          ],
          "name": "stdout"
        },
        {
          "output_type": "display_data",
          "data": {
            "application/javascript": [
              "parent.postMessage({\"jupyterEvent\": \"custom.exercise_interaction\", \"data\": {\"outcomeType\": 1, \"valueTowardsCompletion\": 0.25, \"interactionType\": 1, \"questionType\": 2, \"questionId\": \"2_FitModelWithTrain\", \"learnToolsVersion\": \"0.3.4\", \"failureMessage\": \"\", \"exceptionClass\": \"\", \"trace\": \"\"}}, \"*\")"
            ],
            "text/plain": [
              "<IPython.core.display.Javascript object>"
            ]
          },
          "metadata": {
            "tags": []
          }
        },
        {
          "output_type": "display_data",
          "data": {
            "text/markdown": "<span style=\"color:#33cc33\">Correct</span>",
            "text/plain": [
              "Correct"
            ]
          },
          "metadata": {
            "tags": []
          }
        }
      ]
    },
    {
      "cell_type": "code",
      "metadata": {
        "execution": {
          "iopub.execute_input": "2021-08-17T08:36:16.825807Z",
          "iopub.status.busy": "2021-08-17T08:36:16.825048Z",
          "iopub.status.idle": "2021-08-17T08:36:16.836229Z",
          "shell.execute_reply": "2021-08-17T08:36:16.835564Z",
          "shell.execute_reply.started": "2021-08-17T08:15:34.359426Z"
        },
        "papermill": {
          "duration": 0.035248,
          "end_time": "2021-08-17T08:36:16.836401",
          "exception": false,
          "start_time": "2021-08-17T08:36:16.801153",
          "status": "completed"
        },
        "tags": [],
        "id": "c4aade26",
        "outputId": "9a10b9e5-35b2-4bed-af82-4109ec83d6b8"
      },
      "source": [
        "step_2.hint()\n",
        "step_2.solution()"
      ],
      "id": "c4aade26",
      "execution_count": null,
      "outputs": [
        {
          "output_type": "display_data",
          "data": {
            "application/javascript": [
              "parent.postMessage({\"jupyterEvent\": \"custom.exercise_interaction\", \"data\": {\"interactionType\": 2, \"questionType\": 2, \"questionId\": \"2_FitModelWithTrain\", \"learnToolsVersion\": \"0.3.4\", \"valueTowardsCompletion\": 0.0, \"failureMessage\": \"\", \"exceptionClass\": \"\", \"trace\": \"\", \"outcomeType\": 4}}, \"*\")"
            ],
            "text/plain": [
              "<IPython.core.display.Javascript object>"
            ]
          },
          "metadata": {
            "tags": []
          }
        },
        {
          "output_type": "display_data",
          "data": {
            "text/markdown": "<span style=\"color:#3366cc\">Hint:</span> Remember, you fit with training data. You will test with validation data soon",
            "text/plain": [
              "Hint: Remember, you fit with training data. You will test with validation data soon"
            ]
          },
          "metadata": {
            "tags": []
          }
        },
        {
          "output_type": "display_data",
          "data": {
            "application/javascript": [
              "parent.postMessage({\"jupyterEvent\": \"custom.exercise_interaction\", \"data\": {\"interactionType\": 3, \"questionType\": 2, \"questionId\": \"2_FitModelWithTrain\", \"learnToolsVersion\": \"0.3.4\", \"valueTowardsCompletion\": 0.0, \"failureMessage\": \"\", \"exceptionClass\": \"\", \"trace\": \"\", \"outcomeType\": 4}}, \"*\")"
            ],
            "text/plain": [
              "<IPython.core.display.Javascript object>"
            ]
          },
          "metadata": {
            "tags": []
          }
        },
        {
          "output_type": "display_data",
          "data": {
            "text/markdown": "<span style=\"color:#33cc99\">Solution:</span> \n```python\niowa_model = DecisionTreeRegressor(random_state=1)\niowa_model.fit(train_X, train_y)\n```",
            "text/plain": [
              "Solution: \n",
              "```python\n",
              "iowa_model = DecisionTreeRegressor(random_state=1)\n",
              "iowa_model.fit(train_X, train_y)\n",
              "```"
            ]
          },
          "metadata": {
            "tags": []
          }
        }
      ]
    },
    {
      "cell_type": "markdown",
      "metadata": {
        "papermill": {
          "duration": 0.01996,
          "end_time": "2021-08-17T08:36:16.877075",
          "exception": false,
          "start_time": "2021-08-17T08:36:16.857115",
          "status": "completed"
        },
        "tags": [],
        "id": "65dbe844"
      },
      "source": [
        "## Step 3: Make Predictions with Validation data\n"
      ],
      "id": "65dbe844"
    },
    {
      "cell_type": "code",
      "metadata": {
        "execution": {
          "iopub.execute_input": "2021-08-17T08:36:16.926612Z",
          "iopub.status.busy": "2021-08-17T08:36:16.924810Z",
          "iopub.status.idle": "2021-08-17T08:36:16.934483Z",
          "shell.execute_reply": "2021-08-17T08:36:16.933825Z",
          "shell.execute_reply.started": "2021-08-17T08:34:44.332938Z"
        },
        "papermill": {
          "duration": 0.037288,
          "end_time": "2021-08-17T08:36:16.934714",
          "exception": false,
          "start_time": "2021-08-17T08:36:16.897426",
          "status": "completed"
        },
        "tags": [],
        "id": "68cf49a8",
        "outputId": "cb746254-77cb-4b2f-d7c6-fe7a98c37fa6"
      },
      "source": [
        "# Predict with all validation observations\n",
        "val_predictions = iowa_model.predict(val_X)\n",
        "# Check your answer\n",
        "step_3.check()"
      ],
      "id": "68cf49a8",
      "execution_count": null,
      "outputs": [
        {
          "output_type": "display_data",
          "data": {
            "application/javascript": [
              "parent.postMessage({\"jupyterEvent\": \"custom.exercise_interaction\", \"data\": {\"outcomeType\": 1, \"valueTowardsCompletion\": 0.25, \"interactionType\": 1, \"questionType\": 2, \"questionId\": \"3_ValPreds\", \"learnToolsVersion\": \"0.3.4\", \"failureMessage\": \"\", \"exceptionClass\": \"\", \"trace\": \"\"}}, \"*\")"
            ],
            "text/plain": [
              "<IPython.core.display.Javascript object>"
            ]
          },
          "metadata": {
            "tags": []
          }
        },
        {
          "output_type": "display_data",
          "data": {
            "text/markdown": "<span style=\"color:#33cc33\">Correct</span>",
            "text/plain": [
              "Correct"
            ]
          },
          "metadata": {
            "tags": []
          }
        }
      ]
    },
    {
      "cell_type": "code",
      "metadata": {
        "execution": {
          "iopub.execute_input": "2021-08-17T08:36:16.983817Z",
          "iopub.status.busy": "2021-08-17T08:36:16.983115Z",
          "iopub.status.idle": "2021-08-17T08:36:16.990226Z",
          "shell.execute_reply": "2021-08-17T08:36:16.990748Z",
          "shell.execute_reply.started": "2021-08-17T08:18:26.023787Z"
        },
        "papermill": {
          "duration": 0.034576,
          "end_time": "2021-08-17T08:36:16.990939",
          "exception": false,
          "start_time": "2021-08-17T08:36:16.956363",
          "status": "completed"
        },
        "tags": [],
        "id": "01dfba41",
        "outputId": "a742db0c-3c75-40a8-d47d-dd600cf4013c"
      },
      "source": [
        "step_3.hint()\n",
        "step_3.solution()"
      ],
      "id": "01dfba41",
      "execution_count": null,
      "outputs": [
        {
          "output_type": "display_data",
          "data": {
            "application/javascript": [
              "parent.postMessage({\"jupyterEvent\": \"custom.exercise_interaction\", \"data\": {\"interactionType\": 2, \"questionType\": 2, \"questionId\": \"3_ValPreds\", \"learnToolsVersion\": \"0.3.4\", \"valueTowardsCompletion\": 0.0, \"failureMessage\": \"\", \"exceptionClass\": \"\", \"trace\": \"\", \"outcomeType\": 4}}, \"*\")"
            ],
            "text/plain": [
              "<IPython.core.display.Javascript object>"
            ]
          },
          "metadata": {
            "tags": []
          }
        },
        {
          "output_type": "display_data",
          "data": {
            "text/markdown": "<span style=\"color:#3366cc\">Hint:</span> Run predict on the right validation data object.",
            "text/plain": [
              "Hint: Run predict on the right validation data object."
            ]
          },
          "metadata": {
            "tags": []
          }
        },
        {
          "output_type": "display_data",
          "data": {
            "application/javascript": [
              "parent.postMessage({\"jupyterEvent\": \"custom.exercise_interaction\", \"data\": {\"interactionType\": 3, \"questionType\": 2, \"questionId\": \"3_ValPreds\", \"learnToolsVersion\": \"0.3.4\", \"valueTowardsCompletion\": 0.0, \"failureMessage\": \"\", \"exceptionClass\": \"\", \"trace\": \"\", \"outcomeType\": 4}}, \"*\")"
            ],
            "text/plain": [
              "<IPython.core.display.Javascript object>"
            ]
          },
          "metadata": {
            "tags": []
          }
        },
        {
          "output_type": "display_data",
          "data": {
            "text/markdown": "<span style=\"color:#33cc99\">Solution:</span> \n```python\nval_predictions = iowa_model.predict(val_X)\n```",
            "text/plain": [
              "Solution: \n",
              "```python\n",
              "val_predictions = iowa_model.predict(val_X)\n",
              "```"
            ]
          },
          "metadata": {
            "tags": []
          }
        }
      ]
    },
    {
      "cell_type": "markdown",
      "metadata": {
        "papermill": {
          "duration": 0.024085,
          "end_time": "2021-08-17T08:36:17.039074",
          "exception": false,
          "start_time": "2021-08-17T08:36:17.014989",
          "status": "completed"
        },
        "tags": [],
        "id": "c6c3006d"
      },
      "source": [
        "Inspect your predictions and actual values from validation data."
      ],
      "id": "c6c3006d"
    },
    {
      "cell_type": "code",
      "metadata": {
        "execution": {
          "iopub.execute_input": "2021-08-17T08:36:17.091666Z",
          "iopub.status.busy": "2021-08-17T08:36:17.091003Z",
          "iopub.status.idle": "2021-08-17T08:36:17.098487Z",
          "shell.execute_reply": "2021-08-17T08:36:17.099002Z",
          "shell.execute_reply.started": "2021-08-17T08:25:38.653466Z"
        },
        "papermill": {
          "duration": 0.035841,
          "end_time": "2021-08-17T08:36:17.099180",
          "exception": false,
          "start_time": "2021-08-17T08:36:17.063339",
          "status": "completed"
        },
        "tags": [],
        "id": "e3b08bd8",
        "outputId": "8605a6b9-768a-4723-c74d-8661b19653cb"
      },
      "source": [
        "# print the top few validation predictions\n",
        "print(val_predictions[0:5])\n",
        "# print the top few actual prices from validation data\n",
        "print(val_y[0:5])"
      ],
      "id": "e3b08bd8",
      "execution_count": null,
      "outputs": [
        {
          "output_type": "stream",
          "text": [
            "[186500. 184000. 130000.  92000. 164500.]\n",
            "258     231500\n",
            "267     179500\n",
            "288     122000\n",
            "649      84500\n",
            "1233    142000\n",
            "Name: SalePrice, dtype: int64\n"
          ],
          "name": "stdout"
        }
      ]
    },
    {
      "cell_type": "markdown",
      "metadata": {
        "papermill": {
          "duration": 0.025418,
          "end_time": "2021-08-17T08:36:17.147995",
          "exception": false,
          "start_time": "2021-08-17T08:36:17.122577",
          "status": "completed"
        },
        "tags": [],
        "id": "1ae2cc71"
      },
      "source": [
        "What do you notice that is different from what you saw with in-sample predictions (which are printed after the top code cell in this page).\n",
        "\n",
        "Do you remember why validation predictions differ from in-sample (or training) predictions? This is an important idea from the last lesson.\n",
        "\n",
        "## Step 4: Calculate the Mean Absolute Error in Validation Data\n"
      ],
      "id": "1ae2cc71"
    },
    {
      "cell_type": "code",
      "metadata": {
        "execution": {
          "iopub.execute_input": "2021-08-17T08:36:17.205215Z",
          "iopub.status.busy": "2021-08-17T08:36:17.204204Z",
          "iopub.status.idle": "2021-08-17T08:36:17.212125Z",
          "shell.execute_reply": "2021-08-17T08:36:17.212657Z",
          "shell.execute_reply.started": "2021-08-17T08:34:51.959540Z"
        },
        "papermill": {
          "duration": 0.040812,
          "end_time": "2021-08-17T08:36:17.212878",
          "exception": false,
          "start_time": "2021-08-17T08:36:17.172066",
          "status": "completed"
        },
        "tags": [],
        "id": "189ccc2d",
        "outputId": "65f7f5ac-83a3-443d-be36-9ddf5043c8ab"
      },
      "source": [
        "from sklearn.metrics import mean_absolute_error\n",
        "val_mae = mean_absolute_error(val_predictions,val_y,)#  val_y값과 Decisiontree돌린 값의 MSE값\n",
        "\n",
        "# uncomment following line to see the validation_mae\n",
        "print(val_mae)\n",
        "\n",
        "# Check your answer\n",
        "step_4.check()"
      ],
      "id": "189ccc2d",
      "execution_count": null,
      "outputs": [
        {
          "output_type": "stream",
          "text": [
            "29652.931506849316\n"
          ],
          "name": "stdout"
        },
        {
          "output_type": "display_data",
          "data": {
            "application/javascript": [
              "parent.postMessage({\"jupyterEvent\": \"custom.exercise_interaction\", \"data\": {\"outcomeType\": 1, \"valueTowardsCompletion\": 0.25, \"interactionType\": 1, \"questionType\": 1, \"questionId\": \"4_MAE\", \"learnToolsVersion\": \"0.3.4\", \"failureMessage\": \"\", \"exceptionClass\": \"\", \"trace\": \"\"}}, \"*\")"
            ],
            "text/plain": [
              "<IPython.core.display.Javascript object>"
            ]
          },
          "metadata": {
            "tags": []
          }
        },
        {
          "output_type": "display_data",
          "data": {
            "text/markdown": "<span style=\"color:#33cc33\">Correct</span>",
            "text/plain": [
              "Correct"
            ]
          },
          "metadata": {
            "tags": []
          }
        }
      ]
    },
    {
      "cell_type": "code",
      "metadata": {
        "execution": {
          "iopub.execute_input": "2021-08-17T08:36:17.267861Z",
          "iopub.status.busy": "2021-08-17T08:36:17.267129Z",
          "iopub.status.idle": "2021-08-17T08:36:17.277362Z",
          "shell.execute_reply": "2021-08-17T08:36:17.277936Z",
          "shell.execute_reply.started": "2021-08-17T08:24:08.359672Z"
        },
        "papermill": {
          "duration": 0.039042,
          "end_time": "2021-08-17T08:36:17.278149",
          "exception": false,
          "start_time": "2021-08-17T08:36:17.239107",
          "status": "completed"
        },
        "tags": [],
        "id": "6576f701",
        "outputId": "544bbb19-a48e-468e-fa63-6173e472a081"
      },
      "source": [
        "step_4.hint()\n",
        "step_4.solution()"
      ],
      "id": "6576f701",
      "execution_count": null,
      "outputs": [
        {
          "output_type": "display_data",
          "data": {
            "application/javascript": [
              "parent.postMessage({\"jupyterEvent\": \"custom.exercise_interaction\", \"data\": {\"interactionType\": 2, \"questionType\": 1, \"questionId\": \"4_MAE\", \"learnToolsVersion\": \"0.3.4\", \"valueTowardsCompletion\": 0.0, \"failureMessage\": \"\", \"exceptionClass\": \"\", \"trace\": \"\", \"outcomeType\": 4}}, \"*\")"
            ],
            "text/plain": [
              "<IPython.core.display.Javascript object>"
            ]
          },
          "metadata": {
            "tags": []
          }
        },
        {
          "output_type": "display_data",
          "data": {
            "text/markdown": "<span style=\"color:#3366cc\">Hint:</span> The order of arguments to mean_absolute_error doesn't matter. Make sure you fit to only the training data in step 2.",
            "text/plain": [
              "Hint: The order of arguments to mean_absolute_error doesn't matter. Make sure you fit to only the training data in step 2."
            ]
          },
          "metadata": {
            "tags": []
          }
        },
        {
          "output_type": "display_data",
          "data": {
            "application/javascript": [
              "parent.postMessage({\"jupyterEvent\": \"custom.exercise_interaction\", \"data\": {\"interactionType\": 3, \"questionType\": 1, \"questionId\": \"4_MAE\", \"learnToolsVersion\": \"0.3.4\", \"valueTowardsCompletion\": 0.0, \"failureMessage\": \"\", \"exceptionClass\": \"\", \"trace\": \"\", \"outcomeType\": 4}}, \"*\")"
            ],
            "text/plain": [
              "<IPython.core.display.Javascript object>"
            ]
          },
          "metadata": {
            "tags": []
          }
        },
        {
          "output_type": "display_data",
          "data": {
            "text/markdown": "<span style=\"color:#33cc99\">Solution:</span> \n```python\nval_mae = mean_absolute_error(val_predictions, val_y)\n```",
            "text/plain": [
              "Solution: \n",
              "```python\n",
              "val_mae = mean_absolute_error(val_predictions, val_y)\n",
              "```"
            ]
          },
          "metadata": {
            "tags": []
          }
        }
      ]
    },
    {
      "cell_type": "markdown",
      "metadata": {
        "papermill": {
          "duration": 0.026532,
          "end_time": "2021-08-17T08:36:17.331641",
          "exception": false,
          "start_time": "2021-08-17T08:36:17.305109",
          "status": "completed"
        },
        "tags": [],
        "id": "4161c1fe"
      },
      "source": [
        "Is that MAE good?  There isn't a general rule for what values are good that applies across applications. But you'll see how to use (and improve) this number in the next step.\n",
        "\n",
        "# Keep Going\n",
        "\n",
        "You are ready for **[Underfitting and Overfitting](https://www.kaggle.com/dansbecker/underfitting-and-overfitting).**\n"
      ],
      "id": "4161c1fe"
    },
    {
      "cell_type": "markdown",
      "metadata": {
        "papermill": {
          "duration": 0.026476,
          "end_time": "2021-08-17T08:36:17.384976",
          "exception": false,
          "start_time": "2021-08-17T08:36:17.358500",
          "status": "completed"
        },
        "tags": [],
        "id": "38105ce6"
      },
      "source": [
        "---\n",
        "\n",
        "\n",
        "\n",
        "\n",
        "*Have questions or comments? Visit the [Learn Discussion forum](https://www.kaggle.com/learn-forum/161285) to chat with other Learners.*"
      ],
      "id": "38105ce6"
    }
  ]
}