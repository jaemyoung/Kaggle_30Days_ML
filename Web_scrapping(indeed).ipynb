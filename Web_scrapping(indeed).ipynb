{
  "nbformat": 4,
  "nbformat_minor": 0,
  "metadata": {
    "colab": {
      "name": "Web_scrapping(indeed).ipynb",
      "provenance": [],
      "collapsed_sections": [],
      "authorship_tag": "ABX9TyMoU69E28aOq1NtGDJbtZ7s",
      "include_colab_link": true
    },
    "kernelspec": {
      "name": "python3",
      "display_name": "Python 3"
    },
    "language_info": {
      "name": "python"
    }
  },
  "cells": [
    {
      "cell_type": "markdown",
      "metadata": {
        "id": "view-in-github",
        "colab_type": "text"
      },
      "source": [
        "<a href=\"https://colab.research.google.com/github/jaemyoung/jaemyoung/blob/main/Web_scrapping(indeed).ipynb\" target=\"_parent\"><img src=\"https://colab.research.google.com/assets/colab-badge.svg\" alt=\"Open In Colab\"/></a>"
      ]
    },
    {
      "cell_type": "code",
      "metadata": {
        "colab": {
          "base_uri": "https://localhost:8080/"
        },
        "id": "6LvTYJpbGZ_R",
        "outputId": "cb3e68b4-c969-42ff-9956-2b599867dcbb"
      },
      "source": [
        "import requests\n",
        "from bs4 import BeautifulSoup\n",
        "\n",
        "Search_suject = \"대기업\"\n",
        "\n",
        "Limit = 10 #indeed 페이지별 특정상수\n",
        "\n",
        "indeed_URL = f\"https://kr.indeed.com/jobs?q={Search_suject}\"\n",
        "\n",
        "result = requests.get(f\"{indeed_URL}&start={10}\")\n",
        "soup = BeautifulSoup(result.text, 'html.parser')\n",
        "results = soup.find_all(\"div\",{\"class\":\"mosaic-zone\"})\n",
        "title = []\n",
        "print(soup.b.prettify())            \n",
        "\n",
        "\n",
        "\n"
      ],
      "execution_count": 1,
      "outputs": [
        {
          "output_type": "stream",
          "text": [
            "<b>\n",
            " 이력서를 등록하세요\n",
            "</b>\n"
          ],
          "name": "stdout"
        }
      ]
    },
    {
      "cell_type": "code",
      "metadata": {
        "id": "tfoY-GGrp0rI"
      },
      "source": [
        ""
      ],
      "execution_count": null,
      "outputs": []
    },
    {
      "cell_type": "code",
      "metadata": {
        "colab": {
          "base_uri": "https://localhost:8080/",
          "height": 134
        },
        "id": "p6c0WfdkI92q",
        "outputId": "28dc26d8-a37e-47f7-9b2a-f5581b11c09d"
      },
      "source": [
        "import requests\n",
        "from bs4 import BeautifulSoup\n",
        "\n",
        "def extract_indeed_pages():\n",
        "  resul = requests.get(indeed_URL)\n",
        "  Soup = BeautifulSoup(resul.text, 'html.parser')\n",
        "  pagination = Soup.find(\"div\",{\"class\":\"pagination\"})\n",
        "  links = pagination.find_all('a')\n",
        "  pages = []\n",
        "\n",
        "  for link in links[0:-1]:\n",
        "    pages.append(int(link.find(\"span\").string))\n",
        " \n",
        "  Max_page = pages[-1]\n",
        "  \n",
        "  return Max_page\n"
      ],
      "execution_count": 5,
      "outputs": [
        {
          "output_type": "error",
          "ename": "SyntaxError",
          "evalue": "ignored",
          "traceback": [
            "\u001b[0;36m  File \u001b[0;32m\"<ipython-input-5-64b059628ffe>\"\u001b[0;36m, line \u001b[0;32m19\u001b[0m\n\u001b[0;31m    for page in range(last_page)\u001b[0m\n\u001b[0m                                ^\u001b[0m\n\u001b[0;31mSyntaxError\u001b[0m\u001b[0;31m:\u001b[0m invalid syntax\n"
          ]
        }
      ]
    },
    {
      "cell_type": "code",
      "metadata": {
        "colab": {
          "base_uri": "https://localhost:8080/",
          "height": 134
        },
        "id": "2AOHGunDP2AH",
        "outputId": "3a86d5e9-881b-4c94-a031-cba3c7680d07"
      },
      "source": [
        "import requests\n",
        "from bs4 import BeautifulSoup\n",
        "\n",
        "def extract_indeed_jobs(last):\n",
        "  jobs = []\n",
        "  \n",
        "  result = requests.get(f\"{indeed_URL}&start={0*Limit}\")\n",
        "  Soup = BeautifulSoup(resul.text, 'html.parser')\n",
        "  results = soup.find_all(\"div\",{\"class\":\"jobTitle jobTitle-color-purple jobTitle-newJob\"})\n",
        "\n",
        "  for page in range(last):\n",
        "    result = requests.get(f\"{indeed_URL}&start={page*Limit}\")\n",
        "    \n",
        "  return jobs"
      ],
      "execution_count": 31,
      "outputs": [
        {
          "output_type": "error",
          "ename": "IndentationError",
          "evalue": "ignored",
          "traceback": [
            "\u001b[0;36m  File \u001b[0;32m\"<ipython-input-31-b25787c27cee>\"\u001b[0;36m, line \u001b[0;32m6\u001b[0m\n\u001b[0;31m    Search_suject = \"대기업\"\u001b[0m\n\u001b[0m    ^\u001b[0m\n\u001b[0;31mIndentationError\u001b[0m\u001b[0;31m:\u001b[0m unexpected indent\n"
          ]
        }
      ]
    },
    {
      "cell_type": "markdown",
      "metadata": {
        "id": "l-2_5feOMcQU"
      },
      "source": [
        ""
      ]
    },
    {
      "cell_type": "markdown",
      "metadata": {
        "id": "IpMqbP11Jr2g"
      },
      "source": [
        "# 새 섹션"
      ]
    }
  ]
}