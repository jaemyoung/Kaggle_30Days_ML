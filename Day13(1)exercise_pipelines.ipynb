{
  "nbformat": 4,
  "nbformat_minor": 5,
  "metadata": {
    "kernelspec": {
      "display_name": "Python 3",
      "language": "python",
      "name": "python3"
    },
    "language_info": {
      "codemirror_mode": {
        "name": "ipython",
        "version": 3
      },
      "file_extension": ".py",
      "mimetype": "text/x-python",
      "name": "python",
      "nbconvert_exporter": "python",
      "pygments_lexer": "ipython3",
      "version": "3.7.10"
    },
    "papermill": {
      "default_parameters": {},
      "duration": 40.809863,
      "end_time": "2021-08-19T04:01:33.854714",
      "environment_variables": {},
      "exception": null,
      "input_path": "__notebook__.ipynb",
      "output_path": "__notebook__.ipynb",
      "parameters": {},
      "start_time": "2021-08-19T04:00:53.044851",
      "version": "2.3.3"
    },
    "colab": {
      "name": "Day13(1)exercise-pipelines.ipynb",
      "provenance": [],
      "include_colab_link": true
    }
  },
  "cells": [
    {
      "cell_type": "markdown",
      "metadata": {
        "id": "view-in-github",
        "colab_type": "text"
      },
      "source": [
        "<a href=\"https://colab.research.google.com/github/jaemyoung/Kaggle_30Days_ML/blob/main/Day13(1)exercise_pipelines.ipynb\" target=\"_parent\"><img src=\"https://colab.research.google.com/assets/colab-badge.svg\" alt=\"Open In Colab\"/></a>"
      ]
    },
    {
      "cell_type": "markdown",
      "metadata": {
        "papermill": {
          "duration": 0.016226,
          "end_time": "2021-08-19T04:01:01.451028",
          "exception": false,
          "start_time": "2021-08-19T04:01:01.434802",
          "status": "completed"
        },
        "tags": [],
        "id": "621c6274"
      },
      "source": [
        "**This notebook is an exercise in the [Intermediate Machine Learning](https://www.kaggle.com/learn/intermediate-machine-learning) course.  You can reference the tutorial at [this link](https://www.kaggle.com/alexisbcook/pipelines).**\n",
        "\n",
        "---\n"
      ],
      "id": "621c6274"
    },
    {
      "cell_type": "markdown",
      "metadata": {
        "papermill": {
          "duration": 0.014834,
          "end_time": "2021-08-19T04:01:01.481683",
          "exception": false,
          "start_time": "2021-08-19T04:01:01.466849",
          "status": "completed"
        },
        "tags": [],
        "id": "a243ca4c"
      },
      "source": [
        "In this exercise, you will use **pipelines** to improve the efficiency of your machine learning code.\n",
        "\n",
        "# Setup\n",
        "\n",
        "The questions below will give you feedback on your work. Run the following cell to set up the feedback system."
      ],
      "id": "a243ca4c"
    },
    {
      "cell_type": "code",
      "metadata": {
        "execution": {
          "iopub.execute_input": "2021-08-19T04:01:01.516273Z",
          "iopub.status.busy": "2021-08-19T04:01:01.515065Z",
          "iopub.status.idle": "2021-08-19T04:01:02.625281Z",
          "shell.execute_reply": "2021-08-19T04:01:02.624526Z",
          "shell.execute_reply.started": "2021-08-19T03:34:42.705533Z"
        },
        "papermill": {
          "duration": 1.128578,
          "end_time": "2021-08-19T04:01:02.625442",
          "exception": false,
          "start_time": "2021-08-19T04:01:01.496864",
          "status": "completed"
        },
        "tags": [],
        "id": "40518617",
        "outputId": "89a1c9f9-e476-40f1-cd9e-7520a1697238"
      },
      "source": [
        "# Set up code checking\n",
        "import os\n",
        "if not os.path.exists(\"../input/train.csv\"):\n",
        "    os.symlink(\"../input/home-data-for-ml-course/train.csv\", \"../input/train.csv\")  \n",
        "    os.symlink(\"../input/home-data-for-ml-course/test.csv\", \"../input/test.csv\") \n",
        "from learntools.core import binder\n",
        "binder.bind(globals())\n",
        "from learntools.ml_intermediate.ex4 import *\n",
        "print(\"Setup Complete\")"
      ],
      "id": "40518617",
      "execution_count": null,
      "outputs": [
        {
          "name": "stdout",
          "output_type": "stream",
          "text": [
            "Setup Complete\n"
          ]
        }
      ]
    },
    {
      "cell_type": "markdown",
      "metadata": {
        "papermill": {
          "duration": 0.0151,
          "end_time": "2021-08-19T04:01:02.656855",
          "exception": false,
          "start_time": "2021-08-19T04:01:02.641755",
          "status": "completed"
        },
        "tags": [],
        "id": "27f9a4e4"
      },
      "source": [
        "You will work with data from the [Housing Prices Competition for Kaggle Learn Users](https://www.kaggle.com/c/home-data-for-ml-course). \n",
        "\n",
        "![Ames Housing dataset image](https://i.imgur.com/lTJVG4e.png)\n",
        "\n",
        "Run the next code cell without changes to load the training and validation sets in `X_train`, `X_valid`, `y_train`, and `y_valid`.  The test set is loaded in `X_test`."
      ],
      "id": "27f9a4e4"
    },
    {
      "cell_type": "markdown",
      "metadata": {
        "papermill": {
          "duration": 0.014898,
          "end_time": "2021-08-19T04:01:02.687087",
          "exception": false,
          "start_time": "2021-08-19T04:01:02.672189",
          "status": "completed"
        },
        "tags": [],
        "id": "59821ce7"
      },
      "source": [
        "Column들 선별하여 train과 valid 데이터로 정의"
      ],
      "id": "59821ce7"
    },
    {
      "cell_type": "code",
      "metadata": {
        "execution": {
          "iopub.execute_input": "2021-08-19T04:01:02.728838Z",
          "iopub.status.busy": "2021-08-19T04:01:02.728188Z",
          "iopub.status.idle": "2021-08-19T04:01:02.957408Z",
          "shell.execute_reply": "2021-08-19T04:01:02.956775Z",
          "shell.execute_reply.started": "2021-08-19T03:36:23.851063Z"
        },
        "papermill": {
          "duration": 0.254987,
          "end_time": "2021-08-19T04:01:02.957548",
          "exception": false,
          "start_time": "2021-08-19T04:01:02.702561",
          "status": "completed"
        },
        "tags": [],
        "id": "87b97248"
      },
      "source": [
        "import pandas as pd\n",
        "from sklearn.model_selection import train_test_split\n",
        "\n",
        "# Read the data\n",
        "X_full = pd.read_csv('../input/train.csv', index_col='Id')\n",
        "X_test_full = pd.read_csv('../input/test.csv', index_col='Id')\n",
        "\n",
        "# Remove rows with missing target, separate target from predictors\n",
        "X_full.dropna(axis=0, subset=['SalePrice'], inplace=True)\n",
        "y = X_full.SalePrice\n",
        "X_full.drop(['SalePrice'], axis=1, inplace=True)\n",
        "\n",
        "# Break off validation set from training data\n",
        "X_train_full, X_valid_full, y_train, y_valid = train_test_split(X_full, y, \n",
        "                                                                train_size=0.8, test_size=0.2,\n",
        "                                                                random_state=0)\n",
        "\n",
        "# \"Cardinality\" means the number of unique values in a column\n",
        "# Select categorical columns with relatively low cardinality (convenient but arbitrary)\n",
        "categorical_cols = [cname for cname in X_train_full.columns if\n",
        "                    X_train_full[cname].nunique() < 10 and \n",
        "                    X_train_full[cname].dtype == \"object\"]\n",
        "\n",
        "# Select numerical columns\n",
        "numerical_cols = [cname for cname in X_train_full.columns if \n",
        "                X_train_full[cname].dtype in ['int64', 'float64']]\n",
        "\n",
        "# Keep selected columns only\n",
        "my_cols = categorical_cols + numerical_cols\n",
        "X_train = X_train_full[my_cols].copy()\n",
        "X_valid = X_valid_full[my_cols].copy()\n",
        "X_test = X_test_full[my_cols].copy()"
      ],
      "id": "87b97248",
      "execution_count": null,
      "outputs": []
    },
    {
      "cell_type": "code",
      "metadata": {
        "execution": {
          "iopub.execute_input": "2021-08-19T04:01:02.998301Z",
          "iopub.status.busy": "2021-08-19T04:01:02.997551Z",
          "iopub.status.idle": "2021-08-19T04:01:03.023866Z",
          "shell.execute_reply": "2021-08-19T04:01:03.023346Z",
          "shell.execute_reply.started": "2021-08-19T03:36:31.443220Z"
        },
        "papermill": {
          "duration": 0.050681,
          "end_time": "2021-08-19T04:01:03.024016",
          "exception": false,
          "start_time": "2021-08-19T04:01:02.973335",
          "status": "completed"
        },
        "tags": [],
        "id": "e6fd5518",
        "outputId": "052ef0dc-9ca8-472f-8e2e-15067279c7e8"
      },
      "source": [
        "X_train.head()"
      ],
      "id": "e6fd5518",
      "execution_count": null,
      "outputs": [
        {
          "data": {
            "text/html": [
              "<div>\n",
              "<style scoped>\n",
              "    .dataframe tbody tr th:only-of-type {\n",
              "        vertical-align: middle;\n",
              "    }\n",
              "\n",
              "    .dataframe tbody tr th {\n",
              "        vertical-align: top;\n",
              "    }\n",
              "\n",
              "    .dataframe thead th {\n",
              "        text-align: right;\n",
              "    }\n",
              "</style>\n",
              "<table border=\"1\" class=\"dataframe\">\n",
              "  <thead>\n",
              "    <tr style=\"text-align: right;\">\n",
              "      <th></th>\n",
              "      <th>MSZoning</th>\n",
              "      <th>Street</th>\n",
              "      <th>Alley</th>\n",
              "      <th>LotShape</th>\n",
              "      <th>LandContour</th>\n",
              "      <th>Utilities</th>\n",
              "      <th>LotConfig</th>\n",
              "      <th>LandSlope</th>\n",
              "      <th>Condition1</th>\n",
              "      <th>Condition2</th>\n",
              "      <th>...</th>\n",
              "      <th>GarageArea</th>\n",
              "      <th>WoodDeckSF</th>\n",
              "      <th>OpenPorchSF</th>\n",
              "      <th>EnclosedPorch</th>\n",
              "      <th>3SsnPorch</th>\n",
              "      <th>ScreenPorch</th>\n",
              "      <th>PoolArea</th>\n",
              "      <th>MiscVal</th>\n",
              "      <th>MoSold</th>\n",
              "      <th>YrSold</th>\n",
              "    </tr>\n",
              "    <tr>\n",
              "      <th>Id</th>\n",
              "      <th></th>\n",
              "      <th></th>\n",
              "      <th></th>\n",
              "      <th></th>\n",
              "      <th></th>\n",
              "      <th></th>\n",
              "      <th></th>\n",
              "      <th></th>\n",
              "      <th></th>\n",
              "      <th></th>\n",
              "      <th></th>\n",
              "      <th></th>\n",
              "      <th></th>\n",
              "      <th></th>\n",
              "      <th></th>\n",
              "      <th></th>\n",
              "      <th></th>\n",
              "      <th></th>\n",
              "      <th></th>\n",
              "      <th></th>\n",
              "      <th></th>\n",
              "    </tr>\n",
              "  </thead>\n",
              "  <tbody>\n",
              "    <tr>\n",
              "      <th>619</th>\n",
              "      <td>RL</td>\n",
              "      <td>Pave</td>\n",
              "      <td>NaN</td>\n",
              "      <td>Reg</td>\n",
              "      <td>Lvl</td>\n",
              "      <td>AllPub</td>\n",
              "      <td>Inside</td>\n",
              "      <td>Gtl</td>\n",
              "      <td>Norm</td>\n",
              "      <td>Norm</td>\n",
              "      <td>...</td>\n",
              "      <td>774</td>\n",
              "      <td>0</td>\n",
              "      <td>108</td>\n",
              "      <td>0</td>\n",
              "      <td>0</td>\n",
              "      <td>260</td>\n",
              "      <td>0</td>\n",
              "      <td>0</td>\n",
              "      <td>7</td>\n",
              "      <td>2007</td>\n",
              "    </tr>\n",
              "    <tr>\n",
              "      <th>871</th>\n",
              "      <td>RL</td>\n",
              "      <td>Pave</td>\n",
              "      <td>NaN</td>\n",
              "      <td>Reg</td>\n",
              "      <td>Lvl</td>\n",
              "      <td>AllPub</td>\n",
              "      <td>Inside</td>\n",
              "      <td>Gtl</td>\n",
              "      <td>PosN</td>\n",
              "      <td>Norm</td>\n",
              "      <td>...</td>\n",
              "      <td>308</td>\n",
              "      <td>0</td>\n",
              "      <td>0</td>\n",
              "      <td>0</td>\n",
              "      <td>0</td>\n",
              "      <td>0</td>\n",
              "      <td>0</td>\n",
              "      <td>0</td>\n",
              "      <td>8</td>\n",
              "      <td>2009</td>\n",
              "    </tr>\n",
              "    <tr>\n",
              "      <th>93</th>\n",
              "      <td>RL</td>\n",
              "      <td>Pave</td>\n",
              "      <td>Grvl</td>\n",
              "      <td>IR1</td>\n",
              "      <td>HLS</td>\n",
              "      <td>AllPub</td>\n",
              "      <td>Inside</td>\n",
              "      <td>Gtl</td>\n",
              "      <td>Norm</td>\n",
              "      <td>Norm</td>\n",
              "      <td>...</td>\n",
              "      <td>432</td>\n",
              "      <td>0</td>\n",
              "      <td>0</td>\n",
              "      <td>44</td>\n",
              "      <td>0</td>\n",
              "      <td>0</td>\n",
              "      <td>0</td>\n",
              "      <td>0</td>\n",
              "      <td>8</td>\n",
              "      <td>2009</td>\n",
              "    </tr>\n",
              "    <tr>\n",
              "      <th>818</th>\n",
              "      <td>RL</td>\n",
              "      <td>Pave</td>\n",
              "      <td>NaN</td>\n",
              "      <td>IR1</td>\n",
              "      <td>Lvl</td>\n",
              "      <td>AllPub</td>\n",
              "      <td>CulDSac</td>\n",
              "      <td>Gtl</td>\n",
              "      <td>Norm</td>\n",
              "      <td>Norm</td>\n",
              "      <td>...</td>\n",
              "      <td>857</td>\n",
              "      <td>150</td>\n",
              "      <td>59</td>\n",
              "      <td>0</td>\n",
              "      <td>0</td>\n",
              "      <td>0</td>\n",
              "      <td>0</td>\n",
              "      <td>0</td>\n",
              "      <td>7</td>\n",
              "      <td>2008</td>\n",
              "    </tr>\n",
              "    <tr>\n",
              "      <th>303</th>\n",
              "      <td>RL</td>\n",
              "      <td>Pave</td>\n",
              "      <td>NaN</td>\n",
              "      <td>IR1</td>\n",
              "      <td>Lvl</td>\n",
              "      <td>AllPub</td>\n",
              "      <td>Corner</td>\n",
              "      <td>Gtl</td>\n",
              "      <td>Norm</td>\n",
              "      <td>Norm</td>\n",
              "      <td>...</td>\n",
              "      <td>843</td>\n",
              "      <td>468</td>\n",
              "      <td>81</td>\n",
              "      <td>0</td>\n",
              "      <td>0</td>\n",
              "      <td>0</td>\n",
              "      <td>0</td>\n",
              "      <td>0</td>\n",
              "      <td>1</td>\n",
              "      <td>2006</td>\n",
              "    </tr>\n",
              "  </tbody>\n",
              "</table>\n",
              "<p>5 rows × 76 columns</p>\n",
              "</div>"
            ],
            "text/plain": [
              "    MSZoning Street Alley LotShape LandContour Utilities LotConfig LandSlope  \\\n",
              "Id                                                                             \n",
              "619       RL   Pave   NaN      Reg         Lvl    AllPub    Inside       Gtl   \n",
              "871       RL   Pave   NaN      Reg         Lvl    AllPub    Inside       Gtl   \n",
              "93        RL   Pave  Grvl      IR1         HLS    AllPub    Inside       Gtl   \n",
              "818       RL   Pave   NaN      IR1         Lvl    AllPub   CulDSac       Gtl   \n",
              "303       RL   Pave   NaN      IR1         Lvl    AllPub    Corner       Gtl   \n",
              "\n",
              "    Condition1 Condition2  ... GarageArea WoodDeckSF OpenPorchSF  \\\n",
              "Id                         ...                                     \n",
              "619       Norm       Norm  ...        774          0         108   \n",
              "871       PosN       Norm  ...        308          0           0   \n",
              "93        Norm       Norm  ...        432          0           0   \n",
              "818       Norm       Norm  ...        857        150          59   \n",
              "303       Norm       Norm  ...        843        468          81   \n",
              "\n",
              "    EnclosedPorch 3SsnPorch ScreenPorch PoolArea MiscVal MoSold YrSold  \n",
              "Id                                                                      \n",
              "619             0         0         260        0       0      7   2007  \n",
              "871             0         0           0        0       0      8   2009  \n",
              "93             44         0           0        0       0      8   2009  \n",
              "818             0         0           0        0       0      7   2008  \n",
              "303             0         0           0        0       0      1   2006  \n",
              "\n",
              "[5 rows x 76 columns]"
            ]
          },
          "execution_count": 3,
          "metadata": {},
          "output_type": "execute_result"
        }
      ]
    },
    {
      "cell_type": "markdown",
      "metadata": {
        "papermill": {
          "duration": 0.015755,
          "end_time": "2021-08-19T04:01:03.055919",
          "exception": false,
          "start_time": "2021-08-19T04:01:03.040164",
          "status": "completed"
        },
        "tags": [],
        "id": "30d8015f"
      },
      "source": [
        "The next code cell uses code from the tutorial to preprocess the data and train a model.  Run this code without changes."
      ],
      "id": "30d8015f"
    },
    {
      "cell_type": "code",
      "metadata": {
        "execution": {
          "iopub.execute_input": "2021-08-19T04:01:03.097026Z",
          "iopub.status.busy": "2021-08-19T04:01:03.096362Z",
          "iopub.status.idle": "2021-08-19T04:01:05.994561Z",
          "shell.execute_reply": "2021-08-19T04:01:05.993870Z",
          "shell.execute_reply.started": "2021-08-19T03:37:21.981692Z"
        },
        "papermill": {
          "duration": 2.922612,
          "end_time": "2021-08-19T04:01:05.994718",
          "exception": false,
          "start_time": "2021-08-19T04:01:03.072106",
          "status": "completed"
        },
        "tags": [],
        "id": "2b750754",
        "outputId": "19f470e7-038b-4602-e1b7-fce1af387e43"
      },
      "source": [
        "from sklearn.compose import ColumnTransformer\n",
        "from sklearn.pipeline import Pipeline\n",
        "from sklearn.impute import SimpleImputer\n",
        "from sklearn.preprocessing import OneHotEncoder\n",
        "from sklearn.ensemble import RandomForestRegressor\n",
        "from sklearn.metrics import mean_absolute_error\n",
        "\n",
        "# Preprocessing for numerical data\n",
        "numerical_transformer = SimpleImputer(strategy='constant')\n",
        "\n",
        "# Preprocessing for categorical data \n",
        "categorical_transformer = Pipeline(steps=[\n",
        "    ('imputer', SimpleImputer(strategy='most_frequent')),\n",
        "    ('onehot', OneHotEncoder(handle_unknown='ignore'))\n",
        "])\n",
        "\n",
        "# Bundle preprocessing for numerical and categorical data\n",
        "preprocessor = ColumnTransformer(\n",
        "    transformers=[\n",
        "        ('num', numerical_transformer, numerical_cols),\n",
        "        ('cat', categorical_transformer, categorical_cols)\n",
        "    ])\n",
        "\n",
        "# Define model\n",
        "model = RandomForestRegressor(n_estimators=100, random_state=0)\n",
        "\n",
        "# Bundle preprocessing and modeling code in a pipeline\n",
        "clf = Pipeline(steps=[('preprocessor', preprocessor),\n",
        "                      ('model', model)\n",
        "                     ])\n",
        "\n",
        "# Preprocessing of training data, fit model \n",
        "clf.fit(X_train, y_train)\n",
        "\n",
        "# Preprocessing of validation data, get predictions\n",
        "preds = clf.predict(X_valid)\n",
        "\n",
        "print('MAE:', mean_absolute_error(y_valid, preds))"
      ],
      "id": "2b750754",
      "execution_count": null,
      "outputs": [
        {
          "name": "stdout",
          "output_type": "stream",
          "text": [
            "MAE: 17861.780102739725\n"
          ]
        }
      ]
    },
    {
      "cell_type": "markdown",
      "metadata": {
        "papermill": {
          "duration": 0.016242,
          "end_time": "2021-08-19T04:01:06.027708",
          "exception": false,
          "start_time": "2021-08-19T04:01:06.011466",
          "status": "completed"
        },
        "tags": [],
        "id": "3af88c1e"
      },
      "source": [
        "The code yields a value around 17862 for the mean absolute error (MAE).  In the next step, you will amend the code to do better.\n",
        "\n",
        "# Step 1: Improve the performance\n",
        "\n",
        "### Part A\n",
        "\n",
        "Now, it's your turn!  In the code cell below, define your own preprocessing steps and random forest model.  Fill in values for the following variables:\n",
        "- `numerical_transformer`\n",
        "- `categorical_transformer`\n",
        "- `model`\n",
        "\n",
        "To pass this part of the exercise, you need only define valid preprocessing steps and a random forest model."
      ],
      "id": "3af88c1e"
    },
    {
      "cell_type": "code",
      "metadata": {
        "execution": {
          "iopub.execute_input": "2021-08-19T04:01:06.069150Z",
          "iopub.status.busy": "2021-08-19T04:01:06.068432Z",
          "iopub.status.idle": "2021-08-19T04:01:06.074197Z",
          "shell.execute_reply": "2021-08-19T04:01:06.073546Z",
          "shell.execute_reply.started": "2021-08-19T03:53:00.298509Z"
        },
        "papermill": {
          "duration": 0.030054,
          "end_time": "2021-08-19T04:01:06.074345",
          "exception": false,
          "start_time": "2021-08-19T04:01:06.044291",
          "status": "completed"
        },
        "tags": [],
        "id": "505d50af",
        "outputId": "8738feb1-959b-403f-bf0f-70ba5a079f85"
      },
      "source": [
        "# Preprocessing for numerical data\n",
        "numerical_transformer = SimpleImputer(strategy = 'most_frequent')\n",
        "# Preprocessing for categorical data\n",
        "categorical_transformer = Pipeline(steps= [ ('imputer', SimpleImputer(strategy = 'most_frequent')), ('onehot', OneHotEncoder(handle_unknown = 'ignore'))]) # imputer로 missing채우고 onehot으로 벡터화\n",
        "\n",
        "# Bundle preprocessing for numerical and categorical data\n",
        "preprocessor = ColumnTransformer(\n",
        "    transformers=[\n",
        "        ('num', numerical_transformer, numerical_cols),\n",
        "        ('cat', categorical_transformer, categorical_cols)\n",
        "    ])\n",
        "\n",
        "# Define model\n",
        "model = RandomForestRegressor(n_estimators = 1000, random_state = 0) #n_estimators가 높으니까 mse가 낮아짐(n_estimators = 100 -> 17846, =150 -> 17540, = 300 -> 17353 = 1000 -> 17282 ...)\n",
        "\n",
        "# Check your answer\n",
        "step_1.a.check()"
      ],
      "id": "505d50af",
      "execution_count": null,
      "outputs": [
        {
          "data": {
            "application/javascript": [
              "parent.postMessage({\"jupyterEvent\": \"custom.exercise_interaction\", \"data\": {\"outcomeType\": 1, \"valueTowardsCompletion\": 1.0, \"interactionType\": 1, \"questionType\": 2, \"questionId\": \"1.1_YourTurnModel\", \"learnToolsVersion\": \"0.3.4\", \"failureMessage\": \"\", \"exceptionClass\": \"\", \"trace\": \"\"}}, \"*\")"
            ],
            "text/plain": [
              "<IPython.core.display.Javascript object>"
            ]
          },
          "metadata": {},
          "output_type": "display_data"
        },
        {
          "data": {
            "text/markdown": [
              "<span style=\"color:#33cc33\">Correct</span>"
            ],
            "text/plain": [
              "Correct"
            ]
          },
          "metadata": {},
          "output_type": "display_data"
        }
      ]
    },
    {
      "cell_type": "code",
      "metadata": {
        "execution": {
          "iopub.execute_input": "2021-08-19T04:01:06.112676Z",
          "iopub.status.busy": "2021-08-19T04:01:06.111947Z",
          "iopub.status.idle": "2021-08-19T04:01:06.115225Z",
          "shell.execute_reply": "2021-08-19T04:01:06.115730Z"
        },
        "papermill": {
          "duration": 0.02399,
          "end_time": "2021-08-19T04:01:06.115895",
          "exception": false,
          "start_time": "2021-08-19T04:01:06.091905",
          "status": "completed"
        },
        "tags": [],
        "id": "032e08b1"
      },
      "source": [
        "# Lines below will give you a hint or solution code\n",
        "#step_1.a.hint()\n",
        "#step_1.a.solution()"
      ],
      "id": "032e08b1",
      "execution_count": null,
      "outputs": []
    },
    {
      "cell_type": "markdown",
      "metadata": {
        "papermill": {
          "duration": 0.017883,
          "end_time": "2021-08-19T04:01:06.151611",
          "exception": false,
          "start_time": "2021-08-19T04:01:06.133728",
          "status": "completed"
        },
        "tags": [],
        "id": "77332577"
      },
      "source": [
        "### Part B\n",
        "\n",
        "Run the code cell below without changes.\n",
        "\n",
        "To pass this step, you need to have defined a pipeline in **Part A** that achieves lower MAE than the code above.  You're encouraged to take your time here and try out many different approaches, to see how low you can get the MAE!  (_If your code does not pass, please amend the preprocessing steps and model in Part A._)"
      ],
      "id": "77332577"
    },
    {
      "cell_type": "code",
      "metadata": {
        "execution": {
          "iopub.execute_input": "2021-08-19T04:01:06.190414Z",
          "iopub.status.busy": "2021-08-19T04:01:06.189768Z",
          "iopub.status.idle": "2021-08-19T04:01:32.383130Z",
          "shell.execute_reply": "2021-08-19T04:01:32.383604Z",
          "shell.execute_reply.started": "2021-08-19T03:51:56.232430Z"
        },
        "papermill": {
          "duration": 26.214442,
          "end_time": "2021-08-19T04:01:32.383790",
          "exception": false,
          "start_time": "2021-08-19T04:01:06.169348",
          "status": "completed"
        },
        "tags": [],
        "id": "40b0418e",
        "outputId": "16d668ae-74e5-44bd-ebd7-428e8d78d038"
      },
      "source": [
        "# Bundle preprocessing and modeling code in a pipeline\n",
        "my_pipeline = Pipeline(steps=[('preprocessor', preprocessor),\n",
        "                              ('model', model)\n",
        "                             ])\n",
        "\n",
        "# Preprocessing of training data, fit model \n",
        "my_pipeline.fit(X_train, y_train)\n",
        "\n",
        "# Preprocessing of validation data, get predictions\n",
        "preds = my_pipeline.predict(X_valid)\n",
        "\n",
        "# Evaluate the model\n",
        "score = mean_absolute_error(y_valid, preds)\n",
        "print('MAE:', score)\n",
        "\n",
        "# Check your answer\n",
        "step_1.b.check()"
      ],
      "id": "40b0418e",
      "execution_count": null,
      "outputs": [
        {
          "name": "stdout",
          "output_type": "stream",
          "text": [
            "MAE: 17315.94503424657\n"
          ]
        },
        {
          "data": {
            "application/javascript": [
              "parent.postMessage({\"jupyterEvent\": \"custom.exercise_interaction\", \"data\": {\"outcomeType\": 1, \"valueTowardsCompletion\": 1.0, \"interactionType\": 1, \"questionType\": 2, \"questionId\": \"1.2_YourTurnPredict\", \"learnToolsVersion\": \"0.3.4\", \"failureMessage\": \"\", \"exceptionClass\": \"\", \"trace\": \"\"}}, \"*\")"
            ],
            "text/plain": [
              "<IPython.core.display.Javascript object>"
            ]
          },
          "metadata": {},
          "output_type": "display_data"
        },
        {
          "data": {
            "text/markdown": [
              "<span style=\"color:#33cc33\">Correct</span>"
            ],
            "text/plain": [
              "Correct"
            ]
          },
          "metadata": {},
          "output_type": "display_data"
        }
      ]
    },
    {
      "cell_type": "code",
      "metadata": {
        "execution": {
          "iopub.execute_input": "2021-08-19T04:01:32.427257Z",
          "iopub.status.busy": "2021-08-19T04:01:32.426370Z",
          "iopub.status.idle": "2021-08-19T04:01:32.432259Z",
          "shell.execute_reply": "2021-08-19T04:01:32.431618Z",
          "shell.execute_reply.started": "2021-08-19T03:48:57.924168Z"
        },
        "papermill": {
          "duration": 0.029445,
          "end_time": "2021-08-19T04:01:32.432397",
          "exception": false,
          "start_time": "2021-08-19T04:01:32.402952",
          "status": "completed"
        },
        "tags": [],
        "id": "10f073ac",
        "outputId": "eddef27e-3712-4a70-d97f-6ea154db623c"
      },
      "source": [
        "# Line below will give you a hint\n",
        "step_1.b.hint()"
      ],
      "id": "10f073ac",
      "execution_count": null,
      "outputs": [
        {
          "data": {
            "application/javascript": [
              "parent.postMessage({\"jupyterEvent\": \"custom.exercise_interaction\", \"data\": {\"interactionType\": 2, \"questionType\": 2, \"questionId\": \"1.2_YourTurnPredict\", \"learnToolsVersion\": \"0.3.4\", \"valueTowardsCompletion\": 0.0, \"failureMessage\": \"\", \"exceptionClass\": \"\", \"trace\": \"\", \"outcomeType\": 4}}, \"*\")"
            ],
            "text/plain": [
              "<IPython.core.display.Javascript object>"
            ]
          },
          "metadata": {},
          "output_type": "display_data"
        },
        {
          "data": {
            "text/markdown": [
              "<span style=\"color:#3366cc\">Hint:</span> Please see the hint from Part A to get some ideas for how to change the preprocessing steps and model to get better performance."
            ],
            "text/plain": [
              "Hint: Please see the hint from Part A to get some ideas for how to change the preprocessing steps and model to get better performance."
            ]
          },
          "metadata": {},
          "output_type": "display_data"
        }
      ]
    },
    {
      "cell_type": "markdown",
      "metadata": {
        "papermill": {
          "duration": 0.019485,
          "end_time": "2021-08-19T04:01:32.472207",
          "exception": false,
          "start_time": "2021-08-19T04:01:32.452722",
          "status": "completed"
        },
        "tags": [],
        "id": "9036654e"
      },
      "source": [
        "# Step 2: Generate test predictions\n",
        "\n",
        "Now, you'll use your trained model to generate predictions with the test data."
      ],
      "id": "9036654e"
    },
    {
      "cell_type": "code",
      "metadata": {
        "execution": {
          "iopub.execute_input": "2021-08-19T04:01:32.521216Z",
          "iopub.status.busy": "2021-08-19T04:01:32.520515Z",
          "iopub.status.idle": "2021-08-19T04:01:32.890304Z",
          "shell.execute_reply": "2021-08-19T04:01:32.890758Z",
          "shell.execute_reply.started": "2021-08-19T04:00:17.753577Z"
        },
        "papermill": {
          "duration": 0.39821,
          "end_time": "2021-08-19T04:01:32.890930",
          "exception": false,
          "start_time": "2021-08-19T04:01:32.492720",
          "status": "completed"
        },
        "tags": [],
        "id": "f9376e48",
        "outputId": "88fae39a-72b8-4e8a-bef2-b5f0258c5706"
      },
      "source": [
        "# Preprocessing of test data, fit model\n",
        "preds_test = my_pipeline.predict(X_test)\n",
        "\n",
        "# Check your answer\n",
        "step_2.check()"
      ],
      "id": "f9376e48",
      "execution_count": null,
      "outputs": [
        {
          "data": {
            "application/javascript": [
              "parent.postMessage({\"jupyterEvent\": \"custom.exercise_interaction\", \"data\": {\"outcomeType\": 1, \"valueTowardsCompletion\": 1.0, \"interactionType\": 1, \"questionType\": 2, \"questionId\": \"2_TestPreds\", \"learnToolsVersion\": \"0.3.4\", \"failureMessage\": \"\", \"exceptionClass\": \"\", \"trace\": \"\"}}, \"*\")"
            ],
            "text/plain": [
              "<IPython.core.display.Javascript object>"
            ]
          },
          "metadata": {},
          "output_type": "display_data"
        },
        {
          "data": {
            "text/markdown": [
              "<span style=\"color:#33cc33\">Correct</span>"
            ],
            "text/plain": [
              "Correct"
            ]
          },
          "metadata": {},
          "output_type": "display_data"
        }
      ]
    },
    {
      "cell_type": "code",
      "metadata": {
        "execution": {
          "iopub.execute_input": "2021-08-19T04:01:32.937507Z",
          "iopub.status.busy": "2021-08-19T04:01:32.936837Z",
          "iopub.status.idle": "2021-08-19T04:01:32.939918Z",
          "shell.execute_reply": "2021-08-19T04:01:32.939374Z"
        },
        "papermill": {
          "duration": 0.02766,
          "end_time": "2021-08-19T04:01:32.940069",
          "exception": false,
          "start_time": "2021-08-19T04:01:32.912409",
          "status": "completed"
        },
        "tags": [],
        "id": "d1c8fd31"
      },
      "source": [
        "# Lines below will give you a hint or solution code\n",
        "#step_2.hint()\n",
        "#step_2.solution()"
      ],
      "id": "d1c8fd31",
      "execution_count": null,
      "outputs": []
    },
    {
      "cell_type": "markdown",
      "metadata": {
        "papermill": {
          "duration": 0.020389,
          "end_time": "2021-08-19T04:01:32.981431",
          "exception": false,
          "start_time": "2021-08-19T04:01:32.961042",
          "status": "completed"
        },
        "tags": [],
        "id": "5b14b17d"
      },
      "source": [
        "Run the next code cell without changes to save your results to a CSV file that can be submitted directly to the competition."
      ],
      "id": "5b14b17d"
    },
    {
      "cell_type": "code",
      "metadata": {
        "execution": {
          "iopub.execute_input": "2021-08-19T04:01:33.029173Z",
          "iopub.status.busy": "2021-08-19T04:01:33.028453Z",
          "iopub.status.idle": "2021-08-19T04:01:33.039603Z",
          "shell.execute_reply": "2021-08-19T04:01:33.039062Z",
          "shell.execute_reply.started": "2021-08-19T04:00:24.921161Z"
        },
        "papermill": {
          "duration": 0.03752,
          "end_time": "2021-08-19T04:01:33.039751",
          "exception": false,
          "start_time": "2021-08-19T04:01:33.002231",
          "status": "completed"
        },
        "tags": [],
        "id": "efa28067"
      },
      "source": [
        "# Save test predictions to file\n",
        "output = pd.DataFrame({'Id': X_test.index,\n",
        "                       'SalePrice': preds_test})\n",
        "output.to_csv('submission.csv', index=False)"
      ],
      "id": "efa28067",
      "execution_count": null,
      "outputs": []
    },
    {
      "cell_type": "markdown",
      "metadata": {
        "papermill": {
          "duration": 0.021359,
          "end_time": "2021-08-19T04:01:33.082350",
          "exception": false,
          "start_time": "2021-08-19T04:01:33.060991",
          "status": "completed"
        },
        "tags": [],
        "id": "05ba0d3e"
      },
      "source": [
        "# Submit your results\n",
        "\n",
        "Once you have successfully completed Step 2, you're ready to submit your results to the leaderboard!  If you choose to do so, make sure that you have already joined the competition by clicking on the **Join Competition** button at [this link](https://www.kaggle.com/c/home-data-for-ml-course).  \n",
        "1. Begin by clicking on the blue **Save Version** button in the top right corner of the window.  This will generate a pop-up window.  \n",
        "2. Ensure that the **Save and Run All** option is selected, and then click on the blue **Save** button.\n",
        "3. This generates a window in the bottom left corner of the notebook.  After it has finished running, click on the number to the right of the **Save Version** button.  This pulls up a list of versions on the right of the screen.  Click on the ellipsis **(...)** to the right of the most recent version, and select **Open in Viewer**.  This brings you into view mode of the same page. You will need to scroll down to get back to these instructions.\n",
        "4. Click on the **Output** tab on the right of the screen.  Then, click on the file you would like to submit, and click on the blue **Submit** button to submit your results to the leaderboard.\n",
        "\n",
        "You have now successfully submitted to the competition!\n",
        "\n",
        "If you want to keep working to improve your performance, select the blue **Edit** button in the top right of the screen. Then you can change your code and repeat the process. There's a lot of room to improve, and you will climb up the leaderboard as you work.\n",
        "\n",
        "\n",
        "# Keep going\n",
        "\n",
        "Move on to learn about [**cross-validation**](https://www.kaggle.com/alexisbcook/cross-validation), a technique you can use to obtain more accurate estimates of model performance!"
      ],
      "id": "05ba0d3e"
    },
    {
      "cell_type": "markdown",
      "metadata": {
        "papermill": {
          "duration": 0.020388,
          "end_time": "2021-08-19T04:01:33.123818",
          "exception": false,
          "start_time": "2021-08-19T04:01:33.103430",
          "status": "completed"
        },
        "tags": [],
        "id": "9f113b83"
      },
      "source": [
        "---\n",
        "\n",
        "\n",
        "\n",
        "\n",
        "*Have questions or comments? Visit the [Learn Discussion forum](https://www.kaggle.com/learn-forum/161289) to chat with other Learners.*"
      ],
      "id": "9f113b83"
    }
  ]
}