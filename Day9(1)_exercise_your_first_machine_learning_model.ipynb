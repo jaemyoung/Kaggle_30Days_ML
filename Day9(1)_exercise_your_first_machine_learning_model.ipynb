{
  "nbformat": 4,
  "nbformat_minor": 5,
  "metadata": {
    "kernelspec": {
      "display_name": "Python 3",
      "language": "python",
      "name": "python3"
    },
    "language_info": {
      "codemirror_mode": {
        "name": "ipython",
        "version": 3
      },
      "file_extension": ".py",
      "mimetype": "text/x-python",
      "name": "python",
      "nbconvert_exporter": "python",
      "pygments_lexer": "ipython3",
      "version": "3.7.10"
    },
    "papermill": {
      "default_parameters": {},
      "duration": 11.769276,
      "end_time": "2021-08-17T07:47:39.616094",
      "environment_variables": {},
      "exception": null,
      "input_path": "__notebook__.ipynb",
      "output_path": "__notebook__.ipynb",
      "parameters": {},
      "start_time": "2021-08-17T07:47:27.846818",
      "version": "2.3.3"
    },
    "colab": {
      "name": "Day9(1)_exercise-your-first-machine-learning-model.ipynb",
      "provenance": [],
      "include_colab_link": true
    }
  },
  "cells": [
    {
      "cell_type": "markdown",
      "metadata": {
        "id": "view-in-github",
        "colab_type": "text"
      },
      "source": [
        "<a href=\"https://colab.research.google.com/github/jaemyoung/Kaggle_30Days_ML/blob/main/Day9(1)_exercise_your_first_machine_learning_model.ipynb\" target=\"_parent\"><img src=\"https://colab.research.google.com/assets/colab-badge.svg\" alt=\"Open In Colab\"/></a>"
      ]
    },
    {
      "cell_type": "markdown",
      "metadata": {
        "papermill": {
          "duration": 0.017084,
          "end_time": "2021-08-17T07:47:35.943241",
          "exception": false,
          "start_time": "2021-08-17T07:47:35.926157",
          "status": "completed"
        },
        "tags": [],
        "id": "0f99961b"
      },
      "source": [
        "**This notebook is an exercise in the [Introduction to Machine Learning](https://www.kaggle.com/learn/intro-to-machine-learning) course.  You can reference the tutorial at [this link](https://www.kaggle.com/dansbecker/your-first-machine-learning-model).**\n",
        "\n",
        "---\n"
      ],
      "id": "0f99961b"
    },
    {
      "cell_type": "markdown",
      "metadata": {
        "papermill": {
          "duration": 0.015083,
          "end_time": "2021-08-17T07:47:35.974817",
          "exception": false,
          "start_time": "2021-08-17T07:47:35.959734",
          "status": "completed"
        },
        "tags": [],
        "id": "3b4a4b95"
      },
      "source": [
        "## Recap\n",
        "So far, you have loaded your data and reviewed it with the following code. Run this cell to set up your coding environment where the previous step left off."
      ],
      "id": "3b4a4b95"
    },
    {
      "cell_type": "code",
      "metadata": {
        "execution": {
          "iopub.execute_input": "2021-08-17T07:47:36.018800Z",
          "iopub.status.busy": "2021-08-17T07:47:36.017976Z",
          "iopub.status.idle": "2021-08-17T07:47:37.346285Z",
          "shell.execute_reply": "2021-08-17T07:47:37.345634Z",
          "shell.execute_reply.started": "2021-08-17T07:30:20.442037Z"
        },
        "papermill": {
          "duration": 1.356052,
          "end_time": "2021-08-17T07:47:37.346476",
          "exception": false,
          "start_time": "2021-08-17T07:47:35.990424",
          "status": "completed"
        },
        "tags": [],
        "id": "d9f4efe9",
        "outputId": "4cceb276-1f47-49a9-a44c-e94e338b2597"
      },
      "source": [
        "# Code you have previously used to load data\n",
        "import pandas as pd\n",
        "\n",
        "# Path of the file to read\n",
        "iowa_file_path = '../input/home-data-for-ml-course/train.csv'\n",
        "\n",
        "home_data = pd.read_csv(iowa_file_path)\n",
        "\n",
        "# Set up code checking\n",
        "from learntools.core import binder\n",
        "binder.bind(globals())\n",
        "from learntools.machine_learning.ex3 import *\n",
        "\n",
        "print(\"Setup Complete\")"
      ],
      "id": "d9f4efe9",
      "execution_count": null,
      "outputs": [
        {
          "output_type": "stream",
          "text": [
            "Setup Complete\n"
          ],
          "name": "stdout"
        }
      ]
    },
    {
      "cell_type": "markdown",
      "metadata": {
        "papermill": {
          "duration": 0.01514,
          "end_time": "2021-08-17T07:47:37.377659",
          "exception": false,
          "start_time": "2021-08-17T07:47:37.362519",
          "status": "completed"
        },
        "tags": [],
        "id": "d3cc8aac"
      },
      "source": [
        "# Exercises\n",
        "\n",
        "## Step 1: Specify Prediction Target\n",
        "Select the target variable, which corresponds to the sales price. Save this to a new variable called `y`. You'll need to print a list of the columns to find the name of the column you need.\n"
      ],
      "id": "d3cc8aac"
    },
    {
      "cell_type": "code",
      "metadata": {
        "execution": {
          "iopub.execute_input": "2021-08-17T07:47:37.417843Z",
          "iopub.status.busy": "2021-08-17T07:47:37.416786Z",
          "iopub.status.idle": "2021-08-17T07:47:37.421363Z",
          "shell.execute_reply": "2021-08-17T07:47:37.420822Z",
          "shell.execute_reply.started": "2021-08-17T07:33:03.503210Z"
        },
        "papermill": {
          "duration": 0.02858,
          "end_time": "2021-08-17T07:47:37.421515",
          "exception": false,
          "start_time": "2021-08-17T07:47:37.392935",
          "status": "completed"
        },
        "tags": [],
        "id": "d1e53836",
        "outputId": "75d34aff-fc1a-4c9b-f055-0d4ac85a9466"
      },
      "source": [
        "# print the list of columns in the dataset to find the name of the prediction target\n",
        "home_data.columns\n",
        "\n"
      ],
      "id": "d1e53836",
      "execution_count": null,
      "outputs": [
        {
          "output_type": "execute_result",
          "data": {
            "text/plain": [
              "Index(['Id', 'MSSubClass', 'MSZoning', 'LotFrontage', 'LotArea', 'Street',\n",
              "       'Alley', 'LotShape', 'LandContour', 'Utilities', 'LotConfig',\n",
              "       'LandSlope', 'Neighborhood', 'Condition1', 'Condition2', 'BldgType',\n",
              "       'HouseStyle', 'OverallQual', 'OverallCond', 'YearBuilt', 'YearRemodAdd',\n",
              "       'RoofStyle', 'RoofMatl', 'Exterior1st', 'Exterior2nd', 'MasVnrType',\n",
              "       'MasVnrArea', 'ExterQual', 'ExterCond', 'Foundation', 'BsmtQual',\n",
              "       'BsmtCond', 'BsmtExposure', 'BsmtFinType1', 'BsmtFinSF1',\n",
              "       'BsmtFinType2', 'BsmtFinSF2', 'BsmtUnfSF', 'TotalBsmtSF', 'Heating',\n",
              "       'HeatingQC', 'CentralAir', 'Electrical', '1stFlrSF', '2ndFlrSF',\n",
              "       'LowQualFinSF', 'GrLivArea', 'BsmtFullBath', 'BsmtHalfBath', 'FullBath',\n",
              "       'HalfBath', 'BedroomAbvGr', 'KitchenAbvGr', 'KitchenQual',\n",
              "       'TotRmsAbvGrd', 'Functional', 'Fireplaces', 'FireplaceQu', 'GarageType',\n",
              "       'GarageYrBlt', 'GarageFinish', 'GarageCars', 'GarageArea', 'GarageQual',\n",
              "       'GarageCond', 'PavedDrive', 'WoodDeckSF', 'OpenPorchSF',\n",
              "       'EnclosedPorch', '3SsnPorch', 'ScreenPorch', 'PoolArea', 'PoolQC',\n",
              "       'Fence', 'MiscFeature', 'MiscVal', 'MoSold', 'YrSold', 'SaleType',\n",
              "       'SaleCondition', 'SalePrice'],\n",
              "      dtype='object')"
            ]
          },
          "metadata": {
            "tags": []
          },
          "execution_count": 2
        }
      ]
    },
    {
      "cell_type": "code",
      "metadata": {
        "execution": {
          "iopub.execute_input": "2021-08-17T07:47:37.464644Z",
          "iopub.status.busy": "2021-08-17T07:47:37.463963Z",
          "iopub.status.idle": "2021-08-17T07:47:37.471241Z",
          "shell.execute_reply": "2021-08-17T07:47:37.470738Z",
          "shell.execute_reply.started": "2021-08-17T07:33:53.674906Z"
        },
        "papermill": {
          "duration": 0.033828,
          "end_time": "2021-08-17T07:47:37.471423",
          "exception": false,
          "start_time": "2021-08-17T07:47:37.437595",
          "status": "completed"
        },
        "tags": [],
        "id": "ee973acb",
        "outputId": "56a0e874-c8e0-49a9-a1e3-576a5375560c"
      },
      "source": [
        "y = home_data.SalePrice# y값은 예측할 값으로 종속변수라고 생각 (독립변수 X에 따라 값이 달라짐)\n",
        "\n",
        "# Check your answer\n",
        "step_1.check()"
      ],
      "id": "ee973acb",
      "execution_count": null,
      "outputs": [
        {
          "output_type": "display_data",
          "data": {
            "application/javascript": [
              "parent.postMessage({\"jupyterEvent\": \"custom.exercise_interaction\", \"data\": {\"outcomeType\": 1, \"valueTowardsCompletion\": 0.25, \"interactionType\": 1, \"questionType\": 2, \"questionId\": \"1_SetTarget\", \"learnToolsVersion\": \"0.3.4\", \"failureMessage\": \"\", \"exceptionClass\": \"\", \"trace\": \"\"}}, \"*\")"
            ],
            "text/plain": [
              "<IPython.core.display.Javascript object>"
            ]
          },
          "metadata": {
            "tags": []
          }
        },
        {
          "output_type": "display_data",
          "data": {
            "text/markdown": "<span style=\"color:#33cc33\">Correct</span>",
            "text/plain": [
              "Correct"
            ]
          },
          "metadata": {
            "tags": []
          }
        }
      ]
    },
    {
      "cell_type": "code",
      "metadata": {
        "collapsed": true,
        "execution": {
          "iopub.execute_input": "2021-08-17T07:47:37.509865Z",
          "iopub.status.busy": "2021-08-17T07:47:37.509231Z",
          "iopub.status.idle": "2021-08-17T07:47:37.511858Z",
          "shell.execute_reply": "2021-08-17T07:47:37.512295Z"
        },
        "jupyter": {
          "outputs_hidden": true
        },
        "papermill": {
          "duration": 0.023733,
          "end_time": "2021-08-17T07:47:37.512487",
          "exception": false,
          "start_time": "2021-08-17T07:47:37.488754",
          "status": "completed"
        },
        "tags": [],
        "id": "f76b0d96"
      },
      "source": [
        "# The lines below will show you a hint or the solution.\n",
        "# step_1.hint() \n",
        "# step_1.solution()"
      ],
      "id": "f76b0d96",
      "execution_count": null,
      "outputs": []
    },
    {
      "cell_type": "markdown",
      "metadata": {
        "papermill": {
          "duration": 0.016891,
          "end_time": "2021-08-17T07:47:37.546549",
          "exception": false,
          "start_time": "2021-08-17T07:47:37.529658",
          "status": "completed"
        },
        "tags": [],
        "id": "2b68d7b7"
      },
      "source": [
        "## Step 2: Create X\n",
        "Now you will create a DataFrame called `X` holding the predictive features.\n",
        "\n",
        "Since you want only some columns from the original data, you'll first create a list with the names of the columns you want in `X`.\n",
        "\n",
        "You'll use just the following columns in the list (you can copy and paste the whole list to save some typing, though you'll still need to add quotes):\n",
        "    * LotArea\n",
        "    * YearBuilt\n",
        "    * 1stFlrSF\n",
        "    * 2ndFlrSF\n",
        "    * FullBath\n",
        "    * BedroomAbvGr\n",
        "    * TotRmsAbvGrd\n",
        "\n",
        "After you've created that list of features, use it to create the DataFrame that you'll use to fit the model."
      ],
      "id": "2b68d7b7"
    },
    {
      "cell_type": "code",
      "metadata": {
        "execution": {
          "iopub.execute_input": "2021-08-17T07:47:37.590379Z",
          "iopub.status.busy": "2021-08-17T07:47:37.589289Z",
          "iopub.status.idle": "2021-08-17T07:47:37.595801Z",
          "shell.execute_reply": "2021-08-17T07:47:37.596328Z",
          "shell.execute_reply.started": "2021-08-17T07:36:44.619428Z"
        },
        "papermill": {
          "duration": 0.032813,
          "end_time": "2021-08-17T07:47:37.596518",
          "exception": false,
          "start_time": "2021-08-17T07:47:37.563705",
          "status": "completed"
        },
        "tags": [],
        "id": "511ebea4",
        "outputId": "f00de396-f9e1-41da-f41f-bba2ed6b4d84"
      },
      "source": [
        "# Create the list of features below\n",
        "feature_names = [ 'LotArea', 'YearBuilt', '1stFlrSF', '2ndFlrSF', 'FullBath', 'BedroomAbvGr',  'TotRmsAbvGrd']\n",
        "\n",
        "# Select data corresponding to features in feature_names\n",
        "X = home_data[feature_names] # 독립변수 X의 항목을 위에 7가지로 확정\n",
        "\n",
        "# Check your answer\n",
        "step_2.check()"
      ],
      "id": "511ebea4",
      "execution_count": null,
      "outputs": [
        {
          "output_type": "display_data",
          "data": {
            "application/javascript": [
              "parent.postMessage({\"jupyterEvent\": \"custom.exercise_interaction\", \"data\": {\"outcomeType\": 1, \"valueTowardsCompletion\": 0.25, \"interactionType\": 1, \"questionType\": 2, \"questionId\": \"2_SelectPredictionData\", \"learnToolsVersion\": \"0.3.4\", \"failureMessage\": \"\", \"exceptionClass\": \"\", \"trace\": \"\"}}, \"*\")"
            ],
            "text/plain": [
              "<IPython.core.display.Javascript object>"
            ]
          },
          "metadata": {
            "tags": []
          }
        },
        {
          "output_type": "display_data",
          "data": {
            "text/markdown": "<span style=\"color:#33cc33\">Correct</span>",
            "text/plain": [
              "Correct"
            ]
          },
          "metadata": {
            "tags": []
          }
        }
      ]
    },
    {
      "cell_type": "code",
      "metadata": {
        "collapsed": true,
        "execution": {
          "iopub.execute_input": "2021-08-17T07:47:37.637723Z",
          "iopub.status.busy": "2021-08-17T07:47:37.637022Z",
          "iopub.status.idle": "2021-08-17T07:47:37.640663Z",
          "shell.execute_reply": "2021-08-17T07:47:37.640120Z"
        },
        "jupyter": {
          "outputs_hidden": true
        },
        "papermill": {
          "duration": 0.025746,
          "end_time": "2021-08-17T07:47:37.640807",
          "exception": false,
          "start_time": "2021-08-17T07:47:37.615061",
          "status": "completed"
        },
        "tags": [],
        "id": "d4082f96"
      },
      "source": [
        "# step_2.hint()\n",
        "# step_2.solution()"
      ],
      "id": "d4082f96",
      "execution_count": null,
      "outputs": []
    },
    {
      "cell_type": "markdown",
      "metadata": {
        "papermill": {
          "duration": 0.018213,
          "end_time": "2021-08-17T07:47:37.677833",
          "exception": false,
          "start_time": "2021-08-17T07:47:37.659620",
          "status": "completed"
        },
        "tags": [],
        "id": "75f7dc4a"
      },
      "source": [
        "## Review Data\n",
        "Before building a model, take a quick look at **X** to verify it looks sensible"
      ],
      "id": "75f7dc4a"
    },
    {
      "cell_type": "code",
      "metadata": {
        "execution": {
          "iopub.execute_input": "2021-08-17T07:47:37.720750Z",
          "iopub.status.busy": "2021-08-17T07:47:37.719798Z",
          "iopub.status.idle": "2021-08-17T07:47:37.738523Z",
          "shell.execute_reply": "2021-08-17T07:47:37.737943Z",
          "shell.execute_reply.started": "2021-08-17T07:38:08.930519Z"
        },
        "papermill": {
          "duration": 0.042736,
          "end_time": "2021-08-17T07:47:37.738679",
          "exception": false,
          "start_time": "2021-08-17T07:47:37.695943",
          "status": "completed"
        },
        "tags": [],
        "id": "1eda45c9",
        "outputId": "4018b33c-3e33-4992-dc36-d7f885fd4ff3"
      },
      "source": [
        "# Review data\n",
        "# print description or statistics from X\n",
        "print(X)\n",
        "\n",
        "# print the top few lines\n",
        "X.head()"
      ],
      "id": "1eda45c9",
      "execution_count": null,
      "outputs": [
        {
          "output_type": "stream",
          "text": [
            "      LotArea  YearBuilt  1stFlrSF  2ndFlrSF  FullBath  BedroomAbvGr  \\\n",
            "0        8450       2003       856       854         2             3   \n",
            "1        9600       1976      1262         0         2             3   \n",
            "2       11250       2001       920       866         2             3   \n",
            "3        9550       1915       961       756         1             3   \n",
            "4       14260       2000      1145      1053         2             4   \n",
            "...       ...        ...       ...       ...       ...           ...   \n",
            "1455     7917       1999       953       694         2             3   \n",
            "1456    13175       1978      2073         0         2             3   \n",
            "1457     9042       1941      1188      1152         2             4   \n",
            "1458     9717       1950      1078         0         1             2   \n",
            "1459     9937       1965      1256         0         1             3   \n",
            "\n",
            "      TotRmsAbvGrd  \n",
            "0                8  \n",
            "1                6  \n",
            "2                6  \n",
            "3                7  \n",
            "4                9  \n",
            "...            ...  \n",
            "1455             7  \n",
            "1456             7  \n",
            "1457             9  \n",
            "1458             5  \n",
            "1459             6  \n",
            "\n",
            "[1460 rows x 7 columns]\n"
          ],
          "name": "stdout"
        },
        {
          "output_type": "execute_result",
          "data": {
            "text/html": [
              "<div>\n",
              "<style scoped>\n",
              "    .dataframe tbody tr th:only-of-type {\n",
              "        vertical-align: middle;\n",
              "    }\n",
              "\n",
              "    .dataframe tbody tr th {\n",
              "        vertical-align: top;\n",
              "    }\n",
              "\n",
              "    .dataframe thead th {\n",
              "        text-align: right;\n",
              "    }\n",
              "</style>\n",
              "<table border=\"1\" class=\"dataframe\">\n",
              "  <thead>\n",
              "    <tr style=\"text-align: right;\">\n",
              "      <th></th>\n",
              "      <th>LotArea</th>\n",
              "      <th>YearBuilt</th>\n",
              "      <th>1stFlrSF</th>\n",
              "      <th>2ndFlrSF</th>\n",
              "      <th>FullBath</th>\n",
              "      <th>BedroomAbvGr</th>\n",
              "      <th>TotRmsAbvGrd</th>\n",
              "    </tr>\n",
              "  </thead>\n",
              "  <tbody>\n",
              "    <tr>\n",
              "      <th>0</th>\n",
              "      <td>8450</td>\n",
              "      <td>2003</td>\n",
              "      <td>856</td>\n",
              "      <td>854</td>\n",
              "      <td>2</td>\n",
              "      <td>3</td>\n",
              "      <td>8</td>\n",
              "    </tr>\n",
              "    <tr>\n",
              "      <th>1</th>\n",
              "      <td>9600</td>\n",
              "      <td>1976</td>\n",
              "      <td>1262</td>\n",
              "      <td>0</td>\n",
              "      <td>2</td>\n",
              "      <td>3</td>\n",
              "      <td>6</td>\n",
              "    </tr>\n",
              "    <tr>\n",
              "      <th>2</th>\n",
              "      <td>11250</td>\n",
              "      <td>2001</td>\n",
              "      <td>920</td>\n",
              "      <td>866</td>\n",
              "      <td>2</td>\n",
              "      <td>3</td>\n",
              "      <td>6</td>\n",
              "    </tr>\n",
              "    <tr>\n",
              "      <th>3</th>\n",
              "      <td>9550</td>\n",
              "      <td>1915</td>\n",
              "      <td>961</td>\n",
              "      <td>756</td>\n",
              "      <td>1</td>\n",
              "      <td>3</td>\n",
              "      <td>7</td>\n",
              "    </tr>\n",
              "    <tr>\n",
              "      <th>4</th>\n",
              "      <td>14260</td>\n",
              "      <td>2000</td>\n",
              "      <td>1145</td>\n",
              "      <td>1053</td>\n",
              "      <td>2</td>\n",
              "      <td>4</td>\n",
              "      <td>9</td>\n",
              "    </tr>\n",
              "  </tbody>\n",
              "</table>\n",
              "</div>"
            ],
            "text/plain": [
              "   LotArea  YearBuilt  1stFlrSF  2ndFlrSF  FullBath  BedroomAbvGr  \\\n",
              "0     8450       2003       856       854         2             3   \n",
              "1     9600       1976      1262         0         2             3   \n",
              "2    11250       2001       920       866         2             3   \n",
              "3     9550       1915       961       756         1             3   \n",
              "4    14260       2000      1145      1053         2             4   \n",
              "\n",
              "   TotRmsAbvGrd  \n",
              "0             8  \n",
              "1             6  \n",
              "2             6  \n",
              "3             7  \n",
              "4             9  "
            ]
          },
          "metadata": {
            "tags": []
          },
          "execution_count": 7
        }
      ]
    },
    {
      "cell_type": "markdown",
      "metadata": {
        "papermill": {
          "duration": 0.018449,
          "end_time": "2021-08-17T07:47:37.776146",
          "exception": false,
          "start_time": "2021-08-17T07:47:37.757697",
          "status": "completed"
        },
        "tags": [],
        "id": "05169227"
      },
      "source": [
        "## Step 3: Specify and Fit Model\n",
        "Create a `DecisionTreeRegressor` and save it iowa_model. Ensure you've done the relevant import from sklearn to run this command.\n",
        "\n",
        "Then fit the model you just created using the data in `X` and `y` that you saved above."
      ],
      "id": "05169227"
    },
    {
      "cell_type": "code",
      "metadata": {
        "execution": {
          "iopub.execute_input": "2021-08-17T07:47:37.823673Z",
          "iopub.status.busy": "2021-08-17T07:47:37.823005Z",
          "iopub.status.idle": "2021-08-17T07:47:37.837783Z",
          "shell.execute_reply": "2021-08-17T07:47:37.836543Z",
          "shell.execute_reply.started": "2021-08-17T07:40:40.824138Z"
        },
        "papermill": {
          "duration": 0.043035,
          "end_time": "2021-08-17T07:47:37.838039",
          "exception": false,
          "start_time": "2021-08-17T07:47:37.795004",
          "status": "completed"
        },
        "tags": [],
        "id": "300adaf8",
        "outputId": "1e42c02a-5f89-4e47-af7f-5e9b9e4f6c3d"
      },
      "source": [
        "from sklearn.tree import DecisionTreeRegressor\n",
        "#specify the model. \n",
        "#For model reproducibility, set a numeric value for random_state when specifying the model\n",
        "iowa_model = DecisionTreeRegressor(random_state=1) #random-state는 모델의 임의성을 중복시키지 않아 specify하게 만들어줌(모델을 Run할때마다 같은값이나옴)\n",
        "\n",
        "# Fit the model\n",
        "iowa_model.fit(X,y)\n",
        "\n",
        "# Check your answer\n",
        "step_3.check()"
      ],
      "id": "300adaf8",
      "execution_count": null,
      "outputs": [
        {
          "output_type": "display_data",
          "data": {
            "application/javascript": [
              "parent.postMessage({\"jupyterEvent\": \"custom.exercise_interaction\", \"data\": {\"outcomeType\": 1, \"valueTowardsCompletion\": 0.25, \"interactionType\": 1, \"questionType\": 2, \"questionId\": \"3_CreateModel\", \"learnToolsVersion\": \"0.3.4\", \"failureMessage\": \"\", \"exceptionClass\": \"\", \"trace\": \"\"}}, \"*\")"
            ],
            "text/plain": [
              "<IPython.core.display.Javascript object>"
            ]
          },
          "metadata": {
            "tags": []
          }
        },
        {
          "output_type": "display_data",
          "data": {
            "text/markdown": "<span style=\"color:#33cc33\">Correct</span>",
            "text/plain": [
              "Correct"
            ]
          },
          "metadata": {
            "tags": []
          }
        }
      ]
    },
    {
      "cell_type": "code",
      "metadata": {
        "execution": {
          "iopub.execute_input": "2021-08-17T07:47:37.884562Z",
          "iopub.status.busy": "2021-08-17T07:47:37.883841Z",
          "iopub.status.idle": "2021-08-17T07:47:37.891206Z",
          "shell.execute_reply": "2021-08-17T07:47:37.890598Z",
          "shell.execute_reply.started": "2021-08-17T07:40:50.855084Z"
        },
        "papermill": {
          "duration": 0.032069,
          "end_time": "2021-08-17T07:47:37.891363",
          "exception": false,
          "start_time": "2021-08-17T07:47:37.859294",
          "status": "completed"
        },
        "tags": [],
        "id": "7cfce11a",
        "outputId": "bbedf84a-9287-486a-da24-b5442d090930"
      },
      "source": [
        "step_3.hint()\n",
        "step_3.solution()"
      ],
      "id": "7cfce11a",
      "execution_count": null,
      "outputs": [
        {
          "output_type": "display_data",
          "data": {
            "application/javascript": [
              "parent.postMessage({\"jupyterEvent\": \"custom.exercise_interaction\", \"data\": {\"interactionType\": 2, \"questionType\": 2, \"questionId\": \"3_CreateModel\", \"learnToolsVersion\": \"0.3.4\", \"valueTowardsCompletion\": 0.0, \"failureMessage\": \"\", \"exceptionClass\": \"\", \"trace\": \"\", \"outcomeType\": 4}}, \"*\")"
            ],
            "text/plain": [
              "<IPython.core.display.Javascript object>"
            ]
          },
          "metadata": {
            "tags": []
          }
        },
        {
          "output_type": "display_data",
          "data": {
            "text/markdown": "<span style=\"color:#3366cc\">Hint:</span> Include `random_state` when specifying model. Data is specified when fitting it.",
            "text/plain": [
              "Hint: Include `random_state` when specifying model. Data is specified when fitting it."
            ]
          },
          "metadata": {
            "tags": []
          }
        },
        {
          "output_type": "display_data",
          "data": {
            "application/javascript": [
              "parent.postMessage({\"jupyterEvent\": \"custom.exercise_interaction\", \"data\": {\"interactionType\": 3, \"questionType\": 2, \"questionId\": \"3_CreateModel\", \"learnToolsVersion\": \"0.3.4\", \"valueTowardsCompletion\": 0.0, \"failureMessage\": \"\", \"exceptionClass\": \"\", \"trace\": \"\", \"outcomeType\": 4}}, \"*\")"
            ],
            "text/plain": [
              "<IPython.core.display.Javascript object>"
            ]
          },
          "metadata": {
            "tags": []
          }
        },
        {
          "output_type": "display_data",
          "data": {
            "text/markdown": "<span style=\"color:#33cc99\">Solution:</span> \n```python\nfrom sklearn.tree import DecisionTreeRegressor\niowa_model = DecisionTreeRegressor(random_state=1)\niowa_model.fit(X, y)\n```",
            "text/plain": [
              "Solution: \n",
              "```python\n",
              "from sklearn.tree import DecisionTreeRegressor\n",
              "iowa_model = DecisionTreeRegressor(random_state=1)\n",
              "iowa_model.fit(X, y)\n",
              "```"
            ]
          },
          "metadata": {
            "tags": []
          }
        }
      ]
    },
    {
      "cell_type": "markdown",
      "metadata": {
        "papermill": {
          "duration": 0.022385,
          "end_time": "2021-08-17T07:47:37.936131",
          "exception": false,
          "start_time": "2021-08-17T07:47:37.913746",
          "status": "completed"
        },
        "tags": [],
        "id": "47f31562"
      },
      "source": [
        "## Step 4: Make Predictions\n",
        "Make predictions with the model's `predict` command using `X` as the data. Save the results to a variable called `predictions`."
      ],
      "id": "47f31562"
    },
    {
      "cell_type": "code",
      "metadata": {
        "execution": {
          "iopub.execute_input": "2021-08-17T07:47:37.983211Z",
          "iopub.status.busy": "2021-08-17T07:47:37.982587Z",
          "iopub.status.idle": "2021-08-17T07:47:37.995556Z",
          "shell.execute_reply": "2021-08-17T07:47:37.996055Z",
          "shell.execute_reply.started": "2021-08-17T07:43:20.672483Z"
        },
        "papermill": {
          "duration": 0.038121,
          "end_time": "2021-08-17T07:47:37.996237",
          "exception": false,
          "start_time": "2021-08-17T07:47:37.958116",
          "status": "completed"
        },
        "tags": [],
        "id": "c95cdc49",
        "outputId": "ba5c68c7-130b-4125-82ae-c0112ef40eb0"
      },
      "source": [
        "predictions = iowa_model.predict(X) # X값에 대한 y값이 Decision tree로 예측되어진 값\n",
        "print(predictions)\n",
        "\n",
        "# Check your answer\n",
        "step_4.check()"
      ],
      "id": "c95cdc49",
      "execution_count": null,
      "outputs": [
        {
          "output_type": "stream",
          "text": [
            "[208500. 181500. 223500. ... 266500. 142125. 147500.]\n"
          ],
          "name": "stdout"
        },
        {
          "output_type": "display_data",
          "data": {
            "application/javascript": [
              "parent.postMessage({\"jupyterEvent\": \"custom.exercise_interaction\", \"data\": {\"outcomeType\": 1, \"valueTowardsCompletion\": 0.25, \"interactionType\": 1, \"questionType\": 2, \"questionId\": \"4_MakePredictions\", \"learnToolsVersion\": \"0.3.4\", \"failureMessage\": \"\", \"exceptionClass\": \"\", \"trace\": \"\"}}, \"*\")"
            ],
            "text/plain": [
              "<IPython.core.display.Javascript object>"
            ]
          },
          "metadata": {
            "tags": []
          }
        },
        {
          "output_type": "display_data",
          "data": {
            "text/markdown": "<span style=\"color:#33cc33\">Correct</span>",
            "text/plain": [
              "Correct"
            ]
          },
          "metadata": {
            "tags": []
          }
        }
      ]
    },
    {
      "cell_type": "code",
      "metadata": {
        "execution": {
          "iopub.execute_input": "2021-08-17T07:47:38.047992Z",
          "iopub.status.busy": "2021-08-17T07:47:38.047325Z",
          "iopub.status.idle": "2021-08-17T07:47:38.054843Z",
          "shell.execute_reply": "2021-08-17T07:47:38.055328Z",
          "shell.execute_reply.started": "2021-08-17T07:46:58.924669Z"
        },
        "papermill": {
          "duration": 0.035823,
          "end_time": "2021-08-17T07:47:38.055516",
          "exception": false,
          "start_time": "2021-08-17T07:47:38.019693",
          "status": "completed"
        },
        "tags": [],
        "id": "c9f6c480",
        "outputId": "5837dd1c-902f-4094-a34c-f831e9973755"
      },
      "source": [
        "step_4.hint()\n",
        "step_4.solution()"
      ],
      "id": "c9f6c480",
      "execution_count": null,
      "outputs": [
        {
          "output_type": "display_data",
          "data": {
            "application/javascript": [
              "parent.postMessage({\"jupyterEvent\": \"custom.exercise_interaction\", \"data\": {\"interactionType\": 2, \"questionType\": 2, \"questionId\": \"4_MakePredictions\", \"learnToolsVersion\": \"0.3.4\", \"valueTowardsCompletion\": 0.0, \"failureMessage\": \"\", \"exceptionClass\": \"\", \"trace\": \"\", \"outcomeType\": 4}}, \"*\")"
            ],
            "text/plain": [
              "<IPython.core.display.Javascript object>"
            ]
          },
          "metadata": {
            "tags": []
          }
        },
        {
          "output_type": "display_data",
          "data": {
            "text/markdown": "<span style=\"color:#3366cc\">Hint:</span> Use `iowa_model.predict` with an argument holding the data to predict with.",
            "text/plain": [
              "Hint: Use `iowa_model.predict` with an argument holding the data to predict with."
            ]
          },
          "metadata": {
            "tags": []
          }
        },
        {
          "output_type": "display_data",
          "data": {
            "application/javascript": [
              "parent.postMessage({\"jupyterEvent\": \"custom.exercise_interaction\", \"data\": {\"interactionType\": 3, \"questionType\": 2, \"questionId\": \"4_MakePredictions\", \"learnToolsVersion\": \"0.3.4\", \"valueTowardsCompletion\": 0.0, \"failureMessage\": \"\", \"exceptionClass\": \"\", \"trace\": \"\", \"outcomeType\": 4}}, \"*\")"
            ],
            "text/plain": [
              "<IPython.core.display.Javascript object>"
            ]
          },
          "metadata": {
            "tags": []
          }
        },
        {
          "output_type": "display_data",
          "data": {
            "text/markdown": "<span style=\"color:#33cc99\">Solution:</span> \n```python\niowa_model.predict(X)\n```",
            "text/plain": [
              "Solution: \n",
              "```python\n",
              "iowa_model.predict(X)\n",
              "```"
            ]
          },
          "metadata": {
            "tags": []
          }
        }
      ]
    },
    {
      "cell_type": "markdown",
      "metadata": {
        "papermill": {
          "duration": 0.025135,
          "end_time": "2021-08-17T07:47:38.106403",
          "exception": false,
          "start_time": "2021-08-17T07:47:38.081268",
          "status": "completed"
        },
        "tags": [],
        "id": "00e17bbb"
      },
      "source": [
        "## Think About Your Results\n",
        "\n",
        "Use the `head` method to compare the top few predictions to the actual home values (in `y`) for those same homes. Anything surprising?\n"
      ],
      "id": "00e17bbb"
    },
    {
      "cell_type": "code",
      "metadata": {
        "execution": {
          "iopub.execute_input": "2021-08-17T07:47:38.159289Z",
          "iopub.status.busy": "2021-08-17T07:47:38.158659Z",
          "iopub.status.idle": "2021-08-17T07:47:38.164144Z",
          "shell.execute_reply": "2021-08-17T07:47:38.164658Z",
          "shell.execute_reply.started": "2021-08-17T07:45:38.704077Z"
        },
        "papermill": {
          "duration": 0.033436,
          "end_time": "2021-08-17T07:47:38.164825",
          "exception": false,
          "start_time": "2021-08-17T07:47:38.131389",
          "status": "completed"
        },
        "tags": [],
        "id": "2a907a4c",
        "outputId": "bf45408b-ec71-4b49-98ae-5ec98778fbcd"
      },
      "source": [
        "# You can write code in this cell\n",
        "y.head() #실제 y값과 비교해보니 decision tree와 같은 값을 가짐"
      ],
      "id": "2a907a4c",
      "execution_count": null,
      "outputs": [
        {
          "output_type": "execute_result",
          "data": {
            "text/plain": [
              "0    208500\n",
              "1    181500\n",
              "2    223500\n",
              "3    140000\n",
              "4    250000\n",
              "Name: SalePrice, dtype: int64"
            ]
          },
          "metadata": {
            "tags": []
          },
          "execution_count": 12
        }
      ]
    },
    {
      "cell_type": "markdown",
      "metadata": {
        "papermill": {
          "duration": 0.025091,
          "end_time": "2021-08-17T07:47:38.215590",
          "exception": false,
          "start_time": "2021-08-17T07:47:38.190499",
          "status": "completed"
        },
        "tags": [],
        "id": "5cf87b33"
      },
      "source": [
        "It's natural to ask how accurate the model's predictions will be and how you can improve that. That will be you're next step.\n",
        "\n",
        "# Keep Going\n",
        "\n",
        "You are ready for **[Model Validation](https://www.kaggle.com/dansbecker/model-validation).**\n"
      ],
      "id": "5cf87b33"
    },
    {
      "cell_type": "markdown",
      "metadata": {
        "papermill": {
          "duration": 0.02494,
          "end_time": "2021-08-17T07:47:38.265927",
          "exception": false,
          "start_time": "2021-08-17T07:47:38.240987",
          "status": "completed"
        },
        "tags": [],
        "id": "72db9772"
      },
      "source": [
        "---\n",
        "\n",
        "\n",
        "\n",
        "\n",
        "*Have questions or comments? Visit the [Learn Discussion forum](https://www.kaggle.com/learn-forum/161285) to chat with other Learners.*"
      ],
      "id": "72db9772"
    }
  ]
}