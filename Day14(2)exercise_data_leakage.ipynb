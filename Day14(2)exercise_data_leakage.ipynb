{
  "nbformat": 4,
  "nbformat_minor": 5,
  "metadata": {
    "kernelspec": {
      "display_name": "Python 3",
      "language": "python",
      "name": "python3"
    },
    "language_info": {
      "codemirror_mode": {
        "name": "ipython",
        "version": 3
      },
      "file_extension": ".py",
      "mimetype": "text/x-python",
      "name": "python",
      "nbconvert_exporter": "python",
      "pygments_lexer": "ipython3",
      "version": "3.7.10"
    },
    "papermill": {
      "default_parameters": {},
      "duration": 9.878954,
      "end_time": "2021-08-19T09:07:29.669473",
      "environment_variables": {},
      "exception": null,
      "input_path": "__notebook__.ipynb",
      "output_path": "__notebook__.ipynb",
      "parameters": {},
      "start_time": "2021-08-19T09:07:19.790519",
      "version": "2.3.3"
    },
    "colab": {
      "name": "Day14(2)exercise-data-leakage.ipynb",
      "provenance": [],
      "include_colab_link": true
    }
  },
  "cells": [
    {
      "cell_type": "markdown",
      "metadata": {
        "id": "view-in-github",
        "colab_type": "text"
      },
      "source": [
        "<a href=\"https://colab.research.google.com/github/jaemyoung/Kaggle_30Days_ML/blob/main/Day14(2)exercise_data_leakage.ipynb\" target=\"_parent\"><img src=\"https://colab.research.google.com/assets/colab-badge.svg\" alt=\"Open In Colab\"/></a>"
      ]
    },
    {
      "cell_type": "markdown",
      "metadata": {
        "papermill": {
          "duration": 0.009674,
          "end_time": "2021-08-19T09:07:27.716992",
          "exception": false,
          "start_time": "2021-08-19T09:07:27.707318",
          "status": "completed"
        },
        "tags": [],
        "id": "e773406c"
      },
      "source": [
        "**This notebook is an exercise in the [Intermediate Machine Learning](https://www.kaggle.com/learn/intermediate-machine-learning) course.  You can reference the tutorial at [this link](https://www.kaggle.com/alexisbcook/data-leakage).**\n",
        "\n",
        "---\n"
      ],
      "id": "e773406c"
    },
    {
      "cell_type": "markdown",
      "metadata": {
        "papermill": {
          "duration": 0.00862,
          "end_time": "2021-08-19T09:07:27.734816",
          "exception": false,
          "start_time": "2021-08-19T09:07:27.726196",
          "status": "completed"
        },
        "tags": [],
        "id": "16b76579"
      },
      "source": [
        "Most people find target leakage very tricky until they've thought about it for a long time.\n",
        "\n",
        "So, before trying to think about leakage in the housing price example, we'll go through a few examples in other applications. Things will feel more familiar once you come back to a question about house prices.\n",
        "\n",
        "# Setup\n",
        "\n",
        "The questions below will give you feedback on your answers. Run the following cell to set up the feedback system."
      ],
      "id": "16b76579"
    },
    {
      "cell_type": "code",
      "metadata": {
        "execution": {
          "iopub.execute_input": "2021-08-19T09:07:27.762478Z",
          "iopub.status.busy": "2021-08-19T09:07:27.761391Z",
          "iopub.status.idle": "2021-08-19T09:07:27.899005Z",
          "shell.execute_reply": "2021-08-19T09:07:27.899449Z",
          "shell.execute_reply.started": "2021-08-19T08:40:34.968631Z"
        },
        "papermill": {
          "duration": 0.156195,
          "end_time": "2021-08-19T09:07:27.899780",
          "exception": false,
          "start_time": "2021-08-19T09:07:27.743585",
          "status": "completed"
        },
        "tags": [],
        "id": "b6f4a213",
        "outputId": "b519a9b7-ead1-487d-cd11-4dbef6360b03"
      },
      "source": [
        "# Set up code checking\n",
        "from learntools.core import binder\n",
        "binder.bind(globals())\n",
        "from learntools.ml_intermediate.ex7 import *\n",
        "print(\"Setup Complete\")"
      ],
      "id": "b6f4a213",
      "execution_count": null,
      "outputs": [
        {
          "name": "stdout",
          "output_type": "stream",
          "text": [
            "Setup Complete\n"
          ]
        }
      ]
    },
    {
      "cell_type": "markdown",
      "metadata": {
        "papermill": {
          "duration": 0.008916,
          "end_time": "2021-08-19T09:07:27.918355",
          "exception": false,
          "start_time": "2021-08-19T09:07:27.909439",
          "status": "completed"
        },
        "tags": [],
        "id": "9dfa1c92"
      },
      "source": [
        "# Step 1: The Data Science of Shoelaces\n",
        "\n",
        "Nike has hired you as a data science consultant to help them save money on shoe materials. Your first assignment is to review a model one of their employees built to predict how many shoelaces they'll need each month. The features going into the machine learning model include:\n",
        "- The current month (January, February, etc)\n",
        "- Advertising expenditures in the previous month\n",
        "- Various macroeconomic features (like the unemployment rate) as of the beginning of the current month\n",
        "- The amount of leather they ended up using in the current month\n",
        "\n",
        "The results show the model is almost perfectly accurate if you include the feature about how much leather they used. But it is only moderately accurate if you leave that feature out. You realize this is because the amount of leather they use is a perfect indicator of how many shoes they produce, which in turn tells you how many shoelaces they need.\n",
        "\n",
        "Do you think the _leather used_ feature constitutes a source of data leakage? If your answer is \"it depends,\" what does it depend on?\n",
        "\n",
        "After you have thought about your answer, check it against the solution below."
      ],
      "id": "9dfa1c92"
    },
    {
      "cell_type": "code",
      "metadata": {
        "execution": {
          "iopub.execute_input": "2021-08-19T09:07:27.943489Z",
          "iopub.status.busy": "2021-08-19T09:07:27.940801Z",
          "iopub.status.idle": "2021-08-19T09:07:27.950377Z",
          "shell.execute_reply": "2021-08-19T09:07:27.949850Z",
          "shell.execute_reply.started": "2021-08-19T08:45:42.246707Z"
        },
        "papermill": {
          "duration": 0.022666,
          "end_time": "2021-08-19T09:07:27.950523",
          "exception": false,
          "start_time": "2021-08-19T09:07:27.927857",
          "status": "completed"
        },
        "tags": [],
        "id": "7967af8f",
        "outputId": "d38977af-52f1-4c15-da21-719af5eb2470"
      },
      "source": [
        "# Check your answer (Run this code cell to receive credit!)\n",
        "# 가죽의 사용특징이 먼저 정해지게 되면 예측을 할때 데이터 leakage가 될 수 있고 정해지지 않을떄 leakage가 되지 않는다\n",
        "q_1.check()"
      ],
      "id": "7967af8f",
      "execution_count": null,
      "outputs": [
        {
          "data": {
            "application/javascript": [
              "parent.postMessage({\"jupyterEvent\": \"custom.exercise_interaction\", \"data\": {\"outcomeType\": 1, \"valueTowardsCompletion\": 0.2, \"interactionType\": 1, \"questionType\": 4, \"questionId\": \"1_DataScienceOfShoelaces\", \"learnToolsVersion\": \"0.3.4\", \"failureMessage\": \"\", \"exceptionClass\": \"\", \"trace\": \"\"}}, \"*\")"
            ],
            "text/plain": [
              "<IPython.core.display.Javascript object>"
            ]
          },
          "metadata": {},
          "output_type": "display_data"
        },
        {
          "data": {
            "text/markdown": [
              "<span style=\"color:#33cc33\">Correct:</span> \n",
              "\n",
              "This is tricky, and it depends on details of how data is collected (which is common when thinking about leakage). Would you at the beginning of the month decide how much leather will be used that month? If so, this is ok. But if that is determined during the month, you would not have access to it when you make the prediction. If you have a guess at the beginning of the month, and it is subsequently changed during the month, the actual amount used during the month cannot be used as a feature (because it causes leakage)."
            ],
            "text/plain": [
              "Correct: \n",
              "\n",
              "This is tricky, and it depends on details of how data is collected (which is common when thinking about leakage). Would you at the beginning of the month decide how much leather will be used that month? If so, this is ok. But if that is determined during the month, you would not have access to it when you make the prediction. If you have a guess at the beginning of the month, and it is subsequently changed during the month, the actual amount used during the month cannot be used as a feature (because it causes leakage)."
            ]
          },
          "metadata": {},
          "output_type": "display_data"
        }
      ]
    },
    {
      "cell_type": "markdown",
      "metadata": {
        "papermill": {
          "duration": 0.009467,
          "end_time": "2021-08-19T09:07:27.970272",
          "exception": false,
          "start_time": "2021-08-19T09:07:27.960805",
          "status": "completed"
        },
        "tags": [],
        "id": "175922f7"
      },
      "source": [
        "# Step 2: Return of the Shoelaces\n",
        "\n",
        "You have a new idea. You could use the amount of leather Nike ordered (rather than the amount they actually used) leading up to a given month as a predictor in your shoelace model.\n",
        "\n",
        "Does this change your answer about whether there is a leakage problem? If you answer \"it depends,\" what does it depend on?"
      ],
      "id": "175922f7"
    },
    {
      "cell_type": "code",
      "metadata": {
        "execution": {
          "iopub.execute_input": "2021-08-19T09:07:27.995036Z",
          "iopub.status.busy": "2021-08-19T09:07:27.994368Z",
          "iopub.status.idle": "2021-08-19T09:07:28.000173Z",
          "shell.execute_reply": "2021-08-19T09:07:28.000589Z",
          "shell.execute_reply.started": "2021-08-19T08:03:04.945519Z"
        },
        "papermill": {
          "duration": 0.020694,
          "end_time": "2021-08-19T09:07:28.000780",
          "exception": false,
          "start_time": "2021-08-19T09:07:27.980086",
          "status": "completed"
        },
        "tags": [],
        "id": "752c332a",
        "outputId": "9ee0105d-36bf-4202-f8a2-1a3812a76a0c"
      },
      "source": [
        "# Check your answer (Run this code cell to receive credit!)\n",
        "# 신발끈을 먼저 주문하면 신발끈 수요를 예측할 때 얼마나 많은 가죽을 주문했는지 알 수 없습니다. 가죽을 먼저 주문하면 신발끈을 주문할 때 해당 번호를 사용할 수 있으며 괜찮을 것입니다.\n",
        "q_2.check()"
      ],
      "id": "752c332a",
      "execution_count": null,
      "outputs": [
        {
          "data": {
            "application/javascript": [
              "parent.postMessage({\"jupyterEvent\": \"custom.exercise_interaction\", \"data\": {\"outcomeType\": 1, \"valueTowardsCompletion\": 0.2, \"interactionType\": 1, \"questionType\": 4, \"questionId\": \"2_RevengeOfShoelaces\", \"learnToolsVersion\": \"0.3.4\", \"failureMessage\": \"\", \"exceptionClass\": \"\", \"trace\": \"\"}}, \"*\")"
            ],
            "text/plain": [
              "<IPython.core.display.Javascript object>"
            ]
          },
          "metadata": {},
          "output_type": "display_data"
        },
        {
          "data": {
            "text/markdown": [
              "<span style=\"color:#33cc33\">Correct:</span> \n",
              "\n",
              "This could be fine, but it depends on whether they order shoelaces first or leather first. If they order shoelaces first, you won't know how much leather they've ordered when you predict their shoelace needs. If they order leather first, then you'll have that number available when you place your shoelace order, and you should be ok."
            ],
            "text/plain": [
              "Correct: \n",
              "\n",
              "This could be fine, but it depends on whether they order shoelaces first or leather first. If they order shoelaces first, you won't know how much leather they've ordered when you predict their shoelace needs. If they order leather first, then you'll have that number available when you place your shoelace order, and you should be ok."
            ]
          },
          "metadata": {},
          "output_type": "display_data"
        }
      ]
    },
    {
      "cell_type": "markdown",
      "metadata": {
        "papermill": {
          "duration": 0.011159,
          "end_time": "2021-08-19T09:07:28.023525",
          "exception": false,
          "start_time": "2021-08-19T09:07:28.012366",
          "status": "completed"
        },
        "tags": [],
        "id": "ebbabd12"
      },
      "source": [
        "# 3. Getting Rich With Cryptocurrencies?\n",
        "\n",
        "You saved Nike so much money that they gave you a bonus. Congratulations.\n",
        "\n",
        "Your friend, who is also a data scientist, says he has built a model that will let you turn your bonus into millions of dollars. Specifically, his model predicts the price of a new cryptocurrency (like Bitcoin, but a newer one) one day ahead of the moment of prediction. His plan is to purchase the cryptocurrency whenever the model says the price of the currency (in dollars) is about to go up.\n",
        "\n",
        "The most important features in his model are:\n",
        "- Current price of the currency\n",
        "- Amount of the currency sold in the last 24 hours\n",
        "- Change in the currency price in the last 24 hours\n",
        "- Change in the currency price in the last 1 hour\n",
        "- Number of new tweets in the last 24 hours that mention the currency\n",
        "\n",
        "The value of the cryptocurrency in dollars has fluctuated up and down by over $\\$$100 in the last year, and yet his model's average error is less than $\\$$1. He says this is proof his model is accurate, and you should invest with him, buying the currency whenever the model says it is about to go up.\n",
        "\n",
        "Is he right? If there is a problem with his model, what is it?"
      ],
      "id": "ebbabd12"
    },
    {
      "cell_type": "code",
      "metadata": {
        "execution": {
          "iopub.execute_input": "2021-08-19T09:07:28.051565Z",
          "iopub.status.busy": "2021-08-19T09:07:28.050880Z",
          "iopub.status.idle": "2021-08-19T09:07:28.056918Z",
          "shell.execute_reply": "2021-08-19T09:07:28.056390Z",
          "shell.execute_reply.started": "2021-08-19T09:00:00.505041Z"
        },
        "papermill": {
          "duration": 0.02205,
          "end_time": "2021-08-19T09:07:28.057066",
          "exception": false,
          "start_time": "2021-08-19T09:07:28.035016",
          "status": "completed"
        },
        "tags": [],
        "id": "faee1bf1",
        "outputId": "dad9ee58-e47a-46a1-d742-3e8e95b54fcf"
      },
      "source": [
        "# Check your answer (Run this code cell to receive credit!)\n",
        "#그가 정확성을 설명하는 방식은 주의하지 않으면 오해의 소지가 있을 수 있습니다. \n",
        "#가격이 점진적으로 움직이면 오늘의 가격이 내일의 가격을 정확하게 예측하는 지표가 되지만 투자하기에 좋은 시기인지 아닌지는 알려주지 않을 수 있습니다.\n",
        "q_3.check()"
      ],
      "id": "faee1bf1",
      "execution_count": null,
      "outputs": [
        {
          "data": {
            "application/javascript": [
              "parent.postMessage({\"jupyterEvent\": \"custom.exercise_interaction\", \"data\": {\"outcomeType\": 1, \"valueTowardsCompletion\": 0.2, \"interactionType\": 1, \"questionType\": 4, \"questionId\": \"3_CryptoWealthJK\", \"learnToolsVersion\": \"0.3.4\", \"failureMessage\": \"\", \"exceptionClass\": \"\", \"trace\": \"\"}}, \"*\")"
            ],
            "text/plain": [
              "<IPython.core.display.Javascript object>"
            ]
          },
          "metadata": {},
          "output_type": "display_data"
        },
        {
          "data": {
            "text/markdown": [
              "<span style=\"color:#33cc33\">Correct:</span> \n",
              "\n",
              "There is no source of leakage here. These features should be available at the moment you want to make a predition, and they're unlikely to be changed in the training data after the prediction target is determined. But, the way he describes accuracy could be misleading if you aren't careful. If the price moves gradually, today's price will be an accurate predictor of tomorrow's price, but it may not tell you whether it's a good time to invest. For instance, if it is $100 today, a model predicting a price of $100 tomorrow may seem accurate, even if it can't tell you whether the price is going up or down from the current price. A better prediction target would be the change in price over the next day. If you can consistently predict whether the price is about to go up or down (and by how much), you may have a winning investment opportunity."
            ],
            "text/plain": [
              "Correct: \n",
              "\n",
              "There is no source of leakage here. These features should be available at the moment you want to make a predition, and they're unlikely to be changed in the training data after the prediction target is determined. But, the way he describes accuracy could be misleading if you aren't careful. If the price moves gradually, today's price will be an accurate predictor of tomorrow's price, but it may not tell you whether it's a good time to invest. For instance, if it is $100 today, a model predicting a price of $100 tomorrow may seem accurate, even if it can't tell you whether the price is going up or down from the current price. A better prediction target would be the change in price over the next day. If you can consistently predict whether the price is about to go up or down (and by how much), you may have a winning investment opportunity."
            ]
          },
          "metadata": {},
          "output_type": "display_data"
        }
      ]
    },
    {
      "cell_type": "markdown",
      "metadata": {
        "papermill": {
          "duration": 0.011637,
          "end_time": "2021-08-19T09:07:28.080634",
          "exception": false,
          "start_time": "2021-08-19T09:07:28.068997",
          "status": "completed"
        },
        "tags": [],
        "id": "069e47c3"
      },
      "source": [
        "# Step 4: Preventing Infections\n",
        "\n",
        "An agency that provides healthcare wants to predict which patients from a rare surgery are at risk of infection, so it can alert the nurses to be especially careful when following up with those patients.\n",
        "\n",
        "You want to build a model. Each row in the modeling dataset will be a single patient who received the surgery, and the prediction target will be whether they got an infection.\n",
        "\n",
        "Some surgeons may do the procedure in a manner that raises or lowers the risk of infection. But how can you best incorporate the surgeon information into the model?\n",
        "\n",
        "You have a clever idea. \n",
        "1. Take all surgeries by each surgeon and calculate the infection rate among those surgeons.\n",
        "2. For each patient in the data, find out who the surgeon was and plug in that surgeon's average infection rate as a feature.\n",
        "\n",
        "Does this pose any target leakage issues?\n",
        "Does it pose any train-test contamination issues?"
      ],
      "id": "069e47c3"
    },
    {
      "cell_type": "code",
      "metadata": {
        "execution": {
          "iopub.execute_input": "2021-08-19T09:07:28.108607Z",
          "iopub.status.busy": "2021-08-19T09:07:28.108001Z",
          "iopub.status.idle": "2021-08-19T09:07:28.113366Z",
          "shell.execute_reply": "2021-08-19T09:07:28.112840Z",
          "shell.execute_reply.started": "2021-08-19T09:00:57.013588Z"
        },
        "papermill": {
          "duration": 0.021405,
          "end_time": "2021-08-19T09:07:28.113498",
          "exception": false,
          "start_time": "2021-08-19T09:07:28.092093",
          "status": "completed"
        },
        "tags": [],
        "id": "256cd41b",
        "outputId": "8ec4c9fa-f1b3-442f-b075-6d7bda409234"
      },
      "source": [
        "# Check your answer (Run this code cell to receive credit!)\n",
        "# 주어진 환자의 결과가 외과의의 감염률에 기여하면 표적 누출이 있으며, 이는 해당 환자가 감염되었는지 여부에 대한 예측 모델에 다시 연결됩니다\n",
        "# 우리가 예측한 환자보다 먼저 수술만 하여 의사의 감염률을 계산하면 표적 누출을 피할 수 있습니다. 훈련 데이터의 각 수술에 대해 이것을 계산하는 것은 약간 까다로울 수 있습니다\n",
        "# 테스트 세트의 수술을 포함하여 외과의가 수행한 모든 수술을 사용하여 이를 계산하는 경우에도 트레인 테스트 오염 문제가 있습니다.\n",
        "# 그 결과 모델이 배포된 후 새 환자에게 잘 일반화되지 않더라도 모델이 테스트 세트에서 매우 정확하게 보일 수 있습니다.\n",
        "q_4.check()"
      ],
      "id": "256cd41b",
      "execution_count": null,
      "outputs": [
        {
          "data": {
            "application/javascript": [
              "parent.postMessage({\"jupyterEvent\": \"custom.exercise_interaction\", \"data\": {\"outcomeType\": 1, \"valueTowardsCompletion\": 0.2, \"interactionType\": 1, \"questionType\": 4, \"questionId\": \"4_PreventingInfections\", \"learnToolsVersion\": \"0.3.4\", \"failureMessage\": \"\", \"exceptionClass\": \"\", \"trace\": \"\"}}, \"*\")"
            ],
            "text/plain": [
              "<IPython.core.display.Javascript object>"
            ]
          },
          "metadata": {},
          "output_type": "display_data"
        },
        {
          "data": {
            "text/markdown": [
              "<span style=\"color:#33cc33\">Correct:</span> \n",
              "\n",
              "This poses a risk of both target leakage and train-test contamination (though you may be able to avoid both if you are careful).\n",
              "\n",
              "You have target leakage if a given patient's outcome contributes to the infection rate for his surgeon, which is then plugged back into the prediction model for whether that patient becomes infected. You can avoid target leakage if you calculate the surgeon's infection rate by using only the surgeries before the patient we are predicting for. Calculating this for each surgery in your training data may be a little tricky.\n",
              "\n",
              "You also have a train-test contamination problem if you calculate this using all surgeries a surgeon performed, including those from the test-set. The result would be that your model could look very accurate on the test set, even if it wouldn't generalize well to new patients after the model is deployed. This would happen because the surgeon-risk feature accounts for data in the test set. Test sets exist to estimate how the model will do when seeing new data. So this contamination defeats the purpose of the test set."
            ],
            "text/plain": [
              "Correct: \n",
              "\n",
              "This poses a risk of both target leakage and train-test contamination (though you may be able to avoid both if you are careful).\n",
              "\n",
              "You have target leakage if a given patient's outcome contributes to the infection rate for his surgeon, which is then plugged back into the prediction model for whether that patient becomes infected. You can avoid target leakage if you calculate the surgeon's infection rate by using only the surgeries before the patient we are predicting for. Calculating this for each surgery in your training data may be a little tricky.\n",
              "\n",
              "You also have a train-test contamination problem if you calculate this using all surgeries a surgeon performed, including those from the test-set. The result would be that your model could look very accurate on the test set, even if it wouldn't generalize well to new patients after the model is deployed. This would happen because the surgeon-risk feature accounts for data in the test set. Test sets exist to estimate how the model will do when seeing new data. So this contamination defeats the purpose of the test set."
            ]
          },
          "metadata": {},
          "output_type": "display_data"
        }
      ]
    },
    {
      "cell_type": "markdown",
      "metadata": {
        "papermill": {
          "duration": 0.012301,
          "end_time": "2021-08-19T09:07:28.138819",
          "exception": false,
          "start_time": "2021-08-19T09:07:28.126518",
          "status": "completed"
        },
        "tags": [],
        "id": "7c018534"
      },
      "source": [
        "# Step 5: Housing Prices\n",
        "\n",
        "You will build a model to predict housing prices.  The model will be deployed on an ongoing basis, to predict the price of a new house when a description is added to a website.  Here are four features that could be used as predictors.\n",
        "1. Size of the house (in square meters)\n",
        "2. Average sales price of homes in the same neighborhood\n",
        "3. Latitude and longitude of the house\n",
        "4. Whether the house has a basement\n",
        "\n",
        "You have historic data to train and validate the model.\n",
        "\n",
        "Which of the features is most likely to be a source of leakage?"
      ],
      "id": "7c018534"
    },
    {
      "cell_type": "code",
      "metadata": {
        "execution": {
          "iopub.execute_input": "2021-08-19T09:07:28.168271Z",
          "iopub.status.busy": "2021-08-19T09:07:28.167623Z",
          "iopub.status.idle": "2021-08-19T09:07:28.172769Z",
          "shell.execute_reply": "2021-08-19T09:07:28.172320Z",
          "shell.execute_reply.started": "2021-08-19T09:05:42.345967Z"
        },
        "papermill": {
          "duration": 0.021779,
          "end_time": "2021-08-19T09:07:28.172911",
          "exception": false,
          "start_time": "2021-08-19T09:07:28.151132",
          "status": "completed"
        },
        "tags": [],
        "id": "9a94eb47",
        "outputId": "81405be5-dea3-44d2-dc6e-cc81e7b29752"
      },
      "source": [
        "# Fill in the line below with one of 1, 2, 3 or 4.\n",
        "#2번은 언제 업데이트되는지에 대한 규칙을 모릅니다. 주택이 팔린 후 원시 데이터에서 필드를 업데이트하고 주택의 판매를 평균 계산에 사용하면 대상 누출의 경우가 됩니다.\n",
        "potential_leakage_feature =2 # 동네평균 가격은 target에 영향을 주기때문에 target leakage이라고 할 수 있다. \n",
        "\n",
        "# Check your answer\n",
        "q_5.check()"
      ],
      "id": "9a94eb47",
      "execution_count": null,
      "outputs": [
        {
          "data": {
            "application/javascript": [
              "parent.postMessage({\"jupyterEvent\": \"custom.exercise_interaction\", \"data\": {\"outcomeType\": 1, \"valueTowardsCompletion\": 0.2, \"interactionType\": 1, \"questionType\": 2, \"questionId\": \"5_HomeAgainLeakage\", \"learnToolsVersion\": \"0.3.4\", \"failureMessage\": \"\", \"exceptionClass\": \"\", \"trace\": \"\"}}, \"*\")"
            ],
            "text/plain": [
              "<IPython.core.display.Javascript object>"
            ]
          },
          "metadata": {},
          "output_type": "display_data"
        },
        {
          "data": {
            "text/markdown": [
              "<span style=\"color:#33cc33\">Correct:</span> \n",
              "\n",
              "2 is the source of target leakage. Here is an analysis for each feature: \n",
              "\n",
              "1. The size of a house is unlikely to be changed after it is sold (though technically it's possible). But typically this will be available when we need to make a prediction, and the data won't be modified after the home is sold. So it is pretty safe. \n",
              "\n",
              "2. We don't know the rules for when this is updated. If the field is updated in the raw data after a home was sold, and the home's sale is used to calculate the average, this constitutes a case of target leakage. At an extreme, if only one home is sold in the neighborhood, and it is the home we are trying to predict, then the average will be exactly equal to the value we are trying to predict.  In general, for neighborhoods with few sales, the model will perform very well on the training data.  But when you apply the model, the home you are predicting won't have been sold yet, so this feature won't work the same as it did in the training data. \n",
              "\n",
              "3. These don't change, and will be available at the time we want to make a prediction. So there's no risk of target leakage here. \n",
              "\n",
              "4. This also doesn't change, and it is available at the time we want to make a prediction. So there's no risk of target leakage here."
            ],
            "text/plain": [
              "Correct: \n",
              "\n",
              "2 is the source of target leakage. Here is an analysis for each feature: \n",
              "\n",
              "1. The size of a house is unlikely to be changed after it is sold (though technically it's possible). But typically this will be available when we need to make a prediction, and the data won't be modified after the home is sold. So it is pretty safe. \n",
              "\n",
              "2. We don't know the rules for when this is updated. If the field is updated in the raw data after a home was sold, and the home's sale is used to calculate the average, this constitutes a case of target leakage. At an extreme, if only one home is sold in the neighborhood, and it is the home we are trying to predict, then the average will be exactly equal to the value we are trying to predict.  In general, for neighborhoods with few sales, the model will perform very well on the training data.  But when you apply the model, the home you are predicting won't have been sold yet, so this feature won't work the same as it did in the training data. \n",
              "\n",
              "3. These don't change, and will be available at the time we want to make a prediction. So there's no risk of target leakage here. \n",
              "\n",
              "4. This also doesn't change, and it is available at the time we want to make a prediction. So there's no risk of target leakage here."
            ]
          },
          "metadata": {},
          "output_type": "display_data"
        }
      ]
    },
    {
      "cell_type": "code",
      "metadata": {
        "execution": {
          "iopub.execute_input": "2021-08-19T09:07:28.203368Z",
          "iopub.status.busy": "2021-08-19T09:07:28.202656Z",
          "iopub.status.idle": "2021-08-19T09:07:28.205413Z",
          "shell.execute_reply": "2021-08-19T09:07:28.204985Z"
        },
        "papermill": {
          "duration": 0.019233,
          "end_time": "2021-08-19T09:07:28.205573",
          "exception": false,
          "start_time": "2021-08-19T09:07:28.186340",
          "status": "completed"
        },
        "tags": [],
        "id": "d4f8f1fc"
      },
      "source": [
        "#q_5.hint()\n",
        "#q_5.solution()"
      ],
      "id": "d4f8f1fc",
      "execution_count": null,
      "outputs": []
    },
    {
      "cell_type": "markdown",
      "metadata": {
        "papermill": {
          "duration": 0.013126,
          "end_time": "2021-08-19T09:07:28.232120",
          "exception": false,
          "start_time": "2021-08-19T09:07:28.218994",
          "status": "completed"
        },
        "tags": [],
        "id": "11345b72"
      },
      "source": [
        "# Conclusion\n",
        "Leakage is a hard and subtle issue. You should be proud if you picked up on the issues in these examples.\n",
        "\n",
        "Now you have the tools to make highly accurate models, and pick up on the most difficult practical problems that arise with applying these models to solve real problems.\n",
        "\n",
        "There is still a lot of room to build knowledge and experience. Try out a [Competition](https://www.kaggle.com/competitions) or look through our [Datasets](https://kaggle.com/datasets) to practice your new skills.\n",
        "\n",
        "Again, Congratulations!"
      ],
      "id": "11345b72"
    },
    {
      "cell_type": "markdown",
      "metadata": {
        "papermill": {
          "duration": 0.018377,
          "end_time": "2021-08-19T09:07:28.263692",
          "exception": false,
          "start_time": "2021-08-19T09:07:28.245315",
          "status": "completed"
        },
        "tags": [],
        "id": "cf8f6fcf"
      },
      "source": [
        "---\n",
        "\n",
        "\n",
        "\n",
        "\n",
        "*Have questions or comments? Visit the [Learn Discussion forum](https://www.kaggle.com/learn-forum/161289) to chat with other Learners.*"
      ],
      "id": "cf8f6fcf"
    }
  ]
}