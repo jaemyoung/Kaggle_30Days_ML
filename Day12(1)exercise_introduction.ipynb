{
  "nbformat": 4,
  "nbformat_minor": 5,
  "metadata": {
    "kernelspec": {
      "display_name": "Python 3",
      "language": "python",
      "name": "python3"
    },
    "language_info": {
      "codemirror_mode": {
        "name": "ipython",
        "version": 3
      },
      "file_extension": ".py",
      "mimetype": "text/x-python",
      "name": "python",
      "nbconvert_exporter": "python",
      "pygments_lexer": "ipython3",
      "version": "3.7.10"
    },
    "papermill": {
      "default_parameters": {},
      "duration": 21.749851,
      "end_time": "2021-08-17T12:28:36.891506",
      "environment_variables": {},
      "exception": null,
      "input_path": "__notebook__.ipynb",
      "output_path": "__notebook__.ipynb",
      "parameters": {},
      "start_time": "2021-08-17T12:28:15.141655",
      "version": "2.3.3"
    },
    "colab": {
      "name": "Day12(1)exercise-introduction.ipynb",
      "provenance": [],
      "include_colab_link": true
    }
  },
  "cells": [
    {
      "cell_type": "markdown",
      "metadata": {
        "id": "view-in-github",
        "colab_type": "text"
      },
      "source": [
        "<a href=\"https://colab.research.google.com/github/jaemyoung/Kaggle_30Days_ML/blob/main/Day12(1)exercise_introduction.ipynb\" target=\"_parent\"><img src=\"https://colab.research.google.com/assets/colab-badge.svg\" alt=\"Open In Colab\"/></a>"
      ]
    },
    {
      "cell_type": "markdown",
      "metadata": {
        "papermill": {
          "duration": 0.016729,
          "end_time": "2021-08-17T12:28:23.437848",
          "exception": false,
          "start_time": "2021-08-17T12:28:23.421119",
          "status": "completed"
        },
        "tags": [],
        "id": "11f0229d"
      },
      "source": [
        "**This notebook is an exercise in the [Intermediate Machine Learning](https://www.kaggle.com/learn/intermediate-machine-learning) course.  You can reference the tutorial at [this link](https://www.kaggle.com/alexisbcook/introduction).**\n",
        "\n",
        "---\n"
      ],
      "id": "11f0229d"
    },
    {
      "cell_type": "markdown",
      "metadata": {
        "papermill": {
          "duration": 0.015078,
          "end_time": "2021-08-17T12:28:23.470202",
          "exception": false,
          "start_time": "2021-08-17T12:28:23.455124",
          "status": "completed"
        },
        "tags": [],
        "id": "81787a1c"
      },
      "source": [
        "As a warm-up, you'll review some machine learning fundamentals and submit your initial results to a Kaggle competition.\n",
        "\n",
        "# Setup\n",
        "\n",
        "The questions below will give you feedback on your work. Run the following cell to set up the feedback system."
      ],
      "id": "81787a1c"
    },
    {
      "cell_type": "code",
      "metadata": {
        "execution": {
          "iopub.execute_input": "2021-08-17T12:28:23.516268Z",
          "iopub.status.busy": "2021-08-17T12:28:23.515541Z",
          "iopub.status.idle": "2021-08-17T12:28:24.741298Z",
          "shell.execute_reply": "2021-08-17T12:28:24.741796Z",
          "shell.execute_reply.started": "2021-08-17T12:18:18.879964Z"
        },
        "papermill": {
          "duration": 1.256135,
          "end_time": "2021-08-17T12:28:24.742114",
          "exception": false,
          "start_time": "2021-08-17T12:28:23.485979",
          "status": "completed"
        },
        "tags": [],
        "id": "8664115e",
        "outputId": "69522523-bc68-4e39-94c1-88e8415e510d"
      },
      "source": [
        "# Set up code checking\n",
        "import os\n",
        "if not os.path.exists(\"../input/train.csv\"):\n",
        "    os.symlink(\"../input/home-data-for-ml-course/train.csv\", \"../input/train.csv\")  \n",
        "    os.symlink(\"../input/home-data-for-ml-course/test.csv\", \"../input/test.csv\")  \n",
        "from learntools.core import binder\n",
        "binder.bind(globals())\n",
        "from learntools.ml_intermediate.ex1 import *\n",
        "print(\"Setup Complete\")"
      ],
      "id": "8664115e",
      "execution_count": null,
      "outputs": [
        {
          "output_type": "stream",
          "text": [
            "Setup Complete\n"
          ],
          "name": "stdout"
        }
      ]
    },
    {
      "cell_type": "markdown",
      "metadata": {
        "papermill": {
          "duration": 0.015454,
          "end_time": "2021-08-17T12:28:24.773825",
          "exception": false,
          "start_time": "2021-08-17T12:28:24.758371",
          "status": "completed"
        },
        "tags": [],
        "id": "8c041952"
      },
      "source": [
        "You will work with data from the [Housing Prices Competition for Kaggle Learn Users](https://www.kaggle.com/c/home-data-for-ml-course) to predict home prices in Iowa using 79 explanatory variables describing (almost) every aspect of the homes.  \n",
        "\n",
        "![Ames Housing dataset image](https://i.imgur.com/lTJVG4e.png)\n",
        "\n",
        "Run the next code cell without changes to load the training and validation features in `X_train` and `X_valid`, along with the prediction targets in `y_train` and `y_valid`.  The test features are loaded in `X_test`.  (_If you need to review **features** and **prediction targets**, please check out [this short tutorial](https://www.kaggle.com/dansbecker/your-first-machine-learning-model).  To read about model **validation**, look [here](https://www.kaggle.com/dansbecker/model-validation).  Alternatively, if you'd prefer to look through a full course to review all of these topics, start [here](https://www.kaggle.com/learn/machine-learning).)_"
      ],
      "id": "8c041952"
    },
    {
      "cell_type": "code",
      "metadata": {
        "execution": {
          "iopub.execute_input": "2021-08-17T12:28:24.814460Z",
          "iopub.status.busy": "2021-08-17T12:28:24.813720Z",
          "iopub.status.idle": "2021-08-17T12:28:24.908162Z",
          "shell.execute_reply": "2021-08-17T12:28:24.907507Z",
          "shell.execute_reply.started": "2021-08-17T12:18:28.941595Z"
        },
        "papermill": {
          "duration": 0.118039,
          "end_time": "2021-08-17T12:28:24.908315",
          "exception": false,
          "start_time": "2021-08-17T12:28:24.790276",
          "status": "completed"
        },
        "tags": [],
        "id": "57850f6c"
      },
      "source": [
        "import pandas as pd\n",
        "from sklearn.model_selection import train_test_split\n",
        "\n",
        "# Read the data\n",
        "X_full = pd.read_csv('../input/train.csv', index_col='Id')\n",
        "X_test_full = pd.read_csv('../input/test.csv', index_col='Id')\n",
        "\n",
        "# Obtain target and predictors\n",
        "y = X_full.SalePrice\n",
        "features = ['LotArea', 'YearBuilt', '1stFlrSF', '2ndFlrSF', 'FullBath', 'BedroomAbvGr', 'TotRmsAbvGrd']\n",
        "X = X_full[features].copy()\n",
        "X_test = X_test_full[features].copy()\n",
        "\n",
        "# Break off validation set from training data\n",
        "X_train, X_valid, y_train, y_valid = train_test_split(X, y, train_size=0.8, test_size=0.2,\n",
        "                                                      random_state=0)"
      ],
      "id": "57850f6c",
      "execution_count": null,
      "outputs": []
    },
    {
      "cell_type": "code",
      "metadata": {
        "jupyter": {
          "source_hidden": true
        },
        "papermill": {
          "duration": 0.016186,
          "end_time": "2021-08-17T12:28:24.940501",
          "exception": false,
          "start_time": "2021-08-17T12:28:24.924315",
          "status": "completed"
        },
        "tags": [],
        "id": "325d53e7"
      },
      "source": [
        ""
      ],
      "id": "325d53e7",
      "execution_count": null,
      "outputs": []
    },
    {
      "cell_type": "markdown",
      "metadata": {
        "papermill": {
          "duration": 0.015571,
          "end_time": "2021-08-17T12:28:24.971940",
          "exception": false,
          "start_time": "2021-08-17T12:28:24.956369",
          "status": "completed"
        },
        "tags": [],
        "id": "8487090f"
      },
      "source": [
        "Use the next cell to print the first several rows of the data. It's a nice way to get an overview of the data you will use in your price prediction model."
      ],
      "id": "8487090f"
    },
    {
      "cell_type": "code",
      "metadata": {
        "execution": {
          "iopub.execute_input": "2021-08-17T12:28:25.011121Z",
          "iopub.status.busy": "2021-08-17T12:28:25.010186Z",
          "iopub.status.idle": "2021-08-17T12:28:25.029435Z",
          "shell.execute_reply": "2021-08-17T12:28:25.028696Z",
          "shell.execute_reply.started": "2021-08-17T12:20:17.038706Z"
        },
        "papermill": {
          "duration": 0.041906,
          "end_time": "2021-08-17T12:28:25.029578",
          "exception": false,
          "start_time": "2021-08-17T12:28:24.987672",
          "status": "completed"
        },
        "tags": [],
        "id": "f0b42457",
        "outputId": "9c9ef281-2d12-4e57-d3cc-6646313625c4"
      },
      "source": [
        "X_train.head()"
      ],
      "id": "f0b42457",
      "execution_count": null,
      "outputs": [
        {
          "output_type": "execute_result",
          "data": {
            "text/html": [
              "<div>\n",
              "<style scoped>\n",
              "    .dataframe tbody tr th:only-of-type {\n",
              "        vertical-align: middle;\n",
              "    }\n",
              "\n",
              "    .dataframe tbody tr th {\n",
              "        vertical-align: top;\n",
              "    }\n",
              "\n",
              "    .dataframe thead th {\n",
              "        text-align: right;\n",
              "    }\n",
              "</style>\n",
              "<table border=\"1\" class=\"dataframe\">\n",
              "  <thead>\n",
              "    <tr style=\"text-align: right;\">\n",
              "      <th></th>\n",
              "      <th>LotArea</th>\n",
              "      <th>YearBuilt</th>\n",
              "      <th>1stFlrSF</th>\n",
              "      <th>2ndFlrSF</th>\n",
              "      <th>FullBath</th>\n",
              "      <th>BedroomAbvGr</th>\n",
              "      <th>TotRmsAbvGrd</th>\n",
              "    </tr>\n",
              "    <tr>\n",
              "      <th>Id</th>\n",
              "      <th></th>\n",
              "      <th></th>\n",
              "      <th></th>\n",
              "      <th></th>\n",
              "      <th></th>\n",
              "      <th></th>\n",
              "      <th></th>\n",
              "    </tr>\n",
              "  </thead>\n",
              "  <tbody>\n",
              "    <tr>\n",
              "      <th>619</th>\n",
              "      <td>11694</td>\n",
              "      <td>2007</td>\n",
              "      <td>1828</td>\n",
              "      <td>0</td>\n",
              "      <td>2</td>\n",
              "      <td>3</td>\n",
              "      <td>9</td>\n",
              "    </tr>\n",
              "    <tr>\n",
              "      <th>871</th>\n",
              "      <td>6600</td>\n",
              "      <td>1962</td>\n",
              "      <td>894</td>\n",
              "      <td>0</td>\n",
              "      <td>1</td>\n",
              "      <td>2</td>\n",
              "      <td>5</td>\n",
              "    </tr>\n",
              "    <tr>\n",
              "      <th>93</th>\n",
              "      <td>13360</td>\n",
              "      <td>1921</td>\n",
              "      <td>964</td>\n",
              "      <td>0</td>\n",
              "      <td>1</td>\n",
              "      <td>2</td>\n",
              "      <td>5</td>\n",
              "    </tr>\n",
              "    <tr>\n",
              "      <th>818</th>\n",
              "      <td>13265</td>\n",
              "      <td>2002</td>\n",
              "      <td>1689</td>\n",
              "      <td>0</td>\n",
              "      <td>2</td>\n",
              "      <td>3</td>\n",
              "      <td>7</td>\n",
              "    </tr>\n",
              "    <tr>\n",
              "      <th>303</th>\n",
              "      <td>13704</td>\n",
              "      <td>2001</td>\n",
              "      <td>1541</td>\n",
              "      <td>0</td>\n",
              "      <td>2</td>\n",
              "      <td>3</td>\n",
              "      <td>6</td>\n",
              "    </tr>\n",
              "  </tbody>\n",
              "</table>\n",
              "</div>"
            ],
            "text/plain": [
              "     LotArea  YearBuilt  1stFlrSF  2ndFlrSF  FullBath  BedroomAbvGr  \\\n",
              "Id                                                                    \n",
              "619    11694       2007      1828         0         2             3   \n",
              "871     6600       1962       894         0         1             2   \n",
              "93     13360       1921       964         0         1             2   \n",
              "818    13265       2002      1689         0         2             3   \n",
              "303    13704       2001      1541         0         2             3   \n",
              "\n",
              "     TotRmsAbvGrd  \n",
              "Id                 \n",
              "619             9  \n",
              "871             5  \n",
              "93              5  \n",
              "818             7  \n",
              "303             6  "
            ]
          },
          "metadata": {
            "tags": []
          },
          "execution_count": 3
        }
      ]
    },
    {
      "cell_type": "markdown",
      "metadata": {
        "papermill": {
          "duration": 0.01626,
          "end_time": "2021-08-17T12:28:25.063146",
          "exception": false,
          "start_time": "2021-08-17T12:28:25.046886",
          "status": "completed"
        },
        "tags": [],
        "id": "4982a3c9"
      },
      "source": [
        "The next code cell defines five different random forest models.  Run this code cell without changes.  (_To review **random forests**, look [here](https://www.kaggle.com/dansbecker/random-forests)._)"
      ],
      "id": "4982a3c9"
    },
    {
      "cell_type": "code",
      "metadata": {
        "execution": {
          "iopub.execute_input": "2021-08-17T12:28:25.108258Z",
          "iopub.status.busy": "2021-08-17T12:28:25.107218Z",
          "iopub.status.idle": "2021-08-17T12:28:25.110452Z",
          "shell.execute_reply": "2021-08-17T12:28:25.109834Z",
          "shell.execute_reply.started": "2021-08-17T12:22:45.411923Z"
        },
        "papermill": {
          "duration": 0.030353,
          "end_time": "2021-08-17T12:28:25.110611",
          "exception": false,
          "start_time": "2021-08-17T12:28:25.080258",
          "status": "completed"
        },
        "tags": [],
        "id": "ed0478c7"
      },
      "source": [
        "from sklearn.ensemble import RandomForestRegressor\n",
        "\n",
        "# Define the models\n",
        "model_1 = RandomForestRegressor(n_estimators=50, random_state=0)\n",
        "model_2 = RandomForestRegressor(n_estimators=100, random_state=0)\n",
        "model_3 = RandomForestRegressor(n_estimators=100, criterion='mae', random_state=0)\n",
        "model_4 = RandomForestRegressor(n_estimators=200, min_samples_split=20, random_state=0)\n",
        "model_5 = RandomForestRegressor(n_estimators=100, max_depth=7, random_state=0)\n",
        "\n",
        "models = [model_1, model_2, model_3, model_4, model_5]"
      ],
      "id": "ed0478c7",
      "execution_count": null,
      "outputs": []
    },
    {
      "cell_type": "markdown",
      "metadata": {
        "papermill": {
          "duration": 0.022803,
          "end_time": "2021-08-17T12:28:25.155084",
          "exception": false,
          "start_time": "2021-08-17T12:28:25.132281",
          "status": "completed"
        },
        "tags": [],
        "id": "90603a4e"
      },
      "source": [
        "To select the best model out of the five, we define a function `score_model()` below.  This function returns the mean absolute error (MAE) from the validation set.  Recall that the best model will obtain the lowest MAE.  (_To review **mean absolute error**, look [here](https://www.kaggle.com/dansbecker/model-validation).)_\n",
        "\n",
        "Run the code cell without changes."
      ],
      "id": "90603a4e"
    },
    {
      "cell_type": "code",
      "metadata": {
        "execution": {
          "iopub.execute_input": "2021-08-17T12:28:25.205576Z",
          "iopub.status.busy": "2021-08-17T12:28:25.204923Z",
          "iopub.status.idle": "2021-08-17T12:28:30.514487Z",
          "shell.execute_reply": "2021-08-17T12:28:30.513954Z",
          "shell.execute_reply.started": "2021-08-17T12:22:48.541466Z"
        },
        "papermill": {
          "duration": 5.338964,
          "end_time": "2021-08-17T12:28:30.514632",
          "exception": false,
          "start_time": "2021-08-17T12:28:25.175668",
          "status": "completed"
        },
        "tags": [],
        "id": "2d41b7ba",
        "outputId": "208e60d7-87eb-4a74-bbca-fdcf33bc5358"
      },
      "source": [
        "from sklearn.metrics import mean_absolute_error\n",
        "\n",
        "# Function for comparing different models\n",
        "def score_model(model, X_t=X_train, X_v=X_valid, y_t=y_train, y_v=y_valid):\n",
        "    model.fit(X_t, y_t)\n",
        "    preds = model.predict(X_v)\n",
        "    return mean_absolute_error(y_v, preds)\n",
        "\n",
        "for i in range(0, len(models)):\n",
        "    mae = score_model(models[i])\n",
        "    print(\"Model %d MAE: %d\" % (i+1, mae))"
      ],
      "id": "2d41b7ba",
      "execution_count": null,
      "outputs": [
        {
          "output_type": "stream",
          "text": [
            "Model 1 MAE: 24015\n",
            "Model 2 MAE: 23740\n",
            "Model 3 MAE: 23528\n",
            "Model 4 MAE: 23996\n",
            "Model 5 MAE: 23706\n"
          ],
          "name": "stdout"
        }
      ]
    },
    {
      "cell_type": "markdown",
      "metadata": {
        "papermill": {
          "duration": 0.017328,
          "end_time": "2021-08-17T12:28:30.550156",
          "exception": false,
          "start_time": "2021-08-17T12:28:30.532828",
          "status": "completed"
        },
        "tags": [],
        "id": "e1176d55"
      },
      "source": [
        "# Step 1: Evaluate several models\n",
        "\n",
        "Use the above results to fill in the line below.  Which model is the best model?  Your answer should be one of `model_1`, `model_2`, `model_3`, `model_4`, or `model_5`."
      ],
      "id": "e1176d55"
    },
    {
      "cell_type": "code",
      "metadata": {
        "execution": {
          "iopub.execute_input": "2021-08-17T12:28:30.592155Z",
          "iopub.status.busy": "2021-08-17T12:28:30.591442Z",
          "iopub.status.idle": "2021-08-17T12:28:30.600310Z",
          "shell.execute_reply": "2021-08-17T12:28:30.599614Z",
          "shell.execute_reply.started": "2021-08-17T12:24:07.623268Z"
        },
        "papermill": {
          "duration": 0.03238,
          "end_time": "2021-08-17T12:28:30.600467",
          "exception": false,
          "start_time": "2021-08-17T12:28:30.568087",
          "status": "completed"
        },
        "tags": [],
        "id": "f895720a",
        "outputId": "2093b1c1-04d6-4631-a685-6e0aaeed85ce"
      },
      "source": [
        "# Fill in the best model\n",
        "best_model = model_3\n",
        "\n",
        "# Check your answer\n",
        "step_1.check()"
      ],
      "id": "f895720a",
      "execution_count": null,
      "outputs": [
        {
          "output_type": "display_data",
          "data": {
            "application/javascript": [
              "parent.postMessage({\"jupyterEvent\": \"custom.exercise_interaction\", \"data\": {\"outcomeType\": 1, \"valueTowardsCompletion\": 0.5, \"interactionType\": 1, \"questionType\": 2, \"questionId\": \"1_BestModel\", \"learnToolsVersion\": \"0.3.4\", \"failureMessage\": \"\", \"exceptionClass\": \"\", \"trace\": \"\"}}, \"*\")"
            ],
            "text/plain": [
              "<IPython.core.display.Javascript object>"
            ]
          },
          "metadata": {
            "tags": []
          }
        },
        {
          "output_type": "display_data",
          "data": {
            "text/markdown": "<span style=\"color:#33cc33\">Correct</span>",
            "text/plain": [
              "Correct"
            ]
          },
          "metadata": {
            "tags": []
          }
        }
      ]
    },
    {
      "cell_type": "code",
      "metadata": {
        "execution": {
          "iopub.execute_input": "2021-08-17T12:28:30.643313Z",
          "iopub.status.busy": "2021-08-17T12:28:30.642339Z",
          "iopub.status.idle": "2021-08-17T12:28:30.645769Z",
          "shell.execute_reply": "2021-08-17T12:28:30.646275Z"
        },
        "papermill": {
          "duration": 0.026879,
          "end_time": "2021-08-17T12:28:30.646476",
          "exception": false,
          "start_time": "2021-08-17T12:28:30.619597",
          "status": "completed"
        },
        "tags": [],
        "id": "d595b16e"
      },
      "source": [
        "# Lines below will give you a hint or solution code\n",
        "#step_1.hint()\n",
        "#step_1.solution()"
      ],
      "id": "d595b16e",
      "execution_count": null,
      "outputs": []
    },
    {
      "cell_type": "markdown",
      "metadata": {
        "papermill": {
          "duration": 0.018978,
          "end_time": "2021-08-17T12:28:30.684893",
          "exception": false,
          "start_time": "2021-08-17T12:28:30.665915",
          "status": "completed"
        },
        "tags": [],
        "id": "be0daae3"
      },
      "source": [
        "# Step 2: Generate test predictions\n",
        "\n",
        "Great. You know how to evaluate what makes an accurate model. Now it's time to go through the modeling process and make predictions. In the line below, create a Random Forest model with the variable name `my_model`."
      ],
      "id": "be0daae3"
    },
    {
      "cell_type": "code",
      "metadata": {
        "execution": {
          "iopub.execute_input": "2021-08-17T12:28:30.730665Z",
          "iopub.status.busy": "2021-08-17T12:28:30.729961Z",
          "iopub.status.idle": "2021-08-17T12:28:30.735575Z",
          "shell.execute_reply": "2021-08-17T12:28:30.736146Z",
          "shell.execute_reply.started": "2021-08-17T12:26:45.362511Z"
        },
        "papermill": {
          "duration": 0.031376,
          "end_time": "2021-08-17T12:28:30.736317",
          "exception": false,
          "start_time": "2021-08-17T12:28:30.704941",
          "status": "completed"
        },
        "tags": [],
        "id": "42f4d380",
        "outputId": "33da10d1-9eb1-479d-adf6-f30262b0730c"
      },
      "source": [
        "# Define a model\n",
        "my_model = RandomForestRegressor(n_estimators=110, criterion='mae', random_state=0) # Your code here / model_3가 가장 성능이 좋다고 나오지만 임의로 만들어봄\n",
        "\n",
        "# Check your answer\n",
        "step_2.check()"
      ],
      "id": "42f4d380",
      "execution_count": null,
      "outputs": [
        {
          "output_type": "display_data",
          "data": {
            "application/javascript": [
              "parent.postMessage({\"jupyterEvent\": \"custom.exercise_interaction\", \"data\": {\"outcomeType\": 1, \"valueTowardsCompletion\": 0.5, \"interactionType\": 1, \"questionType\": 2, \"questionId\": \"2_Predictions\", \"learnToolsVersion\": \"0.3.4\", \"failureMessage\": \"\", \"exceptionClass\": \"\", \"trace\": \"\"}}, \"*\")"
            ],
            "text/plain": [
              "<IPython.core.display.Javascript object>"
            ]
          },
          "metadata": {
            "tags": []
          }
        },
        {
          "output_type": "display_data",
          "data": {
            "text/markdown": "<span style=\"color:#33cc33\">Correct</span>",
            "text/plain": [
              "Correct"
            ]
          },
          "metadata": {
            "tags": []
          }
        }
      ]
    },
    {
      "cell_type": "code",
      "metadata": {
        "execution": {
          "iopub.execute_input": "2021-08-17T12:28:30.779730Z",
          "iopub.status.busy": "2021-08-17T12:28:30.779092Z",
          "iopub.status.idle": "2021-08-17T12:28:30.790519Z",
          "shell.execute_reply": "2021-08-17T12:28:30.789797Z",
          "shell.execute_reply.started": "2021-08-17T12:25:21.280866Z"
        },
        "papermill": {
          "duration": 0.034326,
          "end_time": "2021-08-17T12:28:30.790670",
          "exception": false,
          "start_time": "2021-08-17T12:28:30.756344",
          "status": "completed"
        },
        "tags": [],
        "id": "12bf7972",
        "outputId": "e7b77a86-bea4-4b0b-8fba-44bfe13ed6d9"
      },
      "source": [
        "# Lines below will give you a hint or solution code\n",
        "step_2.hint()\n",
        "step_2.solution()"
      ],
      "id": "12bf7972",
      "execution_count": null,
      "outputs": [
        {
          "output_type": "display_data",
          "data": {
            "application/javascript": [
              "parent.postMessage({\"jupyterEvent\": \"custom.exercise_interaction\", \"data\": {\"interactionType\": 2, \"questionType\": 2, \"questionId\": \"2_Predictions\", \"learnToolsVersion\": \"0.3.4\", \"valueTowardsCompletion\": 0.0, \"failureMessage\": \"\", \"exceptionClass\": \"\", \"trace\": \"\", \"outcomeType\": 4}}, \"*\")"
            ],
            "text/plain": [
              "<IPython.core.display.Javascript object>"
            ]
          },
          "metadata": {
            "tags": []
          }
        },
        {
          "output_type": "display_data",
          "data": {
            "text/markdown": "<span style=\"color:#3366cc\">Hint:</span> You need only set `my_model` to a random forest model.  You are welcome (but not required) to choose one of the five models above.",
            "text/plain": [
              "Hint: You need only set `my_model` to a random forest model.  You are welcome (but not required) to choose one of the five models above."
            ]
          },
          "metadata": {
            "tags": []
          }
        },
        {
          "output_type": "display_data",
          "data": {
            "application/javascript": [
              "parent.postMessage({\"jupyterEvent\": \"custom.exercise_interaction\", \"data\": {\"interactionType\": 3, \"questionType\": 2, \"questionId\": \"2_Predictions\", \"learnToolsVersion\": \"0.3.4\", \"valueTowardsCompletion\": 0.0, \"failureMessage\": \"\", \"exceptionClass\": \"\", \"trace\": \"\", \"outcomeType\": 4}}, \"*\")"
            ],
            "text/plain": [
              "<IPython.core.display.Javascript object>"
            ]
          },
          "metadata": {
            "tags": []
          }
        },
        {
          "output_type": "display_data",
          "data": {
            "text/markdown": "<span style=\"color:#33cc99\">Solution:</span> \n```python\n# Define a model\nmy_model = best_model\n\n```",
            "text/plain": [
              "Solution: \n",
              "```python\n",
              "# Define a model\n",
              "my_model = best_model\n",
              "\n",
              "```"
            ]
          },
          "metadata": {
            "tags": []
          }
        }
      ]
    },
    {
      "cell_type": "markdown",
      "metadata": {
        "papermill": {
          "duration": 0.021687,
          "end_time": "2021-08-17T12:28:30.834716",
          "exception": false,
          "start_time": "2021-08-17T12:28:30.813029",
          "status": "completed"
        },
        "tags": [],
        "id": "a7f5bcd8"
      },
      "source": [
        "Run the next code cell without changes.  The code fits the model to the training and validation data, and then generates test predictions that are saved to a CSV file.  These test predictions can be submitted directly to the competition!"
      ],
      "id": "a7f5bcd8"
    },
    {
      "cell_type": "code",
      "metadata": {
        "execution": {
          "iopub.execute_input": "2021-08-17T12:28:30.893258Z",
          "iopub.status.busy": "2021-08-17T12:28:30.887740Z",
          "iopub.status.idle": "2021-08-17T12:28:35.920241Z",
          "shell.execute_reply": "2021-08-17T12:28:35.919588Z",
          "shell.execute_reply.started": "2021-08-17T12:26:50.428489Z"
        },
        "papermill": {
          "duration": 5.062396,
          "end_time": "2021-08-17T12:28:35.920389",
          "exception": false,
          "start_time": "2021-08-17T12:28:30.857993",
          "status": "completed"
        },
        "tags": [],
        "id": "afe35a0e"
      },
      "source": [
        "# Fit the model to the training data\n",
        "my_model.fit(X, y)\n",
        "\n",
        "# Generate test predictions\n",
        "preds_test = my_model.predict(X_test)\n",
        "\n",
        "# Save predictions in format used for competition scoring\n",
        "output = pd.DataFrame({'Id': X_test.index,\n",
        "                       'SalePrice': preds_test})\n",
        "output.to_csv('submission.csv', index=False)"
      ],
      "id": "afe35a0e",
      "execution_count": null,
      "outputs": []
    },
    {
      "cell_type": "markdown",
      "metadata": {
        "papermill": {
          "duration": 0.022126,
          "end_time": "2021-08-17T12:28:35.965035",
          "exception": false,
          "start_time": "2021-08-17T12:28:35.942909",
          "status": "completed"
        },
        "tags": [],
        "id": "9556e9f6"
      },
      "source": [
        "# Submit your results\n",
        "\n",
        "Once you have successfully completed Step 2, you're ready to submit your results to the leaderboard!  First, you'll need to join the competition if you haven't already.  So open a new window by clicking on [this link](https://www.kaggle.com/c/home-data-for-ml-course).  Then click on the **Join Competition** button.\n",
        "\n",
        "![join competition image](https://i.imgur.com/wLmFtH3.png)\n",
        "\n",
        "Next, follow the instructions below:\n",
        "1. Begin by clicking on the blue **Save Version** button in the top right corner of the window.  This will generate a pop-up window.  \n",
        "2. Ensure that the **Save and Run All** option is selected, and then click on the blue **Save** button.\n",
        "3. This generates a window in the bottom left corner of the notebook.  After it has finished running, click on the number to the right of the **Save Version** button.  This pulls up a list of versions on the right of the screen.  Click on the ellipsis **(...)** to the right of the most recent version, and select **Open in Viewer**.  This brings you into view mode of the same page. You will need to scroll down to get back to these instructions.\n",
        "4. Click on the **Output** tab on the right of the screen.  Then, click on the file you would like to submit, and click on the blue **Submit** button to submit your results to the leaderboard.\n",
        "\n",
        "You have now successfully submitted to the competition!\n",
        "\n",
        "If you want to keep working to improve your performance, select the blue **Edit** button in the top right of the screen. Then you can change your code and repeat the process. There's a lot of room to improve, and you will climb up the leaderboard as you work.\n"
      ],
      "id": "9556e9f6"
    },
    {
      "cell_type": "markdown",
      "metadata": {
        "papermill": {
          "duration": 0.022735,
          "end_time": "2021-08-17T12:28:36.009859",
          "exception": false,
          "start_time": "2021-08-17T12:28:35.987124",
          "status": "completed"
        },
        "tags": [],
        "id": "2733a446"
      },
      "source": [
        "# Keep going\n",
        "\n",
        "You've made your first model. But how can you quickly make it better?\n",
        "\n",
        "Learn how to improve your competition results by incorporating columns with **[missing values](https://www.kaggle.com/alexisbcook/missing-values)**."
      ],
      "id": "2733a446"
    },
    {
      "cell_type": "markdown",
      "metadata": {
        "papermill": {
          "duration": 0.021714,
          "end_time": "2021-08-17T12:28:36.054522",
          "exception": false,
          "start_time": "2021-08-17T12:28:36.032808",
          "status": "completed"
        },
        "tags": [],
        "id": "a3a8479a"
      },
      "source": [
        "---\n",
        "\n",
        "\n",
        "\n",
        "\n",
        "*Have questions or comments? Visit the [Learn Discussion forum](https://www.kaggle.com/learn-forum/161289) to chat with other Learners.*"
      ],
      "id": "a3a8479a"
    }
  ]
}