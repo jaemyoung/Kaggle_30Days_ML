{
  "nbformat": 4,
  "nbformat_minor": 5,
  "metadata": {
    "kernelspec": {
      "display_name": "Python 3",
      "language": "python",
      "name": "python3"
    },
    "language_info": {
      "codemirror_mode": {
        "name": "ipython",
        "version": 3
      },
      "file_extension": ".py",
      "mimetype": "text/x-python",
      "name": "python",
      "nbconvert_exporter": "python",
      "pygments_lexer": "ipython3",
      "version": "3.7.10"
    },
    "papermill": {
      "default_parameters": {},
      "duration": 10.802637,
      "end_time": "2021-08-09T12:21:56.034603",
      "environment_variables": {},
      "exception": true,
      "input_path": "__notebook__.ipynb",
      "output_path": "__notebook__.ipynb",
      "parameters": {},
      "start_time": "2021-08-09T12:21:45.231966",
      "version": "2.3.3"
    },
    "colab": {
      "name": "Day5_exercise-loops-and-list-comprehensions.ipynb",
      "provenance": [],
      "include_colab_link": true
    }
  },
  "cells": [
    {
      "cell_type": "markdown",
      "metadata": {
        "id": "view-in-github",
        "colab_type": "text"
      },
      "source": [
        "<a href=\"https://colab.research.google.com/github/jaemyoung/Kaggle_30Days_ML/blob/main/Day5_exercise_loops_and_list_comprehensions.ipynb\" target=\"_parent\"><img src=\"https://colab.research.google.com/assets/colab-badge.svg\" alt=\"Open In Colab\"/></a>"
      ]
    },
    {
      "cell_type": "markdown",
      "metadata": {
        "papermill": {
          "duration": 0.018054,
          "end_time": "2021-08-09T12:21:53.230701",
          "exception": false,
          "start_time": "2021-08-09T12:21:53.212647",
          "status": "completed"
        },
        "tags": [],
        "id": "8fe3518d"
      },
      "source": [
        "**This notebook is an exercise in the [Python](https://www.kaggle.com/learn/python) course.  You can reference the tutorial at [this link](https://www.kaggle.com/colinmorris/loops-and-list-comprehensions).**\n",
        "\n",
        "---\n"
      ],
      "id": "8fe3518d"
    },
    {
      "cell_type": "markdown",
      "metadata": {
        "papermill": {
          "duration": 0.016718,
          "end_time": "2021-08-09T12:21:53.265765",
          "exception": false,
          "start_time": "2021-08-09T12:21:53.249047",
          "status": "completed"
        },
        "tags": [],
        "id": "85d31d0d"
      },
      "source": [
        "With all you've learned, you can start writing much more interesting programs. See if you can solve the problems below.\n",
        "\n",
        "As always, run the setup code below before working on the questions."
      ],
      "id": "85d31d0d"
    },
    {
      "cell_type": "code",
      "metadata": {
        "execution": {
          "iopub.execute_input": "2021-08-09T12:21:53.318556Z",
          "iopub.status.busy": "2021-08-09T12:21:53.316941Z",
          "iopub.status.idle": "2021-08-09T12:21:53.457983Z",
          "shell.execute_reply": "2021-08-09T12:21:53.458586Z",
          "shell.execute_reply.started": "2021-08-09T11:45:05.341860Z"
        },
        "papermill": {
          "duration": 0.175288,
          "end_time": "2021-08-09T12:21:53.458942",
          "exception": false,
          "start_time": "2021-08-09T12:21:53.283654",
          "status": "completed"
        },
        "tags": [],
        "id": "37bb29c7",
        "outputId": "a4c0b611-1a21-4d80-bca3-db4918022a99"
      },
      "source": [
        "from learntools.core import binder; binder.bind(globals())\n",
        "from learntools.python.ex5 import *\n",
        "print('Setup complete.')"
      ],
      "id": "37bb29c7",
      "execution_count": null,
      "outputs": [
        {
          "output_type": "stream",
          "text": [
            "Setup complete.\n"
          ],
          "name": "stdout"
        }
      ]
    },
    {
      "cell_type": "markdown",
      "metadata": {
        "papermill": {
          "duration": 0.018172,
          "end_time": "2021-08-09T12:21:53.495011",
          "exception": false,
          "start_time": "2021-08-09T12:21:53.476839",
          "status": "completed"
        },
        "tags": [],
        "id": "6c6d01eb"
      },
      "source": [
        "# 1.\n",
        "\n",
        "Have you ever felt debugging involved a bit of luck? The following program has a bug. Try to identify the bug and fix it."
      ],
      "id": "6c6d01eb"
    },
    {
      "cell_type": "code",
      "metadata": {
        "execution": {
          "iopub.execute_input": "2021-08-09T12:21:53.534440Z",
          "iopub.status.busy": "2021-08-09T12:21:53.533712Z",
          "iopub.status.idle": "2021-08-09T12:21:53.538305Z",
          "shell.execute_reply": "2021-08-09T12:21:53.538877Z",
          "shell.execute_reply.started": "2021-08-09T11:46:12.506158Z"
        },
        "papermill": {
          "duration": 0.026004,
          "end_time": "2021-08-09T12:21:53.539099",
          "exception": false,
          "start_time": "2021-08-09T12:21:53.513095",
          "status": "completed"
        },
        "tags": [],
        "id": "8bd3fc83"
      },
      "source": [
        "def has_lucky_number(nums):\n",
        "    \"\"\"Return whether the given list of numbers is lucky. A lucky list contains\n",
        "    at least one number divisible by 7.\n",
        "    \"\"\"\n",
        "    for num in nums:\n",
        "        if num % 7 == 0:\n",
        "            return True\n",
        "        else:\n",
        "            return False"
      ],
      "id": "8bd3fc83",
      "execution_count": null,
      "outputs": []
    },
    {
      "cell_type": "markdown",
      "metadata": {
        "papermill": {
          "duration": 0.019877,
          "end_time": "2021-08-09T12:21:53.577803",
          "exception": false,
          "start_time": "2021-08-09T12:21:53.557926",
          "status": "completed"
        },
        "tags": [],
        "id": "e06c7e6e"
      },
      "source": [
        "Try to identify the bug and fix it in the cell below:"
      ],
      "id": "e06c7e6e"
    },
    {
      "cell_type": "code",
      "metadata": {
        "execution": {
          "iopub.execute_input": "2021-08-09T12:21:53.621156Z",
          "iopub.status.busy": "2021-08-09T12:21:53.620097Z",
          "iopub.status.idle": "2021-08-09T12:21:53.629713Z",
          "shell.execute_reply": "2021-08-09T12:21:53.630245Z",
          "shell.execute_reply.started": "2021-08-09T11:52:10.776935Z"
        },
        "papermill": {
          "duration": 0.033319,
          "end_time": "2021-08-09T12:21:53.630464",
          "exception": false,
          "start_time": "2021-08-09T12:21:53.597145",
          "status": "completed"
        },
        "tags": [],
        "id": "680760c7",
        "outputId": "70616330-7e19-4a49-f414-288e1b78aa6d"
      },
      "source": [
        "def has_lucky_number(nums):\n",
        "    \"\"\"Return whether the given list of numbers is lucky. A lucky list contains\n",
        "    at least one number divisible by 7.\n",
        "    \"\"\"\n",
        "    for num in nums:\n",
        "        if num % 7 == 0:\n",
        "            return True\n",
        "    \n",
        "    return False\n",
        "\n",
        "# Check your answer\n",
        "q1.check()"
      ],
      "id": "680760c7",
      "execution_count": null,
      "outputs": [
        {
          "output_type": "display_data",
          "data": {
            "application/javascript": [
              "parent.postMessage({\"jupyterEvent\": \"custom.exercise_interaction\", \"data\": {\"outcomeType\": 1, \"valueTowardsCompletion\": 0.25, \"interactionType\": 1, \"questionType\": 2, \"questionId\": \"1_EarlyExitDebugging\", \"learnToolsVersion\": \"0.3.4\", \"failureMessage\": \"\", \"exceptionClass\": \"\", \"trace\": \"\"}}, \"*\")"
            ],
            "text/plain": [
              "<IPython.core.display.Javascript object>"
            ]
          },
          "metadata": {
            "tags": []
          }
        },
        {
          "output_type": "display_data",
          "data": {
            "text/markdown": "<span style=\"color:#33cc33\">Correct:</span> \n\nRemember that `return` causes a function to exit immediately. So our original implementation always ran for just one iteration. We can only return `False` if we've looked at every element of the list (and confirmed that none of them are lucky). Though we can return early if the answer is `True`:\n\n```python\ndef has_lucky_number(nums):\n    for num in nums:\n        if num % 7 == 0:\n            return True\n    # We've exhausted the list without finding a lucky number\n    return False\n```\n\nHere's a one-line version using a list comprehension with Python's `any` function (you can read about what it does by calling `help(any)`):\n\n```python\ndef has_lucky_number(nums):\n    return any([num % 7 == 0 for num in nums])\n```\n",
            "text/plain": [
              "Correct: \n",
              "\n",
              "Remember that `return` causes a function to exit immediately. So our original implementation always ran for just one iteration. We can only return `False` if we've looked at every element of the list (and confirmed that none of them are lucky). Though we can return early if the answer is `True`:\n",
              "\n",
              "```python\n",
              "def has_lucky_number(nums):\n",
              "    for num in nums:\n",
              "        if num % 7 == 0:\n",
              "            return True\n",
              "    # We've exhausted the list without finding a lucky number\n",
              "    return False\n",
              "```\n",
              "\n",
              "Here's a one-line version using a list comprehension with Python's `any` function (you can read about what it does by calling `help(any)`):\n",
              "\n",
              "```python\n",
              "def has_lucky_number(nums):\n",
              "    return any([num % 7 == 0 for num in nums])\n",
              "```"
            ]
          },
          "metadata": {
            "tags": []
          }
        }
      ]
    },
    {
      "cell_type": "code",
      "metadata": {
        "execution": {
          "iopub.execute_input": "2021-08-09T12:21:53.675234Z",
          "iopub.status.busy": "2021-08-09T12:21:53.674531Z",
          "iopub.status.idle": "2021-08-09T12:21:53.687209Z",
          "shell.execute_reply": "2021-08-09T12:21:53.687709Z",
          "shell.execute_reply.started": "2021-08-09T11:51:33.030651Z"
        },
        "papermill": {
          "duration": 0.037145,
          "end_time": "2021-08-09T12:21:53.687891",
          "exception": false,
          "start_time": "2021-08-09T12:21:53.650746",
          "status": "completed"
        },
        "tags": [],
        "id": "98959465",
        "outputId": "afce700e-6942-449f-b65b-90fa6d1e6723"
      },
      "source": [
        "q1.hint()\n",
        "q1.solution()"
      ],
      "id": "98959465",
      "execution_count": null,
      "outputs": [
        {
          "output_type": "display_data",
          "data": {
            "application/javascript": [
              "parent.postMessage({\"jupyterEvent\": \"custom.exercise_interaction\", \"data\": {\"interactionType\": 2, \"questionType\": 2, \"questionId\": \"1_EarlyExitDebugging\", \"learnToolsVersion\": \"0.3.4\", \"valueTowardsCompletion\": 0.0, \"failureMessage\": \"\", \"exceptionClass\": \"\", \"trace\": \"\", \"outcomeType\": 4}}, \"*\")"
            ],
            "text/plain": [
              "<IPython.core.display.Javascript object>"
            ]
          },
          "metadata": {
            "tags": []
          }
        },
        {
          "output_type": "display_data",
          "data": {
            "text/markdown": "<span style=\"color:#3366cc\">Hint:</span> How many times does the body of the loop run for a list of length n? (If you're not sure, try adding a `print()` call on the line before the `if`.)",
            "text/plain": [
              "Hint: How many times does the body of the loop run for a list of length n? (If you're not sure, try adding a `print()` call on the line before the `if`.)"
            ]
          },
          "metadata": {
            "tags": []
          }
        },
        {
          "output_type": "display_data",
          "data": {
            "application/javascript": [
              "parent.postMessage({\"jupyterEvent\": \"custom.exercise_interaction\", \"data\": {\"interactionType\": 3, \"questionType\": 2, \"questionId\": \"1_EarlyExitDebugging\", \"learnToolsVersion\": \"0.3.4\", \"valueTowardsCompletion\": 0.0, \"failureMessage\": \"\", \"exceptionClass\": \"\", \"trace\": \"\", \"outcomeType\": 4}}, \"*\")"
            ],
            "text/plain": [
              "<IPython.core.display.Javascript object>"
            ]
          },
          "metadata": {
            "tags": []
          }
        },
        {
          "output_type": "display_data",
          "data": {
            "text/markdown": "<span style=\"color:#33cc99\">Solution:</span> Remember that `return` causes a function to exit immediately. So our original implementation always ran for just one iteration. We can only return `False` if we've looked at every element of the list (and confirmed that none of them are lucky). Though we can return early if the answer is `True`:\n\n```python\ndef has_lucky_number(nums):\n    for num in nums:\n        if num % 7 == 0:\n            return True\n    # We've exhausted the list without finding a lucky number\n    return False\n```\n\nHere's a one-line version using a list comprehension with Python's `any` function (you can read about what it does by calling `help(any)`):\n\n```python\ndef has_lucky_number(nums):\n    return any([num % 7 == 0 for num in nums])\n```\n",
            "text/plain": [
              "Solution: Remember that `return` causes a function to exit immediately. So our original implementation always ran for just one iteration. We can only return `False` if we've looked at every element of the list (and confirmed that none of them are lucky). Though we can return early if the answer is `True`:\n",
              "\n",
              "```python\n",
              "def has_lucky_number(nums):\n",
              "    for num in nums:\n",
              "        if num % 7 == 0:\n",
              "            return True\n",
              "    # We've exhausted the list without finding a lucky number\n",
              "    return False\n",
              "```\n",
              "\n",
              "Here's a one-line version using a list comprehension with Python's `any` function (you can read about what it does by calling `help(any)`):\n",
              "\n",
              "```python\n",
              "def has_lucky_number(nums):\n",
              "    return any([num % 7 == 0 for num in nums])\n",
              "```"
            ]
          },
          "metadata": {
            "tags": []
          }
        }
      ]
    },
    {
      "cell_type": "markdown",
      "metadata": {
        "papermill": {
          "duration": 0.019932,
          "end_time": "2021-08-09T12:21:53.727977",
          "exception": false,
          "start_time": "2021-08-09T12:21:53.708045",
          "status": "completed"
        },
        "tags": [],
        "id": "545e8f03"
      },
      "source": [
        "# 2.\n",
        "Look at the Python expression below. What do you think we'll get when we run it? When you've made your prediction, uncomment the code and run the cell to see if you were right."
      ],
      "id": "545e8f03"
    },
    {
      "cell_type": "code",
      "metadata": {
        "execution": {
          "iopub.execute_input": "2021-08-09T12:21:53.779498Z",
          "iopub.status.busy": "2021-08-09T12:21:53.777345Z",
          "iopub.status.idle": "2021-08-09T12:21:53.783496Z",
          "shell.execute_reply": "2021-08-09T12:21:53.782746Z"
        },
        "papermill": {
          "duration": 0.032588,
          "end_time": "2021-08-09T12:21:53.783704",
          "exception": false,
          "start_time": "2021-08-09T12:21:53.751116",
          "status": "completed"
        },
        "tags": [],
        "id": "7d103f70"
      },
      "source": [
        "#[1, 2, 3, 4] > 2"
      ],
      "id": "7d103f70",
      "execution_count": null,
      "outputs": []
    },
    {
      "cell_type": "markdown",
      "metadata": {
        "papermill": {
          "duration": 0.026464,
          "end_time": "2021-08-09T12:21:53.838834",
          "exception": false,
          "start_time": "2021-08-09T12:21:53.812370",
          "status": "completed"
        },
        "tags": [],
        "id": "74be1c3d"
      },
      "source": [
        "R and Python have some libraries (like numpy and pandas) compare each element of the list to 2 (i.e. do an 'element-wise' comparison) and give us a list of booleans like `[False, False, True, True]`. \n",
        "\n",
        "Implement a function that reproduces this behaviour, returning a list of booleans corresponding to whether the corresponding element is greater than n."
      ],
      "id": "74be1c3d"
    },
    {
      "cell_type": "code",
      "metadata": {
        "execution": {
          "iopub.execute_input": "2021-08-09T12:21:53.897172Z",
          "iopub.status.busy": "2021-08-09T12:21:53.896540Z",
          "iopub.status.idle": "2021-08-09T12:21:53.903890Z",
          "shell.execute_reply": "2021-08-09T12:21:53.903351Z",
          "shell.execute_reply.started": "2021-08-09T11:56:00.593945Z"
        },
        "papermill": {
          "duration": 0.037918,
          "end_time": "2021-08-09T12:21:53.904026",
          "exception": false,
          "start_time": "2021-08-09T12:21:53.866108",
          "status": "completed"
        },
        "tags": [],
        "id": "db6b2cad",
        "outputId": "0bc9d941-6067-4eeb-8aa0-18c8377c3a33"
      },
      "source": [
        "def elementwise_greater_than(L, thresh):\n",
        "    \"\"\"Return a list with the same length as L, where the value at index i is \n",
        "    True if L[i] is greater than thresh, and False otherwise.\n",
        "    \n",
        "    >>> elementwise_greater_than([1, 2, 3, 4], 2)\n",
        "    [False, False, True, True]\n",
        "    \"\"\"\n",
        "    return [i > thresh for i in L] # 리스트 안에 바로 저장할 수 있도록\n",
        "    pass\n",
        "\n",
        "# Check your answer\n",
        "q2.check()"
      ],
      "id": "db6b2cad",
      "execution_count": null,
      "outputs": [
        {
          "output_type": "display_data",
          "data": {
            "application/javascript": [
              "parent.postMessage({\"jupyterEvent\": \"custom.exercise_interaction\", \"data\": {\"outcomeType\": 1, \"valueTowardsCompletion\": 0.25, \"interactionType\": 1, \"questionType\": 2, \"questionId\": \"2_ElementWiseComparison\", \"learnToolsVersion\": \"0.3.4\", \"failureMessage\": \"\", \"exceptionClass\": \"\", \"trace\": \"\"}}, \"*\")"
            ],
            "text/plain": [
              "<IPython.core.display.Javascript object>"
            ]
          },
          "metadata": {
            "tags": []
          }
        },
        {
          "output_type": "display_data",
          "data": {
            "text/markdown": "<span style=\"color:#33cc33\">Correct:</span> \n\nHere's one solution:\n```python\ndef elementwise_greater_than(L, thresh):\n    res = []\n    for ele in L:\n        res.append(ele > thresh)\n    return res\n```\n\nAnd here's the list comprehension version:\n```python\ndef elementwise_greater_than(L, thresh):\n    return [ele > thresh for ele in L]\n```\n",
            "text/plain": [
              "Correct: \n",
              "\n",
              "Here's one solution:\n",
              "```python\n",
              "def elementwise_greater_than(L, thresh):\n",
              "    res = []\n",
              "    for ele in L:\n",
              "        res.append(ele > thresh)\n",
              "    return res\n",
              "```\n",
              "\n",
              "And here's the list comprehension version:\n",
              "```python\n",
              "def elementwise_greater_than(L, thresh):\n",
              "    return [ele > thresh for ele in L]\n",
              "```"
            ]
          },
          "metadata": {
            "tags": []
          }
        }
      ]
    },
    {
      "cell_type": "code",
      "metadata": {
        "execution": {
          "iopub.execute_input": "2021-08-09T12:21:53.951123Z",
          "iopub.status.busy": "2021-08-09T12:21:53.950513Z",
          "iopub.status.idle": "2021-08-09T12:21:53.953926Z",
          "shell.execute_reply": "2021-08-09T12:21:53.953376Z"
        },
        "papermill": {
          "duration": 0.028937,
          "end_time": "2021-08-09T12:21:53.954075",
          "exception": false,
          "start_time": "2021-08-09T12:21:53.925138",
          "status": "completed"
        },
        "tags": [],
        "id": "31a2f144"
      },
      "source": [
        "#q2.solution()"
      ],
      "id": "31a2f144",
      "execution_count": null,
      "outputs": []
    },
    {
      "cell_type": "markdown",
      "metadata": {
        "papermill": {
          "duration": 0.021585,
          "end_time": "2021-08-09T12:21:53.996648",
          "exception": false,
          "start_time": "2021-08-09T12:21:53.975063",
          "status": "completed"
        },
        "tags": [],
        "id": "1945fdbd"
      },
      "source": [
        "# 3.\n",
        "\n",
        "Complete the body of the function below according to its docstring."
      ],
      "id": "1945fdbd"
    },
    {
      "cell_type": "code",
      "metadata": {
        "execution": {
          "iopub.execute_input": "2021-08-09T12:21:54.047843Z",
          "iopub.status.busy": "2021-08-09T12:21:54.047155Z",
          "iopub.status.idle": "2021-08-09T12:21:54.054509Z",
          "shell.execute_reply": "2021-08-09T12:21:54.053979Z",
          "shell.execute_reply.started": "2021-08-09T12:17:04.989820Z"
        },
        "papermill": {
          "duration": 0.036661,
          "end_time": "2021-08-09T12:21:54.054651",
          "exception": false,
          "start_time": "2021-08-09T12:21:54.017990",
          "status": "completed"
        },
        "tags": [],
        "id": "c67b3358",
        "outputId": "15ed3639-b1ff-42d8-d3e1-efefc2c71cdd"
      },
      "source": [
        "def menu_is_boring(meals):\n",
        "    \"\"\"Given a list of meals served over some period of time, return True if the\n",
        "    same meal has ever been served two days in a row, and False otherwise.\n",
        "    \"\"\"\n",
        "    for i in range(len(meals)-1):\n",
        "        if meals[i] == meals[i+1]:\n",
        "            return True\n",
        "    return False\n",
        "    pass\n",
        "\n",
        "## Check your answer\n",
        "q3.check()"
      ],
      "id": "c67b3358",
      "execution_count": null,
      "outputs": [
        {
          "output_type": "display_data",
          "data": {
            "application/javascript": [
              "parent.postMessage({\"jupyterEvent\": \"custom.exercise_interaction\", \"data\": {\"outcomeType\": 1, \"valueTowardsCompletion\": 0.25, \"interactionType\": 1, \"questionType\": 2, \"questionId\": \"3_BoringMenu\", \"learnToolsVersion\": \"0.3.4\", \"failureMessage\": \"\", \"exceptionClass\": \"\", \"trace\": \"\"}}, \"*\")"
            ],
            "text/plain": [
              "<IPython.core.display.Javascript object>"
            ]
          },
          "metadata": {
            "tags": []
          }
        },
        {
          "output_type": "display_data",
          "data": {
            "text/markdown": "<span style=\"color:#33cc33\">Correct:</span> \n\n\n\n```python\ndef menu_is_boring(meals):\n    # Iterate over all indices of the list, except the last one\n    for i in range(len(meals)-1):\n        if meals[i] == meals[i+1]:\n            return True\n    return False\n```\n\nThe key to our solution is the call to `range`. `range(len(meals))` would give us all the indices of `meals`. If we had used that range, the last iteration of the loop would be comparing the last element to the element after it, which is... `IndexError`! `range(len(meals)-1)` gives us all the indices except the index of the last element.\n\nBut don't we need to check if `meals` is empty? Turns out that `range(0) == range(-1)` - they're both empty. So if `meals` has length 0 or 1, we just won't do any iterations of our for loop.\n",
            "text/plain": [
              "Correct: \n",
              "\n",
              "\n",
              "\n",
              "```python\n",
              "def menu_is_boring(meals):\n",
              "    # Iterate over all indices of the list, except the last one\n",
              "    for i in range(len(meals)-1):\n",
              "        if meals[i] == meals[i+1]:\n",
              "            return True\n",
              "    return False\n",
              "```\n",
              "\n",
              "The key to our solution is the call to `range`. `range(len(meals))` would give us all the indices of `meals`. If we had used that range, the last iteration of the loop would be comparing the last element to the element after it, which is... `IndexError`! `range(len(meals)-1)` gives us all the indices except the index of the last element.\n",
              "\n",
              "But don't we need to check if `meals` is empty? Turns out that `range(0) == range(-1)` - they're both empty. So if `meals` has length 0 or 1, we just won't do any iterations of our for loop."
            ]
          },
          "metadata": {
            "tags": []
          }
        }
      ]
    },
    {
      "cell_type": "code",
      "metadata": {
        "execution": {
          "iopub.execute_input": "2021-08-09T12:21:54.104723Z",
          "iopub.status.busy": "2021-08-09T12:21:54.103923Z",
          "iopub.status.idle": "2021-08-09T12:21:54.107232Z",
          "shell.execute_reply": "2021-08-09T12:21:54.107782Z",
          "shell.execute_reply.started": "2021-08-09T12:12:51.631837Z"
        },
        "papermill": {
          "duration": 0.031319,
          "end_time": "2021-08-09T12:21:54.107988",
          "exception": false,
          "start_time": "2021-08-09T12:21:54.076669",
          "status": "completed"
        },
        "tags": [],
        "id": "e9080470",
        "outputId": "fd5f8f57-14be-4e10-fcdf-1db6235bad48"
      },
      "source": [
        "meals = [ 'a', 'b','c','b']\n",
        "for i in range(len(meals)):\n",
        "    print(i)\n",
        "#for meal in meals:\n",
        "   #print(meals.index[meal])\n",
        "        "
      ],
      "id": "e9080470",
      "execution_count": null,
      "outputs": [
        {
          "output_type": "stream",
          "text": [
            "0\n",
            "1\n",
            "2\n",
            "3\n"
          ],
          "name": "stdout"
        }
      ]
    },
    {
      "cell_type": "code",
      "metadata": {
        "execution": {
          "iopub.execute_input": "2021-08-09T12:21:54.163229Z",
          "iopub.status.busy": "2021-08-09T12:21:54.162143Z",
          "iopub.status.idle": "2021-08-09T12:21:54.173364Z",
          "shell.execute_reply": "2021-08-09T12:21:54.172458Z",
          "shell.execute_reply.started": "2021-08-09T12:14:37.788829Z"
        },
        "papermill": {
          "duration": 0.040859,
          "end_time": "2021-08-09T12:21:54.173559",
          "exception": false,
          "start_time": "2021-08-09T12:21:54.132700",
          "status": "completed"
        },
        "tags": [],
        "id": "987449da",
        "outputId": "caae4754-17cc-4223-a403-a4de788348a9"
      },
      "source": [
        "q3.hint()\n",
        "q3.solution()"
      ],
      "id": "987449da",
      "execution_count": null,
      "outputs": [
        {
          "output_type": "display_data",
          "data": {
            "application/javascript": [
              "parent.postMessage({\"jupyterEvent\": \"custom.exercise_interaction\", \"data\": {\"interactionType\": 2, \"questionType\": 2, \"questionId\": \"3_BoringMenu\", \"learnToolsVersion\": \"0.3.4\", \"valueTowardsCompletion\": 0.0, \"failureMessage\": \"\", \"exceptionClass\": \"\", \"trace\": \"\", \"outcomeType\": 4}}, \"*\")"
            ],
            "text/plain": [
              "<IPython.core.display.Javascript object>"
            ]
          },
          "metadata": {
            "tags": []
          }
        },
        {
          "output_type": "display_data",
          "data": {
            "text/markdown": "<span style=\"color:#3366cc\">Hint:</span> This is a case where it may be preferable to iterate over the *indices* of the list (using a call to `range()`) rather than iterating over the elements of the list itself. When indexing into the list, be mindful that you're not \"falling off the end\" (i.e. using an index that doesn't exist).",
            "text/plain": [
              "Hint: This is a case where it may be preferable to iterate over the *indices* of the list (using a call to `range()`) rather than iterating over the elements of the list itself. When indexing into the list, be mindful that you're not \"falling off the end\" (i.e. using an index that doesn't exist)."
            ]
          },
          "metadata": {
            "tags": []
          }
        },
        {
          "output_type": "display_data",
          "data": {
            "application/javascript": [
              "parent.postMessage({\"jupyterEvent\": \"custom.exercise_interaction\", \"data\": {\"interactionType\": 3, \"questionType\": 2, \"questionId\": \"3_BoringMenu\", \"learnToolsVersion\": \"0.3.4\", \"valueTowardsCompletion\": 0.0, \"failureMessage\": \"\", \"exceptionClass\": \"\", \"trace\": \"\", \"outcomeType\": 4}}, \"*\")"
            ],
            "text/plain": [
              "<IPython.core.display.Javascript object>"
            ]
          },
          "metadata": {
            "tags": []
          }
        },
        {
          "output_type": "display_data",
          "data": {
            "text/markdown": "<span style=\"color:#33cc99\">Solution:</span> \n\n```python\ndef menu_is_boring(meals):\n    # Iterate over all indices of the list, except the last one\n    for i in range(len(meals)-1):\n        if meals[i] == meals[i+1]:\n            return True\n    return False\n```\n\nThe key to our solution is the call to `range`. `range(len(meals))` would give us all the indices of `meals`. If we had used that range, the last iteration of the loop would be comparing the last element to the element after it, which is... `IndexError`! `range(len(meals)-1)` gives us all the indices except the index of the last element.\n\nBut don't we need to check if `meals` is empty? Turns out that `range(0) == range(-1)` - they're both empty. So if `meals` has length 0 or 1, we just won't do any iterations of our for loop.\n",
            "text/plain": [
              "Solution: \n",
              "\n",
              "```python\n",
              "def menu_is_boring(meals):\n",
              "    # Iterate over all indices of the list, except the last one\n",
              "    for i in range(len(meals)-1):\n",
              "        if meals[i] == meals[i+1]:\n",
              "            return True\n",
              "    return False\n",
              "```\n",
              "\n",
              "The key to our solution is the call to `range`. `range(len(meals))` would give us all the indices of `meals`. If we had used that range, the last iteration of the loop would be comparing the last element to the element after it, which is... `IndexError`! `range(len(meals)-1)` gives us all the indices except the index of the last element.\n",
              "\n",
              "But don't we need to check if `meals` is empty? Turns out that `range(0) == range(-1)` - they're both empty. So if `meals` has length 0 or 1, we just won't do any iterations of our for loop."
            ]
          },
          "metadata": {
            "tags": []
          }
        }
      ]
    },
    {
      "cell_type": "markdown",
      "metadata": {
        "papermill": {
          "duration": 0.026261,
          "end_time": "2021-08-09T12:21:54.227919",
          "exception": false,
          "start_time": "2021-08-09T12:21:54.201658",
          "status": "completed"
        },
        "tags": [],
        "id": "8250250a"
      },
      "source": [
        "# 4. <span title=\"A bit spicy\" style=\"color: darkgreen \">🌶️</span>\n",
        "\n",
        "Next to the Blackjack table, the Python Challenge Casino has a slot machine. You can get a result from the slot machine by calling `play_slot_machine()`. The number it returns is your winnings in dollars. Usually it returns 0.  But sometimes you'll get lucky and get a big payday. Try running it below:"
      ],
      "id": "8250250a"
    },
    {
      "cell_type": "code",
      "metadata": {
        "execution": {
          "iopub.execute_input": "2021-08-09T12:21:54.289078Z",
          "iopub.status.busy": "2021-08-09T12:21:54.288254Z",
          "iopub.status.idle": "2021-08-09T12:21:54.371453Z",
          "shell.execute_reply": "2021-08-09T12:21:54.367696Z",
          "shell.execute_reply.started": "2021-08-09T12:19:20.481593Z"
        },
        "papermill": {
          "duration": 0.11756,
          "end_time": "2021-08-09T12:21:54.371948",
          "exception": true,
          "start_time": "2021-08-09T12:21:54.254388",
          "status": "failed"
        },
        "tags": [],
        "id": "f696dadb",
        "outputId": "48149b40-9e66-4ce5-a3a0-47368bafe538"
      },
      "source": [
        "play_slot_machine(0)"
      ],
      "id": "f696dadb",
      "execution_count": null,
      "outputs": [
        {
          "output_type": "error",
          "ename": "TypeError",
          "evalue": "play_slot_machine() takes 0 positional arguments but 1 was given",
          "traceback": [
            "\u001b[0;31m---------------------------------------------------------------------------\u001b[0m",
            "\u001b[0;31mTypeError\u001b[0m                                 Traceback (most recent call last)",
            "\u001b[0;32m<ipython-input-11-5511a6590ca9>\u001b[0m in \u001b[0;36m<module>\u001b[0;34m\u001b[0m\n\u001b[0;32m----> 1\u001b[0;31m \u001b[0mplay_slot_machine\u001b[0m\u001b[0;34m(\u001b[0m\u001b[0;36m0\u001b[0m\u001b[0;34m)\u001b[0m\u001b[0;34m\u001b[0m\u001b[0;34m\u001b[0m\u001b[0m\n\u001b[0m",
            "\u001b[0;31mTypeError\u001b[0m: play_slot_machine() takes 0 positional arguments but 1 was given"
          ]
        }
      ]
    },
    {
      "cell_type": "markdown",
      "metadata": {
        "papermill": {
          "duration": null,
          "end_time": null,
          "exception": null,
          "start_time": null,
          "status": "pending"
        },
        "tags": [],
        "id": "5426efbc"
      },
      "source": [
        "By the way, did we mention that each play costs $1? Don't worry, we'll send you the bill later.\n",
        "\n",
        "On average, how much money can you expect to gain (or lose) every time you play the machine?  The casino keeps it a secret, but you can estimate the average value of each pull using a technique called the **Monte Carlo method**. To estimate the average outcome, we simulate the scenario many times, and return the average result.\n",
        "\n",
        "Complete the following function to calculate the average value per play of the slot machine."
      ],
      "id": "5426efbc"
    },
    {
      "cell_type": "code",
      "metadata": {
        "papermill": {
          "duration": null,
          "end_time": null,
          "exception": null,
          "start_time": null,
          "status": "pending"
        },
        "tags": [],
        "id": "835ea514"
      },
      "source": [
        "def estimate_average_slot_payout(n_runs):\n",
        "    \"\"\"Run the slot machine n_runs times and return the average net profit per run.\n",
        "    Example calls (note that return value is nondeterministic!):\n",
        "    >>> estimate_average_slot_payout(1)\n",
        "    -1\n",
        "    >>> estimate_average_slot_payout(1)\n",
        "    0.5\n",
        "    \"\"\"# Monte Carlo method\n",
        "    pass"
      ],
      "id": "835ea514",
      "execution_count": null,
      "outputs": []
    },
    {
      "cell_type": "markdown",
      "metadata": {
        "papermill": {
          "duration": null,
          "end_time": null,
          "exception": null,
          "start_time": null,
          "status": "pending"
        },
        "tags": [],
        "id": "d627a952"
      },
      "source": [
        "When you think you know the expected value per spin, run the code cell below to view the solution and get credit for answering the question."
      ],
      "id": "d627a952"
    },
    {
      "cell_type": "code",
      "metadata": {
        "execution": {
          "iopub.execute_input": "2021-08-09T12:19:47.249911Z",
          "iopub.status.busy": "2021-08-09T12:19:47.249539Z",
          "iopub.status.idle": "2021-08-09T12:19:47.258074Z",
          "shell.execute_reply": "2021-08-09T12:19:47.257027Z",
          "shell.execute_reply.started": "2021-08-09T12:19:47.249881Z"
        },
        "papermill": {
          "duration": null,
          "end_time": null,
          "exception": null,
          "start_time": null,
          "status": "pending"
        },
        "tags": [],
        "id": "d02ec72d"
      },
      "source": [
        "# Check your answer (Run this code cell to receive credit!)\n",
        "q4.solution()"
      ],
      "id": "d02ec72d",
      "execution_count": null,
      "outputs": []
    },
    {
      "cell_type": "markdown",
      "metadata": {
        "papermill": {
          "duration": null,
          "end_time": null,
          "exception": null,
          "start_time": null,
          "status": "pending"
        },
        "tags": [],
        "id": "5f999b59"
      },
      "source": [
        "# Keep Going\n",
        "\n",
        "Many programmers report that dictionaries are their favorite data structure. You'll get to **[learn about them](https://www.kaggle.com/colinmorris/strings-and-dictionaries)** (as well as strings) in the next lesson."
      ],
      "id": "5f999b59"
    },
    {
      "cell_type": "markdown",
      "metadata": {
        "papermill": {
          "duration": null,
          "end_time": null,
          "exception": null,
          "start_time": null,
          "status": "pending"
        },
        "tags": [],
        "id": "0a5b379a"
      },
      "source": [
        "---\n",
        "\n",
        "\n",
        "\n",
        "\n",
        "*Have questions or comments? Visit the [Learn Discussion forum](https://www.kaggle.com/learn-forum/161283) to chat with other Learners.*"
      ],
      "id": "0a5b379a"
    }
  ]
}