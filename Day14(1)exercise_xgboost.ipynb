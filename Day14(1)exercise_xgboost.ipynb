{
  "nbformat": 4,
  "nbformat_minor": 5,
  "metadata": {
    "kernelspec": {
      "display_name": "Python 3",
      "language": "python",
      "name": "python3"
    },
    "language_info": {
      "codemirror_mode": {
        "name": "ipython",
        "version": 3
      },
      "file_extension": ".py",
      "mimetype": "text/x-python",
      "name": "python",
      "nbconvert_exporter": "python",
      "pygments_lexer": "ipython3",
      "version": "3.7.10"
    },
    "papermill": {
      "default_parameters": {},
      "duration": 20.746001,
      "end_time": "2021-08-19T07:06:43.551948",
      "environment_variables": {},
      "exception": null,
      "input_path": "__notebook__.ipynb",
      "output_path": "__notebook__.ipynb",
      "parameters": {},
      "start_time": "2021-08-19T07:06:22.805947",
      "version": "2.3.3"
    },
    "colab": {
      "name": "Day14(1)exercise-xgboost.ipynb",
      "provenance": [],
      "include_colab_link": true
    }
  },
  "cells": [
    {
      "cell_type": "markdown",
      "metadata": {
        "id": "view-in-github",
        "colab_type": "text"
      },
      "source": [
        "<a href=\"https://colab.research.google.com/github/jaemyoung/Kaggle_30Days_ML/blob/main/Day14(1)exercise_xgboost.ipynb\" target=\"_parent\"><img src=\"https://colab.research.google.com/assets/colab-badge.svg\" alt=\"Open In Colab\"/></a>"
      ]
    },
    {
      "cell_type": "markdown",
      "metadata": {
        "papermill": {
          "duration": 0.017257,
          "end_time": "2021-08-19T07:06:30.861609",
          "exception": false,
          "start_time": "2021-08-19T07:06:30.844352",
          "status": "completed"
        },
        "tags": [],
        "id": "1159ebf5"
      },
      "source": [
        "**This notebook is an exercise in the [Intermediate Machine Learning](https://www.kaggle.com/learn/intermediate-machine-learning) course.  You can reference the tutorial at [this link](https://www.kaggle.com/alexisbcook/xgboost).**\n",
        "\n",
        "---\n"
      ],
      "id": "1159ebf5"
    },
    {
      "cell_type": "markdown",
      "metadata": {
        "papermill": {
          "duration": 0.015336,
          "end_time": "2021-08-19T07:06:30.893109",
          "exception": false,
          "start_time": "2021-08-19T07:06:30.877773",
          "status": "completed"
        },
        "tags": [],
        "id": "9606d86a"
      },
      "source": [
        "In this exercise, you will use your new knowledge to train a model with **gradient boosting**.\n",
        "\n",
        "# Setup\n",
        "\n",
        "The questions below will give you feedback on your work. Run the following cell to set up the feedback system."
      ],
      "id": "9606d86a"
    },
    {
      "cell_type": "code",
      "metadata": {
        "execution": {
          "iopub.execute_input": "2021-08-19T07:06:30.936842Z",
          "iopub.status.busy": "2021-08-19T07:06:30.936151Z",
          "iopub.status.idle": "2021-08-19T07:06:33.330686Z",
          "shell.execute_reply": "2021-08-19T07:06:33.329906Z",
          "shell.execute_reply.started": "2021-08-19T06:46:14.339188Z"
        },
        "papermill": {
          "duration": 2.422172,
          "end_time": "2021-08-19T07:06:33.330861",
          "exception": false,
          "start_time": "2021-08-19T07:06:30.908689",
          "status": "completed"
        },
        "tags": [],
        "id": "cca22cea",
        "outputId": "91483693-dd7e-42ba-d313-8db8c8027f56"
      },
      "source": [
        "# Set up code checking\n",
        "import os\n",
        "if not os.path.exists(\"../input/train.csv\"):\n",
        "    os.symlink(\"../input/home-data-for-ml-course/train.csv\", \"../input/train.csv\")  \n",
        "    os.symlink(\"../input/home-data-for-ml-course/test.csv\", \"../input/test.csv\") \n",
        "from learntools.core import binder\n",
        "binder.bind(globals())\n",
        "from learntools.ml_intermediate.ex6 import *\n",
        "print(\"Setup Complete\")"
      ],
      "id": "cca22cea",
      "execution_count": null,
      "outputs": [
        {
          "name": "stdout",
          "output_type": "stream",
          "text": [
            "Setup Complete\n"
          ]
        }
      ]
    },
    {
      "cell_type": "markdown",
      "metadata": {
        "papermill": {
          "duration": 0.015782,
          "end_time": "2021-08-19T07:06:33.364116",
          "exception": false,
          "start_time": "2021-08-19T07:06:33.348334",
          "status": "completed"
        },
        "tags": [],
        "id": "399475c7"
      },
      "source": [
        "You will work with the [Housing Prices Competition for Kaggle Learn Users](https://www.kaggle.com/c/home-data-for-ml-course) dataset from the previous exercise. \n",
        "\n",
        "![Ames Housing dataset image](https://i.imgur.com/lTJVG4e.png)\n",
        "\n",
        "Run the next code cell without changes to load the training and validation sets in `X_train`, `X_valid`, `y_train`, and `y_valid`.  The test set is loaded in `X_test`."
      ],
      "id": "399475c7"
    },
    {
      "cell_type": "code",
      "metadata": {
        "execution": {
          "iopub.execute_input": "2021-08-19T07:06:33.408359Z",
          "iopub.status.busy": "2021-08-19T07:06:33.407562Z",
          "iopub.status.idle": "2021-08-19T07:06:33.635396Z",
          "shell.execute_reply": "2021-08-19T07:06:33.634820Z",
          "shell.execute_reply.started": "2021-08-19T06:46:17.058707Z"
        },
        "papermill": {
          "duration": 0.255254,
          "end_time": "2021-08-19T07:06:33.635548",
          "exception": false,
          "start_time": "2021-08-19T07:06:33.380294",
          "status": "completed"
        },
        "tags": [],
        "id": "b9162d39"
      },
      "source": [
        "import pandas as pd\n",
        "from sklearn.model_selection import train_test_split\n",
        "\n",
        "# Read the data\n",
        "X = pd.read_csv('../input/train.csv', index_col='Id')\n",
        "X_test_full = pd.read_csv('../input/test.csv', index_col='Id')\n",
        "\n",
        "# Remove rows with missing target, separate target from predictors\n",
        "X.dropna(axis=0, subset=['SalePrice'], inplace=True)\n",
        "y = X.SalePrice              \n",
        "X.drop(['SalePrice'], axis=1, inplace=True)\n",
        "\n",
        "# Break off validation set from training data\n",
        "X_train_full, X_valid_full, y_train, y_valid = train_test_split(X, y, train_size=0.8, test_size=0.2,\n",
        "                                                                random_state=0)\n",
        "\n",
        "# \"Cardinality\" means the number of unique values in a column\n",
        "# Select categorical columns with relatively low cardinality (convenient but arbitrary)\n",
        "low_cardinality_cols = [cname for cname in X_train_full.columns if X_train_full[cname].nunique() < 10 and \n",
        "                        X_train_full[cname].dtype == \"object\"]\n",
        "\n",
        "# Select numeric columns\n",
        "numeric_cols = [cname for cname in X_train_full.columns if X_train_full[cname].dtype in ['int64', 'float64']]\n",
        "\n",
        "# Keep selected columns only\n",
        "my_cols = low_cardinality_cols + numeric_cols\n",
        "X_train = X_train_full[my_cols].copy()\n",
        "X_valid = X_valid_full[my_cols].copy()\n",
        "X_test = X_test_full[my_cols].copy()\n",
        "\n",
        "# One-hot encode the data (to shorten the code, we use pandas) -> pandas를 쓰게 되면 onehot 인코딩이 조금더 효율적으로 코드작성에 도와줌\n",
        "X_train = pd.get_dummies(X_train)\n",
        "X_valid = pd.get_dummies(X_valid)\n",
        "X_test = pd.get_dummies(X_test)\n",
        "X_train, X_valid = X_train.align(X_valid, join='left', axis=1)\n",
        "X_train, X_test = X_train.align(X_test, join='left', axis=1)"
      ],
      "id": "b9162d39",
      "execution_count": null,
      "outputs": []
    },
    {
      "cell_type": "markdown",
      "metadata": {
        "papermill": {
          "duration": 0.015625,
          "end_time": "2021-08-19T07:06:33.667755",
          "exception": false,
          "start_time": "2021-08-19T07:06:33.652130",
          "status": "completed"
        },
        "tags": [],
        "id": "4f5ed014"
      },
      "source": [
        "# Step 1: Build model\n",
        "\n",
        "### Part A\n",
        "\n",
        "In this step, you'll build and train your first model with gradient boosting.\n",
        "\n",
        "- Begin by setting `my_model_1` to an XGBoost model.  Use the [XGBRegressor](https://xgboost.readthedocs.io/en/latest/python/python_api.html#xgboost.XGBRegressor) class, and set the random seed to 0 (`random_state=0`).  **Leave all other parameters as default.**\n",
        "- Then, fit the model to the training data in `X_train` and `y_train`."
      ],
      "id": "4f5ed014"
    },
    {
      "cell_type": "code",
      "metadata": {
        "execution": {
          "iopub.execute_input": "2021-08-19T07:06:33.712301Z",
          "iopub.status.busy": "2021-08-19T07:06:33.711557Z",
          "iopub.status.idle": "2021-08-19T07:06:34.411592Z",
          "shell.execute_reply": "2021-08-19T07:06:34.412127Z",
          "shell.execute_reply.started": "2021-08-19T06:54:57.763526Z"
        },
        "papermill": {
          "duration": 0.728487,
          "end_time": "2021-08-19T07:06:34.412300",
          "exception": false,
          "start_time": "2021-08-19T07:06:33.683813",
          "status": "completed"
        },
        "tags": [],
        "id": "02b42bd3",
        "outputId": "be7711fc-5d6e-422a-e141-fa208485fb2c"
      },
      "source": [
        "from xgboost import XGBRegressor\n",
        "\n",
        "# Define the model\n",
        "my_model_1 = XGBRegressor(random_state =0)# 아무런 파라미터 셋팅값 없이 구하기\n",
        "\n",
        "# Fit the model\n",
        "my_model_1.fit(X_train, y_train)# early_stopping_rounds = 5, eval_set = [(X_valid, y_valid)], verbose = False -> 추가를 안함\n",
        "# Check your answer\n",
        "step_1.a.check()"
      ],
      "id": "02b42bd3",
      "execution_count": null,
      "outputs": [
        {
          "data": {
            "application/javascript": [
              "parent.postMessage({\"jupyterEvent\": \"custom.exercise_interaction\", \"data\": {\"outcomeType\": 1, \"valueTowardsCompletion\": 0.5, \"interactionType\": 1, \"questionType\": 2, \"questionId\": \"1.1_Model1A\", \"learnToolsVersion\": \"0.3.4\", \"failureMessage\": \"\", \"exceptionClass\": \"\", \"trace\": \"\"}}, \"*\")"
            ],
            "text/plain": [
              "<IPython.core.display.Javascript object>"
            ]
          },
          "metadata": {},
          "output_type": "display_data"
        },
        {
          "data": {
            "text/markdown": [
              "<span style=\"color:#33cc33\">Correct</span>"
            ],
            "text/plain": [
              "Correct"
            ]
          },
          "metadata": {},
          "output_type": "display_data"
        }
      ]
    },
    {
      "cell_type": "code",
      "metadata": {
        "execution": {
          "iopub.execute_input": "2021-08-19T07:06:34.452287Z",
          "iopub.status.busy": "2021-08-19T07:06:34.451330Z",
          "iopub.status.idle": "2021-08-19T07:06:34.462076Z",
          "shell.execute_reply": "2021-08-19T07:06:34.461521Z",
          "shell.execute_reply.started": "2021-08-19T06:54:12.471661Z"
        },
        "papermill": {
          "duration": 0.032851,
          "end_time": "2021-08-19T07:06:34.462224",
          "exception": false,
          "start_time": "2021-08-19T07:06:34.429373",
          "status": "completed"
        },
        "tags": [],
        "id": "c908a8c8",
        "outputId": "c588efc1-9802-4fe0-de29-a072f3037a9e"
      },
      "source": [
        "# Lines below will give you a hint or solution code\n",
        "step_1.a.hint()\n",
        "step_1.a.solution()"
      ],
      "id": "c908a8c8",
      "execution_count": null,
      "outputs": [
        {
          "data": {
            "application/javascript": [
              "parent.postMessage({\"jupyterEvent\": \"custom.exercise_interaction\", \"data\": {\"interactionType\": 2, \"questionType\": 2, \"questionId\": \"1.1_Model1A\", \"learnToolsVersion\": \"0.3.4\", \"valueTowardsCompletion\": 0.0, \"failureMessage\": \"\", \"exceptionClass\": \"\", \"trace\": \"\", \"outcomeType\": 4}}, \"*\")"
            ],
            "text/plain": [
              "<IPython.core.display.Javascript object>"
            ]
          },
          "metadata": {},
          "output_type": "display_data"
        },
        {
          "data": {
            "text/markdown": [
              "<span style=\"color:#3366cc\">Hint:</span> Begin by defining the model with `my_model_1 = XGBRegressor(random_state=0)`. Then, you can fit the model with the `fit()` method."
            ],
            "text/plain": [
              "Hint: Begin by defining the model with `my_model_1 = XGBRegressor(random_state=0)`. Then, you can fit the model with the `fit()` method."
            ]
          },
          "metadata": {},
          "output_type": "display_data"
        },
        {
          "data": {
            "application/javascript": [
              "parent.postMessage({\"jupyterEvent\": \"custom.exercise_interaction\", \"data\": {\"interactionType\": 3, \"questionType\": 2, \"questionId\": \"1.1_Model1A\", \"learnToolsVersion\": \"0.3.4\", \"valueTowardsCompletion\": 0.0, \"failureMessage\": \"\", \"exceptionClass\": \"\", \"trace\": \"\", \"outcomeType\": 4}}, \"*\")"
            ],
            "text/plain": [
              "<IPython.core.display.Javascript object>"
            ]
          },
          "metadata": {},
          "output_type": "display_data"
        },
        {
          "data": {
            "text/markdown": [
              "<span style=\"color:#33cc99\">Solution:</span> \n",
              "```python\n",
              "# Define the model\n",
              "my_model_1 = XGBRegressor(random_state=0)\n",
              "\n",
              "# Fit the model\n",
              "my_model_1.fit(X_train, y_train)\n",
              "\n",
              "```"
            ],
            "text/plain": [
              "Solution: \n",
              "```python\n",
              "# Define the model\n",
              "my_model_1 = XGBRegressor(random_state=0)\n",
              "\n",
              "# Fit the model\n",
              "my_model_1.fit(X_train, y_train)\n",
              "\n",
              "```"
            ]
          },
          "metadata": {},
          "output_type": "display_data"
        }
      ]
    },
    {
      "cell_type": "markdown",
      "metadata": {
        "papermill": {
          "duration": 0.018274,
          "end_time": "2021-08-19T07:06:34.499561",
          "exception": false,
          "start_time": "2021-08-19T07:06:34.481287",
          "status": "completed"
        },
        "tags": [],
        "id": "42eeb4d4"
      },
      "source": [
        "### Part B\n",
        "\n",
        "Set `predictions_1` to the model's predictions for the validation data.  Recall that the validation features are stored in `X_valid`."
      ],
      "id": "42eeb4d4"
    },
    {
      "cell_type": "code",
      "metadata": {
        "execution": {
          "iopub.execute_input": "2021-08-19T07:06:34.542214Z",
          "iopub.status.busy": "2021-08-19T07:06:34.541520Z",
          "iopub.status.idle": "2021-08-19T07:06:34.554466Z",
          "shell.execute_reply": "2021-08-19T07:06:34.555004Z",
          "shell.execute_reply.started": "2021-08-19T06:55:01.324103Z"
        },
        "papermill": {
          "duration": 0.03701,
          "end_time": "2021-08-19T07:06:34.555210",
          "exception": false,
          "start_time": "2021-08-19T07:06:34.518200",
          "status": "completed"
        },
        "tags": [],
        "id": "8d8df616",
        "outputId": "02ce1449-bd4d-4fc3-deac-f7cc7d77946b"
      },
      "source": [
        "from sklearn.metrics import mean_absolute_error\n",
        "\n",
        "# Get predictions\n",
        "predictions_1 =my_model_1.predict(X_valid)\n",
        "\n",
        "# Check your answer\n",
        "step_1.b.check()"
      ],
      "id": "8d8df616",
      "execution_count": null,
      "outputs": [
        {
          "data": {
            "application/javascript": [
              "parent.postMessage({\"jupyterEvent\": \"custom.exercise_interaction\", \"data\": {\"outcomeType\": 1, \"valueTowardsCompletion\": 0.5, \"interactionType\": 1, \"questionType\": 2, \"questionId\": \"1.2_Model1B\", \"learnToolsVersion\": \"0.3.4\", \"failureMessage\": \"\", \"exceptionClass\": \"\", \"trace\": \"\"}}, \"*\")"
            ],
            "text/plain": [
              "<IPython.core.display.Javascript object>"
            ]
          },
          "metadata": {},
          "output_type": "display_data"
        },
        {
          "data": {
            "text/markdown": [
              "<span style=\"color:#33cc33\">Correct</span>"
            ],
            "text/plain": [
              "Correct"
            ]
          },
          "metadata": {},
          "output_type": "display_data"
        }
      ]
    },
    {
      "cell_type": "code",
      "metadata": {
        "execution": {
          "iopub.execute_input": "2021-08-19T07:06:34.601584Z",
          "iopub.status.busy": "2021-08-19T07:06:34.600790Z",
          "iopub.status.idle": "2021-08-19T07:06:34.611490Z",
          "shell.execute_reply": "2021-08-19T07:06:34.610822Z",
          "shell.execute_reply.started": "2021-08-19T06:53:55.654478Z"
        },
        "papermill": {
          "duration": 0.035454,
          "end_time": "2021-08-19T07:06:34.611638",
          "exception": false,
          "start_time": "2021-08-19T07:06:34.576184",
          "status": "completed"
        },
        "tags": [],
        "id": "d356af17",
        "outputId": "eda9a318-19f3-4b0a-bc17-d7b93974a813"
      },
      "source": [
        "# Lines below will give you a hint or solution code\n",
        "step_1.b.hint()\n",
        "step_1.b.solution()"
      ],
      "id": "d356af17",
      "execution_count": null,
      "outputs": [
        {
          "data": {
            "application/javascript": [
              "parent.postMessage({\"jupyterEvent\": \"custom.exercise_interaction\", \"data\": {\"interactionType\": 2, \"questionType\": 2, \"questionId\": \"1.2_Model1B\", \"learnToolsVersion\": \"0.3.4\", \"valueTowardsCompletion\": 0.0, \"failureMessage\": \"\", \"exceptionClass\": \"\", \"trace\": \"\", \"outcomeType\": 4}}, \"*\")"
            ],
            "text/plain": [
              "<IPython.core.display.Javascript object>"
            ]
          },
          "metadata": {},
          "output_type": "display_data"
        },
        {
          "data": {
            "text/markdown": [
              "<span style=\"color:#3366cc\">Hint:</span> Use the `predict()` method to generate validation predictions."
            ],
            "text/plain": [
              "Hint: Use the `predict()` method to generate validation predictions."
            ]
          },
          "metadata": {},
          "output_type": "display_data"
        },
        {
          "data": {
            "application/javascript": [
              "parent.postMessage({\"jupyterEvent\": \"custom.exercise_interaction\", \"data\": {\"interactionType\": 3, \"questionType\": 2, \"questionId\": \"1.2_Model1B\", \"learnToolsVersion\": \"0.3.4\", \"valueTowardsCompletion\": 0.0, \"failureMessage\": \"\", \"exceptionClass\": \"\", \"trace\": \"\", \"outcomeType\": 4}}, \"*\")"
            ],
            "text/plain": [
              "<IPython.core.display.Javascript object>"
            ]
          },
          "metadata": {},
          "output_type": "display_data"
        },
        {
          "data": {
            "text/markdown": [
              "<span style=\"color:#33cc99\">Solution:</span> \n",
              "```python\n",
              "# Get predictions\n",
              "predictions_1 = my_model_1.predict(X_valid)\n",
              "\n",
              "```"
            ],
            "text/plain": [
              "Solution: \n",
              "```python\n",
              "# Get predictions\n",
              "predictions_1 = my_model_1.predict(X_valid)\n",
              "\n",
              "```"
            ]
          },
          "metadata": {},
          "output_type": "display_data"
        }
      ]
    },
    {
      "cell_type": "markdown",
      "metadata": {
        "papermill": {
          "duration": 0.021417,
          "end_time": "2021-08-19T07:06:34.655426",
          "exception": false,
          "start_time": "2021-08-19T07:06:34.634009",
          "status": "completed"
        },
        "tags": [],
        "id": "d42923a8"
      },
      "source": [
        "### Part C\n",
        "\n",
        "Finally, use the `mean_absolute_error()` function to calculate the mean absolute error (MAE) corresponding to the predictions for the validation set.  Recall that the labels for the validation data are stored in `y_valid`."
      ],
      "id": "d42923a8"
    },
    {
      "cell_type": "code",
      "metadata": {
        "execution": {
          "iopub.execute_input": "2021-08-19T07:06:34.708117Z",
          "iopub.status.busy": "2021-08-19T07:06:34.707039Z",
          "iopub.status.idle": "2021-08-19T07:06:34.714915Z",
          "shell.execute_reply": "2021-08-19T07:06:34.714408Z",
          "shell.execute_reply.started": "2021-08-19T06:56:03.509468Z"
        },
        "papermill": {
          "duration": 0.038,
          "end_time": "2021-08-19T07:06:34.715115",
          "exception": false,
          "start_time": "2021-08-19T07:06:34.677115",
          "status": "completed"
        },
        "tags": [],
        "id": "074a6a5b",
        "outputId": "ff03d046-c7c7-4969-a249-e33032b736f0"
      },
      "source": [
        "# Calculate MAE\n",
        "mae_1 =mean_absolute_error(y_valid,predictions_1) # MAE 1은 XG부스트로 구한 오차평균값\n",
        "\n",
        "# Uncomment to print MAE\n",
        "print(\"Mean Absolute Error:\" , mae_1)\n",
        "\n",
        "# Check your answer\n",
        "step_1.c.check()"
      ],
      "id": "074a6a5b",
      "execution_count": null,
      "outputs": [
        {
          "name": "stdout",
          "output_type": "stream",
          "text": [
            "Mean Absolute Error: 17662.736729452055\n"
          ]
        },
        {
          "data": {
            "application/javascript": [
              "parent.postMessage({\"jupyterEvent\": \"custom.exercise_interaction\", \"data\": {\"outcomeType\": 1, \"valueTowardsCompletion\": 0.5, \"interactionType\": 1, \"questionType\": 2, \"questionId\": \"1.3_Model1C\", \"learnToolsVersion\": \"0.3.4\", \"failureMessage\": \"\", \"exceptionClass\": \"\", \"trace\": \"\"}}, \"*\")"
            ],
            "text/plain": [
              "<IPython.core.display.Javascript object>"
            ]
          },
          "metadata": {},
          "output_type": "display_data"
        },
        {
          "data": {
            "text/markdown": [
              "<span style=\"color:#33cc33\">Correct</span>"
            ],
            "text/plain": [
              "Correct"
            ]
          },
          "metadata": {},
          "output_type": "display_data"
        }
      ]
    },
    {
      "cell_type": "code",
      "metadata": {
        "execution": {
          "iopub.execute_input": "2021-08-19T07:06:34.766183Z",
          "iopub.status.busy": "2021-08-19T07:06:34.765500Z",
          "iopub.status.idle": "2021-08-19T07:06:34.768224Z",
          "shell.execute_reply": "2021-08-19T07:06:34.767555Z"
        },
        "papermill": {
          "duration": 0.02958,
          "end_time": "2021-08-19T07:06:34.768360",
          "exception": false,
          "start_time": "2021-08-19T07:06:34.738780",
          "status": "completed"
        },
        "tags": [],
        "id": "85a088c1"
      },
      "source": [
        "# Lines below will give you a hint or solution code\n",
        "#step_1.c.hint()\n",
        "#step_1.c.solution()"
      ],
      "id": "85a088c1",
      "execution_count": null,
      "outputs": []
    },
    {
      "cell_type": "markdown",
      "metadata": {
        "papermill": {
          "duration": 0.023391,
          "end_time": "2021-08-19T07:06:34.815265",
          "exception": false,
          "start_time": "2021-08-19T07:06:34.791874",
          "status": "completed"
        },
        "tags": [],
        "id": "196eec36"
      },
      "source": [
        "# Step 2: Improve the model\n",
        "\n",
        "Now that you've trained a default model as baseline, it's time to tinker with the parameters, to see if you can get better performance!\n",
        "- Begin by setting `my_model_2` to an XGBoost model, using the [XGBRegressor](https://xgboost.readthedocs.io/en/latest/python/python_api.html#xgboost.XGBRegressor) class.  Use what you learned in the previous tutorial to figure out how to change the default parameters (like `n_estimators` and `learning_rate`) to get better results.\n",
        "- Then, fit the model to the training data in `X_train` and `y_train`.\n",
        "- Set `predictions_2` to the model's predictions for the validation data.  Recall that the validation features are stored in `X_valid`.\n",
        "- Finally, use the `mean_absolute_error()` function to calculate the mean absolute error (MAE) corresponding to the predictions on the validation set.  Recall that the labels for the validation data are stored in `y_valid`.\n",
        "\n",
        "In order for this step to be marked correct, your model in `my_model_2` must attain lower MAE than the model in `my_model_1`. "
      ],
      "id": "196eec36"
    },
    {
      "cell_type": "code",
      "metadata": {
        "execution": {
          "iopub.execute_input": "2021-08-19T07:06:34.874088Z",
          "iopub.status.busy": "2021-08-19T07:06:34.873383Z",
          "iopub.status.idle": "2021-08-19T07:06:41.573405Z",
          "shell.execute_reply": "2021-08-19T07:06:41.574348Z",
          "shell.execute_reply.started": "2021-08-19T07:02:39.691432Z"
        },
        "papermill": {
          "duration": 6.735898,
          "end_time": "2021-08-19T07:06:41.574543",
          "exception": false,
          "start_time": "2021-08-19T07:06:34.838645",
          "status": "completed"
        },
        "tags": [],
        "id": "95a116aa",
        "outputId": "b2a66696-b54b-4559-e7ee-a5101d5c2f6f"
      },
      "source": [
        "# Define the model\n",
        "my_model_2 =XGBRegressor(n_estimators = 1000, learning_rate = 0.01) # 파라미터를 1000, 0.01로 셋팅하여 구하기\n",
        "# Fit the model\n",
        "my_model_2.fit(X_train, y_train)\n",
        "# Get predictions\n",
        "predictions_2 = my_model_2.predict(X_valid) #predict 함수 쓰는거 까먹지 말기\n",
        "\n",
        "# Calculate MAE\n",
        "mae_2 = mean_absolute_error(y_valid,predictions_2)\n",
        "\n",
        "# Uncomment to print MAE\n",
        "print(\"Mean Absolute Error:\" , mae_2)\n",
        "\n",
        "# Check your answer\n",
        "step_2.check()"
      ],
      "id": "95a116aa",
      "execution_count": null,
      "outputs": [
        {
          "name": "stdout",
          "output_type": "stream",
          "text": [
            "Mean Absolute Error: 16913.731043985445\n"
          ]
        },
        {
          "data": {
            "application/javascript": [
              "parent.postMessage({\"jupyterEvent\": \"custom.exercise_interaction\", \"data\": {\"outcomeType\": 1, \"valueTowardsCompletion\": 0.5, \"interactionType\": 1, \"questionType\": 2, \"questionId\": \"2_Model2\", \"learnToolsVersion\": \"0.3.4\", \"failureMessage\": \"\", \"exceptionClass\": \"\", \"trace\": \"\"}}, \"*\")"
            ],
            "text/plain": [
              "<IPython.core.display.Javascript object>"
            ]
          },
          "metadata": {},
          "output_type": "display_data"
        },
        {
          "data": {
            "text/markdown": [
              "<span style=\"color:#33cc33\">Correct</span>"
            ],
            "text/plain": [
              "Correct"
            ]
          },
          "metadata": {},
          "output_type": "display_data"
        }
      ]
    },
    {
      "cell_type": "code",
      "metadata": {
        "execution": {
          "iopub.execute_input": "2021-08-19T07:06:41.630255Z",
          "iopub.status.busy": "2021-08-19T07:06:41.629333Z",
          "iopub.status.idle": "2021-08-19T07:06:41.639518Z",
          "shell.execute_reply": "2021-08-19T07:06:41.638877Z",
          "shell.execute_reply.started": "2021-08-19T07:02:21.619546Z"
        },
        "papermill": {
          "duration": 0.039421,
          "end_time": "2021-08-19T07:06:41.639655",
          "exception": false,
          "start_time": "2021-08-19T07:06:41.600234",
          "status": "completed"
        },
        "tags": [],
        "id": "4944c277",
        "outputId": "238ad0b7-a25c-4271-855d-f54da5a62342"
      },
      "source": [
        "# Lines below will give you a hint or solution code\n",
        "step_2.hint()\n",
        "step_2.solution()"
      ],
      "id": "4944c277",
      "execution_count": null,
      "outputs": [
        {
          "data": {
            "application/javascript": [
              "parent.postMessage({\"jupyterEvent\": \"custom.exercise_interaction\", \"data\": {\"interactionType\": 2, \"questionType\": 2, \"questionId\": \"2_Model2\", \"learnToolsVersion\": \"0.3.4\", \"valueTowardsCompletion\": 0.0, \"failureMessage\": \"\", \"exceptionClass\": \"\", \"trace\": \"\", \"outcomeType\": 4}}, \"*\")"
            ],
            "text/plain": [
              "<IPython.core.display.Javascript object>"
            ]
          },
          "metadata": {},
          "output_type": "display_data"
        },
        {
          "data": {
            "text/markdown": [
              "<span style=\"color:#3366cc\">Hint:</span> In the official solution to this problem, we chose to increase the number of trees in the model (with the `n_estimators` parameter) and decrease the learning rate (with the `learning_rate` parameter)."
            ],
            "text/plain": [
              "Hint: In the official solution to this problem, we chose to increase the number of trees in the model (with the `n_estimators` parameter) and decrease the learning rate (with the `learning_rate` parameter)."
            ]
          },
          "metadata": {},
          "output_type": "display_data"
        },
        {
          "data": {
            "application/javascript": [
              "parent.postMessage({\"jupyterEvent\": \"custom.exercise_interaction\", \"data\": {\"interactionType\": 3, \"questionType\": 2, \"questionId\": \"2_Model2\", \"learnToolsVersion\": \"0.3.4\", \"valueTowardsCompletion\": 0.0, \"failureMessage\": \"\", \"exceptionClass\": \"\", \"trace\": \"\", \"outcomeType\": 4}}, \"*\")"
            ],
            "text/plain": [
              "<IPython.core.display.Javascript object>"
            ]
          },
          "metadata": {},
          "output_type": "display_data"
        },
        {
          "data": {
            "text/markdown": [
              "<span style=\"color:#33cc99\">Solution:</span> \n",
              "```python\n",
              "# Define the model\n",
              "my_model_2 = XGBRegressor(n_estimators=1000, learning_rate=0.05)\n",
              "\n",
              "# Fit the model\n",
              "my_model_2.fit(X_train, y_train)\n",
              "\n",
              "# Get predictions\n",
              "predictions_2 = my_model_2.predict(X_valid)\n",
              "\n",
              "# Calculate MAE\n",
              "mae_2 = mean_absolute_error(predictions_2, y_valid)\n",
              "print(\"Mean Absolute Error:\" , mae_2)\n",
              "\n",
              "```"
            ],
            "text/plain": [
              "Solution: \n",
              "```python\n",
              "# Define the model\n",
              "my_model_2 = XGBRegressor(n_estimators=1000, learning_rate=0.05)\n",
              "\n",
              "# Fit the model\n",
              "my_model_2.fit(X_train, y_train)\n",
              "\n",
              "# Get predictions\n",
              "predictions_2 = my_model_2.predict(X_valid)\n",
              "\n",
              "# Calculate MAE\n",
              "mae_2 = mean_absolute_error(predictions_2, y_valid)\n",
              "print(\"Mean Absolute Error:\" , mae_2)\n",
              "\n",
              "```"
            ]
          },
          "metadata": {},
          "output_type": "display_data"
        }
      ]
    },
    {
      "cell_type": "markdown",
      "metadata": {
        "papermill": {
          "duration": 0.026161,
          "end_time": "2021-08-19T07:06:41.692416",
          "exception": false,
          "start_time": "2021-08-19T07:06:41.666255",
          "status": "completed"
        },
        "tags": [],
        "id": "1ddbed00"
      },
      "source": [
        "# Step 3: Break the model\n",
        "\n",
        "In this step, you will create a model that performs worse than the original model in Step 1.  This will help you to develop your intuition for how to set parameters.  You might even find that you accidentally get better performance, which is ultimately a nice problem to have and a valuable learning experience!\n",
        "- Begin by setting `my_model_3` to an XGBoost model, using the [XGBRegressor](https://xgboost.readthedocs.io/en/latest/python/python_api.html#xgboost.XGBRegressor) class.  Use what you learned in the previous tutorial to figure out how to change the default parameters (like `n_estimators` and `learning_rate`) to design a model to get high MAE.\n",
        "- Then, fit the model to the training data in `X_train` and `y_train`.\n",
        "- Set `predictions_3` to the model's predictions for the validation data.  Recall that the validation features are stored in `X_valid`.\n",
        "- Finally, use the `mean_absolute_error()` function to calculate the mean absolute error (MAE) corresponding to the predictions on the validation set.  Recall that the labels for the validation data are stored in `y_valid`.\n",
        "\n",
        "In order for this step to be marked correct, your model in `my_model_3` must attain higher MAE than the model in `my_model_1`. "
      ],
      "id": "1ddbed00"
    },
    {
      "cell_type": "code",
      "metadata": {
        "execution": {
          "iopub.execute_input": "2021-08-19T07:06:41.762338Z",
          "iopub.status.busy": "2021-08-19T07:06:41.761195Z",
          "iopub.status.idle": "2021-08-19T07:06:41.938262Z",
          "shell.execute_reply": "2021-08-19T07:06:41.939220Z",
          "shell.execute_reply.started": "2021-08-19T07:05:23.767781Z"
        },
        "papermill": {
          "duration": 0.22035,
          "end_time": "2021-08-19T07:06:41.939417",
          "exception": false,
          "start_time": "2021-08-19T07:06:41.719067",
          "status": "completed"
        },
        "tags": [],
        "id": "06ad869e",
        "outputId": "794abd9e-e9f3-4055-d4be-566819fceb68"
      },
      "source": [
        "# Define the model\n",
        "my_model_3 =XGBRegressor(n_estimators = 100, learning_rate = 0.5) # 파라미터를 random_state=0 보다 안좋게 설정하기\n",
        "# Fit the model\n",
        "my_model_3.fit(X_train, y_train, early_stopping_rounds = 5, eval_set = [(X_valid, y_valid)], verbose = False)\n",
        "# Get predictions\n",
        "predictions_3 = my_model_3.predict(X_valid) #predict 함수 쓰는거 까먹지 말기\n",
        "\n",
        "# Calculate MAE\n",
        "mae_3 = mean_absolute_error(y_valid,predictions_3)\n",
        "\n",
        "# Uncomment to print MAE\n",
        "print(\"Mean Absolute Error:\" , mae_3)\n",
        "\n",
        "# Check your answer\n",
        "step_3.check()"
      ],
      "id": "06ad869e",
      "execution_count": null,
      "outputs": [
        {
          "name": "stdout",
          "output_type": "stream",
          "text": [
            "Mean Absolute Error: 20487.370237585616\n"
          ]
        },
        {
          "data": {
            "application/javascript": [
              "parent.postMessage({\"jupyterEvent\": \"custom.exercise_interaction\", \"data\": {\"outcomeType\": 1, \"valueTowardsCompletion\": 0.5, \"interactionType\": 1, \"questionType\": 2, \"questionId\": \"3_Model3\", \"learnToolsVersion\": \"0.3.4\", \"failureMessage\": \"\", \"exceptionClass\": \"\", \"trace\": \"\"}}, \"*\")"
            ],
            "text/plain": [
              "<IPython.core.display.Javascript object>"
            ]
          },
          "metadata": {},
          "output_type": "display_data"
        },
        {
          "data": {
            "text/markdown": [
              "<span style=\"color:#33cc33\">Correct</span>"
            ],
            "text/plain": [
              "Correct"
            ]
          },
          "metadata": {},
          "output_type": "display_data"
        }
      ]
    },
    {
      "cell_type": "code",
      "metadata": {
        "execution": {
          "iopub.execute_input": "2021-08-19T07:06:42.000921Z",
          "iopub.status.busy": "2021-08-19T07:06:42.000232Z",
          "iopub.status.idle": "2021-08-19T07:06:42.007901Z",
          "shell.execute_reply": "2021-08-19T07:06:42.008597Z",
          "shell.execute_reply.started": "2021-08-19T07:05:30.636787Z"
        },
        "papermill": {
          "duration": 0.041279,
          "end_time": "2021-08-19T07:06:42.008783",
          "exception": false,
          "start_time": "2021-08-19T07:06:41.967504",
          "status": "completed"
        },
        "tags": [],
        "id": "c498fc04",
        "outputId": "3af4b6ba-7f68-4077-f229-77f109c5e2d1"
      },
      "source": [
        "# Lines below will give you a hint or solution code\n",
        "step_3.hint()\n",
        "step_3.solution()"
      ],
      "id": "c498fc04",
      "execution_count": null,
      "outputs": [
        {
          "data": {
            "application/javascript": [
              "parent.postMessage({\"jupyterEvent\": \"custom.exercise_interaction\", \"data\": {\"interactionType\": 2, \"questionType\": 2, \"questionId\": \"3_Model3\", \"learnToolsVersion\": \"0.3.4\", \"valueTowardsCompletion\": 0.0, \"failureMessage\": \"\", \"exceptionClass\": \"\", \"trace\": \"\", \"outcomeType\": 4}}, \"*\")"
            ],
            "text/plain": [
              "<IPython.core.display.Javascript object>"
            ]
          },
          "metadata": {},
          "output_type": "display_data"
        },
        {
          "data": {
            "text/markdown": [
              "<span style=\"color:#3366cc\">Hint:</span> In the official solution for this problem, we chose to greatly decrease the number of trees in the model by tinkering with the `n_estimators` parameter."
            ],
            "text/plain": [
              "Hint: In the official solution for this problem, we chose to greatly decrease the number of trees in the model by tinkering with the `n_estimators` parameter."
            ]
          },
          "metadata": {},
          "output_type": "display_data"
        },
        {
          "data": {
            "application/javascript": [
              "parent.postMessage({\"jupyterEvent\": \"custom.exercise_interaction\", \"data\": {\"interactionType\": 3, \"questionType\": 2, \"questionId\": \"3_Model3\", \"learnToolsVersion\": \"0.3.4\", \"valueTowardsCompletion\": 0.0, \"failureMessage\": \"\", \"exceptionClass\": \"\", \"trace\": \"\", \"outcomeType\": 4}}, \"*\")"
            ],
            "text/plain": [
              "<IPython.core.display.Javascript object>"
            ]
          },
          "metadata": {},
          "output_type": "display_data"
        },
        {
          "data": {
            "text/markdown": [
              "<span style=\"color:#33cc99\">Solution:</span> \n",
              "```python\n",
              "# Define the model\n",
              "my_model_3 = XGBRegressor(n_estimators=1)\n",
              "\n",
              "# Fit the model\n",
              "my_model_3.fit(X_train, y_train)\n",
              "\n",
              "# Get predictions\n",
              "predictions_3 = my_model_3.predict(X_valid)\n",
              "\n",
              "# Calculate MAE\n",
              "mae_3 = mean_absolute_error(predictions_3, y_valid)\n",
              "print(\"Mean Absolute Error:\" , mae_3)\n",
              "\n",
              "```"
            ],
            "text/plain": [
              "Solution: \n",
              "```python\n",
              "# Define the model\n",
              "my_model_3 = XGBRegressor(n_estimators=1)\n",
              "\n",
              "# Fit the model\n",
              "my_model_3.fit(X_train, y_train)\n",
              "\n",
              "# Get predictions\n",
              "predictions_3 = my_model_3.predict(X_valid)\n",
              "\n",
              "# Calculate MAE\n",
              "mae_3 = mean_absolute_error(predictions_3, y_valid)\n",
              "print(\"Mean Absolute Error:\" , mae_3)\n",
              "\n",
              "```"
            ]
          },
          "metadata": {},
          "output_type": "display_data"
        }
      ]
    },
    {
      "cell_type": "markdown",
      "metadata": {
        "papermill": {
          "duration": 0.029291,
          "end_time": "2021-08-19T07:06:42.067812",
          "exception": false,
          "start_time": "2021-08-19T07:06:42.038521",
          "status": "completed"
        },
        "tags": [],
        "id": "210bddad"
      },
      "source": [
        "# Keep going\n",
        "\n",
        "Continue to learn about **[data leakage](https://www.kaggle.com/alexisbcook/data-leakage)**.  This is an important issue for a data scientist to understand, and it has the potential to ruin your models in subtle and dangerous ways!"
      ],
      "id": "210bddad"
    },
    {
      "cell_type": "markdown",
      "metadata": {
        "papermill": {
          "duration": 0.029709,
          "end_time": "2021-08-19T07:06:42.127546",
          "exception": false,
          "start_time": "2021-08-19T07:06:42.097837",
          "status": "completed"
        },
        "tags": [],
        "id": "9b1b17f9"
      },
      "source": [
        "---\n",
        "\n",
        "\n",
        "\n",
        "\n",
        "*Have questions or comments? Visit the [Learn Discussion forum](https://www.kaggle.com/learn-forum/161289) to chat with other Learners.*"
      ],
      "id": "9b1b17f9"
    }
  ]
}