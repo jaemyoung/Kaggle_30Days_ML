{
  "nbformat": 4,
  "nbformat_minor": 5,
  "metadata": {
    "kernelspec": {
      "display_name": "Python 3",
      "language": "python",
      "name": "python3"
    },
    "language_info": {
      "codemirror_mode": {
        "name": "ipython",
        "version": 3
      },
      "file_extension": ".py",
      "mimetype": "text/x-python",
      "name": "python",
      "nbconvert_exporter": "python",
      "pygments_lexer": "ipython3",
      "version": "3.7.10"
    },
    "papermill": {
      "default_parameters": {},
      "duration": 9.520041,
      "end_time": "2021-08-05T06:02:07.274801",
      "environment_variables": {},
      "exception": null,
      "input_path": "__notebook__.ipynb",
      "output_path": "__notebook__.ipynb",
      "parameters": {},
      "start_time": "2021-08-05T06:01:57.754760",
      "version": "2.3.3"
    },
    "colab": {
      "name": "exercise-functions-and-getting-help.ipynb",
      "provenance": [],
      "include_colab_link": true
    }
  },
  "cells": [
    {
      "cell_type": "markdown",
      "metadata": {
        "id": "view-in-github",
        "colab_type": "text"
      },
      "source": [
        "<a href=\"https://colab.research.google.com/github/jaemyoung/Kaggle_30Days_ML/blob/main/exercise_functions_and_getting_help.ipynb\" target=\"_parent\"><img src=\"https://colab.research.google.com/assets/colab-badge.svg\" alt=\"Open In Colab\"/></a>"
      ]
    },
    {
      "cell_type": "markdown",
      "metadata": {
        "papermill": {
          "duration": 0.014943,
          "end_time": "2021-08-05T06:02:05.708423",
          "exception": false,
          "start_time": "2021-08-05T06:02:05.693480",
          "status": "completed"
        },
        "tags": [],
        "id": "6c02f309"
      },
      "source": [
        "**This notebook is an exercise in the [Python](https://www.kaggle.com/learn/python) course.  You can reference the tutorial at [this link](https://www.kaggle.com/colinmorris/functions-and-getting-help).**\n",
        "\n",
        "---\n"
      ],
      "id": "6c02f309"
    },
    {
      "cell_type": "markdown",
      "metadata": {
        "papermill": {
          "duration": 0.013457,
          "end_time": "2021-08-05T06:02:05.735972",
          "exception": false,
          "start_time": "2021-08-05T06:02:05.722515",
          "status": "completed"
        },
        "tags": [],
        "id": "a81cc4aa"
      },
      "source": [
        "Functions are powerful. Try writing some yourself.\n",
        "\n",
        "As before, don't forget to run the setup code below before jumping into question 1."
      ],
      "id": "a81cc4aa"
    },
    {
      "cell_type": "code",
      "metadata": {
        "_kg_hide-input": true,
        "_kg_hide-output": true,
        "execution": {
          "iopub.execute_input": "2021-08-05T06:02:05.776736Z",
          "iopub.status.busy": "2021-08-05T06:02:05.776086Z",
          "iopub.status.idle": "2021-08-05T06:02:05.896218Z",
          "shell.execute_reply": "2021-08-05T06:02:05.895562Z",
          "shell.execute_reply.started": "2021-08-05T05:36:55.893060Z"
        },
        "papermill": {
          "duration": 0.146659,
          "end_time": "2021-08-05T06:02:05.896383",
          "exception": false,
          "start_time": "2021-08-05T06:02:05.749724",
          "status": "completed"
        },
        "tags": [],
        "id": "8ca418c3",
        "outputId": "f670a0ee-1771-427d-d613-a001109bb63d"
      },
      "source": [
        "# SETUP. You don't need to worry for now about what this code does or how it works.\n",
        "from learntools.core import binder; binder.bind(globals())\n",
        "from learntools.python.ex2 import *\n",
        "print('Setup complete.')"
      ],
      "id": "8ca418c3",
      "execution_count": null,
      "outputs": [
        {
          "output_type": "stream",
          "text": [
            "Setup complete.\n"
          ],
          "name": "stdout"
        }
      ]
    },
    {
      "cell_type": "markdown",
      "metadata": {
        "papermill": {
          "duration": 0.014061,
          "end_time": "2021-08-05T06:02:05.925129",
          "exception": false,
          "start_time": "2021-08-05T06:02:05.911068",
          "status": "completed"
        },
        "tags": [],
        "id": "c50d9d92"
      },
      "source": [
        "# 1.\n",
        "\n",
        "Complete the body of the following function according to its docstring.\n",
        "\n",
        "HINT: Python has a built-in function `round`."
      ],
      "id": "c50d9d92"
    },
    {
      "cell_type": "code",
      "metadata": {
        "execution": {
          "iopub.execute_input": "2021-08-05T06:02:05.962510Z",
          "iopub.status.busy": "2021-08-05T06:02:05.961472Z",
          "iopub.status.idle": "2021-08-05T06:02:05.967354Z",
          "shell.execute_reply": "2021-08-05T06:02:05.967896Z",
          "shell.execute_reply.started": "2021-08-05T05:38:48.813438Z"
        },
        "papermill": {
          "duration": 0.028661,
          "end_time": "2021-08-05T06:02:05.968058",
          "exception": false,
          "start_time": "2021-08-05T06:02:05.939397",
          "status": "completed"
        },
        "tags": [],
        "id": "87711a12",
        "outputId": "abf1dd40-53a4-4309-b823-2b9bfc51d1a8"
      },
      "source": [
        "def round_to_two_places(num):\n",
        "    \"\"\"Return the given number rounded to two decimal places. \n",
        "    \n",
        "    >>> round_to_two_places(3.14159)\n",
        "    3.14\n",
        "    \"\"\"\n",
        "    result = round(num,2)\n",
        "    return result\n",
        "    # Replace this body with your own code.\n",
        "    # (\"pass\" is a keyword that does literally nothing. We used it as a placeholder\n",
        "    # because after we begin a code block, Python requires at least one line of code)\n",
        "    pass\n",
        "\n",
        "# Check your answer\n",
        "q1.check()"
      ],
      "id": "87711a12",
      "execution_count": null,
      "outputs": [
        {
          "output_type": "display_data",
          "data": {
            "application/javascript": [
              "parent.postMessage({\"jupyterEvent\": \"custom.exercise_interaction\", \"data\": {\"outcomeType\": 1, \"valueTowardsCompletion\": 0.16666666666666666, \"interactionType\": 1, \"questionType\": 2, \"questionId\": \"1_RoundFunctionProblem\", \"learnToolsVersion\": \"0.3.4\", \"failureMessage\": \"\", \"exceptionClass\": \"\", \"trace\": \"\"}}, \"*\")"
            ],
            "text/plain": [
              "<IPython.core.display.Javascript object>"
            ]
          },
          "metadata": {
            "tags": []
          }
        },
        {
          "output_type": "display_data",
          "data": {
            "text/markdown": "<span style=\"color:#33cc33\">Correct</span>",
            "text/plain": [
              "Correct"
            ]
          },
          "metadata": {
            "tags": []
          }
        }
      ]
    },
    {
      "cell_type": "code",
      "metadata": {
        "execution": {
          "iopub.execute_input": "2021-08-05T06:02:06.003916Z",
          "iopub.status.busy": "2021-08-05T06:02:06.003035Z",
          "iopub.status.idle": "2021-08-05T06:02:06.008260Z",
          "shell.execute_reply": "2021-08-05T06:02:06.008798Z",
          "shell.execute_reply.started": "2021-08-05T05:38:57.284589Z"
        },
        "papermill": {
          "duration": 0.025768,
          "end_time": "2021-08-05T06:02:06.008965",
          "exception": false,
          "start_time": "2021-08-05T06:02:05.983197",
          "status": "completed"
        },
        "tags": [],
        "id": "1369c5ec",
        "outputId": "2e0cad42-01c5-47cb-c152-339699c438f6"
      },
      "source": [
        "# Uncomment the following for a hint\n",
        "q1.hint()\n",
        "# Or uncomment the following to peek at the solution\n",
        "#q1.solution()"
      ],
      "id": "1369c5ec",
      "execution_count": null,
      "outputs": [
        {
          "output_type": "display_data",
          "data": {
            "application/javascript": [
              "parent.postMessage({\"jupyterEvent\": \"custom.exercise_interaction\", \"data\": {\"interactionType\": 2, \"questionType\": 2, \"questionId\": \"1_RoundFunctionProblem\", \"learnToolsVersion\": \"0.3.4\", \"valueTowardsCompletion\": 0.0, \"failureMessage\": \"\", \"exceptionClass\": \"\", \"trace\": \"\", \"outcomeType\": 4}}, \"*\")"
            ],
            "text/plain": [
              "<IPython.core.display.Javascript object>"
            ]
          },
          "metadata": {
            "tags": []
          }
        },
        {
          "output_type": "display_data",
          "data": {
            "text/markdown": "<span style=\"color:#3366cc\">Hint:</span> Run `help(round)` in the console (or in a code cell) to learn more about the round function. You'll need to use the function's optional second argument.",
            "text/plain": [
              "Hint: Run `help(round)` in the console (or in a code cell) to learn more about the round function. You'll need to use the function's optional second argument."
            ]
          },
          "metadata": {
            "tags": []
          }
        }
      ]
    },
    {
      "cell_type": "markdown",
      "metadata": {
        "papermill": {
          "duration": 0.015799,
          "end_time": "2021-08-05T06:02:06.040950",
          "exception": false,
          "start_time": "2021-08-05T06:02:06.025151",
          "status": "completed"
        },
        "tags": [],
        "id": "09fe807f"
      },
      "source": [
        "# 2.\n",
        "The help for `round` says that `ndigits` (the second argument) may be negative.\n",
        "What do you think will happen when it is? Try some examples in the following cell."
      ],
      "id": "09fe807f"
    },
    {
      "cell_type": "code",
      "metadata": {
        "execution": {
          "iopub.execute_input": "2021-08-05T06:02:06.076869Z",
          "iopub.status.busy": "2021-08-05T06:02:06.075880Z",
          "iopub.status.idle": "2021-08-05T06:02:06.081790Z",
          "shell.execute_reply": "2021-08-05T06:02:06.082230Z",
          "shell.execute_reply.started": "2021-08-05T05:41:21.842566Z"
        },
        "papermill": {
          "duration": 0.025212,
          "end_time": "2021-08-05T06:02:06.082393",
          "exception": false,
          "start_time": "2021-08-05T06:02:06.057181",
          "status": "completed"
        },
        "tags": [],
        "id": "83e5f073",
        "outputId": "c99ec3ed-aed3-492b-d79c-dbadd118d4f7"
      },
      "source": [
        "# Put your test code here\n",
        "round(614.1592,-3)"
      ],
      "id": "83e5f073",
      "execution_count": null,
      "outputs": [
        {
          "output_type": "execute_result",
          "data": {
            "text/plain": [
              "1000.0"
            ]
          },
          "metadata": {
            "tags": []
          },
          "execution_count": 4
        }
      ]
    },
    {
      "cell_type": "markdown",
      "metadata": {
        "papermill": {
          "duration": 0.021813,
          "end_time": "2021-08-05T06:02:06.120587",
          "exception": false,
          "start_time": "2021-08-05T06:02:06.098774",
          "status": "completed"
        },
        "tags": [],
        "id": "0447c57a"
      },
      "source": [
        "Can you think of a case where this would be useful?  Once you're ready, run the code cell below to see the answer and to receive credit for completing the problem."
      ],
      "id": "0447c57a"
    },
    {
      "cell_type": "code",
      "metadata": {
        "execution": {
          "iopub.execute_input": "2021-08-05T06:02:06.161901Z",
          "iopub.status.busy": "2021-08-05T06:02:06.160951Z",
          "iopub.status.idle": "2021-08-05T06:02:06.169003Z",
          "shell.execute_reply": "2021-08-05T06:02:06.169548Z",
          "shell.execute_reply.started": "2021-08-05T05:41:24.525079Z"
        },
        "papermill": {
          "duration": 0.031769,
          "end_time": "2021-08-05T06:02:06.169740",
          "exception": false,
          "start_time": "2021-08-05T06:02:06.137971",
          "status": "completed"
        },
        "tags": [],
        "id": "4f373d46",
        "outputId": "6ea6c090-a8ee-4863-8817-13052ef867e4"
      },
      "source": [
        "# Check your answer (Run this code cell to receive credit!)\n",
        "q2.solution()"
      ],
      "id": "4f373d46",
      "execution_count": null,
      "outputs": [
        {
          "output_type": "display_data",
          "data": {
            "application/javascript": [
              "parent.postMessage({\"jupyterEvent\": \"custom.exercise_interaction\", \"data\": {\"interactionType\": 3, \"questionType\": 4, \"questionId\": \"2_RoundNdigitsProblem\", \"learnToolsVersion\": \"0.3.4\", \"valueTowardsCompletion\": 0.0, \"failureMessage\": \"\", \"exceptionClass\": \"\", \"trace\": \"\", \"outcomeType\": 4}}, \"*\")"
            ],
            "text/plain": [
              "<IPython.core.display.Javascript object>"
            ]
          },
          "metadata": {
            "tags": []
          }
        },
        {
          "output_type": "display_data",
          "data": {
            "text/markdown": "<span style=\"color:#33cc99\">Solution:</span> As you've seen, `ndigits=-1` rounds to the nearest 10, `ndigits=-2` rounds to the nearest 100 and so on. Where might this be useful? Suppose we're dealing with large numbers:\n\n> The area of Finland is 338,424 km²  \n> The area of Greenland is 2,166,086 km²\n\nWe probably don't care whether it's really 338,424, or 338,425, or 338,177. All those digits of accuracy are just distracting. We can chop them off by calling `round()` with `ndigits=-3`:\n\n> The area of Finland is 338,000 km²  \n> The area of Greenland is 2,166,000 km²\n\n(We'll talk about how we would get the commas later when we talk about string formatting :))\n",
            "text/plain": [
              "Solution: As you've seen, `ndigits=-1` rounds to the nearest 10, `ndigits=-2` rounds to the nearest 100 and so on. Where might this be useful? Suppose we're dealing with large numbers:\n",
              "\n",
              "> The area of Finland is 338,424 km²  \n",
              "> The area of Greenland is 2,166,086 km²\n",
              "\n",
              "We probably don't care whether it's really 338,424, or 338,425, or 338,177. All those digits of accuracy are just distracting. We can chop them off by calling `round()` with `ndigits=-3`:\n",
              "\n",
              "> The area of Finland is 338,000 km²  \n",
              "> The area of Greenland is 2,166,000 km²\n",
              "\n",
              "(We'll talk about how we would get the commas later when we talk about string formatting :))"
            ]
          },
          "metadata": {
            "tags": []
          }
        }
      ]
    },
    {
      "cell_type": "markdown",
      "metadata": {
        "papermill": {
          "duration": 0.017647,
          "end_time": "2021-08-05T06:02:06.205575",
          "exception": false,
          "start_time": "2021-08-05T06:02:06.187928",
          "status": "completed"
        },
        "tags": [],
        "id": "d717f8db"
      },
      "source": [
        "# 3.\n",
        "\n",
        "In the previous exercise, the candy-sharing friends Alice, Bob and Carol tried to split candies evenly. For the sake of their friendship, any candies left over would be smashed. For example, if they collectively bring home 91 candies, they'll take 30 each and smash 1.\n",
        "\n",
        "Below is a simple function that will calculate the number of candies to smash for *any* number of total candies.\n",
        "\n",
        "Modify it so that it optionally takes a second argument representing the number of friends the candies are being split between. If no second argument is provided, it should assume 3 friends, as before.\n",
        "\n",
        "Update the docstring to reflect this new behaviour."
      ],
      "id": "d717f8db"
    },
    {
      "cell_type": "code",
      "metadata": {
        "execution": {
          "iopub.execute_input": "2021-08-05T06:02:06.246468Z",
          "iopub.status.busy": "2021-08-05T06:02:06.245861Z",
          "iopub.status.idle": "2021-08-05T06:02:06.253363Z",
          "shell.execute_reply": "2021-08-05T06:02:06.252751Z",
          "shell.execute_reply.started": "2021-08-05T05:49:26.027845Z"
        },
        "papermill": {
          "duration": 0.02936,
          "end_time": "2021-08-05T06:02:06.253495",
          "exception": false,
          "start_time": "2021-08-05T06:02:06.224135",
          "status": "completed"
        },
        "tags": [],
        "id": "38af0059",
        "outputId": "355607f3-7ff4-4bc1-8068-ca00bb871fbc"
      },
      "source": [
        "def to_smash(total_candies,n= 3):\n",
        "    \"\"\"Return the number of leftover candies that must be smashed after distributing\n",
        "    the given number of candies evenly between 3 friends.\n",
        "    \n",
        "    >>> to_smash(91)\n",
        "    1\n",
        "    \"\"\"\n",
        "    \n",
        "    return total_candies % n\n",
        "\n",
        "# Check your answer\n",
        "q3.check()"
      ],
      "id": "38af0059",
      "execution_count": null,
      "outputs": [
        {
          "output_type": "display_data",
          "data": {
            "application/javascript": [
              "parent.postMessage({\"jupyterEvent\": \"custom.exercise_interaction\", \"data\": {\"outcomeType\": 1, \"valueTowardsCompletion\": 0.16666666666666666, \"interactionType\": 1, \"questionType\": 2, \"questionId\": \"3_CandySmashingFunctionProblem\", \"learnToolsVersion\": \"0.3.4\", \"failureMessage\": \"\", \"exceptionClass\": \"\", \"trace\": \"\"}}, \"*\")"
            ],
            "text/plain": [
              "<IPython.core.display.Javascript object>"
            ]
          },
          "metadata": {
            "tags": []
          }
        },
        {
          "output_type": "display_data",
          "data": {
            "text/markdown": "<span style=\"color:#33cc33\">Correct</span>",
            "text/plain": [
              "Correct"
            ]
          },
          "metadata": {
            "tags": []
          }
        }
      ]
    },
    {
      "cell_type": "code",
      "metadata": {
        "execution": {
          "iopub.execute_input": "2021-08-05T06:02:06.296374Z",
          "iopub.status.busy": "2021-08-05T06:02:06.295512Z",
          "iopub.status.idle": "2021-08-05T06:02:06.299964Z",
          "shell.execute_reply": "2021-08-05T06:02:06.300490Z",
          "shell.execute_reply.started": "2021-08-05T05:45:42.558916Z"
        },
        "papermill": {
          "duration": 0.028713,
          "end_time": "2021-08-05T06:02:06.300667",
          "exception": false,
          "start_time": "2021-08-05T06:02:06.271954",
          "status": "completed"
        },
        "tags": [],
        "id": "fdacd439",
        "outputId": "dd87edd3-9721-4654-fe35-1d7ad88dfda7"
      },
      "source": [
        "q3.hint()"
      ],
      "id": "fdacd439",
      "execution_count": null,
      "outputs": [
        {
          "output_type": "display_data",
          "data": {
            "application/javascript": [
              "parent.postMessage({\"jupyterEvent\": \"custom.exercise_interaction\", \"data\": {\"interactionType\": 2, \"questionType\": 2, \"questionId\": \"3_CandySmashingFunctionProblem\", \"learnToolsVersion\": \"0.3.4\", \"valueTowardsCompletion\": 0.0, \"failureMessage\": \"\", \"exceptionClass\": \"\", \"trace\": \"\", \"outcomeType\": 4}}, \"*\")"
            ],
            "text/plain": [
              "<IPython.core.display.Javascript object>"
            ]
          },
          "metadata": {
            "tags": []
          }
        },
        {
          "output_type": "display_data",
          "data": {
            "text/markdown": "<span style=\"color:#3366cc\">Hint:</span> Refer to the section of the last tutorial notebook where we talked about default arguments",
            "text/plain": [
              "Hint: Refer to the section of the last tutorial notebook where we talked about default arguments"
            ]
          },
          "metadata": {
            "tags": []
          }
        }
      ]
    },
    {
      "cell_type": "code",
      "metadata": {
        "execution": {
          "iopub.execute_input": "2021-08-05T06:02:06.344302Z",
          "iopub.status.busy": "2021-08-05T06:02:06.342189Z",
          "iopub.status.idle": "2021-08-05T06:02:06.349520Z",
          "shell.execute_reply": "2021-08-05T06:02:06.349002Z",
          "shell.execute_reply.started": "2021-08-05T05:49:32.801257Z"
        },
        "papermill": {
          "duration": 0.029455,
          "end_time": "2021-08-05T06:02:06.349671",
          "exception": false,
          "start_time": "2021-08-05T06:02:06.320216",
          "status": "completed"
        },
        "tags": [],
        "id": "fffda1df",
        "outputId": "cb23d2d9-e245-4c25-fd7b-fa9ec95ddad3"
      },
      "source": [
        "q3.solution()"
      ],
      "id": "fffda1df",
      "execution_count": null,
      "outputs": [
        {
          "output_type": "display_data",
          "data": {
            "application/javascript": [
              "parent.postMessage({\"jupyterEvent\": \"custom.exercise_interaction\", \"data\": {\"interactionType\": 3, \"questionType\": 2, \"questionId\": \"3_CandySmashingFunctionProblem\", \"learnToolsVersion\": \"0.3.4\", \"valueTowardsCompletion\": 0.0, \"failureMessage\": \"\", \"exceptionClass\": \"\", \"trace\": \"\", \"outcomeType\": 4}}, \"*\")"
            ],
            "text/plain": [
              "<IPython.core.display.Javascript object>"
            ]
          },
          "metadata": {
            "tags": []
          }
        },
        {
          "output_type": "display_data",
          "data": {
            "text/markdown": "<span style=\"color:#33cc99\">Solution:</span> \n```python\ndef to_smash(total_candies, n_friends=3):\n    return total_candies % n_friends\n```",
            "text/plain": [
              "Solution: \n",
              "```python\n",
              "def to_smash(total_candies, n_friends=3):\n",
              "    return total_candies % n_friends\n",
              "```"
            ]
          },
          "metadata": {
            "tags": []
          }
        }
      ]
    },
    {
      "cell_type": "markdown",
      "metadata": {
        "papermill": {
          "duration": 0.019914,
          "end_time": "2021-08-05T06:02:06.389990",
          "exception": false,
          "start_time": "2021-08-05T06:02:06.370076",
          "status": "completed"
        },
        "tags": [],
        "id": "00895f27"
      },
      "source": [
        "# 4. (Optional)\n",
        "\n",
        "It may not be fun, but reading and understanding error messages will be an important part of your Python career.\n",
        "\n",
        "Each code cell below contains some commented buggy code. For each cell...\n",
        "\n",
        "1. Read the code and predict what you think will happen when it's run.\n",
        "2. Then uncomment the code and run it to see what happens. (**Tip**: In the kernel editor, you can highlight several lines and press `ctrl`+`/` to toggle commenting.)\n",
        "3. Fix the code (so that it accomplishes its intended purpose without throwing an exception)\n",
        "\n",
        "<!-- TODO: should this be autochecked? Delta is probably pretty small. -->"
      ],
      "id": "00895f27"
    },
    {
      "cell_type": "code",
      "metadata": {
        "execution": {
          "iopub.execute_input": "2021-08-05T06:02:06.436543Z",
          "iopub.status.busy": "2021-08-05T06:02:06.435915Z",
          "iopub.status.idle": "2021-08-05T06:02:06.438493Z",
          "shell.execute_reply": "2021-08-05T06:02:06.439168Z",
          "shell.execute_reply.started": "2021-08-05T05:52:07.746635Z"
        },
        "papermill": {
          "duration": 0.028559,
          "end_time": "2021-08-05T06:02:06.439383",
          "exception": false,
          "start_time": "2021-08-05T06:02:06.410824",
          "status": "completed"
        },
        "tags": [],
        "id": "4d6c8031",
        "outputId": "09e98887-8ebe-4410-cbf8-e4d2c2bb2ce1"
      },
      "source": [
        "def ruound_to_two_places(n):\n",
        "    return print(round(n,2))\n",
        "\n",
        "ruound_to_two_places(9.9999)"
      ],
      "id": "4d6c8031",
      "execution_count": null,
      "outputs": [
        {
          "output_type": "stream",
          "text": [
            "10.0\n"
          ],
          "name": "stdout"
        }
      ]
    },
    {
      "cell_type": "code",
      "metadata": {
        "execution": {
          "iopub.execute_input": "2021-08-05T06:02:06.485125Z",
          "iopub.status.busy": "2021-08-05T06:02:06.484478Z",
          "iopub.status.idle": "2021-08-05T06:02:06.491313Z",
          "shell.execute_reply": "2021-08-05T06:02:06.490459Z",
          "shell.execute_reply.started": "2021-08-05T06:00:52.925669Z"
        },
        "papermill": {
          "duration": 0.030049,
          "end_time": "2021-08-05T06:02:06.491492",
          "exception": false,
          "start_time": "2021-08-05T06:02:06.461443",
          "status": "completed"
        },
        "tags": [],
        "id": "ec39c954",
        "outputId": "c3836d50-ef94-4868-db8c-c50a8d8d6547"
      },
      "source": [
        "x = -10\n",
        "y = 5\n",
        "def smallest_abs(a,b):\n",
        "    c = min(abs(a),abs(b))\n",
        "    return print(c)\n",
        "\n",
        "                 \n",
        "smallest_abs(x,y)         \n",
        "\n",
        "# # Which of the two variables above has the smallest absolute value?\n",
        "# smallest_abs = min(abs(x, y))"
      ],
      "id": "ec39c954",
      "execution_count": null,
      "outputs": [
        {
          "output_type": "stream",
          "text": [
            "5\n"
          ],
          "name": "stdout"
        }
      ]
    },
    {
      "cell_type": "code",
      "metadata": {
        "execution": {
          "iopub.execute_input": "2021-08-05T06:02:06.541110Z",
          "iopub.status.busy": "2021-08-05T06:02:06.540463Z",
          "iopub.status.idle": "2021-08-05T06:02:06.543157Z",
          "shell.execute_reply": "2021-08-05T06:02:06.543651Z",
          "shell.execute_reply.started": "2021-08-05T06:01:22.298859Z"
        },
        "papermill": {
          "duration": 0.030746,
          "end_time": "2021-08-05T06:02:06.543818",
          "exception": false,
          "start_time": "2021-08-05T06:02:06.513072",
          "status": "completed"
        },
        "tags": [],
        "id": "e2717cab",
        "outputId": "98174eee-0b0b-436e-c0eb-0f32eec2de14"
      },
      "source": [
        "def f(x):\n",
        "    y = abs(x)\n",
        "    return y\n",
        "\n",
        "print(f(-5))"
      ],
      "id": "e2717cab",
      "execution_count": null,
      "outputs": [
        {
          "output_type": "stream",
          "text": [
            "5\n"
          ],
          "name": "stdout"
        }
      ]
    },
    {
      "cell_type": "markdown",
      "metadata": {
        "papermill": {
          "duration": 0.026142,
          "end_time": "2021-08-05T06:02:06.591450",
          "exception": false,
          "start_time": "2021-08-05T06:02:06.565308",
          "status": "completed"
        },
        "tags": [],
        "id": "1fd7bb39"
      },
      "source": [
        "# Keep Going\n",
        "\n",
        "Nice job with the code. Next up, you'll learn about *conditionals*, which you'll need to **[write interesting programs](https://www.kaggle.com/colinmorris/booleans-and-conditionals)**. "
      ],
      "id": "1fd7bb39"
    },
    {
      "cell_type": "markdown",
      "metadata": {
        "papermill": {
          "duration": 0.023855,
          "end_time": "2021-08-05T06:02:06.642569",
          "exception": false,
          "start_time": "2021-08-05T06:02:06.618714",
          "status": "completed"
        },
        "tags": [],
        "id": "e6625080"
      },
      "source": [
        "---\n",
        "\n",
        "\n",
        "\n",
        "\n",
        "*Have questions or comments? Visit the [Learn Discussion forum](https://www.kaggle.com/learn-forum/161283) to chat with other Learners.*"
      ],
      "id": "e6625080"
    }
  ]
}
